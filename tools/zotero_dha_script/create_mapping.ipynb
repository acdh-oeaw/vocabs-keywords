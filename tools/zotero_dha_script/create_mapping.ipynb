{
 "cells": [
  {
   "cell_type": "markdown",
   "metadata": {},
   "source": [
    "# Create mapping to match tags from Zotero with tags from spreadsheet"
   ]
  },
  {
   "cell_type": "markdown",
   "metadata": {},
   "source": [
    "## Import relevant modules"
   ]
  },
  {
   "cell_type": "code",
   "execution_count": 1,
   "metadata": {},
   "outputs": [],
   "source": [
    "import requests\n",
    "import pandas as pd\n",
    "import re"
   ]
  },
  {
   "cell_type": "markdown",
   "metadata": {},
   "source": [
    "## Define methods"
   ]
  },
  {
   "cell_type": "code",
   "execution_count": 2,
   "metadata": {},
   "outputs": [],
   "source": [
    "def get_total_results(url):\n",
    "    response = requests.get(url)\n",
    "    total_results = response.headers[\"Total-Results\"]\n",
    "    print(\"Number of total results (according to the header): \" + total_results)\n",
    "    return int(total_results)\n",
    "\n",
    "def get_tags(url):\n",
    "    total_results = get_total_results(url)\n",
    "    print(\"Retrieving all tags...\")\n",
    "    all_responses = []\n",
    "    start = 0\n",
    "    while start <= total_results:\n",
    "        print(start, end=\" \")\n",
    "        params = {'start': start}\n",
    "        response = requests.get(url, params=params)\n",
    "        all_responses.extend(response.json())\n",
    "        start += 100\n",
    "    print(\"Number of tags retrieved: \" + str(len(all_responses)))\n",
    "    return all_responses"
   ]
  },
  {
   "cell_type": "markdown",
   "metadata": {},
   "source": [
    "## Get tags from Zotero"
   ]
  },
  {
   "cell_type": "markdown",
   "metadata": {},
   "source": [
    "### Get tags with /tags request"
   ]
  },
  {
   "cell_type": "code",
   "execution_count": 3,
   "metadata": {},
   "outputs": [
    {
     "name": "stdout",
     "output_type": "stream",
     "text": [
      "Number of total results (according to the header): 1824\n",
      "Retrieving all tags...\n",
      "0 100 200 300 400 500 600 700 800 900 1000 1100 1200 1300 1400 1500 1600 1700 1800 Number of tags retrieved: 1824\n"
     ]
    }
   ],
   "source": [
    "url = \"https://api.zotero.org/groups/4822236/tags?format=json&include=data&sort=title&direction=asc&limit=100\"\n",
    "\n",
    "tags = get_tags(url)"
   ]
  },
  {
   "cell_type": "code",
   "execution_count": 4,
   "metadata": {},
   "outputs": [
    {
     "name": "stdout",
     "output_type": "stream",
     "text": [
      "1824\n",
      "['_TODO', \"'2001: A Space Odyssey' (film)\", \"'American Historical Review'\", \"'History Matters'\", \"'Journal of American History'\"]\n"
     ]
    }
   ],
   "source": [
    "tags_list = [tag[\"tag\"] for tag in tags]\n",
    "\n",
    "print(len(tags_list))\n",
    "\n",
    "print(tags_list[:5])"
   ]
  },
  {
   "cell_type": "markdown",
   "metadata": {},
   "source": [
    "### Get tags with /items/tags request"
   ]
  },
  {
   "cell_type": "code",
   "execution_count": 5,
   "metadata": {},
   "outputs": [
    {
     "name": "stdout",
     "output_type": "stream",
     "text": [
      "Number of total results (according to the header): 1823\n",
      "Retrieving all tags...\n",
      "0 100 200 300 400 500 600 700 800 900 1000 1100 1200 1300 1400 1500 1600 1700 1800 Number of tags retrieved: 1823\n"
     ]
    }
   ],
   "source": [
    "url_items_tags = \"https://api.zotero.org/groups/4822236/items/tags?format=json&include=data&sort=title&direction=asc&limit=100\"\n",
    "\n",
    "items_tags = get_tags(url_items_tags)"
   ]
  },
  {
   "cell_type": "code",
   "execution_count": 6,
   "metadata": {},
   "outputs": [
    {
     "name": "stdout",
     "output_type": "stream",
     "text": [
      "1823\n",
      "['_TODO', \"'2001: A Space Odyssey' (film)\", \"'American Historical Review'\", \"'History Matters'\", \"'Journal of American History'\"]\n"
     ]
    }
   ],
   "source": [
    "items_tags_list = [tag[\"tag\"] for tag in items_tags]\n",
    "\n",
    "print(len(items_tags_list))\n",
    "\n",
    "print(items_tags_list[:5])"
   ]
  },
  {
   "cell_type": "markdown",
   "metadata": {},
   "source": [
    "### Find tag missing in /items/tags response"
   ]
  },
  {
   "cell_type": "code",
   "execution_count": 7,
   "metadata": {},
   "outputs": [
    {
     "name": "stdout",
     "output_type": "stream",
     "text": [
      "Foreign Language Study / German\n"
     ]
    }
   ],
   "source": [
    "for tag in tags_list:\n",
    "    if tag not in items_tags_list:\n",
    "        print(tag)"
   ]
  },
  {
   "cell_type": "markdown",
   "metadata": {},
   "source": [
    "More info on this tag can be retrieved by sending the request https://api.zotero.org/groups/4822236/tags?tag=Foreign%20Language%20Study%20%2F%20German. The tag is used for the book \"Digital Literary Studies: Corpus Approaches to Poetry, Prose, and Drama\"."
   ]
  },
  {
   "cell_type": "markdown",
   "metadata": {},
   "source": [
    "Let's also check the other way around."
   ]
  },
  {
   "cell_type": "code",
   "execution_count": 8,
   "metadata": {},
   "outputs": [],
   "source": [
    "for tag in items_tags_list:\n",
    "    if tag not in tags_list:\n",
    "        print(tag)"
   ]
  },
  {
   "cell_type": "markdown",
   "metadata": {},
   "source": [
    "Apparently, there are no extra tags in `items_tags_list`."
   ]
  },
  {
   "cell_type": "markdown",
   "metadata": {},
   "source": [
    "## Get tags from spreadsheet"
   ]
  },
  {
   "cell_type": "markdown",
   "metadata": {},
   "source": [
    "We will read directly from a CSV export of the Google Sheets spreadsheet. A copy of the CSV is provided in the same folder as this notebook.\n",
    "\n",
    "Direct integration with Google Sheets does not seems to be necessary at the moment, but could be included in a future revision of this script."
   ]
  },
  {
   "cell_type": "code",
   "execution_count": 9,
   "metadata": {},
   "outputs": [
    {
     "data": {
      "text/html": [
       "<div>\n",
       "<style scoped>\n",
       "    .dataframe tbody tr th:only-of-type {\n",
       "        vertical-align: middle;\n",
       "    }\n",
       "\n",
       "    .dataframe tbody tr th {\n",
       "        vertical-align: top;\n",
       "    }\n",
       "\n",
       "    .dataframe thead th {\n",
       "        text-align: right;\n",
       "    }\n",
       "</style>\n",
       "<table border=\"1\" class=\"dataframe\">\n",
       "  <thead>\n",
       "    <tr style=\"text-align: right;\">\n",
       "      <th></th>\n",
       "      <th>Cleaned_Version (new)</th>\n",
       "      <th>Tag (existent)</th>\n",
       "      <th>Other variants (= other existent tags)</th>\n",
       "      <th>German variants (already existent)</th>\n",
       "      <th>Count</th>\n",
       "      <th>German translation</th>\n",
       "      <th>Broader concept</th>\n",
       "      <th>Susanne Cat 1</th>\n",
       "      <th>Susanne Cat 2</th>\n",
       "      <th>Susanne Cat 3</th>\n",
       "      <th>...</th>\n",
       "      <th>new_2</th>\n",
       "      <th>cat_2</th>\n",
       "      <th>new_3</th>\n",
       "      <th>cat_3</th>\n",
       "      <th>new_4</th>\n",
       "      <th>cat_4</th>\n",
       "      <th>new_5</th>\n",
       "      <th>cat_5</th>\n",
       "      <th>new_6</th>\n",
       "      <th>cat_6</th>\n",
       "    </tr>\n",
       "  </thead>\n",
       "  <tbody>\n",
       "    <tr>\n",
       "      <th>0</th>\n",
       "      <td>(semi-)automated generated</td>\n",
       "      <td>(teil-)automatisch generiert</td>\n",
       "      <td>NaN</td>\n",
       "      <td>(teil-)automatisch generiert</td>\n",
       "      <td>4.0</td>\n",
       "      <td>(teil-)automatisch generiert</td>\n",
       "      <td>NaN</td>\n",
       "      <td>NaN</td>\n",
       "      <td>NaN</td>\n",
       "      <td>NaN</td>\n",
       "      <td>...</td>\n",
       "      <td>NaN</td>\n",
       "      <td>NaN</td>\n",
       "      <td>NaN</td>\n",
       "      <td>NaN</td>\n",
       "      <td>NaN</td>\n",
       "      <td>NaN</td>\n",
       "      <td>NaN</td>\n",
       "      <td>NaN</td>\n",
       "      <td>NaN</td>\n",
       "      <td>NaN</td>\n",
       "    </tr>\n",
       "    <tr>\n",
       "      <th>1</th>\n",
       "      <td>NaN</td>\n",
       "      <td>#nosource</td>\n",
       "      <td>NaN</td>\n",
       "      <td>NaN</td>\n",
       "      <td>4.0</td>\n",
       "      <td>NaN</td>\n",
       "      <td>NaN</td>\n",
       "      <td>object-type</td>\n",
       "      <td>resource/tool</td>\n",
       "      <td>topic</td>\n",
       "      <td>...</td>\n",
       "      <td>NaN</td>\n",
       "      <td>NaN</td>\n",
       "      <td>NaN</td>\n",
       "      <td>NaN</td>\n",
       "      <td>NaN</td>\n",
       "      <td>NaN</td>\n",
       "      <td>NaN</td>\n",
       "      <td>NaN</td>\n",
       "      <td>NaN</td>\n",
       "      <td>NaN</td>\n",
       "    </tr>\n",
       "    <tr>\n",
       "      <th>2</th>\n",
       "      <td>medieval england (1066-1485)</td>\n",
       "      <td>1066-1485</td>\n",
       "      <td>NaN</td>\n",
       "      <td>NaN</td>\n",
       "      <td>1.0</td>\n",
       "      <td>1066-1485</td>\n",
       "      <td>NaN</td>\n",
       "      <td>time period</td>\n",
       "      <td>NaN</td>\n",
       "      <td>NaN</td>\n",
       "      <td>...</td>\n",
       "      <td>NaN</td>\n",
       "      <td>NaN</td>\n",
       "      <td>NaN</td>\n",
       "      <td>NaN</td>\n",
       "      <td>NaN</td>\n",
       "      <td>NaN</td>\n",
       "      <td>NaN</td>\n",
       "      <td>NaN</td>\n",
       "      <td>NaN</td>\n",
       "      <td>NaN</td>\n",
       "    </tr>\n",
       "    <tr>\n",
       "      <th>3</th>\n",
       "      <td>NaN</td>\n",
       "      <td>1922</td>\n",
       "      <td>NaN</td>\n",
       "      <td>NaN</td>\n",
       "      <td>1.0</td>\n",
       "      <td>1922</td>\n",
       "      <td>NaN</td>\n",
       "      <td>time period</td>\n",
       "      <td>NaN</td>\n",
       "      <td>NaN</td>\n",
       "      <td>...</td>\n",
       "      <td>NaN</td>\n",
       "      <td>NaN</td>\n",
       "      <td>NaN</td>\n",
       "      <td>NaN</td>\n",
       "      <td>NaN</td>\n",
       "      <td>NaN</td>\n",
       "      <td>NaN</td>\n",
       "      <td>NaN</td>\n",
       "      <td>NaN</td>\n",
       "      <td>NaN</td>\n",
       "    </tr>\n",
       "    <tr>\n",
       "      <th>4</th>\n",
       "      <td>NaN</td>\n",
       "      <td>2001: a space odyssey (film)</td>\n",
       "      <td>NaN</td>\n",
       "      <td>NaN</td>\n",
       "      <td>1.0</td>\n",
       "      <td>NaN</td>\n",
       "      <td>NaN</td>\n",
       "      <td>entity (product)</td>\n",
       "      <td>topic</td>\n",
       "      <td>NaN</td>\n",
       "      <td>...</td>\n",
       "      <td>NaN</td>\n",
       "      <td>NaN</td>\n",
       "      <td>NaN</td>\n",
       "      <td>NaN</td>\n",
       "      <td>NaN</td>\n",
       "      <td>NaN</td>\n",
       "      <td>NaN</td>\n",
       "      <td>NaN</td>\n",
       "      <td>NaN</td>\n",
       "      <td>NaN</td>\n",
       "    </tr>\n",
       "    <tr>\n",
       "      <th>...</th>\n",
       "      <td>...</td>\n",
       "      <td>...</td>\n",
       "      <td>...</td>\n",
       "      <td>...</td>\n",
       "      <td>...</td>\n",
       "      <td>...</td>\n",
       "      <td>...</td>\n",
       "      <td>...</td>\n",
       "      <td>...</td>\n",
       "      <td>...</td>\n",
       "      <td>...</td>\n",
       "      <td>...</td>\n",
       "      <td>...</td>\n",
       "      <td>...</td>\n",
       "      <td>...</td>\n",
       "      <td>...</td>\n",
       "      <td>...</td>\n",
       "      <td>...</td>\n",
       "      <td>...</td>\n",
       "      <td>...</td>\n",
       "      <td>...</td>\n",
       "    </tr>\n",
       "    <tr>\n",
       "      <th>1438</th>\n",
       "      <td>NaN</td>\n",
       "      <td>x-check</td>\n",
       "      <td>NaN</td>\n",
       "      <td>NaN</td>\n",
       "      <td>58.0</td>\n",
       "      <td>NaN</td>\n",
       "      <td>NaN</td>\n",
       "      <td>NaN</td>\n",
       "      <td>NaN</td>\n",
       "      <td>NaN</td>\n",
       "      <td>...</td>\n",
       "      <td>NaN</td>\n",
       "      <td>NaN</td>\n",
       "      <td>NaN</td>\n",
       "      <td>NaN</td>\n",
       "      <td>NaN</td>\n",
       "      <td>NaN</td>\n",
       "      <td>NaN</td>\n",
       "      <td>NaN</td>\n",
       "      <td>NaN</td>\n",
       "      <td>NaN</td>\n",
       "    </tr>\n",
       "    <tr>\n",
       "      <th>1439</th>\n",
       "      <td>extensible markup language (xml)</td>\n",
       "      <td>xml</td>\n",
       "      <td>xml schema</td>\n",
       "      <td>NaN</td>\n",
       "      <td>16.0</td>\n",
       "      <td>XML</td>\n",
       "      <td>NaN</td>\n",
       "      <td>format/standard</td>\n",
       "      <td>NaN</td>\n",
       "      <td>NaN</td>\n",
       "      <td>...</td>\n",
       "      <td>NaN</td>\n",
       "      <td>NaN</td>\n",
       "      <td>NaN</td>\n",
       "      <td>NaN</td>\n",
       "      <td>NaN</td>\n",
       "      <td>NaN</td>\n",
       "      <td>NaN</td>\n",
       "      <td>NaN</td>\n",
       "      <td>NaN</td>\n",
       "      <td>NaN</td>\n",
       "    </tr>\n",
       "    <tr>\n",
       "      <th>1440</th>\n",
       "      <td>year in dh 2008</td>\n",
       "      <td>yearindh2008</td>\n",
       "      <td>NaN</td>\n",
       "      <td>NaN</td>\n",
       "      <td>1.0</td>\n",
       "      <td>DH-Jahr 2008</td>\n",
       "      <td>NaN</td>\n",
       "      <td>NaN</td>\n",
       "      <td>NaN</td>\n",
       "      <td>NaN</td>\n",
       "      <td>...</td>\n",
       "      <td>NaN</td>\n",
       "      <td>NaN</td>\n",
       "      <td>NaN</td>\n",
       "      <td>NaN</td>\n",
       "      <td>NaN</td>\n",
       "      <td>NaN</td>\n",
       "      <td>NaN</td>\n",
       "      <td>NaN</td>\n",
       "      <td>NaN</td>\n",
       "      <td>NaN</td>\n",
       "    </tr>\n",
       "    <tr>\n",
       "      <th>1441</th>\n",
       "      <td>NaN</td>\n",
       "      <td>youth</td>\n",
       "      <td>NaN</td>\n",
       "      <td>NaN</td>\n",
       "      <td>1.0</td>\n",
       "      <td>Jugend</td>\n",
       "      <td>NaN</td>\n",
       "      <td>NaN</td>\n",
       "      <td>NaN</td>\n",
       "      <td>NaN</td>\n",
       "      <td>...</td>\n",
       "      <td>NaN</td>\n",
       "      <td>NaN</td>\n",
       "      <td>NaN</td>\n",
       "      <td>NaN</td>\n",
       "      <td>NaN</td>\n",
       "      <td>NaN</td>\n",
       "      <td>NaN</td>\n",
       "      <td>NaN</td>\n",
       "      <td>NaN</td>\n",
       "      <td>NaN</td>\n",
       "    </tr>\n",
       "    <tr>\n",
       "      <th>1442</th>\n",
       "      <td>NaN</td>\n",
       "      <td>zotero</td>\n",
       "      <td>NaN</td>\n",
       "      <td>NaN</td>\n",
       "      <td>2.0</td>\n",
       "      <td>Zotero</td>\n",
       "      <td>NaN</td>\n",
       "      <td>resource/tool</td>\n",
       "      <td>NaN</td>\n",
       "      <td>NaN</td>\n",
       "      <td>...</td>\n",
       "      <td>NaN</td>\n",
       "      <td>NaN</td>\n",
       "      <td>NaN</td>\n",
       "      <td>NaN</td>\n",
       "      <td>NaN</td>\n",
       "      <td>NaN</td>\n",
       "      <td>NaN</td>\n",
       "      <td>NaN</td>\n",
       "      <td>NaN</td>\n",
       "      <td>NaN</td>\n",
       "    </tr>\n",
       "  </tbody>\n",
       "</table>\n",
       "<p>1443 rows × 31 columns</p>\n",
       "</div>"
      ],
      "text/plain": [
       "                 Cleaned_Version (new)                Tag (existent)  \\\n",
       "0           (semi-)automated generated  (teil-)automatisch generiert   \n",
       "1                                  NaN                     #nosource   \n",
       "2         medieval england (1066-1485)                     1066-1485   \n",
       "3                                  NaN                          1922   \n",
       "4                                  NaN  2001: a space odyssey (film)   \n",
       "...                                ...                           ...   \n",
       "1438                               NaN                       x-check   \n",
       "1439  extensible markup language (xml)                           xml   \n",
       "1440                   year in dh 2008                  yearindh2008   \n",
       "1441                               NaN                         youth   \n",
       "1442                               NaN                        zotero   \n",
       "\n",
       "     Other variants (= other existent tags)  \\\n",
       "0                                       NaN   \n",
       "1                                       NaN   \n",
       "2                                       NaN   \n",
       "3                                       NaN   \n",
       "4                                       NaN   \n",
       "...                                     ...   \n",
       "1438                                    NaN   \n",
       "1439                             xml schema   \n",
       "1440                                    NaN   \n",
       "1441                                    NaN   \n",
       "1442                                    NaN   \n",
       "\n",
       "     German variants (already existent)  Count            German translation  \\\n",
       "0          (teil-)automatisch generiert    4.0  (teil-)automatisch generiert   \n",
       "1                                   NaN    4.0                           NaN   \n",
       "2                                   NaN    1.0                     1066-1485   \n",
       "3                                   NaN    1.0                          1922   \n",
       "4                                   NaN    1.0                           NaN   \n",
       "...                                 ...    ...                           ...   \n",
       "1438                                NaN   58.0                           NaN   \n",
       "1439                                NaN   16.0                           XML   \n",
       "1440                                NaN    1.0                  DH-Jahr 2008   \n",
       "1441                                NaN    1.0                        Jugend   \n",
       "1442                                NaN    2.0                        Zotero   \n",
       "\n",
       "      Broader concept     Susanne Cat 1   Susanne Cat 2 Susanne Cat 3  ...  \\\n",
       "0                 NaN               NaN             NaN           NaN  ...   \n",
       "1                 NaN       object-type  resource/tool          topic  ...   \n",
       "2                 NaN       time period             NaN           NaN  ...   \n",
       "3                 NaN       time period             NaN           NaN  ...   \n",
       "4                 NaN  entity (product)           topic           NaN  ...   \n",
       "...               ...               ...             ...           ...  ...   \n",
       "1438              NaN               NaN             NaN           NaN  ...   \n",
       "1439              NaN   format/standard             NaN           NaN  ...   \n",
       "1440              NaN               NaN             NaN           NaN  ...   \n",
       "1441              NaN               NaN             NaN           NaN  ...   \n",
       "1442              NaN     resource/tool             NaN           NaN  ...   \n",
       "\n",
       "     new_2 cat_2 new_3 cat_3 new_4 cat_4 new_5 cat_5 new_6 cat_6  \n",
       "0      NaN   NaN   NaN   NaN   NaN   NaN   NaN   NaN   NaN   NaN  \n",
       "1      NaN   NaN   NaN   NaN   NaN   NaN   NaN   NaN   NaN   NaN  \n",
       "2      NaN   NaN   NaN   NaN   NaN   NaN   NaN   NaN   NaN   NaN  \n",
       "3      NaN   NaN   NaN   NaN   NaN   NaN   NaN   NaN   NaN   NaN  \n",
       "4      NaN   NaN   NaN   NaN   NaN   NaN   NaN   NaN   NaN   NaN  \n",
       "...    ...   ...   ...   ...   ...   ...   ...   ...   ...   ...  \n",
       "1438   NaN   NaN   NaN   NaN   NaN   NaN   NaN   NaN   NaN   NaN  \n",
       "1439   NaN   NaN   NaN   NaN   NaN   NaN   NaN   NaN   NaN   NaN  \n",
       "1440   NaN   NaN   NaN   NaN   NaN   NaN   NaN   NaN   NaN   NaN  \n",
       "1441   NaN   NaN   NaN   NaN   NaN   NaN   NaN   NaN   NaN   NaN  \n",
       "1442   NaN   NaN   NaN   NaN   NaN   NaN   NaN   NaN   NaN   NaN  \n",
       "\n",
       "[1443 rows x 31 columns]"
      ]
     },
     "execution_count": 9,
     "metadata": {},
     "output_type": "execute_result"
    }
   ],
   "source": [
    "df = pd.read_csv('zotero_keywords.csv')\n",
    "\n",
    "df"
   ]
  },
  {
   "cell_type": "markdown",
   "metadata": {},
   "source": [
    "We will now list all columns with their respective index."
   ]
  },
  {
   "cell_type": "code",
   "execution_count": 10,
   "metadata": {},
   "outputs": [
    {
     "data": {
      "text/plain": [
       "0                      Cleaned_Version (new)\n",
       "1                             Tag (existent)\n",
       "2     Other variants (= other existent tags)\n",
       "3         German variants (already existent)\n",
       "4                                      Count\n",
       "5                         German translation\n",
       "6                            Broader concept\n",
       "7                              Susanne Cat 1\n",
       "8                              Susanne Cat 2\n",
       "9                              Susanne Cat 3\n",
       "10                                Nina Cat 1\n",
       "11                                Nina Cat 2\n",
       "12                              Martin Cat 1\n",
       "13                              Martin Cat 2\n",
       "14                              Martin Cat 3\n",
       "15                            not ger or eng\n",
       "16                                    delete\n",
       "17                            delete_textual\n",
       "18                                     split\n",
       "19                                     new_1\n",
       "20                                     cat_1\n",
       "21                                     new_2\n",
       "22                                     cat_2\n",
       "23                                     new_3\n",
       "24                                     cat_3\n",
       "25                                     new_4\n",
       "26                                     cat_4\n",
       "27                                     new_5\n",
       "28                                     cat_5\n",
       "29                                     new_6\n",
       "30                                     cat_6\n",
       "dtype: object"
      ]
     },
     "execution_count": 10,
     "metadata": {},
     "output_type": "execute_result"
    }
   ],
   "source": [
    "pd.Series(df.columns)"
   ]
  },
  {
   "cell_type": "markdown",
   "metadata": {},
   "source": [
    "Only part of these columns are necessary for our purpose. We can therefore drop some of them to make the processing of the dataframe easier."
   ]
  },
  {
   "cell_type": "code",
   "execution_count": 11,
   "metadata": {},
   "outputs": [],
   "source": [
    "df.drop(df.columns[6:15], axis=1, inplace=True)"
   ]
  },
  {
   "cell_type": "markdown",
   "metadata": {},
   "source": [
    "We will now get a list of all the tags that were in the Zotero library according to the spreadsheet."
   ]
  },
  {
   "cell_type": "markdown",
   "metadata": {},
   "source": [
    "* `Cleaned_Version (new)`: each cells contains only *one* single tag. The separators present here are part of the *same* tag.\n",
    "* `Tag (existent)`: each cell contains one single tag here too.\n",
    "* `Other variants (= other existent tags)`: separators `,` and `;` are used. The problem is that sometimes the separator `,` is part of a single tag. I should have now uniformed all instances, so that `;` is the only separator that is being used *between two tags* (other separators might appear inside a single tag).\n",
    "* `German variants (already existent)`: separator `,` is part of the tag (as in `Architektur,`). One **question** regarding `estadísticas lexicales, lexical statistics`. Are these two separate tags? The second one does not appear in the Zotero library. In any case, for this column we can just specify `;` as separator."
   ]
  },
  {
   "cell_type": "code",
   "execution_count": 12,
   "metadata": {},
   "outputs": [
    {
     "name": "stdout",
     "output_type": "stream",
     "text": [
      "1622\n"
     ]
    }
   ],
   "source": [
    "tags_spreadsheet = []\n",
    "\n",
    "# Tag (existent)\n",
    "tags_spreadsheet.extend(df.iloc[:,1].dropna().values.tolist())\n",
    "# Other variants (= other existent tags)\n",
    "tags_spreadsheet.extend([item for sublist in df.iloc[:,2].dropna().apply(lambda x: x.split('; ')).values.tolist() for item in sublist])\n",
    "# German variants (already existent)\n",
    "tags_spreadsheet.extend([item for sublist in df.iloc[:,3].dropna().apply(lambda x: x.split('; ')).values.tolist() for item in sublist])\n",
    "\n",
    "print(len(tags_spreadsheet))"
   ]
  },
  {
   "cell_type": "markdown",
   "metadata": {},
   "source": [
    "Therefore, the tags retrived from Zotero are **1824**, while those retrived from the spreadsheet are **1625**. This means there are *at least* **199** non-corresponding tags between the two lists."
   ]
  },
  {
   "cell_type": "markdown",
   "metadata": {},
   "source": [
    "## Check duplicates in Zotero tags"
   ]
  },
  {
   "cell_type": "markdown",
   "metadata": {},
   "source": [
    "Before performing any comparison between the two lists, we will check if there are any duplicates in the list downloaded from Zotero (we will take the `/tags` list as reference). Here is an example of how the entry for a tag is constructed."
   ]
  },
  {
   "cell_type": "code",
   "execution_count": 13,
   "metadata": {},
   "outputs": [
    {
     "data": {
      "text/plain": [
       "{'tag': '_TODO',\n",
       " 'links': {'self': {'href': 'https://api.zotero.org/groups/4822236/tags/_TODO',\n",
       "   'type': 'application/json'},\n",
       "  'alternate': {'href': 'http://zotero.org/groups/4822236/tags/_TODO',\n",
       "   'type': 'text/html'}},\n",
       " 'meta': {'type': 0, 'numItems': 3}}"
      ]
     },
     "execution_count": 13,
     "metadata": {},
     "output_type": "execute_result"
    }
   ],
   "source": [
    "tags[0]"
   ]
  },
  {
   "cell_type": "code",
   "execution_count": 14,
   "metadata": {},
   "outputs": [
    {
     "name": "stdout",
     "output_type": "stream",
     "text": [
      "Number of duplicates:  84\n",
      "==========================\n",
      "⚠️ Invalid DOI\n",
      "Franse letterkunde\n",
      "humanidades digitales\n",
      "Data\n",
      "Design\n",
      "Information technology\n",
      "research\n",
      "Electronic publishing\n",
      "ODH\n",
      "Social Science / Media Studies\n",
      "annotation\n",
      "Distant Reading\n",
      "office of digital humanities\n",
      "World history\n",
      "lightning\n",
      "Library\n",
      "Hypertext\n",
      "text mining\n",
      "digital\n",
      "cultural studies\n",
      "Collaboration\n",
      "TEACHING\n",
      "educational\n",
      "Historical sources\n",
      "Electronic records\n",
      "Technology\n",
      "Information Retrieval\n",
      "Documents\n",
      "/unread\n",
      "Grafische industrie\n",
      "Methodology\n",
      "Computers\n",
      "scholarship\n",
      "TEDTalks\n",
      "Open Access\n",
      "NEH\n",
      "History Teaching\n",
      "national endowment\n",
      "Education\n",
      "Uncategorized\n",
      "Canada\n",
      "digital humanities\n",
      "TEI\n",
      "ideas\n",
      "Humanities\n",
      "American history\n",
      "Music\n",
      "Historians\n",
      "topic modeling\n",
      "Arts\n",
      "Classics\n",
      "Digital Humanities\n",
      "big data\n",
      "Historiography\n",
      "sustainability\n",
      "JISC\n",
      "George Mason University\n",
      "imaging\n",
      "Letterkunde\n",
      "Media\n",
      "Colleges and Universities\n",
      "TED\n",
      "method\n",
      "Art / General\n",
      "Biology\n",
      "Philosophy\n",
      "Research\n",
      "Vol. 2, No. 1 Winter 2012\n",
      "Civilization\n",
      "XML\n",
      "Boekgeschiedenis\n",
      "Digital libraries\n",
      "Software\n",
      "NLP\n",
      "Information access\n",
      "Manuscripts\n",
      "Electronic data processing\n",
      "social\n",
      "EDUCATION\n",
      "Internet\n",
      "History\n",
      "Text Mining\n",
      "Statistics\n",
      "Technological innovations\n"
     ]
    }
   ],
   "source": [
    "seen = set()\n",
    "duplicate_labels = set()\n",
    "\n",
    "for tag in tags:\n",
    "    label = tag[\"tag\"]\n",
    "    if label not in seen:\n",
    "        seen.add(label)\n",
    "    else:\n",
    "        duplicate_labels.add(label)\n",
    "\n",
    "print(\"Number of duplicates: \", str(len(duplicate_labels)))\n",
    "print(\"==========================\")\n",
    "for duplicate in duplicate_labels:\n",
    "    print(duplicate)"
   ]
  },
  {
   "cell_type": "code",
   "execution_count": 15,
   "metadata": {},
   "outputs": [
    {
     "name": "stdout",
     "output_type": "stream",
     "text": [
      "168\n"
     ]
    }
   ],
   "source": [
    "duplicates = []\n",
    "\n",
    "for tag in tags:\n",
    "    tag_dict = {}\n",
    "    if tag[\"tag\"] in duplicate_labels:\n",
    "        tag_dict = {\"tag\": tag[\"tag\"],\n",
    "                    \"type\": tag[\"meta\"][\"type\"],\n",
    "                    \"numItems\": tag[\"meta\"][\"numItems\"],\n",
    "                    \"url_api\": tag[\"links\"][\"self\"][\"href\"],\n",
    "                    \"url_gui\": tag[\"links\"][\"alternate\"][\"href\"]}\n",
    "        duplicates.append(tag_dict)\n",
    "\n",
    "print(len(duplicates))"
   ]
  },
  {
   "cell_type": "code",
   "execution_count": 16,
   "metadata": {},
   "outputs": [
    {
     "data": {
      "text/html": [
       "<div>\n",
       "<style scoped>\n",
       "    .dataframe tbody tr th:only-of-type {\n",
       "        vertical-align: middle;\n",
       "    }\n",
       "\n",
       "    .dataframe tbody tr th {\n",
       "        vertical-align: top;\n",
       "    }\n",
       "\n",
       "    .dataframe thead th {\n",
       "        text-align: right;\n",
       "    }\n",
       "</style>\n",
       "<table border=\"1\" class=\"dataframe\">\n",
       "  <thead>\n",
       "    <tr style=\"text-align: right;\">\n",
       "      <th></th>\n",
       "      <th>tag</th>\n",
       "      <th>type</th>\n",
       "      <th>numItems</th>\n",
       "      <th>url_api</th>\n",
       "      <th>url_gui</th>\n",
       "    </tr>\n",
       "  </thead>\n",
       "  <tbody>\n",
       "    <tr>\n",
       "      <th>0</th>\n",
       "      <td>/unread</td>\n",
       "      <td>0</td>\n",
       "      <td>6</td>\n",
       "      <td>https://api.zotero.org/groups/4822236/tags/%2F...</td>\n",
       "      <td>http://zotero.org/groups/4822236/tags/%2Funread</td>\n",
       "    </tr>\n",
       "    <tr>\n",
       "      <th>1</th>\n",
       "      <td>/unread</td>\n",
       "      <td>1</td>\n",
       "      <td>433</td>\n",
       "      <td>https://api.zotero.org/groups/4822236/tags/%2F...</td>\n",
       "      <td>http://zotero.org/groups/4822236/tags/%2Funread</td>\n",
       "    </tr>\n",
       "    <tr>\n",
       "      <th>2</th>\n",
       "      <td>⚠️ Invalid DOI</td>\n",
       "      <td>1</td>\n",
       "      <td>5</td>\n",
       "      <td>https://api.zotero.org/groups/4822236/tags/%E2...</td>\n",
       "      <td>http://zotero.org/groups/4822236/tags/%E2%9A%A...</td>\n",
       "    </tr>\n",
       "    <tr>\n",
       "      <th>3</th>\n",
       "      <td>⚠️ Invalid DOI</td>\n",
       "      <td>0</td>\n",
       "      <td>1</td>\n",
       "      <td>https://api.zotero.org/groups/4822236/tags/%E2...</td>\n",
       "      <td>http://zotero.org/groups/4822236/tags/%E2%9A%A...</td>\n",
       "    </tr>\n",
       "    <tr>\n",
       "      <th>4</th>\n",
       "      <td>American history</td>\n",
       "      <td>0</td>\n",
       "      <td>2</td>\n",
       "      <td>https://api.zotero.org/groups/4822236/tags/Ame...</td>\n",
       "      <td>http://zotero.org/groups/4822236/tags/American...</td>\n",
       "    </tr>\n",
       "    <tr>\n",
       "      <th>...</th>\n",
       "      <td>...</td>\n",
       "      <td>...</td>\n",
       "      <td>...</td>\n",
       "      <td>...</td>\n",
       "      <td>...</td>\n",
       "    </tr>\n",
       "    <tr>\n",
       "      <th>163</th>\n",
       "      <td>Vol. 2, No. 1 Winter 2012</td>\n",
       "      <td>1</td>\n",
       "      <td>1</td>\n",
       "      <td>https://api.zotero.org/groups/4822236/tags/Vol...</td>\n",
       "      <td>http://zotero.org/groups/4822236/tags/Vol.+2%2...</td>\n",
       "    </tr>\n",
       "    <tr>\n",
       "      <th>164</th>\n",
       "      <td>World history</td>\n",
       "      <td>0</td>\n",
       "      <td>1</td>\n",
       "      <td>https://api.zotero.org/groups/4822236/tags/Wor...</td>\n",
       "      <td>http://zotero.org/groups/4822236/tags/World+hi...</td>\n",
       "    </tr>\n",
       "    <tr>\n",
       "      <th>165</th>\n",
       "      <td>World history</td>\n",
       "      <td>1</td>\n",
       "      <td>1</td>\n",
       "      <td>https://api.zotero.org/groups/4822236/tags/Wor...</td>\n",
       "      <td>http://zotero.org/groups/4822236/tags/World+hi...</td>\n",
       "    </tr>\n",
       "    <tr>\n",
       "      <th>166</th>\n",
       "      <td>XML</td>\n",
       "      <td>0</td>\n",
       "      <td>9</td>\n",
       "      <td>https://api.zotero.org/groups/4822236/tags/XML</td>\n",
       "      <td>http://zotero.org/groups/4822236/tags/XML</td>\n",
       "    </tr>\n",
       "    <tr>\n",
       "      <th>167</th>\n",
       "      <td>XML</td>\n",
       "      <td>1</td>\n",
       "      <td>1</td>\n",
       "      <td>https://api.zotero.org/groups/4822236/tags/XML</td>\n",
       "      <td>http://zotero.org/groups/4822236/tags/XML</td>\n",
       "    </tr>\n",
       "  </tbody>\n",
       "</table>\n",
       "<p>168 rows × 5 columns</p>\n",
       "</div>"
      ],
      "text/plain": [
       "                           tag  type  numItems  \\\n",
       "0                      /unread     0         6   \n",
       "1                      /unread     1       433   \n",
       "2               ⚠️ Invalid DOI     1         5   \n",
       "3               ⚠️ Invalid DOI     0         1   \n",
       "4             American history     0         2   \n",
       "..                         ...   ...       ...   \n",
       "163  Vol. 2, No. 1 Winter 2012     1         1   \n",
       "164              World history     0         1   \n",
       "165              World history     1         1   \n",
       "166                        XML     0         9   \n",
       "167                        XML     1         1   \n",
       "\n",
       "                                               url_api  \\\n",
       "0    https://api.zotero.org/groups/4822236/tags/%2F...   \n",
       "1    https://api.zotero.org/groups/4822236/tags/%2F...   \n",
       "2    https://api.zotero.org/groups/4822236/tags/%E2...   \n",
       "3    https://api.zotero.org/groups/4822236/tags/%E2...   \n",
       "4    https://api.zotero.org/groups/4822236/tags/Ame...   \n",
       "..                                                 ...   \n",
       "163  https://api.zotero.org/groups/4822236/tags/Vol...   \n",
       "164  https://api.zotero.org/groups/4822236/tags/Wor...   \n",
       "165  https://api.zotero.org/groups/4822236/tags/Wor...   \n",
       "166     https://api.zotero.org/groups/4822236/tags/XML   \n",
       "167     https://api.zotero.org/groups/4822236/tags/XML   \n",
       "\n",
       "                                               url_gui  \n",
       "0      http://zotero.org/groups/4822236/tags/%2Funread  \n",
       "1      http://zotero.org/groups/4822236/tags/%2Funread  \n",
       "2    http://zotero.org/groups/4822236/tags/%E2%9A%A...  \n",
       "3    http://zotero.org/groups/4822236/tags/%E2%9A%A...  \n",
       "4    http://zotero.org/groups/4822236/tags/American...  \n",
       "..                                                 ...  \n",
       "163  http://zotero.org/groups/4822236/tags/Vol.+2%2...  \n",
       "164  http://zotero.org/groups/4822236/tags/World+hi...  \n",
       "165  http://zotero.org/groups/4822236/tags/World+hi...  \n",
       "166          http://zotero.org/groups/4822236/tags/XML  \n",
       "167          http://zotero.org/groups/4822236/tags/XML  \n",
       "\n",
       "[168 rows x 5 columns]"
      ]
     },
     "execution_count": 16,
     "metadata": {},
     "output_type": "execute_result"
    }
   ],
   "source": [
    "duplicates_df = pd.DataFrame.from_dict(duplicates)\n",
    "duplicates_df"
   ]
  },
  {
   "cell_type": "markdown",
   "metadata": {},
   "source": [
    "As one can see here, there are several \"apparent\" duplicates. The same tag can be found once with `type = 0`, once with `type = 1`. `type = 1` means that the tag was added automatically when the item was imported into the Zotero library. The counts for `type = 0` and `type = 1` are different, but when added together they sum up to the count found for each tag in the web GUI."
   ]
  },
  {
   "cell_type": "markdown",
   "metadata": {},
   "source": [
    "Let's create a new list of tags from Zotero without duplicates. We will then use the list for the purpose of comparison with the spreadsheet list."
   ]
  },
  {
   "cell_type": "code",
   "execution_count": 17,
   "metadata": {},
   "outputs": [
    {
     "name": "stdout",
     "output_type": "stream",
     "text": [
      "1824\n",
      "1740\n",
      "84 duplicates removed\n"
     ]
    }
   ],
   "source": [
    "print(len(tags_list))\n",
    "tags_Zotero_dedup = list(set(tags_list))\n",
    "print(len(tags_Zotero_dedup))\n",
    "print(len(tags_list)-len(tags_Zotero_dedup), \"duplicates removed\")"
   ]
  },
  {
   "cell_type": "markdown",
   "metadata": {},
   "source": [
    "## Check duplicates in spreadsheet tags"
   ]
  },
  {
   "cell_type": "code",
   "execution_count": 18,
   "metadata": {},
   "outputs": [
    {
     "name": "stdout",
     "output_type": "stream",
     "text": [
      "Tags that appear more than once: 31\n",
      "====================================\n",
      "(teil-)automatisch generiert [Count: 2]\n",
      "academics [Count: 2]\n",
      "arts [Count: 2]\n",
      "computer-mediated communication [Count: 2]\n",
      "computers [Count: 2]\n",
      "criticism/ data processing [Count: 2]\n",
      "data/databases [Count: 2]\n",
      "database [Count: 2]\n",
      "digitalhumanities [Count: 2]\n",
      "digitize [Count: 2]\n",
      "digitized [Count: 3]\n",
      "dokumentation [Count: 2]\n",
      "earth sciences [Count: 2]\n",
      "editionswissenschafte [Count: 2]\n",
      "education, higher [Count: 2]\n",
      "encoding [Count: 2]\n",
      "estadísticas lexicales [Count: 2]\n",
      "french literature [Count: 2]\n",
      "handschriften. epigrafie. paleografie [Count: 3]\n",
      "higher education [Count: 2]\n",
      "humanidades digitales [Count: 2]\n",
      "interdisciplinariedad [Count: 2]\n",
      "interfaces (informatique) [Count: 2]\n",
      "invisibleaustralians [Count: 2]\n",
      "manuscrit [Count: 2]\n",
      "minería de datos [Count: 2]\n",
      "scholars [Count: 2]\n",
      "the arts [Count: 2]\n",
      "computers / general [Count: 2]\n",
      "databases [Count: 2]\n",
      "higher ed [Count: 2]\n"
     ]
    }
   ],
   "source": [
    "from collections import Counter\n",
    "counter = Counter(tags_spreadsheet)\n",
    "duplicates_spreadsheet = {tag: count for tag, count in counter.items() if count > 1}\n",
    "print(\"Tags that appear more than once:\", len(duplicates_spreadsheet))\n",
    "print(\"====================================\")\n",
    "for tag, count in duplicates_spreadsheet.items():\n",
    "    print(tag, \"[Count: \" + str(count) + \"]\") "
   ]
  },
  {
   "cell_type": "markdown",
   "metadata": {},
   "source": [
    "Let's now delete the duplicates from the list."
   ]
  },
  {
   "cell_type": "code",
   "execution_count": 19,
   "metadata": {},
   "outputs": [
    {
     "name": "stdout",
     "output_type": "stream",
     "text": [
      "1622\n",
      "1589\n",
      "33 duplicates removed\n"
     ]
    }
   ],
   "source": [
    "print(len(tags_spreadsheet))\n",
    "tags_spreadsheet_dedup = list(set(tags_spreadsheet))\n",
    "print(len(tags_spreadsheet_dedup))\n",
    "print(len(tags_spreadsheet)-len(tags_spreadsheet_dedup), \"duplicates removed\")"
   ]
  },
  {
   "cell_type": "markdown",
   "metadata": {},
   "source": [
    "We now have two lists, `tags_Zotero_dedup` and `tags_spreadsheet_dedup`, which we can use for comparison."
   ]
  },
  {
   "cell_type": "markdown",
   "metadata": {},
   "source": [
    "## Compare Zotero and spreadsheet tags"
   ]
  },
  {
   "cell_type": "markdown",
   "metadata": {},
   "source": [
    "Let's get a summary of the number of elements in both lists."
   ]
  },
  {
   "cell_type": "code",
   "execution_count": 20,
   "metadata": {},
   "outputs": [
    {
     "name": "stdout",
     "output_type": "stream",
     "text": [
      "1740\n",
      "1589\n"
     ]
    }
   ],
   "source": [
    "print(len(tags_Zotero_dedup))\n",
    "print(len(tags_spreadsheet_dedup))"
   ]
  },
  {
   "cell_type": "markdown",
   "metadata": {},
   "source": [
    "Checking tags that are present in the Zotero library but not present in the spreadsheet."
   ]
  },
  {
   "cell_type": "code",
   "execution_count": 21,
   "metadata": {},
   "outputs": [],
   "source": [
    "def compare_lists(list1, list2):\n",
    "    differences = []\n",
    "    for item in list1:\n",
    "        if item not in list2:\n",
    "            differences.append(item)\n",
    "    print(len(differences))\n",
    "    return differences"
   ]
  },
  {
   "cell_type": "code",
   "execution_count": 22,
   "metadata": {},
   "outputs": [
    {
     "name": "stdout",
     "output_type": "stream",
     "text": [
      "1180\n"
     ]
    }
   ],
   "source": [
    "extra_tags_in_Zotero = compare_lists(tags_Zotero_dedup, tags_spreadsheet_dedup)"
   ]
  },
  {
   "cell_type": "code",
   "execution_count": 23,
   "metadata": {},
   "outputs": [
    {
     "name": "stdout",
     "output_type": "stream",
     "text": [
      "1029\n"
     ]
    }
   ],
   "source": [
    "extra_tags_in_spreadsheet = compare_lists(tags_spreadsheet_dedup, tags_Zotero_dedup)"
   ]
  },
  {
   "cell_type": "markdown",
   "metadata": {},
   "source": [
    "## Normalizing tags in Zotero"
   ]
  },
  {
   "cell_type": "markdown",
   "metadata": {},
   "source": [
    "### Creating the mapping"
   ]
  },
  {
   "cell_type": "markdown",
   "metadata": {},
   "source": [
    "We will now create a dictionary where each key corresponds to a tag in Zotero. For each tag, its normalized version is given as value of the key. The list of values should eventually correspond to the tags extracted from the spreadsheet.\n",
    "\n",
    "This dictionary should serve as a mapping for applying the corrections."
   ]
  },
  {
   "cell_type": "code",
   "execution_count": 24,
   "metadata": {},
   "outputs": [],
   "source": [
    "mapping = {item: None for item in sorted(tags_Zotero_dedup)}"
   ]
  },
  {
   "cell_type": "markdown",
   "metadata": {},
   "source": [
    "We will also reassign `tags_spreadsheet` to `tags_spreadsheet_dedup` to make things easier."
   ]
  },
  {
   "cell_type": "code",
   "execution_count": 25,
   "metadata": {},
   "outputs": [],
   "source": [
    "tags_spreadsheet = tags_spreadsheet_dedup"
   ]
  },
  {
   "cell_type": "markdown",
   "metadata": {},
   "source": [
    "Let's also create a custom function to compare the two lists of tags directly."
   ]
  },
  {
   "cell_type": "code",
   "execution_count": 26,
   "metadata": {},
   "outputs": [
    {
     "name": "stdout",
     "output_type": "stream",
     "text": [
      "1740\n",
      "1589\n"
     ]
    }
   ],
   "source": [
    "def compare_Zotero_spreadsheet():\n",
    "    extra_tags_in_Zotero = compare_lists(mapping.values(), tags_spreadsheet)\n",
    "    extra_tags_in_spreadsheet = compare_lists(tags_spreadsheet, mapping.values())\n",
    "    return extra_tags_in_Zotero, extra_tags_in_spreadsheet\n",
    "\n",
    "extra_tags_in_Zotero, extra_tags_in_spreadsheet = compare_Zotero_spreadsheet()"
   ]
  },
  {
   "cell_type": "markdown",
   "metadata": {},
   "source": [
    "### Lowercase"
   ]
  },
  {
   "cell_type": "markdown",
   "metadata": {},
   "source": [
    "As one can see, there is a huge difference between the tags in Zotero. This is probably because tags in the spreadsheet were all lowercased.\n",
    "\n",
    "So, let's try the comparison again by lowercasing the tags in `tags_list`."
   ]
  },
  {
   "cell_type": "code",
   "execution_count": 27,
   "metadata": {},
   "outputs": [
    {
     "name": "stdout",
     "output_type": "stream",
     "text": [
      "262\n",
      "170\n"
     ]
    }
   ],
   "source": [
    "for tag in mapping:\n",
    "    mapping[tag] = tag.lower()\n",
    "\n",
    "extra_tags_in_Zotero, extra_tags_in_spreadsheet = compare_Zotero_spreadsheet()"
   ]
  },
  {
   "cell_type": "markdown",
   "metadata": {},
   "source": [
    "### Prefixes"
   ]
  },
  {
   "cell_type": "markdown",
   "metadata": {},
   "source": [
    "As one can see from the following analysis, many tags in Zotero have prefixes that have been deleted in the spreadsheet."
   ]
  },
  {
   "cell_type": "code",
   "execution_count": 28,
   "metadata": {},
   "outputs": [
    {
     "name": "stdout",
     "output_type": "stream",
     "text": [
      "#broken_attachments\n",
      "'2001: a space odyssey' (film)\n",
      "activity: annotate\n",
      "digital libraries -- access control\n",
      "diskurs analyse - literatur -  informatik\n",
      "f-cultural heritage\n",
      "f-history\n",
      "giraudoux, jean (1882-1944) -- language\n",
      "giraudoux, jean (1882-1944) -- langue\n",
      "history -- research\n",
      "history -- sources\n",
      "history -- study & teaching\n",
      "humanities -- digital libraries\n",
      "linguistique -- informatique\n",
      "littérature française -- 19e siècle -- thèmes, motifs\n",
      "littérature française -- commentaire de texte\n",
      "meta: theorizing\n",
      "object: code\n",
      "object: data\n",
      "object: digital humanities\n",
      "object: infrastructures\n",
      "object: language\n",
      "object: metadata\n",
      "object: people\n",
      "object: texts\n",
      "récits de voyages français -- 19e siècle -- histoire et critique\n",
      "statistique lexicale -- informatique\n",
      "united states -- social life & customs -- to 1775\n",
      "uni: bielefeld\n",
      "uni: münchen\n",
      "uni: stuttgart\n",
      "uni: tübingen (eberhard karls universität)\n",
      "voyages -- dans la littérature\n",
      "_todo\n",
      "act_annotating\n",
      "act_archiving\n",
      "act_collaborating\n",
      "act_communicating\n",
      "act_conceptualizing\n",
      "act_contentanalysis\n",
      "act_conversion\n",
      "act_crowdsourcing\n",
      "act_datarecognition\n",
      "act_discovering\n",
      "act_editing\n",
      "act_identifying\n",
      "act_imaging\n",
      "act_modeling\n",
      "act_networkanalysis\n",
      "act_organizing\n",
      "act_preservation\n",
      "act_programming\n",
      "act_publishing\n",
      "act_query/retrieve\n",
      "act_relationalanalysis\n",
      "act_sharing\n",
      "act_structuralanalysis\n",
      "act_stylisticanalysis\n",
      "act_teaching/learning\n",
      "act_theorizing\n",
      "act_transcription\n",
      "act_visualizing\n",
      "act_writing\n",
      "activity: analyze qualitatively\n",
      "activity: analyze quantitatively\n",
      "activity: assess\n",
      "activity: authenticate\n",
      "activity: collaborate\n",
      "activity: collect\n",
      "activity: compare\n",
      "activity: conceptualize\n",
      "activity: create\n",
      "activity: digitize\n",
      "activity: encode\n",
      "activity: enrich\n",
      "activity: gather\n",
      "activity: interpret\n",
      "activity: reflect\n",
      "activity: simulate\n",
      "activity: tagging\n",
      "activity: visualize\n",
      "field: art history\n",
      "field: egyptology\n",
      "field: history\n",
      "field: linguistics\n",
      "field: literature\n",
      "field: musicology\n",
      "field: palaeography\n",
      "field: romance philology\n",
      "field: social science\n",
      "field: study of hebrew\n",
      "field: theology\n",
      "goal_analysis\n",
      "goal_capture\n",
      "goal_collaboration\n",
      "goal_create\n",
      "goal_creation\n",
      "goal_dissemination\n",
      "goal_enrichment\n",
      "goal_interpretation\n",
      "goal_storage\n",
      "meta_advocating\n",
      "meta_assessing\n",
      "meta_collaborating\n",
      "meta_communitybuilding\n",
      "meta_definepolicy\n",
      "meta_giveoverview\n",
      "meta_projectmanagement\n",
      "meta_teaching\n",
      "meta_teaching/learning\n",
      "meta_theorizing\n",
      "ob_narrative\n",
      "ob_plot\n",
      "obj_anthropology\n",
      "obj_anyobject\n",
      "obj_archaeologicalsites\n",
      "obj_archaeology\n",
      "obj_architecture\n",
      "obj_artefacts\n",
      "obj_audio\n",
      "obj_code\n",
      "obj_comics\n",
      "obj_computers\n",
      "obj_data\n",
      "obj_data/databases\n",
      "obj_databases\n",
      "obj_digitalhumanities\n",
      "obj_documents\n",
      "obj_events\n",
      "obj_games\n",
      "obj_humanities\n",
      "obj_images\n",
      "obj_infrastructures\n",
      "obj_institutions\n",
      "obj_interaction\n",
      "obj_knowledge\n",
      "obj_language\n",
      "obj_letters\n",
      "obj_literature\n",
      "obj_manuscripts\n",
      "obj_maps\n",
      "obj_metadata\n",
      "obj_methods\n",
      "obj_music\n",
      "obj_namedentities\n",
      "obj_network science\n",
      "obj_newmedia\n",
      "obj_object\n",
      "obj_onlinecontent\n",
      "obj_people\n",
      "obj_persons\n",
      "obj_project\n",
      "obj_relational archaeology\n",
      "obj_research\n",
      "obj_researchresults\n",
      "obj_sheetmusic\n",
      "obj_software\n",
      "obj_standards\n",
      "obj_text\n",
      "obj_tools\n",
      "obj_vres\n",
      "obj_variants\n",
      "obj_video\n",
      "obj_visualization\n",
      "obj_web\n",
      "object: architecture\n",
      "object: archives\n",
      "object: corpora\n",
      "object: data/databases\n",
      "object: documents\n",
      "object: images\n",
      "object: infrastructure\n",
      "object: knowledge\n",
      "object: language\n",
      "object: maps\n",
      "object: metadata\n",
      "object: music\n",
      "object: people\n",
      "object: texts\n",
      "special: 3d\n",
      "special: cad\n",
      "special: crowdsourcing\n",
      "special: interoperability\n",
      "special: lexicon\n",
      "special: ocr\n",
      "special: ontologies\n",
      "special: semantics\n",
      "special: stylistics\n",
      "special: stylometry\n",
      "special: watermarks\n",
      "special: xml\n",
      "supervisor: crestani, marcus\n",
      "supervisor: ebner, h.\n",
      "supervisor: förtsch, reinhard\n",
      "supervisor: gradmann, stefan\n",
      "supervisor: klaeren, herbert\n",
      "supervisor: kropač, i.h.\n",
      "supervisor: morent, stefan\n",
      "supervisor: nußbaum, norbert\n",
      "supervisor: schmitz, wolfgang\n",
      "supervisor: thaller, manfred\n",
      "t_blogging\n",
      "t_clustering\n",
      "t_collation\n",
      "t_discourseanalysis\n",
      "t_encoding\n",
      "t_informationretrieval\n",
      "t_interoperability\n",
      "t_machinelearning\n",
      "t_mapping\n",
      "t_markovchains\n",
      "t_namedentityrecognition\n",
      "t_narratology\n",
      "t_networkanalysis\n",
      "t_openaccess\n",
      "t_pca\n",
      "t_sentimentanalysis\n",
      "t_stemmatology\n",
      "t_stylometry\n",
      "t_sustainability\n",
      "t_topicmodeling\n",
      "t_usability\n",
      "t_xml\n",
      "type: thesis (ma level)\n",
      "type: thesis (phd level)\n",
      "university: augsburg\n",
      "university: berlin (hu)\n",
      "university: berlin (tu)\n",
      "university: bochum\n",
      "university: bonn\n",
      "university: cologne\n",
      "university: essen\n",
      "university: graz, at\n",
      "university: hamburg\n",
      "university: heidelberg\n",
      "university: kiel\n",
      "university: münchen\n",
      "university: münster (wwu)\n",
      "university: osnabrück\n",
      "university: regensburg\n",
      "university: tübingen\n",
      "university: uppsala, s\n",
      "university: utrecht, nl\n"
     ]
    }
   ],
   "source": [
    "tags_with_prefixes = []\n",
    "\n",
    "for tag in extra_tags_in_Zotero:\n",
    "    if '_' in tag or ':' in tag or '-' in tag:\n",
    "        tags_with_prefixes.append(tag)\n",
    "\n",
    "for tag in tags_with_prefixes:\n",
    "    print(tag)"
   ]
  },
  {
   "cell_type": "markdown",
   "metadata": {},
   "source": [
    "There are several prefixes that were deleted in the spreadsheet. We can make a list of them:"
   ]
  },
  {
   "cell_type": "code",
   "execution_count": 29,
   "metadata": {},
   "outputs": [
    {
     "name": "stdout",
     "output_type": "stream",
     "text": [
      "16\n",
      "========\n",
      "act_\n",
      "activity: \n",
      "f-\n",
      "field: \n",
      "goal_\n",
      "meta: \n",
      "meta_\n",
      "ob_\n",
      "obj_\n",
      "object: \n",
      "special: \n",
      "supervisor: \n",
      "t_\n",
      "type: \n",
      "uni: \n",
      "university: \n"
     ]
    }
   ],
   "source": [
    "prefixes = []\n",
    "\n",
    "pattern = r'^[A-Za-z]+(-|_|: )'\n",
    "\n",
    "for tag in tags_with_prefixes:\n",
    "    if result := re.match(pattern, tag):\n",
    "        prefixes.append(str(result.group()))\n",
    "\n",
    "prefixes = sorted(list(set(prefixes)))\n",
    "print(len(prefixes))\n",
    "print(\"========\")\n",
    "for item in prefixes:\n",
    "    print(item)"
   ]
  },
  {
   "cell_type": "markdown",
   "metadata": {},
   "source": [
    "Now we can delete these prefixes and re-run the comparison."
   ]
  },
  {
   "cell_type": "code",
   "execution_count": 30,
   "metadata": {},
   "outputs": [
    {
     "name": "stdout",
     "output_type": "stream",
     "text": [
      "37\n",
      "29\n"
     ]
    }
   ],
   "source": [
    "for original in mapping.keys():\n",
    "    for prefix in prefixes:\n",
    "        mapping[original] = re.sub(f'^{prefix}', '', mapping[original])\n",
    "\n",
    "extra_tags_in_Zotero, extra_tags_in_spreadsheet = compare_Zotero_spreadsheet()"
   ]
  },
  {
   "cell_type": "markdown",
   "metadata": {},
   "source": [
    "### Delete quotes"
   ]
  },
  {
   "cell_type": "code",
   "execution_count": 31,
   "metadata": {},
   "outputs": [
    {
     "name": "stdout",
     "output_type": "stream",
     "text": [
      "'2001: a space odyssey' (film)\n",
      "'american historical review'\n",
      "'history matters'\n",
      "'journal of american history'\n",
      "'outline of american history'\n",
      "'whole earth catalog'\n",
      "'wikipedia'\n",
      "artists' books\n",
      "social science / women's studies\n",
      "women's history\n"
     ]
    }
   ],
   "source": [
    "tags_with_quotes = [tag for tag in extra_tags_in_Zotero if \"'\" in tag]\n",
    "for tag in tags_with_quotes:\n",
    "    print(tag)"
   ]
  },
  {
   "cell_type": "code",
   "execution_count": 32,
   "metadata": {},
   "outputs": [
    {
     "name": "stdout",
     "output_type": "stream",
     "text": [
      "27\n",
      "20\n"
     ]
    }
   ],
   "source": [
    "for original, normalized in mapping.items():\n",
    "        mapping[original] = normalized.replace(\"'\",\"\")\n",
    "\n",
    "extra_tags_in_Zotero, extra_tags_in_spreadsheet = compare_Zotero_spreadsheet()"
   ]
  },
  {
   "cell_type": "markdown",
   "metadata": {},
   "source": [
    "### Delete semicolon"
   ]
  },
  {
   "cell_type": "code",
   "execution_count": 33,
   "metadata": {},
   "outputs": [
    {
     "name": "stdout",
     "output_type": "stream",
     "text": [
      "21\n",
      "18\n"
     ]
    }
   ],
   "source": [
    "for original, normalized in mapping.items():\n",
    "        mapping[original] = normalized.replace(\";\",\"\")\n",
    "\n",
    "extra_tags_in_Zotero, extra_tags_in_spreadsheet = compare_Zotero_spreadsheet()"
   ]
  },
  {
   "cell_type": "markdown",
   "metadata": {},
   "source": [
    "### Remove \"-- \""
   ]
  },
  {
   "cell_type": "code",
   "execution_count": 34,
   "metadata": {},
   "outputs": [
    {
     "name": "stdout",
     "output_type": "stream",
     "text": [
      "7\n",
      "4\n"
     ]
    }
   ],
   "source": [
    "for original, normalized in mapping.items():\n",
    "        mapping[original] = normalized.replace(\"-- \",\"\")\n",
    "\n",
    "extra_tags_in_Zotero, extra_tags_in_spreadsheet = compare_Zotero_spreadsheet()"
   ]
  },
  {
   "cell_type": "markdown",
   "metadata": {},
   "source": [
    "### Remove other characters"
   ]
  },
  {
   "cell_type": "code",
   "execution_count": 35,
   "metadata": {},
   "outputs": [
    {
     "name": "stdout",
     "output_type": "stream",
     "text": [
      "4\n",
      "1\n"
     ]
    }
   ],
   "source": [
    "pattern = r'^(/|_|⚠️ )'\n",
    "\n",
    "for original in mapping.keys():\n",
    "    mapping[original] = re.sub(r'^(/|_|⚠️ )', '', mapping[original])\n",
    "\n",
    "extra_tags_in_Zotero, extra_tags_in_spreadsheet = compare_Zotero_spreadsheet()"
   ]
  },
  {
   "cell_type": "code",
   "execution_count": 36,
   "metadata": {},
   "outputs": [
    {
     "name": "stdout",
     "output_type": "stream",
     "text": [
      "#broken_attachments\n",
      "diskurs analyse - literatur -  informatik\n",
      "foreign language study / german\n",
      "frankfurter buchmesse 2016\n"
     ]
    }
   ],
   "source": [
    "for tag in extra_tags_in_Zotero:\n",
    "    print(tag)"
   ]
  },
  {
   "cell_type": "markdown",
   "metadata": {},
   "source": [
    "### Remove double space after \"-\""
   ]
  },
  {
   "cell_type": "code",
   "execution_count": 37,
   "metadata": {},
   "outputs": [
    {
     "name": "stdout",
     "output_type": "stream",
     "text": [
      "3\n",
      "0\n"
     ]
    }
   ],
   "source": [
    "for original, normalized in mapping.items():\n",
    "        mapping[original] = normalized.replace(\"-  \",\"- \")\n",
    "\n",
    "extra_tags_in_Zotero, extra_tags_in_spreadsheet = compare_Zotero_spreadsheet()"
   ]
  },
  {
   "cell_type": "code",
   "execution_count": 38,
   "metadata": {},
   "outputs": [
    {
     "name": "stdout",
     "output_type": "stream",
     "text": [
      "#broken_attachments\n",
      "foreign language study / german\n",
      "frankfurter buchmesse 2016\n"
     ]
    }
   ],
   "source": [
    "for tag in extra_tags_in_Zotero:\n",
    "    print(tag)"
   ]
  },
  {
   "cell_type": "markdown",
   "metadata": {},
   "source": [
    "Regarding all the tags that still do not correspond to the spreadsheet:\n",
    "* `#broken_attachments` seems to be a tag internal to Zotero that is not even visibile in the GUI\n",
    "* `foreign language study / german` is not actually used in the library (see above) (the tag does not even appear when extracting tags from the full JSON dump describing all the bibliographic items)\n",
    "* `frankfurter buchmesse 2016` refers to a publication added after the clean-up was done (4th March 2024)"
   ]
  },
  {
   "cell_type": "markdown",
   "metadata": {},
   "source": [
    "## Save to CSV, JSON and Pickle data dump"
   ]
  },
  {
   "cell_type": "code",
   "execution_count": 39,
   "metadata": {},
   "outputs": [],
   "source": [
    "import csv\n",
    "\n",
    "sorted_keys = sorted(mapping.keys(), key=str.lower)\n",
    "\n",
    "with open(\"mapping.csv\", \"w\", newline=\"\") as csvfile:\n",
    "    csv_writer = csv.writer(csvfile)\n",
    "    \n",
    "    csv_writer.writerow(['Original', 'Normalized'])\n",
    "    \n",
    "    for key in sorted_keys:\n",
    "        csv_writer.writerow([key, mapping[key]])"
   ]
  },
  {
   "cell_type": "code",
   "execution_count": 40,
   "metadata": {},
   "outputs": [],
   "source": [
    "import json\n",
    "\n",
    "json_string = json.dumps(mapping)\n",
    "\n",
    "with open(\"mapping.json\", \"w\") as f:\n",
    "    f.write(json_string)"
   ]
  },
  {
   "cell_type": "code",
   "execution_count": 41,
   "metadata": {},
   "outputs": [],
   "source": [
    "import pickle\n",
    "\n",
    "with open(\"mapping.pickle\", \"wb\") as f:\n",
    "    pickle.dump(mapping, f)"
   ]
  }
 ],
 "metadata": {
  "kernelspec": {
   "display_name": "Python 3",
   "language": "python",
   "name": "python3"
  },
  "language_info": {
   "codemirror_mode": {
    "name": "ipython",
    "version": 3
   },
   "file_extension": ".py",
   "mimetype": "text/x-python",
   "name": "python",
   "nbconvert_exporter": "python",
   "pygments_lexer": "ipython3",
   "version": "3.11.5"
  }
 },
 "nbformat": 4,
 "nbformat_minor": 2
}
