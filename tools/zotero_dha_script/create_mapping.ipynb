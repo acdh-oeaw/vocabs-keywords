{
 "cells": [
  {
   "cell_type": "markdown",
   "metadata": {},
   "source": [
    "# Create mapping to match tags from Zotero with tags from spreadsheet"
   ]
  },
  {
   "cell_type": "markdown",
   "metadata": {},
   "source": [
    "## Import relevant modules"
   ]
  },
  {
   "cell_type": "code",
   "execution_count": 1,
   "metadata": {},
   "outputs": [],
   "source": [
    "import requests\n",
    "import pandas as pd\n",
    "import re"
   ]
  },
  {
   "cell_type": "markdown",
   "metadata": {},
   "source": [
    "## Define methods"
   ]
  },
  {
   "cell_type": "code",
   "execution_count": 2,
   "metadata": {},
   "outputs": [],
   "source": [
    "def get_total_results(url):\n",
    "    response = requests.get(url)\n",
    "    total_results = response.headers[\"Total-Results\"]\n",
    "    print(\"Number of total results (according to the header): \" + total_results)\n",
    "    return int(total_results)\n",
    "\n",
    "def get_tags(url):\n",
    "    total_results = get_total_results(url)\n",
    "    print(\"Retrieving all tags...\")\n",
    "    all_responses = []\n",
    "    start = 0\n",
    "    while start <= total_results:\n",
    "        print(start, end=\" \")\n",
    "        params = {'start': start}\n",
    "        response = requests.get(url, params=params)\n",
    "        all_responses.extend(response.json())\n",
    "        start += 100\n",
    "    print(\"Number of tags retrieved: \" + str(len(all_responses)))\n",
    "    return all_responses"
   ]
  },
  {
   "cell_type": "markdown",
   "metadata": {},
   "source": [
    "## Get tags from Zotero"
   ]
  },
  {
   "cell_type": "markdown",
   "metadata": {},
   "source": [
    "### Get tags with /tags request"
   ]
  },
  {
   "cell_type": "code",
   "execution_count": 3,
   "metadata": {},
   "outputs": [
    {
     "name": "stdout",
     "output_type": "stream",
     "text": [
      "Number of total results (according to the header): 1824\n",
      "Retrieving all tags...\n",
      "0 100 200 300 400 500 600 700 800 900 1000 1100 1200 1300 1400 1500 1600 1700 1800 Number of tags retrieved: 1824\n"
     ]
    }
   ],
   "source": [
    "url = \"https://api.zotero.org/groups/4822236/tags?format=json&include=data&sort=title&direction=asc&limit=100\"\n",
    "\n",
    "tags = get_tags(url)"
   ]
  },
  {
   "cell_type": "code",
   "execution_count": 4,
   "metadata": {},
   "outputs": [
    {
     "name": "stdout",
     "output_type": "stream",
     "text": [
      "1824\n",
      "['_TODO', \"'2001: A Space Odyssey' (film)\", \"'American Historical Review'\", \"'History Matters'\", \"'Journal of American History'\"]\n"
     ]
    }
   ],
   "source": [
    "tags_list = [tag[\"tag\"] for tag in tags]\n",
    "\n",
    "print(len(tags_list))\n",
    "\n",
    "print(tags_list[:5])"
   ]
  },
  {
   "cell_type": "markdown",
   "metadata": {},
   "source": [
    "### Get tags with /items/tags request"
   ]
  },
  {
   "cell_type": "code",
   "execution_count": 5,
   "metadata": {},
   "outputs": [
    {
     "name": "stdout",
     "output_type": "stream",
     "text": [
      "Number of total results (according to the header): 1823\n",
      "Retrieving all tags...\n",
      "0 100 200 300 400 500 600 700 800 900 1000 1100 1200 1300 1400 1500 1600 1700 1800 Number of tags retrieved: 1823\n"
     ]
    }
   ],
   "source": [
    "url_items_tags = \"https://api.zotero.org/groups/4822236/items/tags?format=json&include=data&sort=title&direction=asc&limit=100\"\n",
    "\n",
    "items_tags = get_tags(url_items_tags)"
   ]
  },
  {
   "cell_type": "code",
   "execution_count": 6,
   "metadata": {},
   "outputs": [
    {
     "name": "stdout",
     "output_type": "stream",
     "text": [
      "1823\n",
      "['_TODO', \"'2001: A Space Odyssey' (film)\", \"'American Historical Review'\", \"'History Matters'\", \"'Journal of American History'\"]\n"
     ]
    }
   ],
   "source": [
    "items_tags_list = [tag[\"tag\"] for tag in items_tags]\n",
    "\n",
    "print(len(items_tags_list))\n",
    "\n",
    "print(items_tags_list[:5])"
   ]
  },
  {
   "cell_type": "markdown",
   "metadata": {},
   "source": [
    "### Find tag missing in /items/tags response"
   ]
  },
  {
   "cell_type": "code",
   "execution_count": 7,
   "metadata": {},
   "outputs": [
    {
     "name": "stdout",
     "output_type": "stream",
     "text": [
      "Foreign Language Study / German\n"
     ]
    }
   ],
   "source": [
    "for tag in tags_list:\n",
    "    if tag not in items_tags_list:\n",
    "        print(tag)"
   ]
  },
  {
   "cell_type": "markdown",
   "metadata": {},
   "source": [
    "More info on this tag can be retrieved by sending the request https://api.zotero.org/groups/4822236/tags?tag=Foreign%20Language%20Study%20%2F%20German. The tag is used for the book \"Digital Literary Studies: Corpus Approaches to Poetry, Prose, and Drama\"."
   ]
  },
  {
   "cell_type": "markdown",
   "metadata": {},
   "source": [
    "Let's also check the other way around."
   ]
  },
  {
   "cell_type": "code",
   "execution_count": 8,
   "metadata": {},
   "outputs": [],
   "source": [
    "for tag in items_tags_list:\n",
    "    if tag not in tags_list:\n",
    "        print(tag)"
   ]
  },
  {
   "cell_type": "markdown",
   "metadata": {},
   "source": [
    "Apparently, there are no extra tags in `items_tags_list`."
   ]
  },
  {
   "cell_type": "markdown",
   "metadata": {},
   "source": [
    "## Get tags from spreadsheet"
   ]
  },
  {
   "cell_type": "markdown",
   "metadata": {},
   "source": [
    "We will read directly from a CSV export of the Google Sheets spreadsheet. A copy of the CSV is provided in the same folder as this notebook.\n",
    "\n",
    "Direct integration with Google Sheets does not seems to be necessary at the moment, but could be included in a future revision of this script."
   ]
  },
  {
   "cell_type": "code",
   "execution_count": 9,
   "metadata": {},
   "outputs": [
    {
     "data": {
      "text/html": [
       "<div>\n",
       "<style scoped>\n",
       "    .dataframe tbody tr th:only-of-type {\n",
       "        vertical-align: middle;\n",
       "    }\n",
       "\n",
       "    .dataframe tbody tr th {\n",
       "        vertical-align: top;\n",
       "    }\n",
       "\n",
       "    .dataframe thead th {\n",
       "        text-align: right;\n",
       "    }\n",
       "</style>\n",
       "<table border=\"1\" class=\"dataframe\">\n",
       "  <thead>\n",
       "    <tr style=\"text-align: right;\">\n",
       "      <th></th>\n",
       "      <th>Cleaned_Version (new)</th>\n",
       "      <th>Tag (existent)</th>\n",
       "      <th>Other variants (= other existent tags)</th>\n",
       "      <th>German variants (already existent)</th>\n",
       "      <th>Count</th>\n",
       "      <th>German translation</th>\n",
       "      <th>Broader concept</th>\n",
       "      <th>Susanne Cat 1</th>\n",
       "      <th>Susanne Cat 2</th>\n",
       "      <th>Susanne Cat 3</th>\n",
       "      <th>...</th>\n",
       "      <th>new_2</th>\n",
       "      <th>cat_2</th>\n",
       "      <th>new_3</th>\n",
       "      <th>cat_3</th>\n",
       "      <th>new_4</th>\n",
       "      <th>cat_4</th>\n",
       "      <th>new_5</th>\n",
       "      <th>cat_5</th>\n",
       "      <th>new_6</th>\n",
       "      <th>cat_6</th>\n",
       "    </tr>\n",
       "  </thead>\n",
       "  <tbody>\n",
       "    <tr>\n",
       "      <th>0</th>\n",
       "      <td>(semi-)automated generated</td>\n",
       "      <td>(teil-)automatisch generiert</td>\n",
       "      <td>NaN</td>\n",
       "      <td>(teil-)automatisch generiert</td>\n",
       "      <td>4.0</td>\n",
       "      <td>(teil-)automatisch generiert</td>\n",
       "      <td>NaN</td>\n",
       "      <td>NaN</td>\n",
       "      <td>NaN</td>\n",
       "      <td>NaN</td>\n",
       "      <td>...</td>\n",
       "      <td>NaN</td>\n",
       "      <td>NaN</td>\n",
       "      <td>NaN</td>\n",
       "      <td>NaN</td>\n",
       "      <td>NaN</td>\n",
       "      <td>NaN</td>\n",
       "      <td>NaN</td>\n",
       "      <td>NaN</td>\n",
       "      <td>NaN</td>\n",
       "      <td>NaN</td>\n",
       "    </tr>\n",
       "    <tr>\n",
       "      <th>1</th>\n",
       "      <td>NaN</td>\n",
       "      <td>#nosource</td>\n",
       "      <td>NaN</td>\n",
       "      <td>NaN</td>\n",
       "      <td>4.0</td>\n",
       "      <td>NaN</td>\n",
       "      <td>NaN</td>\n",
       "      <td>object-type</td>\n",
       "      <td>resource/tool</td>\n",
       "      <td>topic</td>\n",
       "      <td>...</td>\n",
       "      <td>NaN</td>\n",
       "      <td>NaN</td>\n",
       "      <td>NaN</td>\n",
       "      <td>NaN</td>\n",
       "      <td>NaN</td>\n",
       "      <td>NaN</td>\n",
       "      <td>NaN</td>\n",
       "      <td>NaN</td>\n",
       "      <td>NaN</td>\n",
       "      <td>NaN</td>\n",
       "    </tr>\n",
       "    <tr>\n",
       "      <th>2</th>\n",
       "      <td>medieval england (1066-1485)</td>\n",
       "      <td>1066-1485</td>\n",
       "      <td>NaN</td>\n",
       "      <td>NaN</td>\n",
       "      <td>1.0</td>\n",
       "      <td>1066-1485</td>\n",
       "      <td>NaN</td>\n",
       "      <td>time period</td>\n",
       "      <td>NaN</td>\n",
       "      <td>NaN</td>\n",
       "      <td>...</td>\n",
       "      <td>NaN</td>\n",
       "      <td>NaN</td>\n",
       "      <td>NaN</td>\n",
       "      <td>NaN</td>\n",
       "      <td>NaN</td>\n",
       "      <td>NaN</td>\n",
       "      <td>NaN</td>\n",
       "      <td>NaN</td>\n",
       "      <td>NaN</td>\n",
       "      <td>NaN</td>\n",
       "    </tr>\n",
       "    <tr>\n",
       "      <th>3</th>\n",
       "      <td>NaN</td>\n",
       "      <td>1922</td>\n",
       "      <td>NaN</td>\n",
       "      <td>NaN</td>\n",
       "      <td>1.0</td>\n",
       "      <td>1922</td>\n",
       "      <td>NaN</td>\n",
       "      <td>time period</td>\n",
       "      <td>NaN</td>\n",
       "      <td>NaN</td>\n",
       "      <td>...</td>\n",
       "      <td>NaN</td>\n",
       "      <td>NaN</td>\n",
       "      <td>NaN</td>\n",
       "      <td>NaN</td>\n",
       "      <td>NaN</td>\n",
       "      <td>NaN</td>\n",
       "      <td>NaN</td>\n",
       "      <td>NaN</td>\n",
       "      <td>NaN</td>\n",
       "      <td>NaN</td>\n",
       "    </tr>\n",
       "    <tr>\n",
       "      <th>4</th>\n",
       "      <td>NaN</td>\n",
       "      <td>2001: a space odyssey (film)</td>\n",
       "      <td>NaN</td>\n",
       "      <td>NaN</td>\n",
       "      <td>1.0</td>\n",
       "      <td>NaN</td>\n",
       "      <td>NaN</td>\n",
       "      <td>entity (product)</td>\n",
       "      <td>topic</td>\n",
       "      <td>NaN</td>\n",
       "      <td>...</td>\n",
       "      <td>NaN</td>\n",
       "      <td>NaN</td>\n",
       "      <td>NaN</td>\n",
       "      <td>NaN</td>\n",
       "      <td>NaN</td>\n",
       "      <td>NaN</td>\n",
       "      <td>NaN</td>\n",
       "      <td>NaN</td>\n",
       "      <td>NaN</td>\n",
       "      <td>NaN</td>\n",
       "    </tr>\n",
       "    <tr>\n",
       "      <th>...</th>\n",
       "      <td>...</td>\n",
       "      <td>...</td>\n",
       "      <td>...</td>\n",
       "      <td>...</td>\n",
       "      <td>...</td>\n",
       "      <td>...</td>\n",
       "      <td>...</td>\n",
       "      <td>...</td>\n",
       "      <td>...</td>\n",
       "      <td>...</td>\n",
       "      <td>...</td>\n",
       "      <td>...</td>\n",
       "      <td>...</td>\n",
       "      <td>...</td>\n",
       "      <td>...</td>\n",
       "      <td>...</td>\n",
       "      <td>...</td>\n",
       "      <td>...</td>\n",
       "      <td>...</td>\n",
       "      <td>...</td>\n",
       "      <td>...</td>\n",
       "    </tr>\n",
       "    <tr>\n",
       "      <th>1438</th>\n",
       "      <td>NaN</td>\n",
       "      <td>x-check</td>\n",
       "      <td>NaN</td>\n",
       "      <td>NaN</td>\n",
       "      <td>58.0</td>\n",
       "      <td>NaN</td>\n",
       "      <td>NaN</td>\n",
       "      <td>NaN</td>\n",
       "      <td>NaN</td>\n",
       "      <td>NaN</td>\n",
       "      <td>...</td>\n",
       "      <td>NaN</td>\n",
       "      <td>NaN</td>\n",
       "      <td>NaN</td>\n",
       "      <td>NaN</td>\n",
       "      <td>NaN</td>\n",
       "      <td>NaN</td>\n",
       "      <td>NaN</td>\n",
       "      <td>NaN</td>\n",
       "      <td>NaN</td>\n",
       "      <td>NaN</td>\n",
       "    </tr>\n",
       "    <tr>\n",
       "      <th>1439</th>\n",
       "      <td>extensible markup language (xml)</td>\n",
       "      <td>xml</td>\n",
       "      <td>xml schema</td>\n",
       "      <td>NaN</td>\n",
       "      <td>16.0</td>\n",
       "      <td>XML</td>\n",
       "      <td>NaN</td>\n",
       "      <td>format/standard</td>\n",
       "      <td>NaN</td>\n",
       "      <td>NaN</td>\n",
       "      <td>...</td>\n",
       "      <td>NaN</td>\n",
       "      <td>NaN</td>\n",
       "      <td>NaN</td>\n",
       "      <td>NaN</td>\n",
       "      <td>NaN</td>\n",
       "      <td>NaN</td>\n",
       "      <td>NaN</td>\n",
       "      <td>NaN</td>\n",
       "      <td>NaN</td>\n",
       "      <td>NaN</td>\n",
       "    </tr>\n",
       "    <tr>\n",
       "      <th>1440</th>\n",
       "      <td>year in dh 2008</td>\n",
       "      <td>yearindh2008</td>\n",
       "      <td>NaN</td>\n",
       "      <td>NaN</td>\n",
       "      <td>1.0</td>\n",
       "      <td>DH-Jahr 2008</td>\n",
       "      <td>NaN</td>\n",
       "      <td>NaN</td>\n",
       "      <td>NaN</td>\n",
       "      <td>NaN</td>\n",
       "      <td>...</td>\n",
       "      <td>NaN</td>\n",
       "      <td>NaN</td>\n",
       "      <td>NaN</td>\n",
       "      <td>NaN</td>\n",
       "      <td>NaN</td>\n",
       "      <td>NaN</td>\n",
       "      <td>NaN</td>\n",
       "      <td>NaN</td>\n",
       "      <td>NaN</td>\n",
       "      <td>NaN</td>\n",
       "    </tr>\n",
       "    <tr>\n",
       "      <th>1441</th>\n",
       "      <td>NaN</td>\n",
       "      <td>youth</td>\n",
       "      <td>NaN</td>\n",
       "      <td>NaN</td>\n",
       "      <td>1.0</td>\n",
       "      <td>Jugend</td>\n",
       "      <td>NaN</td>\n",
       "      <td>NaN</td>\n",
       "      <td>NaN</td>\n",
       "      <td>NaN</td>\n",
       "      <td>...</td>\n",
       "      <td>NaN</td>\n",
       "      <td>NaN</td>\n",
       "      <td>NaN</td>\n",
       "      <td>NaN</td>\n",
       "      <td>NaN</td>\n",
       "      <td>NaN</td>\n",
       "      <td>NaN</td>\n",
       "      <td>NaN</td>\n",
       "      <td>NaN</td>\n",
       "      <td>NaN</td>\n",
       "    </tr>\n",
       "    <tr>\n",
       "      <th>1442</th>\n",
       "      <td>NaN</td>\n",
       "      <td>zotero</td>\n",
       "      <td>NaN</td>\n",
       "      <td>NaN</td>\n",
       "      <td>2.0</td>\n",
       "      <td>Zotero</td>\n",
       "      <td>NaN</td>\n",
       "      <td>resource/tool</td>\n",
       "      <td>NaN</td>\n",
       "      <td>NaN</td>\n",
       "      <td>...</td>\n",
       "      <td>NaN</td>\n",
       "      <td>NaN</td>\n",
       "      <td>NaN</td>\n",
       "      <td>NaN</td>\n",
       "      <td>NaN</td>\n",
       "      <td>NaN</td>\n",
       "      <td>NaN</td>\n",
       "      <td>NaN</td>\n",
       "      <td>NaN</td>\n",
       "      <td>NaN</td>\n",
       "    </tr>\n",
       "  </tbody>\n",
       "</table>\n",
       "<p>1443 rows × 31 columns</p>\n",
       "</div>"
      ],
      "text/plain": [
       "                 Cleaned_Version (new)                Tag (existent)  \\\n",
       "0           (semi-)automated generated  (teil-)automatisch generiert   \n",
       "1                                  NaN                     #nosource   \n",
       "2         medieval england (1066-1485)                     1066-1485   \n",
       "3                                  NaN                          1922   \n",
       "4                                  NaN  2001: a space odyssey (film)   \n",
       "...                                ...                           ...   \n",
       "1438                               NaN                       x-check   \n",
       "1439  extensible markup language (xml)                           xml   \n",
       "1440                   year in dh 2008                  yearindh2008   \n",
       "1441                               NaN                         youth   \n",
       "1442                               NaN                        zotero   \n",
       "\n",
       "     Other variants (= other existent tags)  \\\n",
       "0                                       NaN   \n",
       "1                                       NaN   \n",
       "2                                       NaN   \n",
       "3                                       NaN   \n",
       "4                                       NaN   \n",
       "...                                     ...   \n",
       "1438                                    NaN   \n",
       "1439                             xml schema   \n",
       "1440                                    NaN   \n",
       "1441                                    NaN   \n",
       "1442                                    NaN   \n",
       "\n",
       "     German variants (already existent)  Count            German translation  \\\n",
       "0          (teil-)automatisch generiert    4.0  (teil-)automatisch generiert   \n",
       "1                                   NaN    4.0                           NaN   \n",
       "2                                   NaN    1.0                     1066-1485   \n",
       "3                                   NaN    1.0                          1922   \n",
       "4                                   NaN    1.0                           NaN   \n",
       "...                                 ...    ...                           ...   \n",
       "1438                                NaN   58.0                           NaN   \n",
       "1439                                NaN   16.0                           XML   \n",
       "1440                                NaN    1.0                  DH-Jahr 2008   \n",
       "1441                                NaN    1.0                        Jugend   \n",
       "1442                                NaN    2.0                        Zotero   \n",
       "\n",
       "      Broader concept     Susanne Cat 1   Susanne Cat 2 Susanne Cat 3  ...  \\\n",
       "0                 NaN               NaN             NaN           NaN  ...   \n",
       "1                 NaN       object-type  resource/tool          topic  ...   \n",
       "2                 NaN       time period             NaN           NaN  ...   \n",
       "3                 NaN       time period             NaN           NaN  ...   \n",
       "4                 NaN  entity (product)           topic           NaN  ...   \n",
       "...               ...               ...             ...           ...  ...   \n",
       "1438              NaN               NaN             NaN           NaN  ...   \n",
       "1439              NaN   format/standard             NaN           NaN  ...   \n",
       "1440              NaN               NaN             NaN           NaN  ...   \n",
       "1441              NaN               NaN             NaN           NaN  ...   \n",
       "1442              NaN     resource/tool             NaN           NaN  ...   \n",
       "\n",
       "     new_2 cat_2 new_3 cat_3 new_4 cat_4 new_5 cat_5 new_6 cat_6  \n",
       "0      NaN   NaN   NaN   NaN   NaN   NaN   NaN   NaN   NaN   NaN  \n",
       "1      NaN   NaN   NaN   NaN   NaN   NaN   NaN   NaN   NaN   NaN  \n",
       "2      NaN   NaN   NaN   NaN   NaN   NaN   NaN   NaN   NaN   NaN  \n",
       "3      NaN   NaN   NaN   NaN   NaN   NaN   NaN   NaN   NaN   NaN  \n",
       "4      NaN   NaN   NaN   NaN   NaN   NaN   NaN   NaN   NaN   NaN  \n",
       "...    ...   ...   ...   ...   ...   ...   ...   ...   ...   ...  \n",
       "1438   NaN   NaN   NaN   NaN   NaN   NaN   NaN   NaN   NaN   NaN  \n",
       "1439   NaN   NaN   NaN   NaN   NaN   NaN   NaN   NaN   NaN   NaN  \n",
       "1440   NaN   NaN   NaN   NaN   NaN   NaN   NaN   NaN   NaN   NaN  \n",
       "1441   NaN   NaN   NaN   NaN   NaN   NaN   NaN   NaN   NaN   NaN  \n",
       "1442   NaN   NaN   NaN   NaN   NaN   NaN   NaN   NaN   NaN   NaN  \n",
       "\n",
       "[1443 rows x 31 columns]"
      ]
     },
     "execution_count": 9,
     "metadata": {},
     "output_type": "execute_result"
    }
   ],
   "source": [
    "df = pd.read_csv('zotero_keywords.csv')\n",
    "\n",
    "df"
   ]
  },
  {
   "cell_type": "markdown",
   "metadata": {},
   "source": [
    "We will now list all columns with their respective index."
   ]
  },
  {
   "cell_type": "code",
   "execution_count": 10,
   "metadata": {},
   "outputs": [
    {
     "data": {
      "text/plain": [
       "0                      Cleaned_Version (new)\n",
       "1                             Tag (existent)\n",
       "2     Other variants (= other existent tags)\n",
       "3         German variants (already existent)\n",
       "4                                      Count\n",
       "5                         German translation\n",
       "6                            Broader concept\n",
       "7                              Susanne Cat 1\n",
       "8                              Susanne Cat 2\n",
       "9                              Susanne Cat 3\n",
       "10                                Nina Cat 1\n",
       "11                                Nina Cat 2\n",
       "12                              Martin Cat 1\n",
       "13                              Martin Cat 2\n",
       "14                              Martin Cat 3\n",
       "15                            not ger or eng\n",
       "16                                    delete\n",
       "17                            delete_textual\n",
       "18                                     split\n",
       "19                                     new_1\n",
       "20                                     cat_1\n",
       "21                                     new_2\n",
       "22                                     cat_2\n",
       "23                                     new_3\n",
       "24                                     cat_3\n",
       "25                                     new_4\n",
       "26                                     cat_4\n",
       "27                                     new_5\n",
       "28                                     cat_5\n",
       "29                                     new_6\n",
       "30                                     cat_6\n",
       "dtype: object"
      ]
     },
     "execution_count": 10,
     "metadata": {},
     "output_type": "execute_result"
    }
   ],
   "source": [
    "pd.Series(df.columns)"
   ]
  },
  {
   "cell_type": "markdown",
   "metadata": {},
   "source": [
    "Only part of these columns are necessary for our purpose. We can therefore drop some of them to make the processing of the dataframe easier."
   ]
  },
  {
   "cell_type": "code",
   "execution_count": 11,
   "metadata": {},
   "outputs": [],
   "source": [
    "df.drop(df.columns[6:15], axis=1, inplace=True)"
   ]
  },
  {
   "cell_type": "markdown",
   "metadata": {},
   "source": [
    "We will now get a list of all the tags that were in the Zotero library according to the spreadsheet."
   ]
  },
  {
   "cell_type": "markdown",
   "metadata": {},
   "source": [
    "* `Cleaned_Version (new)`: each cells contains only *one* single tag. The separators present here are part of the *same* tag.\n",
    "* `Tag (existent)`: each cell contains one single tag here too.\n",
    "* `Other variants (= other existent tags)`: separators `,` and `;` are used. The problem is that sometimes the separator `,` is part of a single tag. I should have now uniformed all instances, so that `;` is the only separator that is being used *between two tags* (other separators might appear inside a single tag).\n",
    "* `German variants (already existent)`: separator `,` is part of the tag (as in `Architektur,`). One **question** regarding `estadísticas lexicales, lexical statistics`. Are these two separate tags? The second one does not appear in the Zotero library. In any case, for this column we can just specify `;` as separator."
   ]
  },
  {
   "cell_type": "code",
   "execution_count": 12,
   "metadata": {},
   "outputs": [
    {
     "name": "stdout",
     "output_type": "stream",
     "text": [
      "1622\n",
      "['(teil-)automatisch generiert', '#nosource', '1066-1485', '1922', '2001: a space odyssey (film)', '2011', '3d', '550 geowissenschaften', 'abe', 'academia', 'academic', 'academics', 'acceso', 'active learning', 'activism', 'adafruit', 'adam', 'address book', 'administration', 'administration technological innovations', 'advocating', 'africa', 'african american', 'age', 'agenda', 'agora', 'agriculture', 'ailion', 'aims news', 'àlex', 'algorithm design and analysis', 'alphabetisch katalogisieren', 'altered books', 'american', 'american historical association', 'american historical review', 'american history', 'american social history project', 'amerikaanse letterkunde', 'analyse des données', 'analysis', 'analytics', 'analyze qualitatively', 'analyze quantitatively', 'ancient', 'android', 'animation', 'anno 1900-1999', 'annotation', 'annotation system design', 'anthony', 'anthropology', 'anyobject', 'app', 'applications and critiques', 'apportionment', 'arch', 'archaeologicalsites', 'archaeology', 'archetype', 'archimedes', 'architect', 'architectural history', 'architecture', 'archival studies', 'archives', 'archiving', 'archivists', 'aristoteles', 'art / general', 'art history', 'artefacts', 'artificial intelligence', 'artists books', 'arts', 'aspect analysis', 'assessing', 'ästhetik', 'atlanta', 'attitudes', 'attribution of authorship', 'audiences', 'audio', 'aufbruch', 'augsburg', 'ausgedruckt', 'austen, jane - technique', 'australian literature', 'authenticate', 'authority', 'authorship', 'autocad/autolisp', 'automated data collection', 'automatic linguistic analysis', 'automation', 'award', 'awareness', 'ayers, edward l.', 'babel', 'baker-nord', 'beginning', 'bellissimo', 'berlin (hu)', 'berlin (tu)', 'berners-lee, tim', 'bestiaire', 'bible', 'bibliografie', 'bibliographical control', 'bibliography methodology', 'bibliography theory, methods, etc', 'bibliotecas digitales', 'bielefeld', 'big data', 'biography', 'biology', 'blog', 'blogging', 'bochum', 'boekgeschiedenis', 'bomb', 'bonn', 'book', 'book lists', 'book reviews', 'books and literature', 'books in art', 'brain pickings', 'brand, stewart', 'brewster', 'british', 'british library', 'british museum', 'broch, hermann', 'brooklyn (nyc)', 'browsing', 'brute force method', 'building', 'bush, vannevar', 'bushwick (nyc)', 'business', 'business & economics / commerce', 'business & economics / statistics', 'business case', 'business cycles', 'business process', 'byrd', 'byzantine', 'caad', 'cached resources', 'cad', 'california', 'california (southern)', 'campaign finance', 'canada', 'canadian century research infrastructure', 'capture', 'carpettablu2006', 'casa sarmento', 'case', 'case studies', 'categorization', 'catolog', 'census', 'centre for digital humanities', 'césaire aimé', 'chancery letters', 'changes in language over time', 'character discourse', 'characters and characteristics in literature', 'chaucer, geoffrey', 'chemistry', 'christian', 'cidoc-crm', 'circle', 'citation', 'city', 'city planning', 'civil war', 'civilization', 'civilization, medieval, in literature', 'claire warwick', 'classics', 'climate change', 'clinical document architecture', 'clinton, bill', 'clipping', 'cloudfab', 'cluster mining', 'clustering', 'clustering algorithms', 'co-located groups', 'coauthors', 'code', 'codex', 'coding theory', 'cognates', 'cohen', 'colette', 'collaboration', 'collaborative', 'collaborative creation', 'collaborative interpretation', 'collaborative text analysis', 'collaborative text annotation', 'collaborative text editing', 'collation', 'collect', 'collections', 'collectors and collecting', 'college students', 'colleges and universities', 'collocation', 'cologne', 'columbia', 'comics', 'commitment building', 'communication', 'communication in learning and scholarship', 'communication in science', 'communications behavior', 'community', 'community colleges', 'community grid', 'communitybuilding', 'compare', 'compassion', 'competitive intelligence', 'complexity', 'computational linguistic', 'computational methods', 'computer', 'computer graphics', 'computer industry', 'computer mediated communication', 'computer network resources', 'computer networks', 'computer science', 'computer science - artificial intelligence', 'computer science - computation and language', 'computer science - computers and society', 'computer science - digital libraries', 'computer software', 'computer-assisted instruction', 'computer-mediated communication', 'computer-supported cooperative work', 'computer. informatica. automatisering', 'computerarchitectuur. operating systems', 'computers', 'computers / computer science', 'computers / computer vision & pattern recognition', 'computers / data processing', 'computers / databases / data mining', 'computers / databases / general', 'computers / desktop applications / design & graphics', 'computers / electronic publishing', 'computers / expert systems', 'computers / information technology', 'computers / intelligence (ai) & semantics', 'computers / interactive & multimedia', 'computers / natural language processing', 'computers / networking / hardware', 'computers / optical data processing', 'computers / programming / general', 'computers / system administration / storage & retrieval', 'computers and the internet', 'conceptual art', 'conceptualizing', 'conditional random field', 'conferences', 'congress', 'connected', 'connected age', 'connectionism', 'conscientisation', 'consumer', 'contentanalysis', 'contextual exploration', 'contextual feature', 'conversion', 'convolutional and recurrent neural networks', 'convolutional neural networks', 'cooccurrence', 'cool', 'cooperative working method', 'coordination issues', 'core number', 'coreference', 'corobrik', 'corpora', 'corps (philosophie)', 'corpus linguistique', 'corpus stylistics', 'corrélats', 'cosine similarity', 'counter culture', 'creation', 'création (esthétique)', 'creativity', 'crestani, marcus', 'critica del testo', 'critical thinking', 'criticism', 'criticism - data processing', 'criticism, textual congresses', 'criticism, textual handbooks, manuals, etc. y', 'criticism/ data processing', 'critique génétique', 'critique textuelle', 'crowdsourcing', 'cscw', 'cuestiones textuales', 'cultural evolution', 'cultural heritage', 'cultural relations', 'cultural studies', 'culture', 'curators', 'curiosité_perso', 'current population survey', 'curricula', 'customization', 'cv', 'cyberinfrastructure', 'da_it.cult.class_2006', 'darwin, charles, 1809-1882', 'data', 'data anaylsis', 'data bases', 'data collection', 'data extraction', 'data federation', 'data integration', 'data mining', 'data processing', 'data processing computer science', 'data visualization tools', 'data/databases', 'database', 'dataflow', 'datarecognition', 'datenmodellierung', 'david', 'david rumsey', 'dead sea scrolls', 'death penalty', 'deaths (fatalities)', 'deception detection', 'definepolicy', 'delaunay triangulation', 'delpher', 'dense region', 'derrida ,  jacques  ( 1930-2004 )', 'design', 'design implication', 'design theorie', 'designer', 'developing', 'dh 2011 opening keynote', 'dhsi', 'dhsi2009', 'dialects', 'dialogue', 'dickens', 'dictionaries', 'digital', 'digital classicist', 'digital communications', 'digital content', 'digital curation and preservation', 'digital ecosystem', 'digital editing', 'digital editions', 'digital forensic science', 'digital history', 'digital humanities', 'digital lexicography', 'digital libraries', 'digital libraries access control', 'digital library project', 'digital library use', 'digital media', 'digital preservation', 'digital resources', 'digital scholarly editions', 'digital scholarly work', 'digital scholarship', 'digital technology', 'digital text', 'digital+', 'digitale medien', 'digitalhumanities', 'digitisation', 'digitize', 'digitized', 'dimensionality reduction', 'discourseanalysis', 'discovering', 'diskurs analyse - informatik - methoden', 'diskurs analyse - literatur - informatik', 'dissemination', 'distance measure', 'distant reading', 'distributed and interdisciplinary research teams', 'distributed collaborative work', 'distributed proofreading project', 'dlc', 'document clustering', 'document clustering and classification', 'document image processing', 'document layout analysis', 'document preparation and text processing', 'documentaire informatie', 'documentation', 'documents', 'dokumentation', 'domain specific languages', 'donaldson', 'doug', 'drafts', 'drama / shakespeare', 'dubai', 'dublin four courts', 'duitse letterkunde', 'duitsland', 'duke university', 'duquesne university', 'dworak', 'e-journals', 'early california population project', 'early modern, 1500-1700', 'earth sciences', 'ebner, h.', 'ecdotica', 'economic change', 'economic conditions', 'economics', 'edición digital', 'edinburgh', 'edit distance', 'editing', 'édition électronique', 'édition génétique', 'édition numérique', 'édition savante électronique', 'editionswissenschafte', 'editionswissenschaften', 'editor', 'edson', 'education', 'education / research', 'education, higher', 'educational', 'educational policy', 'egan', 'egyptology', 'elections', 'electrical engineering', 'electronic', 'electronic book', 'electronic books and readers', 'electronic data processing', 'electronic information resources', 'electronic lexica', 'electronic mail', 'electronic periodicals', 'electronic publishing', 'electronic records', 'electronic text', 'electronic theses and dissertations', 'electronics', 'elshinnawi', 'emergence', 'emotion', 'encode', 'encoding', 'encoding schemes', 'encountered information', 'encyclopedias', 'end', 'endowment', 'engelse letterkunde', 'england', 'english', 'english literature', 'english literature/ middle english, 1100-1500/ history and criticism', 'enrichment', 'enseignants de français', 'entertainment', 'environmentalism', 'ereignis-modell', 'error analysis', 'erschließungsverfahren', 'essen', 'estadísticas lexicales', 'et les chiens se taisaient', 'etd', 'ethnography', 'étiquetage', 'études francophones', 'europe', 'europeana', 'evaluation', 'eveil de conscience', 'event-model-f', 'event-modell', 'events', 'eventsml', 'évolution', 'evolution (biology)', 'examples', 'exist knowledge base', 'experimental', 'experiments', 'exploration de données', 'expression', 'extraktion', 'facebook', 'faisal', 'feature extraction', 'features', 'federal government', 'fiction', 'fiction - technique', 'field study', 'films', 'filología', 'filologia classica', 'finereader', 'fires and firefighters', 'flights', 'focus', 'for', 'foreign language study / english as a second language', 'forensic sciences', 'formative evaluation', 'forschungsdatenmanagement', 'förtsch, reinhard', 'franco moretti', 'francophonie', 'franse letterkunde', 'frantext', 'frbr', 'free market', 'freedom', 'freedom of speech and expression', 'french literature', 'frequent pattern mining', 'frequent terms', 'from', 'fugitive slaves', 'fun', 'future', 'gadgets', 'games', 'gather', 'gender', 'general', 'generalities', 'generations', 'generic', 'geodh', 'geographic information systems', 'geography', 'geography and history', 'george mason university', 'german literature', 'german studies', 'germany', 'giraudoux, jean (1882-1944) language', 'giraudoux, jean (1882-1944) langue', 'giveoverview', 'global management', 'globalisation', 'goerz', 'google', 'google book search', 'google inc', 'google scholar', 'gospels', 'government', 'government information', 'gradmann, stefan', 'grafische industrie', 'graph invariant', 'graphdatenbanken', 'graz, at', 'greasemonkey', 'great britain', 'greek', 'green', 'greg', 'grid computing', 'groupware', 'guttenbergs william shakespeare stories dataset', 'guy', 'h264', 'hacks', 'hamburg', 'handschriften. epigrafie. paleografie', 'handwriting', 'handwriting recognition', 'handwritten information extraction', 'header', 'heidelberg', 'hellespont', 'heml', 'heritage', 'hgis', 'hierarchical agglomerative clustering algorithm', 'higher education', 'hinojo', 'hipertexto', 'historians', 'historic documents', 'historical accuracy', 'historical background', 'historical census documents', 'historical corpora', 'historical document processing', 'historical geographic information systems', 'historical geography', 'historical research', 'historical sources', 'historical spelling variants', 'historiography', 'history', 'history / australia & new zealand', 'history / europe / great britain', 'history / historical geography', 'history / united states / 20th century', 'history and criticism', 'history matters', 'history sources', 'history study & teaching', 'history teaching', 'höfische dichtung', 'höfische literatur', 'honeysett', 'hss', 'html', 'human geography', 'human-computer interaction', 'humanidades digitales', 'humanisme', 'humanistic', 'humanités numériques', 'humanities', 'humanities computing', 'humanities digital libraries', 'humanity', 'hyperbase', 'hypercities', 'hyperdokument', 'hyperides', 'hypertext', 'hypothesis', 'i059227int1', 'idea finding', 'ideas', 'identifying', 'ifc', 'illinois (chicago)', 'image processing and computer vision', 'image registration', 'image scanners', 'images', 'imaging', 'imitation', 'imitation in literature', 'immersive', 'immunology', 'impeachment', 'imprenta', 'indexing services', 'india', 'indians', 'informatiesystemen', 'information', 'information access', 'information extraction', 'information management', 'information mining', 'information policy', 'information resources management', 'information retrieval', 'information retrieval system', 'information storage and retrieval', 'information storage and retrieval systems', 'information systems applications (incl.internet)', 'information technology', 'information visualization', 'information-rich virtual environments', 'informationsprozess', 'infrastructures', 'inkunabel', 'innovation', 'inspiration', 'institutions', 'integrated public use microdata series', 'intellectual collaboration', 'intellectual property', 'intellectual property analysis', 'intellectual structure', 'intellectuals', 'interaction', 'interconnected', 'interdisciplinariedad', 'interdisciplinarity', 'interdisciplinary approach in education', 'interface', 'interfaces (informatique)', 'intermediate concept', 'internet (review article)', 'internet programming', 'interoperability', 'interpersonal relations', 'interpretation', 'intertextuality', 'intro', 'introductory', 'invalid doi', 'invisibleaustralians', 'ipad', 'iphone', 'irish', 'is teams', 'isin_us30303m1027', 'isin_us38259p5089', 'israel', 'issue 9', 'italian language criticism, textual.', 'italian literature criticism, textual', 'italian philology study and teaching y', 'italian philology. y', 'item', 'ithaka', 'j.5 computer applications: arts and humanities', 'jasim', 'java', 'java script', 'jennifer pahlka', 'jewish studies', 'jgaap', 'jisc', 'johnny cash', 'johnson, andrew', 'journal of american history', 'journal publishing', 'journalism', 'journals', 'json', 'jules verne', 'juxta', 'k-means clustering algorithm', 'kahle', 'kaptur', 'katherine', 'kb lab', 'keynote', 'kiel', 'kippelboy', 'klaeren, herbert', 'knowledge', 'knowledge community', 'knowledge mining', 'koblin', 'kollokation', 'kommunikationsprozess', 'kropač, i.h.', 'la frase', 'la phrase', 'la ponctuation', 'la puntuación', 'lab', 'labor', 'labor history', 'language', 'language arts & disciplines / authorship', 'language arts & disciplines / communication studies', 'language arts & disciplines / general', 'language arts & disciplines / library & information science / archives & special libraries', 'language arts & disciplines / library & information science / general', 'language arts & disciplines / linguistics / general', 'language arts & disciplines / linguistics / semantics', 'language arts & disciplines / linguistics / sociolinguistics', 'language arts & disciplines / literacy', 'language arts & disciplines / publishing', 'language arts & disciplines / rhetoric', 'language arts & disciplines / speech', 'language theory', 'langzeitarchivierung', 'large corpus', 'large displays', 'large lexicon fields', 'latin language criticism, textual.', 'latin text', 'law', 'law / legal history', 'layoutanalyse', 'leadership', 'learned', 'learning', 'learning and scholarship', 'lecture à l’écran', 'lecture distante', 'lemmes', 'letterkunde', 'letterkunde: auteurs', 'letters', 'lexical item', 'lexical studies', 'lexicométrie', 'lexicon', 'liberte', 'librarians, academic', 'libraries', 'libraries (academic)', 'libraries and librarians', 'library and information sciences', 'library science', 'life-cyle', 'lifestyle', 'lightning', 'lincoln', 'linear discriminant analysis', 'linguistic category', 'linguistics', 'linguistique', 'linguistique de corpus', 'linguistique informatique', 'linguistique systémique fonctionnelle', 'linux', 'literaire semiotiek', 'literary criticism', 'literary criticism / american / general', 'literary criticism / ancient & classical', 'literary criticism / australian & oceanian', 'literary criticism / books & reading', 'literary criticism / european / english, irish, scottish, welsh', 'literary criticism / european / german', 'literary criticism / medieval', 'literary criticism / reference', 'literary criticism / semiotics & theory', 'literary criticism / shakespeare', 'literary criticism / women authors', 'literary transformation', 'literary transmission', 'literature', 'literature publishing', 'literaturwissenschaft', 'littérature', 'littérature et informatique', 'littérature française', 'littérature française 19e siècle thèmes, motifs', 'littérature française commentaire de texte', 'little bits', 'livingstone', 'livres numériques', 'locality sensitive hashing', 'lode', 'logiciel txm', 'logik', 'logométrie', 'london', 'longitudinal case study', 'lori', 'love stories, english', 'love stories, english - history and criticism', 'love stories, english/ history and criticism', 'luther', 'machinelearning', 'mahony, simon', 'maker movement', 'makerbot', 'makers', 'management', 'mann ohne eigenschaften', 'manuscript transmission', 'manuscripts', 'manuscrit', 'mapping', 'maps', 'maria popova', 'markovchains', 'markup language', 'martin', 'maryland (rockville)', 'mass media', 'massacommunicatie', 'math', 'mathematics / discrete mathematics', 'mathematics / probability & statistics / general', 'maximum entropy model', 'mcanulty college', 'mcn', 'media', 'media studies', 'médias', 'médias numériques', 'mediavision', 'mediävistik', 'medicine', 'medieval', 'medieval documents', 'meeting support tools', 'mei', 'melissa', 'melissaterras', 'melody', 'mémoire', 'memory', 'merete', 'message', 'metadata', 'metamodel', 'methodology', 'methods', 'micah', 'michael', 'middle english, 1100-1500', 'million', 'mind-mapping', 'minería de datos', 'minnesota, university of (minnesota population center)', 'miscellanea', 'missions and missionaries', 'mit', 'mittelhochdeutsch', 'mmogs', 'mobile device', 'modeling', 'modelo', 'modern', 'modernism (literature)', 'moermond', 'more', 'morent, stefan', 'mots', 'mukomuc', 'multimedia information systems', 'multiplayer games', 'multispectral', 'münchen', 'münster (wwu)', 'murphy', 'musesocial', 'musetech', 'museums', 'music', 'music / genres & styles / rap & hip hop', 'musicology', 'musil, robert', 'named events', 'namedentities', 'namedentityrecognition', 'names', 'narration', 'narrative', 'narratology', 'national', 'national endowment', 'national historical geographic information system', 'natural language processing', 'neal', 'neal stimler', 'neh', 'neighborhood graph', 'neoliberalism', 'network', 'network analysis', 'network analysis (planning)', 'network science', 'netz', 'neue medien', 'neural networks', 'new', 'new york city', 'newmedia', 'news', 'newspapers', 'nhsmukomuc', 'nicole', 'nietzsche', 'nik', 'no', 'nolli', 'norfolk (va.)', 'nouvelles technologies', 'now', 'numérique', 'numérisation', 'nußbaum, norbert', 'o-methods', 'oberlin college', 'object', 'occupational mobility', 'of', 'office', 'office of digital humanities', 'omnibus', 'online collection', 'online database', 'online discussion', 'online games', 'online information', 'online resource', 'onlinecontent', 'onomastics', 'ontario (south-central)', 'ontologies', 'open access', 'open educational resources', 'open source', 'opprime', 'optical character recognition', 'ordnungsprinzip', 'organisational culture', 'organisational structure', 'organizing', 'osnabrück', 'outline of american history', 'outsource', 'owl', 'p5', 'palaeography', 'palimpsest', 'paper', 'paper quality', 'paradigmatic relation', 'parameters', 'parody', 'part', 'patchwork', 'patent information', 'pathfinder networks', 'patrick juola', 'pattern clustering', 'pattern finding', 'pca', 'pedagogie', 'pedagogy', 'pennsylvania (franklin county)', 'pennsylvania state university', 'periodicals', 'person name disambiguation', 'personal digital assistants', 'personal narratives', 'persons', 'phillips', 'philosophical', 'philosophy', 'philosophy / criticism', 'phonetic alignment', 'phonetic similarity', 'photographs', 'photography', 'physical book', 'physics', 'pittsburgh', 'play', 'plot', 'poetry / european / english, irish, scottish, welsh', 'poetry, modern', 'point cloud', 'polar fact', 'police report', 'political campaigns (gubernatorial)', 'political science', 'political science / civil rights', 'politics', 'polynomialverteilung', 'ponoko', 'population', 'pq2613.i74. z5624 1976', 'pq79. .e77', 'pragmatiek', 'preservation', 'prickman', 'primarily history project', 'print culture', 'print_on_demand', 'printed word anchors', 'prise de conscience', 'privacy', 'probability', 'processus de création', 'product', 'product review', 'production blocking', 'produkt model,', 'programming', 'project', 'project gutenberg', 'projectmanagement', 'psychology', 'public', 'publication lists', 'publications', 'publishers and publishing', 'publishing', 'publishing tools', 'punctuation', 'q&a', 'qualitative studies', 'query expansion', 'query term', 'query/retrieve', 'question', 'quilting', 'r', 'race', 'rdf', 'reading', 'real-time distributed groupware', 'recessions', 'recherchesysteme', 'récits de voyages français 19e siècle histoire et critique', 'record-keeping', 'recordsearch', 'recovery', 'recurrent neural networks', 'reelwow', 'reflect', 'reform', 'regensburg', 'registration algorithm', 'regular expression', 'relational archaeology', 'relationalanalysis', 'relationships', 'religion', 'remix', 'reorganization', 'repositories', 'requirements analysis', 'research', 'research design', 'researchresults', 'reside', 'resource sharing', 'responsibility', 'retail', 'reuse', 'reviel', 'reviews', 'revolution', 'rhetoric', 'ritterdichtung', 'romance philology', 'rome', 'root concept', 'rosenzweig, roy (obituary)', 'ryan', 'saggi', 'sanderhoff', 'sanskrit literature', 'saylor', 'schlafwandler', 'schmitz, wolfgang', 'scholarly communications', 'scholarly electronic publishing', 'scholarship', 'school integration', 'schools', 'science', 'science / earth sciences / geography', 'science / philosophy & social aspects', 'science & the humanities', 'science fiction', 'sciences humaines', 'scientific community', 'scientific knowledge', 'scientific transformation', 'scmuc12', 'search engine', 'secondary education', 'sem', 'semantic classis', 'semantic relation', 'semantic spatial web', 'semantic web', 'semantics', 'semisupervised learning', 'senate', 'sensible city', 'sentence length', 'sentiment analysis', 'sgml', 'shamela (book)', 'shapeways', 'sharing', 'sheep', 'sheetmusic', 'sherry turkle', 'short messaging service', 'simon', 'simulate', 'simulation and games', 'slabspatialvid', 'slavery', 'slaves', 'small lexicon fields', 'sociability', 'social', 'social aspects', 'social aspects methodology', 'social conditions', 'social edition', 'social isolation', 'social media', 'social networks', 'social science / ethnic studies / african american studies', 'social science / gender studies', 'social science / media studies', 'social science / popular culture', 'social science / sociology / general', 'social science / sociology / marriage & family', 'social science / womens studies', 'social sciences', 'social ties', 'sociology', 'software', 'south', 'south carolina', 'space', 'spatial humanities', 'spatial information geographic information systems', 'spectral', 'speculation', 'speech in literature', 'speichermedien', 'spelling variation', 'sptial', 'stand-off markup', 'standage', 'standards', 'statistical analysis', 'statistical analysis tool', 'statistics', 'statistique', 'statistique lexicale', 'statistique lexicale informatique', 'statistiques lexicales', 'stemmatology', 'stemming', 'stephen marche', 'stimler', 'stop words', 'storage', 'story', 'storytelling', 'strategic content alliance', 'string similarity', 'structural features', 'structuralanalysis', 'student', 'study and teaching', 'study of hebrew', 'stuttgart', 'style', 'stylisticanalysis', 'stylistics', 'stylometry', 'subscriptions', 'success', 'successful people', 'suggestions for future', 'surface', 'surveys', 'suspended quotation', 'sustainability', 'syracuse university', 'system theory', 't-pen', 'tagging', 'talks', 'tanner', 'taxonomic structure', 'teachers', 'teaching', 'teaching resources', 'teaching/learning', 'technological innovations', 'technological progress', 'technology', 'technology (applied sciences)', 'technology & engineering / remote sensing & geographic information systems', 'ted', 'ted talks', 'ted2012', 'tedx', 'tedxvancouver', 'tei', 'temporale relationen', 'tenure', 'term extraction', 'terras', 'tesseract', 'text analysis', 'text data', 'text encoding', 'text material', 'text mining', 'text processing (computer science)', 'text-based scholarship', 'textbooks', 'textbooks (review article)', 'textgenese', 'textgrid project', 'textométrie', 'texts', 'textual criticism', 'textual editing', 'textual transmission', 'tf - idf', 'thaller, manfred', 'the', 'the economist', 'the event ontology', 'the sentence', 'thématique', 'theology', 'theorizing', 'thesis', 'thesis (ma level)', 'thesis (phd level)', 'thingiverse', 'third places', 'timeline', 'todd presner', 'todo', 'tom', 'tom standage', 'tool-entwicklung', 'tools', 'top', 'topic modeling', 'toponym disambiguation', 'touromeka', 'traduction', 'training set construction', 'transcription', 'transfer learning', 'transgender and transsexual', 'transmission of texts', 'transtextuality', 'travel / general', 'treasures', 'trends', 'trials', 'trinity college', 'true teller', 'trust', 'trust building', 'trusted repositories', 'tübingen', 'tübingen (eberhard karls universität)', 'twitter', 'uae', 'übersicht event-modelle', 'ubuntu 12.04 lts linux operating system', 'ucl', 'ucl lunch hour lectures', 'uncategorized', 'united states', 'united states social life & customs to 1775', 'universities', 'university of iowa', 'university presses', 'unread', 'uppsala, s', 'us census', 'usability', 'usage', 'user', 'user interface', 'user testing', 'userscript', 'utrecht, nl', 'vandegrift', 'variants', 'vasi', 'video', 'virginia', 'virginia (augusta county)', 'virginia polytechnic institute and state university', 'virtual collaboration', 'virtual communities', 'virtual corpus', 'virtual organisations', 'virtual teams', 'virtual visitors', 'virtual working', 'virtuelle foschungsumgebung', 'visual', 'visual aids', 'visualisation de données', 'visualize', 'voa', 'vol. 2, no. 1 winter 2012', 'vook', 'vos', 'voyages dans la littérature', 'vulgate', 'wach, howard m.', 'watermarks', 'we', 'web', 'web mapping, internet, map-based online system, mapserver', 'web site development', 'web sites', 'web-mapping, internet, kartenserver', 'what', 'where', 'white australia', 'whole earth catalog', 'why', 'widescreen', 'wikipedia', 'wikipedia_as_model', 'wikipedia_as_subject', 'wikipedia_critique', 'wikipedia_mixedview', 'wikipedia_pedagogy', 'wikis', 'wits', 'womens history', 'word association', 'word class', 'workflow', 'world', 'world history', 'world wide web', 'writing', 'writing saving  <br> citations zotero library research guides', 'written communication', 'x_astree', 'x-check', 'xml', 'yearindh2008', 'youth', 'zotero', 'earth sciences', 'academics', 'scholars', 'scholars', 'analyzequalitatively', 'annotating', 'annotate', 'arts', 'the arts', 'artifacts', 'the arts', 'assess', 'collaborating', 'collaborate', 'comic books', 'communicating', 'communications', 'dm_compling', 'computers', 'computers / general', 'computer-mediated communication', 'computer programs', 'computers / general', 'conceptualize', 'cooccurrences', 'co-occurrences', 'corpus (recherche)', 'create', 'criticism/ data processing', 'crowdsource', 'crowd source', 'cves', 'data/databases', 'database', 'databases', 'minería de datos', 'databases', 'digital edition', 'digital hmanities', 'digitalhumanities', 'humanidades digitales', 'digital library', 'digitize', 'digitized', 'digitized', 'education / higher', 'higher education', 'higher ed', 'encoding', 'endowment of research', 'enrich', 'experiment', 'film', 'french literature', 'liberty', 'google inc.', 'hcr', 'higher ed', 'education, higher', 'history research', 'historical source', 'science / history', 'history / general', 'image', 'picture', 'informationretrieval', 'infrastructure', 'inspire', 'interactive', 'interdisciplinariedad', 'interfaces (informatique)', 'interpret', 'invisibleaustralians', 'javascript', 'library', 'literary criticism / general', 'literary transmission n', 'littlebits', 'manuscript transmission n', 'manuscript', 'manuscrit', 'handschriften. epigrafie. paleografie', 'mathematics / general', 'method', 'modelling', 'ner', 'name entity recognition', 'entity recognition', 'names, personal', 'nlp', 'networkanalysis', 'odh', 'openaccess', 'open-source', 'ocr', 'paleography', 'handschriften. epigrafie. paleografie', 'people', 'science / physics / general', 'lists of publications', 'read', 'recurrent neural nets', 'review', 'romance philology y', 'scholarships', 'sciences', 'search engines', 'semantic geospatial web', 'senseable city', 'sentimentanalysis', 'share', 'social media.', 'social scienes', 'social science', 'social science / research', 'social science / general', 'analyzestatistically', 'estadísticas lexicales', 'survey', 'teaching aids and devices', 'ted talk', 'tedtalk', 'tedtalks', 'text mining (information retrieval)', 'text', 'criticism, textual', 'criticism, textual y', 'textual criticism n', 'criticism, textual. y', 'textual transmission n', 'tool', 'tool-suite', 'humanities topic modeling', 'topic modelling', 'topicmodeling', 'transmission of texts y', 'university', 'usages', 'virtual teams.', 'vres', 'visualizing', 'visualization', 'internet', 'web 2.0', 'www', 'xml schema', '(teil-)automatisch generiert', 'anthropologie', 'archäologie', 'architektur,', 'kunst', 'kommunikation', 'gemeinschaft', 'computerlinguistik', 'korpus <linguistik>', 'digitale edition', 'diskurs analyse', 'dokumentation', 'editionswissenschafte', 'geschichtswissenschaft', 'geisteswissenschaften', 'hypertextdokument', 'linguistik', 'literaturwissenschaften', 'mittelalterforschung', 'medizin', 'metadaten', 'mittelhochdeutsche sprache', 'museum', 'museen', 'musikwissenschaft', 'ontologie', 'ontologie (top-level)', 'optische zeichenerkennung', 'philosophie', 'wissenschaftliche gemeinschaft', 'wissenschaftsgemeinschaft', 'wissenschaftliche fachgemeinschaft', 'visualisierung']\n"
     ]
    }
   ],
   "source": [
    "tags_spreadsheet = []\n",
    "\n",
    "# Tag (existent)\n",
    "tags_spreadsheet.extend(df.iloc[:,1].dropna().values.tolist())\n",
    "# Other variants (= other existent tags)\n",
    "tags_spreadsheet.extend([item for sublist in df.iloc[:,2].dropna().apply(lambda x: x.split('; ')).values.tolist() for item in sublist])\n",
    "# German variants (already existent)\n",
    "tags_spreadsheet.extend([item for sublist in df.iloc[:,3].dropna().apply(lambda x: x.split('; ')).values.tolist() for item in sublist])\n",
    "\n",
    "print(len(tags_spreadsheet))\n",
    "print(tags_spreadsheet)"
   ]
  },
  {
   "cell_type": "markdown",
   "metadata": {},
   "source": [
    "Therefore, the tags retrived from Zotero are **1824**, while those retrived from the spreadsheet are **1625**. This means there are *at least* **199** non-corresponding tags between the two lists."
   ]
  },
  {
   "cell_type": "markdown",
   "metadata": {},
   "source": [
    "## Check duplicates in Zotero tags"
   ]
  },
  {
   "cell_type": "markdown",
   "metadata": {},
   "source": [
    "Before performing any comparison between the two lists, we will check if there are any duplicates in the list downloaded from Zotero (we will take the `/tags` list as reference). Here is an example of how the entry for a tag is constructed."
   ]
  },
  {
   "cell_type": "code",
   "execution_count": 13,
   "metadata": {},
   "outputs": [
    {
     "data": {
      "text/plain": [
       "{'tag': '_TODO',\n",
       " 'links': {'self': {'href': 'https://api.zotero.org/groups/4822236/tags/_TODO',\n",
       "   'type': 'application/json'},\n",
       "  'alternate': {'href': 'http://zotero.org/groups/4822236/tags/_TODO',\n",
       "   'type': 'text/html'}},\n",
       " 'meta': {'type': 0, 'numItems': 3}}"
      ]
     },
     "execution_count": 13,
     "metadata": {},
     "output_type": "execute_result"
    }
   ],
   "source": [
    "tags[0]"
   ]
  },
  {
   "cell_type": "code",
   "execution_count": 14,
   "metadata": {},
   "outputs": [
    {
     "name": "stdout",
     "output_type": "stream",
     "text": [
      "Number of duplicates:  84\n",
      "==========================\n",
      "big data\n",
      "Technology\n",
      "social\n",
      "Electronic data processing\n",
      "EDUCATION\n",
      "digital\n",
      "Arts\n",
      "Methodology\n",
      "Colleges and Universities\n",
      "ideas\n",
      "Classics\n",
      "TEDTalks\n",
      "NEH\n",
      "Art / General\n",
      "scholarship\n",
      "Information access\n",
      "History Teaching\n",
      "office of digital humanities\n",
      "Civilization\n",
      "Data\n",
      "Vol. 2, No. 1 Winter 2012\n",
      "Humanities\n",
      "sustainability\n",
      "Media\n",
      "TEACHING\n",
      "Collaboration\n",
      "Hypertext\n",
      "Research\n",
      "ODH\n",
      "World history\n",
      "Canada\n",
      "topic modeling\n",
      "Biology\n",
      "History\n",
      "annotation\n",
      "Boekgeschiedenis\n",
      "Distant Reading\n",
      "Digital libraries\n",
      "method\n",
      "Technological innovations\n",
      "humanidades digitales\n",
      "Text Mining\n",
      "Open Access\n",
      "Philosophy\n",
      "digital humanities\n",
      "Social Science / Media Studies\n",
      "Uncategorized\n",
      "Manuscripts\n",
      "⚠️ Invalid DOI\n",
      "Electronic records\n",
      "George Mason University\n",
      "XML\n",
      "cultural studies\n",
      "Design\n",
      "Internet\n",
      "JISC\n",
      "Electronic publishing\n",
      "research\n",
      "national endowment\n",
      "Documents\n",
      "Grafische industrie\n",
      "text mining\n",
      "American history\n",
      "TEI\n",
      "Letterkunde\n",
      "Historians\n",
      "educational\n",
      "Statistics\n",
      "Software\n",
      "Music\n",
      "Franse letterkunde\n",
      "imaging\n",
      "Education\n",
      "Digital Humanities\n",
      "Historiography\n",
      "Information technology\n",
      "Computers\n",
      "Historical sources\n",
      "/unread\n",
      "Information Retrieval\n",
      "Library\n",
      "lightning\n",
      "TED\n",
      "NLP\n"
     ]
    }
   ],
   "source": [
    "seen = set()\n",
    "duplicate_labels = set()\n",
    "\n",
    "for tag in tags:\n",
    "    label = tag[\"tag\"]\n",
    "    if label not in seen:\n",
    "        seen.add(label)\n",
    "    else:\n",
    "        duplicate_labels.add(label)\n",
    "\n",
    "print(\"Number of duplicates: \", str(len(duplicate_labels)))\n",
    "print(\"==========================\")\n",
    "for duplicate in duplicate_labels:\n",
    "    print(duplicate)"
   ]
  },
  {
   "cell_type": "code",
   "execution_count": 15,
   "metadata": {},
   "outputs": [
    {
     "name": "stdout",
     "output_type": "stream",
     "text": [
      "168\n"
     ]
    }
   ],
   "source": [
    "duplicates = []\n",
    "\n",
    "for tag in tags:\n",
    "    tag_dict = {}\n",
    "    if tag[\"tag\"] in duplicate_labels:\n",
    "        tag_dict = {\"tag\": tag[\"tag\"],\n",
    "                    \"type\": tag[\"meta\"][\"type\"],\n",
    "                    \"numItems\": tag[\"meta\"][\"numItems\"],\n",
    "                    \"url_api\": tag[\"links\"][\"self\"][\"href\"],\n",
    "                    \"url_gui\": tag[\"links\"][\"alternate\"][\"href\"]}\n",
    "        duplicates.append(tag_dict)\n",
    "\n",
    "print(len(duplicates))"
   ]
  },
  {
   "cell_type": "code",
   "execution_count": 16,
   "metadata": {},
   "outputs": [
    {
     "data": {
      "text/html": [
       "<div>\n",
       "<style scoped>\n",
       "    .dataframe tbody tr th:only-of-type {\n",
       "        vertical-align: middle;\n",
       "    }\n",
       "\n",
       "    .dataframe tbody tr th {\n",
       "        vertical-align: top;\n",
       "    }\n",
       "\n",
       "    .dataframe thead th {\n",
       "        text-align: right;\n",
       "    }\n",
       "</style>\n",
       "<table border=\"1\" class=\"dataframe\">\n",
       "  <thead>\n",
       "    <tr style=\"text-align: right;\">\n",
       "      <th></th>\n",
       "      <th>tag</th>\n",
       "      <th>type</th>\n",
       "      <th>numItems</th>\n",
       "      <th>url_api</th>\n",
       "      <th>url_gui</th>\n",
       "    </tr>\n",
       "  </thead>\n",
       "  <tbody>\n",
       "    <tr>\n",
       "      <th>0</th>\n",
       "      <td>/unread</td>\n",
       "      <td>0</td>\n",
       "      <td>6</td>\n",
       "      <td>https://api.zotero.org/groups/4822236/tags/%2F...</td>\n",
       "      <td>http://zotero.org/groups/4822236/tags/%2Funread</td>\n",
       "    </tr>\n",
       "    <tr>\n",
       "      <th>1</th>\n",
       "      <td>/unread</td>\n",
       "      <td>1</td>\n",
       "      <td>433</td>\n",
       "      <td>https://api.zotero.org/groups/4822236/tags/%2F...</td>\n",
       "      <td>http://zotero.org/groups/4822236/tags/%2Funread</td>\n",
       "    </tr>\n",
       "    <tr>\n",
       "      <th>2</th>\n",
       "      <td>⚠️ Invalid DOI</td>\n",
       "      <td>1</td>\n",
       "      <td>5</td>\n",
       "      <td>https://api.zotero.org/groups/4822236/tags/%E2...</td>\n",
       "      <td>http://zotero.org/groups/4822236/tags/%E2%9A%A...</td>\n",
       "    </tr>\n",
       "    <tr>\n",
       "      <th>3</th>\n",
       "      <td>⚠️ Invalid DOI</td>\n",
       "      <td>0</td>\n",
       "      <td>1</td>\n",
       "      <td>https://api.zotero.org/groups/4822236/tags/%E2...</td>\n",
       "      <td>http://zotero.org/groups/4822236/tags/%E2%9A%A...</td>\n",
       "    </tr>\n",
       "    <tr>\n",
       "      <th>4</th>\n",
       "      <td>American history</td>\n",
       "      <td>0</td>\n",
       "      <td>2</td>\n",
       "      <td>https://api.zotero.org/groups/4822236/tags/Ame...</td>\n",
       "      <td>http://zotero.org/groups/4822236/tags/American...</td>\n",
       "    </tr>\n",
       "    <tr>\n",
       "      <th>...</th>\n",
       "      <td>...</td>\n",
       "      <td>...</td>\n",
       "      <td>...</td>\n",
       "      <td>...</td>\n",
       "      <td>...</td>\n",
       "    </tr>\n",
       "    <tr>\n",
       "      <th>163</th>\n",
       "      <td>Vol. 2, No. 1 Winter 2012</td>\n",
       "      <td>1</td>\n",
       "      <td>1</td>\n",
       "      <td>https://api.zotero.org/groups/4822236/tags/Vol...</td>\n",
       "      <td>http://zotero.org/groups/4822236/tags/Vol.+2%2...</td>\n",
       "    </tr>\n",
       "    <tr>\n",
       "      <th>164</th>\n",
       "      <td>World history</td>\n",
       "      <td>0</td>\n",
       "      <td>1</td>\n",
       "      <td>https://api.zotero.org/groups/4822236/tags/Wor...</td>\n",
       "      <td>http://zotero.org/groups/4822236/tags/World+hi...</td>\n",
       "    </tr>\n",
       "    <tr>\n",
       "      <th>165</th>\n",
       "      <td>World history</td>\n",
       "      <td>1</td>\n",
       "      <td>1</td>\n",
       "      <td>https://api.zotero.org/groups/4822236/tags/Wor...</td>\n",
       "      <td>http://zotero.org/groups/4822236/tags/World+hi...</td>\n",
       "    </tr>\n",
       "    <tr>\n",
       "      <th>166</th>\n",
       "      <td>XML</td>\n",
       "      <td>0</td>\n",
       "      <td>9</td>\n",
       "      <td>https://api.zotero.org/groups/4822236/tags/XML</td>\n",
       "      <td>http://zotero.org/groups/4822236/tags/XML</td>\n",
       "    </tr>\n",
       "    <tr>\n",
       "      <th>167</th>\n",
       "      <td>XML</td>\n",
       "      <td>1</td>\n",
       "      <td>1</td>\n",
       "      <td>https://api.zotero.org/groups/4822236/tags/XML</td>\n",
       "      <td>http://zotero.org/groups/4822236/tags/XML</td>\n",
       "    </tr>\n",
       "  </tbody>\n",
       "</table>\n",
       "<p>168 rows × 5 columns</p>\n",
       "</div>"
      ],
      "text/plain": [
       "                           tag  type  numItems  \\\n",
       "0                      /unread     0         6   \n",
       "1                      /unread     1       433   \n",
       "2               ⚠️ Invalid DOI     1         5   \n",
       "3               ⚠️ Invalid DOI     0         1   \n",
       "4             American history     0         2   \n",
       "..                         ...   ...       ...   \n",
       "163  Vol. 2, No. 1 Winter 2012     1         1   \n",
       "164              World history     0         1   \n",
       "165              World history     1         1   \n",
       "166                        XML     0         9   \n",
       "167                        XML     1         1   \n",
       "\n",
       "                                               url_api  \\\n",
       "0    https://api.zotero.org/groups/4822236/tags/%2F...   \n",
       "1    https://api.zotero.org/groups/4822236/tags/%2F...   \n",
       "2    https://api.zotero.org/groups/4822236/tags/%E2...   \n",
       "3    https://api.zotero.org/groups/4822236/tags/%E2...   \n",
       "4    https://api.zotero.org/groups/4822236/tags/Ame...   \n",
       "..                                                 ...   \n",
       "163  https://api.zotero.org/groups/4822236/tags/Vol...   \n",
       "164  https://api.zotero.org/groups/4822236/tags/Wor...   \n",
       "165  https://api.zotero.org/groups/4822236/tags/Wor...   \n",
       "166     https://api.zotero.org/groups/4822236/tags/XML   \n",
       "167     https://api.zotero.org/groups/4822236/tags/XML   \n",
       "\n",
       "                                               url_gui  \n",
       "0      http://zotero.org/groups/4822236/tags/%2Funread  \n",
       "1      http://zotero.org/groups/4822236/tags/%2Funread  \n",
       "2    http://zotero.org/groups/4822236/tags/%E2%9A%A...  \n",
       "3    http://zotero.org/groups/4822236/tags/%E2%9A%A...  \n",
       "4    http://zotero.org/groups/4822236/tags/American...  \n",
       "..                                                 ...  \n",
       "163  http://zotero.org/groups/4822236/tags/Vol.+2%2...  \n",
       "164  http://zotero.org/groups/4822236/tags/World+hi...  \n",
       "165  http://zotero.org/groups/4822236/tags/World+hi...  \n",
       "166          http://zotero.org/groups/4822236/tags/XML  \n",
       "167          http://zotero.org/groups/4822236/tags/XML  \n",
       "\n",
       "[168 rows x 5 columns]"
      ]
     },
     "execution_count": 16,
     "metadata": {},
     "output_type": "execute_result"
    }
   ],
   "source": [
    "duplicates_df = pd.DataFrame.from_dict(duplicates)\n",
    "duplicates_df"
   ]
  },
  {
   "cell_type": "markdown",
   "metadata": {},
   "source": [
    "As one can see here, there are several \"apparent\" duplicates. The same tag can be found once with `type = 0`, once with `type = 1`. `type = 1` means that the tag was added automatically when the item was imported into the Zotero library. The counts for `type = 0` and `type = 1` are different, but when added together they sum up to the count found for each tag in the web GUI."
   ]
  },
  {
   "cell_type": "markdown",
   "metadata": {},
   "source": [
    "Let's create a new list of tags from Zotero without duplicates. We will then use the list for the purpose of comparison with the spreadsheet list."
   ]
  },
  {
   "cell_type": "code",
   "execution_count": 17,
   "metadata": {},
   "outputs": [
    {
     "name": "stdout",
     "output_type": "stream",
     "text": [
      "1824\n",
      "1740\n",
      "84 duplicates removed\n"
     ]
    }
   ],
   "source": [
    "print(len(tags_list))\n",
    "tags_Zotero_dedup = list(set(tags_list))\n",
    "print(len(tags_Zotero_dedup))\n",
    "print(len(tags_list)-len(tags_Zotero_dedup), \"duplicates removed\")"
   ]
  },
  {
   "cell_type": "markdown",
   "metadata": {},
   "source": [
    "## Check duplicates in spreadsheet tags"
   ]
  },
  {
   "cell_type": "code",
   "execution_count": 18,
   "metadata": {},
   "outputs": [
    {
     "name": "stdout",
     "output_type": "stream",
     "text": [
      "Tags that appear more than once: 31\n",
      "====================================\n",
      "(teil-)automatisch generiert [Count: 2]\n",
      "academics [Count: 2]\n",
      "arts [Count: 2]\n",
      "computer-mediated communication [Count: 2]\n",
      "computers [Count: 2]\n",
      "criticism/ data processing [Count: 2]\n",
      "data/databases [Count: 2]\n",
      "database [Count: 2]\n",
      "digitalhumanities [Count: 2]\n",
      "digitize [Count: 2]\n",
      "digitized [Count: 3]\n",
      "dokumentation [Count: 2]\n",
      "earth sciences [Count: 2]\n",
      "editionswissenschafte [Count: 2]\n",
      "education, higher [Count: 2]\n",
      "encoding [Count: 2]\n",
      "estadísticas lexicales [Count: 2]\n",
      "french literature [Count: 2]\n",
      "handschriften. epigrafie. paleografie [Count: 3]\n",
      "higher education [Count: 2]\n",
      "humanidades digitales [Count: 2]\n",
      "interdisciplinariedad [Count: 2]\n",
      "interfaces (informatique) [Count: 2]\n",
      "invisibleaustralians [Count: 2]\n",
      "manuscrit [Count: 2]\n",
      "minería de datos [Count: 2]\n",
      "scholars [Count: 2]\n",
      "the arts [Count: 2]\n",
      "computers / general [Count: 2]\n",
      "databases [Count: 2]\n",
      "higher ed [Count: 2]\n"
     ]
    }
   ],
   "source": [
    "from collections import Counter\n",
    "counter = Counter(tags_spreadsheet)\n",
    "duplicates_spreadsheet = {tag: count for tag, count in counter.items() if count > 1}\n",
    "print(\"Tags that appear more than once:\", len(duplicates_spreadsheet))\n",
    "print(\"====================================\")\n",
    "for tag, count in duplicates_spreadsheet.items():\n",
    "    print(tag, \"[Count: \" + str(count) + \"]\") "
   ]
  },
  {
   "cell_type": "markdown",
   "metadata": {},
   "source": [
    "Let's now delete the duplicates from the list."
   ]
  },
  {
   "cell_type": "code",
   "execution_count": 19,
   "metadata": {},
   "outputs": [
    {
     "name": "stdout",
     "output_type": "stream",
     "text": [
      "1622\n",
      "1589\n",
      "33 duplicates removed\n"
     ]
    }
   ],
   "source": [
    "print(len(tags_spreadsheet))\n",
    "tags_spreadsheet_dedup = list(set(tags_spreadsheet))\n",
    "print(len(tags_spreadsheet_dedup))\n",
    "print(len(tags_spreadsheet)-len(tags_spreadsheet_dedup), \"duplicates removed\")"
   ]
  },
  {
   "cell_type": "markdown",
   "metadata": {},
   "source": [
    "We now have two lists, `tags_Zotero_dedup` and `tags_spreadsheet_dedup`, which we can use for comparison."
   ]
  },
  {
   "cell_type": "markdown",
   "metadata": {},
   "source": [
    "## Compare Zotero and spreadsheet tags"
   ]
  },
  {
   "cell_type": "markdown",
   "metadata": {},
   "source": [
    "Let's get a summary of the number of elements in both lists."
   ]
  },
  {
   "cell_type": "code",
   "execution_count": 20,
   "metadata": {},
   "outputs": [
    {
     "name": "stdout",
     "output_type": "stream",
     "text": [
      "1740\n",
      "1589\n"
     ]
    }
   ],
   "source": [
    "print(len(tags_Zotero_dedup))\n",
    "print(len(tags_spreadsheet_dedup))"
   ]
  },
  {
   "cell_type": "markdown",
   "metadata": {},
   "source": [
    "Checking tags that are present in the Zotero library but not present in the spreadsheet."
   ]
  },
  {
   "cell_type": "code",
   "execution_count": 21,
   "metadata": {},
   "outputs": [],
   "source": [
    "def compare_lists(list1, list2):\n",
    "    differences = []\n",
    "    for item in list1:\n",
    "        if item not in list2:\n",
    "            differences.append(item)\n",
    "    print(len(differences))\n",
    "    return differences"
   ]
  },
  {
   "cell_type": "code",
   "execution_count": 22,
   "metadata": {},
   "outputs": [
    {
     "name": "stdout",
     "output_type": "stream",
     "text": [
      "1180\n"
     ]
    }
   ],
   "source": [
    "extra_tags_in_Zotero = compare_lists(tags_Zotero_dedup, tags_spreadsheet_dedup)"
   ]
  },
  {
   "cell_type": "code",
   "execution_count": 23,
   "metadata": {},
   "outputs": [
    {
     "name": "stdout",
     "output_type": "stream",
     "text": [
      "1029\n"
     ]
    }
   ],
   "source": [
    "extra_tags_in_spreadsheet = compare_lists(tags_spreadsheet_dedup, tags_Zotero_dedup)"
   ]
  },
  {
   "cell_type": "markdown",
   "metadata": {},
   "source": [
    "## Normalizing tags in Zotero"
   ]
  },
  {
   "cell_type": "markdown",
   "metadata": {},
   "source": [
    "### Creating the mapping"
   ]
  },
  {
   "cell_type": "markdown",
   "metadata": {},
   "source": [
    "We will now create a dictionary where each key corresponds to a tag in Zotero. For each tag, its normalized version is given as value of the key. The list of values should eventually correspond to the tags extracted from the spreadsheet.\n",
    "\n",
    "This dictionary should serve as a mapping for applying the corrections."
   ]
  },
  {
   "cell_type": "code",
   "execution_count": 24,
   "metadata": {},
   "outputs": [],
   "source": [
    "mapping = {item: None for item in sorted(tags_Zotero_dedup)}"
   ]
  },
  {
   "cell_type": "markdown",
   "metadata": {},
   "source": [
    "We will also reassign `tags_spreadsheet` to `tags_spreadsheet_dedup` to make things easier."
   ]
  },
  {
   "cell_type": "code",
   "execution_count": 25,
   "metadata": {},
   "outputs": [],
   "source": [
    "tags_spreadsheet = tags_spreadsheet_dedup"
   ]
  },
  {
   "cell_type": "markdown",
   "metadata": {},
   "source": [
    "Let's also create a custom function to compare the two lists of tags directly."
   ]
  },
  {
   "cell_type": "code",
   "execution_count": 26,
   "metadata": {},
   "outputs": [
    {
     "name": "stdout",
     "output_type": "stream",
     "text": [
      "1740\n",
      "1589\n"
     ]
    }
   ],
   "source": [
    "def compare_Zotero_spreadsheet():\n",
    "    extra_tags_in_Zotero = compare_lists(mapping.values(), tags_spreadsheet)\n",
    "    extra_tags_in_spreadsheet = compare_lists(tags_spreadsheet, mapping.values())\n",
    "    return extra_tags_in_Zotero, extra_tags_in_spreadsheet\n",
    "\n",
    "extra_tags_in_Zotero, extra_tags_in_spreadsheet = compare_Zotero_spreadsheet()"
   ]
  },
  {
   "cell_type": "markdown",
   "metadata": {},
   "source": [
    "### Lowercase"
   ]
  },
  {
   "cell_type": "markdown",
   "metadata": {},
   "source": [
    "As one can see, there is a huge difference between the tags in Zotero. This is probably because tags in the spreadsheet were all lowercased.\n",
    "\n",
    "So, let's try the comparison again by lowercasing the tags in `tags_list`."
   ]
  },
  {
   "cell_type": "code",
   "execution_count": 27,
   "metadata": {},
   "outputs": [
    {
     "name": "stdout",
     "output_type": "stream",
     "text": [
      "262\n",
      "170\n"
     ]
    }
   ],
   "source": [
    "for tag in mapping:\n",
    "    mapping[tag] = tag.lower()\n",
    "\n",
    "extra_tags_in_Zotero, extra_tags_in_spreadsheet = compare_Zotero_spreadsheet()"
   ]
  },
  {
   "cell_type": "markdown",
   "metadata": {},
   "source": [
    "### Prefixes"
   ]
  },
  {
   "cell_type": "markdown",
   "metadata": {},
   "source": [
    "As one can see from the following analysis, many tags in Zotero have prefixes that have been deleted in the spreadsheet."
   ]
  },
  {
   "cell_type": "code",
   "execution_count": 28,
   "metadata": {},
   "outputs": [
    {
     "name": "stdout",
     "output_type": "stream",
     "text": [
      "#broken_attachments\n",
      "'2001: a space odyssey' (film)\n",
      "activity: annotate\n",
      "digital libraries -- access control\n",
      "diskurs analyse - literatur -  informatik\n",
      "f-cultural heritage\n",
      "f-history\n",
      "giraudoux, jean (1882-1944) -- language\n",
      "giraudoux, jean (1882-1944) -- langue\n",
      "history -- research\n",
      "history -- sources\n",
      "history -- study & teaching\n",
      "humanities -- digital libraries\n",
      "linguistique -- informatique\n",
      "littérature française -- 19e siècle -- thèmes, motifs\n",
      "littérature française -- commentaire de texte\n",
      "meta: theorizing\n",
      "object: code\n",
      "object: data\n",
      "object: digital humanities\n",
      "object: infrastructures\n",
      "object: language\n",
      "object: metadata\n",
      "object: people\n",
      "object: texts\n",
      "récits de voyages français -- 19e siècle -- histoire et critique\n",
      "statistique lexicale -- informatique\n",
      "united states -- social life & customs -- to 1775\n",
      "uni: bielefeld\n",
      "uni: münchen\n",
      "uni: stuttgart\n",
      "uni: tübingen (eberhard karls universität)\n",
      "voyages -- dans la littérature\n",
      "_todo\n",
      "act_annotating\n",
      "act_archiving\n",
      "act_collaborating\n",
      "act_communicating\n",
      "act_conceptualizing\n",
      "act_contentanalysis\n",
      "act_conversion\n",
      "act_crowdsourcing\n",
      "act_datarecognition\n",
      "act_discovering\n",
      "act_editing\n",
      "act_identifying\n",
      "act_imaging\n",
      "act_modeling\n",
      "act_networkanalysis\n",
      "act_organizing\n",
      "act_preservation\n",
      "act_programming\n",
      "act_publishing\n",
      "act_query/retrieve\n",
      "act_relationalanalysis\n",
      "act_sharing\n",
      "act_structuralanalysis\n",
      "act_stylisticanalysis\n",
      "act_teaching/learning\n",
      "act_theorizing\n",
      "act_transcription\n",
      "act_visualizing\n",
      "act_writing\n",
      "activity: analyze qualitatively\n",
      "activity: analyze quantitatively\n",
      "activity: assess\n",
      "activity: authenticate\n",
      "activity: collaborate\n",
      "activity: collect\n",
      "activity: compare\n",
      "activity: conceptualize\n",
      "activity: create\n",
      "activity: digitize\n",
      "activity: encode\n",
      "activity: enrich\n",
      "activity: gather\n",
      "activity: interpret\n",
      "activity: reflect\n",
      "activity: simulate\n",
      "activity: tagging\n",
      "activity: visualize\n",
      "field: art history\n",
      "field: egyptology\n",
      "field: history\n",
      "field: linguistics\n",
      "field: literature\n",
      "field: musicology\n",
      "field: palaeography\n",
      "field: romance philology\n",
      "field: social science\n",
      "field: study of hebrew\n",
      "field: theology\n",
      "goal_analysis\n",
      "goal_capture\n",
      "goal_collaboration\n",
      "goal_create\n",
      "goal_creation\n",
      "goal_dissemination\n",
      "goal_enrichment\n",
      "goal_interpretation\n",
      "goal_storage\n",
      "meta_advocating\n",
      "meta_assessing\n",
      "meta_collaborating\n",
      "meta_communitybuilding\n",
      "meta_definepolicy\n",
      "meta_giveoverview\n",
      "meta_projectmanagement\n",
      "meta_teaching\n",
      "meta_teaching/learning\n",
      "meta_theorizing\n",
      "ob_narrative\n",
      "ob_plot\n",
      "obj_anthropology\n",
      "obj_anyobject\n",
      "obj_archaeologicalsites\n",
      "obj_archaeology\n",
      "obj_architecture\n",
      "obj_artefacts\n",
      "obj_audio\n",
      "obj_code\n",
      "obj_comics\n",
      "obj_computers\n",
      "obj_data\n",
      "obj_data/databases\n",
      "obj_databases\n",
      "obj_digitalhumanities\n",
      "obj_documents\n",
      "obj_events\n",
      "obj_games\n",
      "obj_humanities\n",
      "obj_images\n",
      "obj_infrastructures\n",
      "obj_institutions\n",
      "obj_interaction\n",
      "obj_knowledge\n",
      "obj_language\n",
      "obj_letters\n",
      "obj_literature\n",
      "obj_manuscripts\n",
      "obj_maps\n",
      "obj_metadata\n",
      "obj_methods\n",
      "obj_music\n",
      "obj_namedentities\n",
      "obj_network science\n",
      "obj_newmedia\n",
      "obj_object\n",
      "obj_onlinecontent\n",
      "obj_people\n",
      "obj_persons\n",
      "obj_project\n",
      "obj_relational archaeology\n",
      "obj_research\n",
      "obj_researchresults\n",
      "obj_sheetmusic\n",
      "obj_software\n",
      "obj_standards\n",
      "obj_text\n",
      "obj_tools\n",
      "obj_vres\n",
      "obj_variants\n",
      "obj_video\n",
      "obj_visualization\n",
      "obj_web\n",
      "object: architecture\n",
      "object: archives\n",
      "object: corpora\n",
      "object: data/databases\n",
      "object: documents\n",
      "object: images\n",
      "object: infrastructure\n",
      "object: knowledge\n",
      "object: language\n",
      "object: maps\n",
      "object: metadata\n",
      "object: music\n",
      "object: people\n",
      "object: texts\n",
      "special: 3d\n",
      "special: cad\n",
      "special: crowdsourcing\n",
      "special: interoperability\n",
      "special: lexicon\n",
      "special: ocr\n",
      "special: ontologies\n",
      "special: semantics\n",
      "special: stylistics\n",
      "special: stylometry\n",
      "special: watermarks\n",
      "special: xml\n",
      "supervisor: crestani, marcus\n",
      "supervisor: ebner, h.\n",
      "supervisor: förtsch, reinhard\n",
      "supervisor: gradmann, stefan\n",
      "supervisor: klaeren, herbert\n",
      "supervisor: kropač, i.h.\n",
      "supervisor: morent, stefan\n",
      "supervisor: nußbaum, norbert\n",
      "supervisor: schmitz, wolfgang\n",
      "supervisor: thaller, manfred\n",
      "t_blogging\n",
      "t_clustering\n",
      "t_collation\n",
      "t_discourseanalysis\n",
      "t_encoding\n",
      "t_informationretrieval\n",
      "t_interoperability\n",
      "t_machinelearning\n",
      "t_mapping\n",
      "t_markovchains\n",
      "t_namedentityrecognition\n",
      "t_narratology\n",
      "t_networkanalysis\n",
      "t_openaccess\n",
      "t_pca\n",
      "t_sentimentanalysis\n",
      "t_stemmatology\n",
      "t_stylometry\n",
      "t_sustainability\n",
      "t_topicmodeling\n",
      "t_usability\n",
      "t_xml\n",
      "type: thesis (ma level)\n",
      "type: thesis (phd level)\n",
      "university: augsburg\n",
      "university: berlin (hu)\n",
      "university: berlin (tu)\n",
      "university: bochum\n",
      "university: bonn\n",
      "university: cologne\n",
      "university: essen\n",
      "university: graz, at\n",
      "university: hamburg\n",
      "university: heidelberg\n",
      "university: kiel\n",
      "university: münchen\n",
      "university: münster (wwu)\n",
      "university: osnabrück\n",
      "university: regensburg\n",
      "university: tübingen\n",
      "university: uppsala, s\n",
      "university: utrecht, nl\n"
     ]
    }
   ],
   "source": [
    "tags_with_prefixes = []\n",
    "\n",
    "for tag in extra_tags_in_Zotero:\n",
    "    if '_' in tag or ':' in tag or '-' in tag:\n",
    "        tags_with_prefixes.append(tag)\n",
    "\n",
    "for tag in tags_with_prefixes:\n",
    "    print(tag)"
   ]
  },
  {
   "cell_type": "markdown",
   "metadata": {},
   "source": [
    "There are several prefixes that were deleted in the spreadsheet. We can make a list of them:"
   ]
  },
  {
   "cell_type": "code",
   "execution_count": 29,
   "metadata": {},
   "outputs": [
    {
     "name": "stdout",
     "output_type": "stream",
     "text": [
      "16\n",
      "========\n",
      "act_\n",
      "activity: \n",
      "f-\n",
      "field: \n",
      "goal_\n",
      "meta: \n",
      "meta_\n",
      "ob_\n",
      "obj_\n",
      "object: \n",
      "special: \n",
      "supervisor: \n",
      "t_\n",
      "type: \n",
      "uni: \n",
      "university: \n"
     ]
    }
   ],
   "source": [
    "prefixes = []\n",
    "\n",
    "pattern = r'^[A-Za-z]+(-|_|: )'\n",
    "\n",
    "for tag in tags_with_prefixes:\n",
    "    if result := re.match(pattern, tag):\n",
    "        prefixes.append(str(result.group()))\n",
    "\n",
    "prefixes = sorted(list(set(prefixes)))\n",
    "print(len(prefixes))\n",
    "print(\"========\")\n",
    "for item in prefixes:\n",
    "    print(item)"
   ]
  },
  {
   "cell_type": "markdown",
   "metadata": {},
   "source": [
    "Now we can delete these prefixes and re-run the comparison."
   ]
  },
  {
   "cell_type": "code",
   "execution_count": 30,
   "metadata": {},
   "outputs": [
    {
     "name": "stdout",
     "output_type": "stream",
     "text": [
      "37\n",
      "29\n"
     ]
    }
   ],
   "source": [
    "for original in mapping.keys():\n",
    "    for prefix in prefixes:\n",
    "        mapping[original] = re.sub(f'^{prefix}', '', mapping[original])\n",
    "\n",
    "extra_tags_in_Zotero, extra_tags_in_spreadsheet = compare_Zotero_spreadsheet()"
   ]
  },
  {
   "cell_type": "markdown",
   "metadata": {},
   "source": [
    "### Delete quotes"
   ]
  },
  {
   "cell_type": "code",
   "execution_count": 31,
   "metadata": {},
   "outputs": [
    {
     "name": "stdout",
     "output_type": "stream",
     "text": [
      "'2001: a space odyssey' (film)\n",
      "'american historical review'\n",
      "'history matters'\n",
      "'journal of american history'\n",
      "'outline of american history'\n",
      "'whole earth catalog'\n",
      "'wikipedia'\n",
      "artists' books\n",
      "social science / women's studies\n",
      "women's history\n"
     ]
    }
   ],
   "source": [
    "tags_with_quotes = [tag for tag in extra_tags_in_Zotero if \"'\" in tag]\n",
    "for tag in tags_with_quotes:\n",
    "    print(tag)"
   ]
  },
  {
   "cell_type": "code",
   "execution_count": 32,
   "metadata": {},
   "outputs": [
    {
     "name": "stdout",
     "output_type": "stream",
     "text": [
      "27\n",
      "20\n"
     ]
    }
   ],
   "source": [
    "for original, normalized in mapping.items():\n",
    "        mapping[original] = normalized.replace(\"'\",\"\")\n",
    "\n",
    "extra_tags_in_Zotero, extra_tags_in_spreadsheet = compare_Zotero_spreadsheet()"
   ]
  },
  {
   "cell_type": "markdown",
   "metadata": {},
   "source": [
    "### Delete semicolon"
   ]
  },
  {
   "cell_type": "code",
   "execution_count": 33,
   "metadata": {},
   "outputs": [
    {
     "name": "stdout",
     "output_type": "stream",
     "text": [
      "21\n",
      "18\n"
     ]
    }
   ],
   "source": [
    "for original, normalized in mapping.items():\n",
    "        mapping[original] = normalized.replace(\";\",\"\")\n",
    "\n",
    "extra_tags_in_Zotero, extra_tags_in_spreadsheet = compare_Zotero_spreadsheet()"
   ]
  },
  {
   "cell_type": "markdown",
   "metadata": {},
   "source": [
    "### Remove \"-- \""
   ]
  },
  {
   "cell_type": "code",
   "execution_count": 34,
   "metadata": {},
   "outputs": [
    {
     "name": "stdout",
     "output_type": "stream",
     "text": [
      "7\n",
      "4\n"
     ]
    }
   ],
   "source": [
    "for original, normalized in mapping.items():\n",
    "        mapping[original] = normalized.replace(\"-- \",\"\")\n",
    "\n",
    "extra_tags_in_Zotero, extra_tags_in_spreadsheet = compare_Zotero_spreadsheet()"
   ]
  },
  {
   "cell_type": "markdown",
   "metadata": {},
   "source": [
    "### Remove other characters"
   ]
  },
  {
   "cell_type": "code",
   "execution_count": 35,
   "metadata": {},
   "outputs": [
    {
     "name": "stdout",
     "output_type": "stream",
     "text": [
      "4\n",
      "1\n"
     ]
    }
   ],
   "source": [
    "pattern = r'^(/|_|⚠️ )'\n",
    "\n",
    "for original in mapping.keys():\n",
    "    mapping[original] = re.sub(r'^(/|_|⚠️ )', '', mapping[original])\n",
    "\n",
    "extra_tags_in_Zotero, extra_tags_in_spreadsheet = compare_Zotero_spreadsheet()"
   ]
  },
  {
   "cell_type": "code",
   "execution_count": 36,
   "metadata": {},
   "outputs": [
    {
     "name": "stdout",
     "output_type": "stream",
     "text": [
      "#broken_attachments\n",
      "diskurs analyse - literatur -  informatik\n",
      "foreign language study / german\n",
      "frankfurter buchmesse 2016\n"
     ]
    }
   ],
   "source": [
    "for tag in extra_tags_in_Zotero:\n",
    "    print(tag)"
   ]
  },
  {
   "cell_type": "markdown",
   "metadata": {},
   "source": [
    "### Remove double space after \"-\""
   ]
  },
  {
   "cell_type": "code",
   "execution_count": 37,
   "metadata": {},
   "outputs": [
    {
     "name": "stdout",
     "output_type": "stream",
     "text": [
      "3\n",
      "0\n"
     ]
    }
   ],
   "source": [
    "for original, normalized in mapping.items():\n",
    "        mapping[original] = normalized.replace(\"-  \",\"- \")\n",
    "\n",
    "extra_tags_in_Zotero, extra_tags_in_spreadsheet = compare_Zotero_spreadsheet()"
   ]
  },
  {
   "cell_type": "code",
   "execution_count": 38,
   "metadata": {},
   "outputs": [
    {
     "name": "stdout",
     "output_type": "stream",
     "text": [
      "#broken_attachments\n",
      "foreign language study / german\n",
      "frankfurter buchmesse 2016\n"
     ]
    }
   ],
   "source": [
    "for tag in extra_tags_in_Zotero:\n",
    "    print(tag)"
   ]
  },
  {
   "cell_type": "markdown",
   "metadata": {},
   "source": [
    "Regarding all the tags that still do not correspond to the spreadsheet:\n",
    "* `#broken_attachments` seems to be a tag internal to Zotero that is not even visibile in the GUI\n",
    "* `foreign language study / german` is not actually used in the library (see above) (the tag does not even appear when extracting tags from the full JSON dump describing all the bibliographic items)\n",
    "* `frankfurter buchmesse 2016` refers to a publication added after the clean-up was done (4th March 2024)"
   ]
  }
 ],
 "metadata": {
  "kernelspec": {
   "display_name": "Python 3",
   "language": "python",
   "name": "python3"
  },
  "language_info": {
   "codemirror_mode": {
    "name": "ipython",
    "version": 3
   },
   "file_extension": ".py",
   "mimetype": "text/x-python",
   "name": "python",
   "nbconvert_exporter": "python",
   "pygments_lexer": "ipython3",
   "version": "3.11.5"
  }
 },
 "nbformat": 4,
 "nbformat_minor": 2
}
