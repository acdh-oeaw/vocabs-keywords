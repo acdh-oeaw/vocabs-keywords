{
 "cells": [
  {
   "cell_type": "code",
   "execution_count": 4,
   "metadata": {},
   "outputs": [],
   "source": [
    "import pandas as pd\n",
    "from sklearn.metrics import cohen_kappa_score\n",
    "import openpyxl\n",
    "import numpy as np\n",
    "import plotly.graph_objects as go\n",
    "from collections import Counter\n",
    "\n",
    "def extract_categories(row):\n",
    "    \"\"\"Extracts categories from a row and returns them as a sorted set.\"\"\"\n",
    "    categories = {row['Category 1'], row['Category 2'], row['Category 3']}\n",
    "    # Remove NaN values\n",
    "    categories = {cat for cat in categories if pd.notna(cat)}\n",
    "    return frozenset(categories)"
   ]
  },
  {
   "cell_type": "markdown",
   "metadata": {},
   "source": [
    "### Preprocessing and cleaning"
   ]
  },
  {
   "cell_type": "code",
   "execution_count": 5,
   "metadata": {},
   "outputs": [],
   "source": [
    "file_m = \"DH_Keywords_Categorisation_Martin_V1.xlsx\"\n",
    "file_n = \"DH_Keywords_Categorisation_Nina_V1.xlsx\"\n",
    "df_martin = pd.read_excel(file_m)\n",
    "df_nina = pd.read_excel(file_n)"
   ]
  },
  {
   "cell_type": "code",
   "execution_count": 6,
   "metadata": {},
   "outputs": [],
   "source": [
    "#Zusammenführen der Kategorien \"too broad/unspecific\", \"unclear\" and \"too specific\" \n",
    "#zu \"not categorizable\"\n",
    "\n",
    "values_to_replace = ['too broad/unspecific', 'too specific', 'unclear']\n",
    "\n",
    "# Columns to operate on\n",
    "columns = ['Category 1', 'Category 2', 'Category 3']\n",
    "\n",
    "# Replace the values in the specified columns\n",
    "df_martin[columns] = df_martin[columns].replace(values_to_replace, 'not categorizable')\n",
    "df_nina[columns] = df_nina[columns].replace(values_to_replace, 'not categorizable')"
   ]
  },
  {
   "cell_type": "code",
   "execution_count": 7,
   "metadata": {},
   "outputs": [
    {
     "data": {
      "text/html": [
       "<div>\n",
       "<style scoped>\n",
       "    .dataframe tbody tr th:only-of-type {\n",
       "        vertical-align: middle;\n",
       "    }\n",
       "\n",
       "    .dataframe tbody tr th {\n",
       "        vertical-align: top;\n",
       "    }\n",
       "\n",
       "    .dataframe thead th {\n",
       "        text-align: right;\n",
       "    }\n",
       "</style>\n",
       "<table border=\"1\" class=\"dataframe\">\n",
       "  <thead>\n",
       "    <tr style=\"text-align: right;\">\n",
       "      <th></th>\n",
       "      <th>Tag</th>\n",
       "      <th>variant_x</th>\n",
       "      <th>Vocabularies (excl. Zotero_DHA)</th>\n",
       "      <th>Number of Vocabularies (excl. Zotero_DHA)</th>\n",
       "      <th>Category 1_x</th>\n",
       "      <th>Category 2_x</th>\n",
       "      <th>Category 3_x</th>\n",
       "      <th>Count_Zotero_DHA</th>\n",
       "      <th>Categories_x</th>\n",
       "      <th>variant_y</th>\n",
       "      <th>Vocabularies</th>\n",
       "      <th>Number of Vocabularies</th>\n",
       "      <th>Category 1_y</th>\n",
       "      <th>Category 2_y</th>\n",
       "      <th>Category 3_y</th>\n",
       "      <th>Count</th>\n",
       "      <th>Categories_y</th>\n",
       "    </tr>\n",
       "  </thead>\n",
       "  <tbody>\n",
       "    <tr>\n",
       "      <th>0</th>\n",
       "      <td>ergänzung</td>\n",
       "      <td>NaN</td>\n",
       "      <td>ARCHE</td>\n",
       "      <td>1.0</td>\n",
       "      <td>NaN</td>\n",
       "      <td>NaN</td>\n",
       "      <td>NaN</td>\n",
       "      <td>NaN</td>\n",
       "      <td>()</td>\n",
       "      <td>NaN</td>\n",
       "      <td>ARCHE</td>\n",
       "      <td>1.0</td>\n",
       "      <td>not categorizable</td>\n",
       "      <td>NaN</td>\n",
       "      <td>NaN</td>\n",
       "      <td>NaN</td>\n",
       "      <td>(not categorizable)</td>\n",
       "    </tr>\n",
       "    <tr>\n",
       "      <th>1</th>\n",
       "      <td>casa sarmento</td>\n",
       "      <td>NaN</td>\n",
       "      <td>Zotero (KONDE)</td>\n",
       "      <td>1.0</td>\n",
       "      <td>not categorizable</td>\n",
       "      <td>NaN</td>\n",
       "      <td>NaN</td>\n",
       "      <td>1.0</td>\n",
       "      <td>(not categorizable)</td>\n",
       "      <td>NaN</td>\n",
       "      <td>Zotero (KONDE)</td>\n",
       "      <td>1.0</td>\n",
       "      <td>not categorizable</td>\n",
       "      <td>NaN</td>\n",
       "      <td>NaN</td>\n",
       "      <td>1.0</td>\n",
       "      <td>(not categorizable)</td>\n",
       "    </tr>\n",
       "    <tr>\n",
       "      <th>2</th>\n",
       "      <td>visual culture</td>\n",
       "      <td>NaN</td>\n",
       "      <td>ACDH-CH website</td>\n",
       "      <td>1.0</td>\n",
       "      <td>discipline</td>\n",
       "      <td>NaN</td>\n",
       "      <td>NaN</td>\n",
       "      <td>NaN</td>\n",
       "      <td>(discipline)</td>\n",
       "      <td>NaN</td>\n",
       "      <td>ACDH-CH website</td>\n",
       "      <td>1.0</td>\n",
       "      <td>topic</td>\n",
       "      <td>NaN</td>\n",
       "      <td>NaN</td>\n",
       "      <td>NaN</td>\n",
       "      <td>(topic)</td>\n",
       "    </tr>\n",
       "    <tr>\n",
       "      <th>3</th>\n",
       "      <td>writings on music</td>\n",
       "      <td>NaN</td>\n",
       "      <td>ACDH-CH website</td>\n",
       "      <td>1.0</td>\n",
       "      <td>object-type</td>\n",
       "      <td>NaN</td>\n",
       "      <td>NaN</td>\n",
       "      <td>NaN</td>\n",
       "      <td>(object-type)</td>\n",
       "      <td>NaN</td>\n",
       "      <td>ACDH-CH website</td>\n",
       "      <td>1.0</td>\n",
       "      <td>topic</td>\n",
       "      <td>NaN</td>\n",
       "      <td>NaN</td>\n",
       "      <td>NaN</td>\n",
       "      <td>(topic)</td>\n",
       "    </tr>\n",
       "    <tr>\n",
       "      <th>4</th>\n",
       "      <td>abfertigung</td>\n",
       "      <td>NaN</td>\n",
       "      <td>ARCHE</td>\n",
       "      <td>1.0</td>\n",
       "      <td>NaN</td>\n",
       "      <td>NaN</td>\n",
       "      <td>NaN</td>\n",
       "      <td>NaN</td>\n",
       "      <td>()</td>\n",
       "      <td>NaN</td>\n",
       "      <td>ARCHE</td>\n",
       "      <td>1.0</td>\n",
       "      <td>topic</td>\n",
       "      <td>NaN</td>\n",
       "      <td>NaN</td>\n",
       "      <td>NaN</td>\n",
       "      <td>(topic)</td>\n",
       "    </tr>\n",
       "    <tr>\n",
       "      <th>...</th>\n",
       "      <td>...</td>\n",
       "      <td>...</td>\n",
       "      <td>...</td>\n",
       "      <td>...</td>\n",
       "      <td>...</td>\n",
       "      <td>...</td>\n",
       "      <td>...</td>\n",
       "      <td>...</td>\n",
       "      <td>...</td>\n",
       "      <td>...</td>\n",
       "      <td>...</td>\n",
       "      <td>...</td>\n",
       "      <td>...</td>\n",
       "      <td>...</td>\n",
       "      <td>...</td>\n",
       "      <td>...</td>\n",
       "      <td>...</td>\n",
       "    </tr>\n",
       "    <tr>\n",
       "      <th>3777</th>\n",
       "      <td>publication lists</td>\n",
       "      <td>NaN</td>\n",
       "      <td>NaN</td>\n",
       "      <td>NaN</td>\n",
       "      <td>object-type</td>\n",
       "      <td>NaN</td>\n",
       "      <td>NaN</td>\n",
       "      <td>1.0</td>\n",
       "      <td>(object-type)</td>\n",
       "      <td>NaN</td>\n",
       "      <td>NaN</td>\n",
       "      <td>NaN</td>\n",
       "      <td>object-type</td>\n",
       "      <td>NaN</td>\n",
       "      <td>NaN</td>\n",
       "      <td>1.0</td>\n",
       "      <td>(object-type)</td>\n",
       "    </tr>\n",
       "    <tr>\n",
       "      <th>3778</th>\n",
       "      <td>textual transmission</td>\n",
       "      <td>NaN</td>\n",
       "      <td>NaN</td>\n",
       "      <td>NaN</td>\n",
       "      <td>method/activity</td>\n",
       "      <td>NaN</td>\n",
       "      <td>NaN</td>\n",
       "      <td>1.0</td>\n",
       "      <td>(method/activity)</td>\n",
       "      <td>NaN</td>\n",
       "      <td>NaN</td>\n",
       "      <td>NaN</td>\n",
       "      <td>topic</td>\n",
       "      <td>NaN</td>\n",
       "      <td>NaN</td>\n",
       "      <td>1.0</td>\n",
       "      <td>(topic)</td>\n",
       "    </tr>\n",
       "    <tr>\n",
       "      <th>3779</th>\n",
       "      <td>textual transmission n</td>\n",
       "      <td>NaN</td>\n",
       "      <td>NaN</td>\n",
       "      <td>NaN</td>\n",
       "      <td>method/activity</td>\n",
       "      <td>NaN</td>\n",
       "      <td>NaN</td>\n",
       "      <td>1.0</td>\n",
       "      <td>(method/activity)</td>\n",
       "      <td>NaN</td>\n",
       "      <td>NaN</td>\n",
       "      <td>NaN</td>\n",
       "      <td>topic</td>\n",
       "      <td>NaN</td>\n",
       "      <td>NaN</td>\n",
       "      <td>1.0</td>\n",
       "      <td>(topic)</td>\n",
       "    </tr>\n",
       "    <tr>\n",
       "      <th>3780</th>\n",
       "      <td>transmission of texts y</td>\n",
       "      <td>NaN</td>\n",
       "      <td>NaN</td>\n",
       "      <td>NaN</td>\n",
       "      <td>method/activity</td>\n",
       "      <td>NaN</td>\n",
       "      <td>NaN</td>\n",
       "      <td>1.0</td>\n",
       "      <td>(method/activity)</td>\n",
       "      <td>NaN</td>\n",
       "      <td>NaN</td>\n",
       "      <td>NaN</td>\n",
       "      <td>topic</td>\n",
       "      <td>NaN</td>\n",
       "      <td>NaN</td>\n",
       "      <td>1.0</td>\n",
       "      <td>(topic)</td>\n",
       "    </tr>\n",
       "    <tr>\n",
       "      <th>3781</th>\n",
       "      <td>italian literature criticism, textual</td>\n",
       "      <td>NaN</td>\n",
       "      <td>NaN</td>\n",
       "      <td>NaN</td>\n",
       "      <td>topic</td>\n",
       "      <td>language</td>\n",
       "      <td>NaN</td>\n",
       "      <td>1.0</td>\n",
       "      <td>(language, topic)</td>\n",
       "      <td>NaN</td>\n",
       "      <td>NaN</td>\n",
       "      <td>NaN</td>\n",
       "      <td>multiple tags</td>\n",
       "      <td>NaN</td>\n",
       "      <td>NaN</td>\n",
       "      <td>1.0</td>\n",
       "      <td>(multiple tags)</td>\n",
       "    </tr>\n",
       "  </tbody>\n",
       "</table>\n",
       "<p>3782 rows × 17 columns</p>\n",
       "</div>"
      ],
      "text/plain": [
       "                                        Tag variant_x  \\\n",
       "0                                 ergänzung       NaN   \n",
       "1                             casa sarmento       NaN   \n",
       "2                            visual culture       NaN   \n",
       "3                         writings on music       NaN   \n",
       "4                               abfertigung       NaN   \n",
       "...                                     ...       ...   \n",
       "3777                      publication lists       NaN   \n",
       "3778                   textual transmission       NaN   \n",
       "3779                 textual transmission n       NaN   \n",
       "3780                transmission of texts y       NaN   \n",
       "3781  italian literature criticism, textual       NaN   \n",
       "\n",
       "     Vocabularies (excl. Zotero_DHA)  \\\n",
       "0                              ARCHE   \n",
       "1                     Zotero (KONDE)   \n",
       "2                    ACDH-CH website   \n",
       "3                    ACDH-CH website   \n",
       "4                              ARCHE   \n",
       "...                              ...   \n",
       "3777                             NaN   \n",
       "3778                             NaN   \n",
       "3779                             NaN   \n",
       "3780                             NaN   \n",
       "3781                             NaN   \n",
       "\n",
       "      Number of Vocabularies (excl. Zotero_DHA)       Category 1_x  \\\n",
       "0                                           1.0                NaN   \n",
       "1                                           1.0  not categorizable   \n",
       "2                                           1.0         discipline   \n",
       "3                                           1.0        object-type   \n",
       "4                                           1.0                NaN   \n",
       "...                                         ...                ...   \n",
       "3777                                        NaN        object-type   \n",
       "3778                                        NaN    method/activity   \n",
       "3779                                        NaN    method/activity   \n",
       "3780                                        NaN    method/activity   \n",
       "3781                                        NaN              topic   \n",
       "\n",
       "     Category 2_x Category 3_x  Count_Zotero_DHA         Categories_x  \\\n",
       "0             NaN          NaN               NaN                   ()   \n",
       "1             NaN          NaN               1.0  (not categorizable)   \n",
       "2             NaN          NaN               NaN         (discipline)   \n",
       "3             NaN          NaN               NaN        (object-type)   \n",
       "4             NaN          NaN               NaN                   ()   \n",
       "...           ...          ...               ...                  ...   \n",
       "3777          NaN          NaN               1.0        (object-type)   \n",
       "3778          NaN          NaN               1.0    (method/activity)   \n",
       "3779          NaN          NaN               1.0    (method/activity)   \n",
       "3780          NaN          NaN               1.0    (method/activity)   \n",
       "3781     language          NaN               1.0    (language, topic)   \n",
       "\n",
       "     variant_y     Vocabularies  Number of Vocabularies       Category 1_y  \\\n",
       "0          NaN            ARCHE                     1.0  not categorizable   \n",
       "1          NaN   Zotero (KONDE)                     1.0  not categorizable   \n",
       "2          NaN  ACDH-CH website                     1.0              topic   \n",
       "3          NaN  ACDH-CH website                     1.0              topic   \n",
       "4          NaN            ARCHE                     1.0              topic   \n",
       "...        ...              ...                     ...                ...   \n",
       "3777       NaN              NaN                     NaN        object-type   \n",
       "3778       NaN              NaN                     NaN              topic   \n",
       "3779       NaN              NaN                     NaN              topic   \n",
       "3780       NaN              NaN                     NaN              topic   \n",
       "3781       NaN              NaN                     NaN      multiple tags   \n",
       "\n",
       "     Category 2_y Category 3_y  Count         Categories_y  \n",
       "0             NaN          NaN    NaN  (not categorizable)  \n",
       "1             NaN          NaN    1.0  (not categorizable)  \n",
       "2             NaN          NaN    NaN              (topic)  \n",
       "3             NaN          NaN    NaN              (topic)  \n",
       "4             NaN          NaN    NaN              (topic)  \n",
       "...           ...          ...    ...                  ...  \n",
       "3777          NaN          NaN    1.0        (object-type)  \n",
       "3778          NaN          NaN    1.0              (topic)  \n",
       "3779          NaN          NaN    1.0              (topic)  \n",
       "3780          NaN          NaN    1.0              (topic)  \n",
       "3781          NaN          NaN    1.0      (multiple tags)  \n",
       "\n",
       "[3782 rows x 17 columns]"
      ]
     },
     "execution_count": 7,
     "metadata": {},
     "output_type": "execute_result"
    }
   ],
   "source": [
    "#Zusammenführen von Kategorisierungen zu frozensets (damit Reihenfolge egal) \n",
    "# und merge zu einem gemeinsamen Dataframe\n",
    "df_martin['Categories'] = df_martin.apply(extract_categories, axis=1)\n",
    "df_nina['Categories'] = df_nina.apply(extract_categories, axis=1)\n",
    "df = df_martin.merge(df_nina, on='Tag', how='inner')\n",
    "df"
   ]
  },
  {
   "cell_type": "code",
   "execution_count": 8,
   "metadata": {},
   "outputs": [
    {
     "name": "stdout",
     "output_type": "stream",
     "text": [
      "2900\n"
     ]
    }
   ],
   "source": [
    "#Löschen von Tags, die nur in ARCHE vorkommen\n",
    "\n",
    "df = df[df['Vocabularies (excl. Zotero_DHA)'] != 'ARCHE']\n",
    "df = df[df['Vocabularies (excl. Zotero_DHA)'] != 'ARCHE / ARCHE']\n",
    "print(len(df))"
   ]
  },
  {
   "cell_type": "code",
   "execution_count": 9,
   "metadata": {},
   "outputs": [
    {
     "name": "stdout",
     "output_type": "stream",
     "text": [
      "Martin:\n",
      "2\n",
      "2001: a space odyssey (film)\n",
      "journal of american history\n",
      "\n",
      "Nina:\n",
      "0\n"
     ]
    }
   ],
   "source": [
    "#Wieviele und welche Tags sind nicht von Martin/Nina kategorisiert worden? \n",
    "#ARCHE-Tags ausgeschlossen\n",
    "\n",
    "empty_category_tags_m = df[df['Category 1_x'].isna() | (df['Category 1_x'] == '')]['Tag']\n",
    "print(\"Martin:\")\n",
    "print(len(empty_category_tags_m))\n",
    "for x in empty_category_tags_m:\n",
    "    print(x)\n",
    "print()\n",
    "\n",
    "empty_category_tags_n = df[df['Category 1_y'].isna() | (df['Category 1_y'] == '')]['Tag']\n",
    "print(\"Nina:\")\n",
    "print(len(empty_category_tags_n))\n",
    "for x in empty_category_tags_n:\n",
    "    print(x)"
   ]
  },
  {
   "cell_type": "code",
   "execution_count": 10,
   "metadata": {},
   "outputs": [
    {
     "name": "stdout",
     "output_type": "stream",
     "text": [
      "2898\n"
     ]
    }
   ],
   "source": [
    "#Löschen von Tags, die von Martin nicht kategorisiert worden sind\n",
    "cols_to_check = ['Category 1_x', 'Category 2_x', 'Category 3_x']\n",
    "df = df.dropna(subset=cols_to_check, how='all')\n",
    "print(len(df))"
   ]
  },
  {
   "cell_type": "code",
   "execution_count": 11,
   "metadata": {},
   "outputs": [
    {
     "name": "stdout",
     "output_type": "stream",
     "text": [
      "2898\n"
     ]
    }
   ],
   "source": [
    "#Löschen von Tags, die von Nina nicht kategorisiert worden sind\n",
    "cols_to_check = ['Category 1_y', 'Category 2_y', 'Category 3_y']\n",
    "df = df.dropna(subset=cols_to_check, how='all')\n",
    "print(len(df))"
   ]
  },
  {
   "cell_type": "code",
   "execution_count": 12,
   "metadata": {},
   "outputs": [
    {
     "name": "stdout",
     "output_type": "stream",
     "text": [
      "Martin: theater ['object-type', 'entity (place)', 'topic']\n",
      "Nina: antiquity ['time period', 'topic']\n",
      "Martin: indigenous culture ['discipline', 'topic']\n",
      "Martin: pandemic ['entity (event)', 'topic']\n",
      "Martin: 18th century literature ['time period', 'topic']\n",
      "Martin: 19th century literature ['time period', 'topic']\n",
      "Martin: african languages ['language', 'topic']\n",
      "Martin: church ['entity (place)', 'topic']\n",
      "Martin: earth observations ['method/activity', 'topic']\n",
      "Nina: earth observations ['method/activity', 'topic']\n",
      "Martin: emigrants ['topic', 'entity (person)']\n",
      "Martin: ethnic minorities ['topic', 'entity (person)']\n",
      "Martin: immigrants ['topic', 'entity (person)']\n",
      "Martin: place names ['entity (place)', 'topic']\n",
      "Martin: prison ['object-type', 'entity (place)', 'topic']\n",
      "Martin: syllables ['language', 'topic']\n",
      "Martin: thermal effects ['object-type', 'topic']\n",
      "Martin: typos ['object-type', 'topic']\n",
      "Martin: voting ['method/activity', 'topic']\n",
      "Martin: text messaging ['method/activity', 'topic']\n",
      "Martin: agriculture ['discipline', 'topic']\n",
      "Martin: journalism ['discipline', 'topic']\n",
      "Martin: english literature ['entity (place)', 'topic']\n",
      "Martin: sammlung ['object-type', 'topic']\n",
      "Martin: british literature ['entity (place)', 'topic']\n",
      "Martin: dutch literature ['entity (place)', 'topic']\n",
      "Martin: email ['object-type', 'topic']\n",
      "Martin: film ['object-type', 'topic']\n",
      "Martin: trademarks ['object-type', 'topic']\n",
      "Martin: gis ['method/activity', 'topic']\n",
      "Martin: survey ['method/activity', 'topic']\n",
      "Martin: historical gis ['method/activity', 'topic']\n",
      "Martin: royal libraries ['object-type', 'topic']\n",
      "Martin: parliament ['object-type', 'topic']\n",
      "Nina: feminism ['discipline', 'topic']\n",
      "Nina: spatial humanities ['discipline', 'topic']\n",
      "Nina: bulgarian history ['discipline', 'topic']\n",
      "Nina: canadian history ['discipline', 'topic']\n",
      "Nina: islamic history ['discipline', 'topic']\n",
      "Nina: jewish history ['discipline', 'topic']\n",
      "Martin: social computing ['method/activity', 'topic']\n",
      "Nina: social computing ['discipline', 'topic']\n",
      "Nina: syntax ['discipline', 'topic']\n",
      "Nina: womens history ['discipline', 'topic']\n",
      "Nina: history of musicology ['discipline', 'topic']\n",
      "Nina: history of scholarship ['discipline', 'topic']\n",
      "Nina: cultural heritage ['object-type', 'topic']\n",
      "Nina: morphology ['discipline', 'topic']\n",
      "Nina: visualization ['method/activity', 'topic']\n",
      "Martin: digitisation ['method/activity', 'topic']\n",
      "Nina: digitisation ['method/activity', 'topic']\n",
      "Martin: material culture ['discipline', 'topic']\n",
      "Martin: controlled vocabulary ['format/standard', 'topic']\n",
      "Nina: digitization ['method/activity', 'topic']\n",
      "Martin: mooc ['object-type', 'topic']\n",
      "Martin: software development ['discipline', 'topic']\n",
      "Nina: speech technology ['method/activity', 'topic']\n",
      "Nina: augmented reality ['method/activity', 'topic']\n",
      "Martin: controlled vocabularies ['format/standard', 'topic']\n",
      "Nina: digital preservation ['method/activity', 'topic']\n",
      "Martin: demography ['discipline', 'topic']\n",
      "Martin: disciplines ['discipline', 'topic']\n",
      "Martin: linked data ['object-type', 'topic']\n",
      "Martin: query language ['resource/tool', 'topic']\n",
      "Martin: search service ['resource/tool', 'topic']\n",
      "Martin: taxonomy ['format/standard', 'topic']\n",
      "Martin: law ['discipline', 'topic']\n",
      "Nina: law ['discipline', 'topic']\n",
      "Martin: education ['discipline', 'topic']\n",
      "Martin: co-design ['object-type', 'method/activity', 'topic']\n",
      "Martin: conceputal art ['discipline', 'topic']\n",
      "Martin: conference ['entity (event)', 'topic']\n",
      "Nina: contemporary history ['discipline', 'topic']\n",
      "Nina: crowd science ['method/activity', 'topic']\n",
      "Nina: culinary history ['discipline', 'topic']\n",
      "Martin: design methods ['method/activity', 'topic']\n",
      "Nina: design methods ['method/activity', 'topic']\n",
      "Martin: digital art ['discipline', 'topic']\n",
      "Nina: digital diplomatics ['discipline', 'topic']\n",
      "Martin: digital humanism ['discipline', 'topic']\n",
      "Nina: digital humanism ['discipline', 'topic']\n",
      "Nina: digital museology ['discipline', 'topic']\n",
      "Nina: e-learning ['method/activity', 'topic']\n",
      "Martin: exhibition ['entity (event)', 'topic']\n",
      "Martin: forschungsmethoden ['method/activity', 'topic']\n",
      "Nina: heritage preservation ['method/activity', 'topic']\n",
      "Nina: holocaust education ['method/activity', 'topic']\n",
      "Nina: ict use ['method/activity', 'topic']\n",
      "Nina: knowledge science ['discipline', 'topic']\n",
      "Martin: lecture ['entity (event)', 'topic']\n",
      "Martin: long-term projects on cultural heritage ['topic', 'entity (project)']\n",
      "Martin: management ['method/activity', 'topic']\n",
      "Nina: middle high german ['language', 'topic']\n",
      "Martin: participatory methods ['method/activity', 'topic']\n",
      "Martin: presentation ['method/activity', 'topic']\n",
      "Nina: scientific heritage ['object-type', 'topic']\n",
      "Martin: training ['method/activity', 'topic']\n",
      "Martin: virtual reality ['discipline', 'topic']\n",
      "Martin: visual media ['object-type', 'topic']\n",
      "Martin: workshop ['entity (event)', 'topic']\n",
      "Nina: artificial intelligence ['method/activity', 'topic']\n",
      "Martin: libraries ['entity (place)', 'topic']\n",
      "Martin: museums ['entity (place)', 'topic']\n",
      "Martin: images ['object-type', 'topic']\n",
      "Martin: archives ['entity (place)', 'topic']\n",
      "Martin: project ['object-type', 'entity (project)', 'topic']\n",
      "Martin: archiv ['entity (place)', 'topic']\n",
      "Nina: cultural hertitage ['object-type', 'topic']\n",
      "Martin: didactics ['discipline', 'topic']\n",
      "Martin: didaktik ['discipline', 'topic']\n",
      "Martin: kunst  ['discipline', 'topic']\n",
      "Martin: museum ['entity (place)', 'topic']\n",
      "Martin: virtual museum ['entity (place)', 'topic']\n",
      "Martin: virtuelles museum ['entity (place)', 'topic']\n",
      "Martin: archive ['entity (place)', 'topic']\n",
      "Martin: digitale edition ['object-type', 'topic']\n",
      "Nina: ui design ['method/activity', 'topic']\n",
      "Nina: african american history ['discipline', 'topic']\n",
      "Nina: african history ['discipline', 'topic']\n",
      "Nina: ai ['method/activity', 'topic']\n",
      "Nina: cuneiform ['resource/tool', 'topic']\n",
      "Nina: download ['method/activity', 'topic']\n",
      "Martin: eighteenth century poetry ['time period', 'topic']\n",
      "Martin: facetted search ['method/activity', 'topic']\n",
      "Nina: indian history ['discipline', 'topic']\n",
      "Nina: ipr ['discipline', 'topic']\n",
      "Martin: ipr issues ['discipline', 'topic']\n",
      "Nina: keywords from sshoc mp ['not categorizable', 'topic']\n",
      "Nina: kurdish ['language', 'topic']\n",
      "Nina: letter writing ['method/activity', 'topic']\n",
      "Martin: library ['entity (place)', 'topic']\n",
      "Martin: literary characters ['object-type', 'topic']\n",
      "Martin: literary plot ['object-type', 'topic']\n",
      "Martin: literary prizes ['object-type', 'topic']\n",
      "Martin: media format ['format/standard', 'topic']\n",
      "Martin: mesh ['format/standard', 'topic']\n",
      "Martin: metadata search ['method/activity', 'topic']\n",
      "Nina: muslim history ['discipline', 'topic']\n",
      "Martin: open research ['method/activity', 'topic']\n",
      "Martin: peer review ['method/activity', 'topic']\n",
      "Nina: peer review ['method/activity', 'topic']\n",
      "Martin: plastics ['object-type', 'topic']\n",
      "Martin: podcast ['object-type', 'topic']\n",
      "Martin: point cloud ['object-type', 'topic']\n",
      "Nina: point cloud ['object-type', 'topic']\n",
      "Martin: policies ['object-type', 'topic']\n",
      "Martin: production ['method/activity', 'topic']\n",
      "Nina: proper name disambiguation ['method/activity', 'topic']\n",
      "Nina: race films ['object-type', 'topic']\n",
      "Nina: random forest ['method/activity', 'topic']\n",
      "Nina: tbx in tei ['format/standard', 'topic']\n",
      "Nina: web3d ['entity (institution/organisation/brand)', 'topic']\n",
      "Martin: workplace ['entity (place)', 'topic']\n",
      "Martin: description ['method/activity', 'topic']\n",
      "Martin: animation ['method/activity', 'topic']\n",
      "Martin: arts ['discipline', 'topic']\n",
      "Martin: video capture ['method/activity', 'topic']\n",
      "Martin: academic publication ['object-type', 'method/activity', 'topic']\n",
      "Martin: design ['method/activity', 'topic']\n",
      "Nina: design ['method/activity', 'topic']\n",
      "Martin: diagramm ['method/activity', 'topic']\n",
      "Martin: digital publication ['object-type', 'method/activity', 'topic']\n",
      "Nina: identification ['method/activity', 'topic']\n",
      "Martin: abstract thinking ['method/activity', 'topic']\n",
      "Nina: concordance ['method/activity', 'topic']\n",
      "Nina: co-occurrence ['method/activity', 'topic']\n",
      "Nina: distance measures ['method/activity', 'topic']\n",
      "Martin: explanation ['object-type', 'method/activity', 'topic']\n",
      "Martin: exploration ['object-type', 'method/activity', 'topic']\n",
      "Martin: collaboration ['method/activity', 'topic']\n",
      "Martin: conversion ['method/activity', 'topic']\n",
      "Nina: annotation system design ['method/activity', 'topic']\n",
      "Martin: computer network resources ['object-type', 'topic']\n",
      "Martin: conferences ['entity (event)', 'topic']\n",
      "Martin: criticism, textual ['method/activity', 'topic']\n",
      "Martin: criticism, textual y ['method/activity', 'topic']\n",
      "Martin: cv ['object-type', 'topic']\n",
      "Martin: forschungsdatenmanagement ['method/activity', 'topic']\n",
      "Martin: history matters ['discipline', 'topic']\n",
      "Martin: method ['method/activity', 'topic']\n",
      "Martin: methodology ['method/activity', 'topic']\n",
      "Martin: text technology ['discipline', 'topic']\n",
      "Martin: 3d ['format/standard', 'topic']\n",
      "Nina: ethics ['discipline', 'topic']\n",
      "Martin: certification ['method/activity', 'topic']\n",
      "Nina: certification ['method/activity', 'topic']\n",
      "Nina: singapore english ['language', 'topic']\n",
      "Nina: emulation ['method/activity', 'topic']\n",
      "Martin: namedentities ['object-type', 'topic']\n",
      "Martin: o-methods ['object-type', 'topic']\n",
      "Martin: ontologie ['object-type', 'topic']\n",
      "Martin: dokumentation ['method/activity', 'topic']\n",
      "Nina: dokumentation ['method/activity', 'topic']\n",
      "Martin: ontologie (top-level) ['object-type', 'topic']\n",
      "Martin: the event ontology ['object-type', 'topic']\n",
      "Martin: wikipedia_as_model ['resource/tool', 'topic']\n",
      "Martin: wikipedia_as_subject ['resource/tool', 'topic']\n",
      "Martin: wikipedia_critique ['resource/tool', 'topic']\n",
      "Martin: digital communications ['object-type', 'topic']\n",
      "Martin: canadian century research infrastructure ['entity (place)', 'multiple tags', 'topic']\n",
      "Nina: history study & teaching ['multiple tags', 'topic']\n",
      "Nina: publishers and publishing ['multiple tags', 'topic']\n",
      "Martin: wikipedia_pedagogy ['resource/tool', 'topic']\n",
      "Martin: internet (review article) ['multiple tags', 'topic']\n",
      "Martin: paper ['object-type', 'topic']\n",
      "Martin: united states social life & customs to 1775 ['entity (place)', 'multiple tags', 'topic']\n",
      "Martin: recessions ['object-type', 'topic']\n",
      "Nina: surveys ['method/activity', 'topic']\n",
      "Martin: visual aids ['object-type', 'topic']\n",
      "Martin: pathfinder networks ['object-type', 'topic']\n",
      "Nina: city planning ['method/activity', 'topic']\n",
      "Nina: geodh ['discipline', 'topic']\n",
      "Nina: information management ['method/activity', 'topic']\n",
      "Martin: conceptual art ['discipline', 'topic']\n",
      "Martin: ideas ['object-type', 'topic']\n",
      "Nina: study of hebrew ['discipline', 'topic']\n",
      "Martin: ontologies ['object-type', 'topic']\n",
      "Martin: inkunabel ['object-type', 'topic']\n",
      "Martin: language theory ['discipline', 'topic']\n",
      "Nina: ästhetik ['discipline', 'topic']\n",
      "Martin: handschriften. epigrafie. paleografie ['discipline', 'multiple tags', 'topic']\n",
      "Nina: ecdotica ['method/activity', 'topic']\n",
      "Martin: bibliography theory, methods, etc ['multiple tags', 'topic']\n",
      "Martin: citation ['method/activity', 'topic']\n",
      "Nina: citation ['method/activity', 'topic']\n",
      "Martin: imitation ['method/activity', 'topic']\n",
      "Nina: corpus stylistics ['discipline', 'topic']\n",
      "Martin: suspended quotation ['method/activity', 'topic']\n",
      "Nina: cscw ['discipline', 'topic']\n",
      "Martin: longitudinal case study ['object-type', 'topic']\n",
      "Nina: documentation ['method/activity', 'topic']\n",
      "Martin: historical spelling variants ['object-type', 'topic']\n",
      "Martin: convolutional and recurrent neural networks ['object-type', 'multiple tags', 'topic']\n",
      "Nina: convolutional and recurrent neural networks ['method/activity', 'topic']\n",
      "Martin: convolutional neural networks ['object-type', 'topic']\n",
      "Nina: convolutional neural networks ['method/activity', 'topic']\n",
      "Martin: recurrent neural nets ['object-type', 'topic']\n",
      "Martin: recurrent neural networks ['object-type', 'topic']\n",
      "Martin: simulation and games ['object-type', 'multiple tags', 'topic']\n",
      "Martin: online games ['object-type', 'topic']\n",
      "Martin: critical thinking ['method/activity', 'topic']\n",
      "Nina: intellectual collaboration ['method/activity', 'topic']\n",
      "Nina: written communication ['method/activity', 'topic']\n",
      "Martin: real-time distributed groupware ['resource/tool', 'topic']\n",
      "Martin: information-rich virtual environments ['object-type', 'topic']\n",
      "Martin: relationships ['object-type', 'topic']\n",
      "Martin: trust ['entity (institution/organisation/brand)', 'topic']\n",
      "Martin: virtual teams ['object-type', 'topic']\n",
      "Martin: computer mediated communication ['discipline', 'topic']\n",
      "Martin: structural features ['object-type', 'topic']\n",
      "Martin: computers and the internet ['object-type', 'multiple tags', 'topic']\n",
      "Martin: open educational resources ['object-type', 'topic']\n",
      "Nina: literary criticism ['method/activity', 'topic']\n",
      "Nina: field study ['method/activity', 'topic']\n",
      "Nina: humanities computing ['discipline', 'topic']\n",
      "Martin: play ['method/activity', 'topic']\n",
      "Martin: literary criticism / ancient & classical ['multiple tags', 'topic']\n",
      "Martin: literary criticism / medieval ['multiple tags', 'topic']\n",
      "Martin: literary criticism / women authors ['multiple tags', 'topic']\n",
      "Martin: poetry / european / english, irish, scottish, welsh ['multiple tags', 'topic']\n",
      "Martin: civilization, medieval, in literature ['multiple tags', 'time period', 'topic']\n",
      "Martin: english literature/ middle english, 1100-1500/ history and criticism ['multiple tags', 'language', 'topic']\n",
      "Martin: transgender and transsexual ['multiple tags', 'topic']\n",
      "Martin: political science / civil rights ['discipline', 'multiple tags', 'topic']\n",
      "Nina: invisibleaustralians ['topic', 'resource/tool', 'entity (project)']\n",
      "Martin: white australia ['entity (place)', 'topic']\n",
      "Martin: music / genres & styles / rap & hip hop ['multiple tags', 'topic']\n",
      "Martin: vulgate ['object-type', 'topic']\n",
      "Nina: british ['entity (place)', 'topic']\n",
      "Martin: humanistic ['discipline', 'topic']\n",
      "Nina: share ['method/activity', 'topic']\n",
      "Nina: architectural history ['discipline', 'topic']\n",
      "Martin: dh 2011 opening keynote ['object-type', 'topic']\n",
      "Martin: picture ['object-type', 'topic']\n",
      "Martin: senseable city ['entity (place)', 'topic']\n",
      "Martin: sensible city ['entity (place)', 'topic']\n",
      "Martin: space ['entity (place)', 'topic']\n",
      "Martin: wits ['object-type', 'topic']\n",
      "Martin: hypercities ['object-type', 'entity (place)', 'topic']\n",
      "Martin: palimpsest ['object-type', 'topic']\n",
      "Martin: interfaces (informatique) ['object-type', 'topic']\n",
      "Martin: médias ['object-type', 'topic']\n",
      "Martin: lecture à l’écran ['entity (event)', 'topic']\n",
      "Martin: lecture distante ['entity (event)', 'topic']\n",
      "Martin: philosophy / criticism ['discipline', 'multiple tags', 'topic']\n",
      "Martin: literary criticism / books & reading ['multiple tags', 'method/activity', 'topic']\n",
      "Martin: literary criticism / australian & oceanian ['entity (place)', 'multiple tags', 'topic']\n",
      "Martin: language arts & disciplines / linguistics / semantics ['discipline', 'multiple tags', 'topic']\n",
      "Martin: language arts & disciplines / rhetoric ['discipline', 'multiple tags', 'topic']\n",
      "Martin: language arts & disciplines / speech ['discipline', 'multiple tags', 'topic']\n",
      "Martin: foreign language study / english as a second language ['discipline', 'multiple tags', 'topic']\n",
      "Martin: language arts & disciplines / library & information science / archives & special libraries ['discipline', 'multiple tags', 'topic']\n",
      "Martin: language arts & disciplines / general ['discipline', 'multiple tags', 'topic']\n",
      "Martin: language arts & disciplines / literacy ['discipline', 'multiple tags', 'topic']\n",
      "Martin: computers / programming / general ['multiple tags', 'method/activity', 'topic']\n",
      "Martin: literary criticism / reference ['multiple tags', 'topic']\n",
      "Martin: bestiaire ['object-type', 'topic']\n",
      "Martin: computers / information technology ['discipline', 'multiple tags', 'topic']\n",
      "Martin: computers / system administration / storage & retrieval ['discipline', 'method/activity', 'topic']\n",
      "Martin: computers / optical data processing ['multiple tags', 'method/activity', 'topic']\n",
      "Martin: computers / computer vision & pattern recognition ['multiple tags', 'method/activity', 'topic']\n",
      "Martin: computers / data processing ['multiple tags', 'method/activity', 'topic']\n",
      "Martin: computers / intelligence (ai) & semantics ['multiple tags', 'topic']\n",
      "Martin: corpus linguistique ['object-type', 'topic']\n",
      "Martin: littérature française 19e siècle thèmes, motifs ['multiple tags', 'time period', 'topic']\n",
      "Martin: voyages dans la littérature ['object-type', 'topic']\n",
      "Martin: corpus (recherche) ['object-type', 'topic']\n",
      "Martin: markup language ['format/standard', 'topic']\n",
      "Nina: text processing (computer science) ['method/activity', 'topic']\n",
      "Martin: speculation ['method/activity', 'topic']\n",
      "Nina: speculation ['method/activity', 'topic']\n",
      "Nina: exist knowledge base ['object-type', 'topic']\n",
      "Nina: query expansion ['method/activity', 'topic']\n",
      "Martin: dense region ['entity (place)', 'topic']\n",
      "Martin: computers / interactive & multimedia ['multiple tags', 'topic']\n",
      "Martin: computers / networking / hardware ['multiple tags', 'method/activity', 'topic']\n",
      "Martin: police report ['object-type', 'topic']\n",
      "Martin: product review ['object-type', 'topic']\n",
      "Martin: co-occurrences ['object-type', 'topic']\n",
      "Martin: cooccurrences ['object-type', 'topic']\n",
      "Martin: corrélats ['object-type', 'topic']\n",
      "Martin: digital text ['object-type', 'topic']\n",
      "Martin: criticism ['method/activity', 'topic']\n",
      "Nina: criticism ['method/activity', 'topic']\n",
      "Martin: computer science - artificial intelligence ['discipline', 'multiple tags', 'topic']\n",
      "Martin: mathematics / probability & statistics / general ['discipline', 'multiple tags', 'topic']\n",
      "Nina: linguistique de corpus ['discipline', 'topic']\n",
      "Nina: linguistique systémique fonctionnelle ['discipline', 'topic']\n",
      "Nina: estadísticas lexicales ['method/activity', 'topic']\n",
      "Nina: lexical studies ['discipline', 'method/activity', 'topic']\n",
      "Nina: statistiques lexicales ['method/activity', 'topic']\n",
      "Martin: drama / shakespeare ['topic', 'multiple tags', 'entity (person)']\n",
      "Martin: literary criticism / shakespeare ['topic', 'multiple tags', 'entity (person)']\n",
      "Martin: literary criticism / european / german ['multiple tags', 'language', 'topic']\n",
      "Martin: electronics ['discipline', 'topic']\n",
      "Martin: hyperdokument ['object-type', 'topic']\n",
      "Martin: hypertextdokument ['object-type', 'topic']\n",
      "Martin: web mapping, internet, map-based online system, mapserver ['multiple tags', 'method/activity', 'topic']\n",
      "Martin: web-mapping, internet, kartenserver ['multiple tags', 'method/activity', 'topic']\n",
      "Martin: sanskrit literature ['language', 'topic']\n",
      "Nina: computer graphics ['discipline', 'topic']\n",
      "Martin: image processing and computer vision ['multiple tags', 'method/activity', 'topic']\n",
      "Nina: information storage and retrieval ['multiple tags', 'topic']\n",
      "Martin: information systems applications (incl.internet) ['object-type', 'topic']\n",
      "Martin: multimedia information systems ['object-type', 'topic']\n",
      "Nina: pragmatiek ['discipline', 'topic']\n",
      "Martin: digital scholarly editions ['object-type', 'topic']\n",
      "Nina: critique textuelle ['method/activity', 'topic']\n",
      "Martin: littérature française commentaire de texte ['language', 'topic']\n",
      "Martin: letterkunde: auteurs ['multiple tags', 'topic']\n",
      "Nina: processus de création ['method/activity', 'topic']\n",
      "Martin: technology (applied sciences) ['multiple tags', 'topic']\n",
      "Martin: criticism, textual congresses ['multiple tags', 'topic']\n",
      "Martin: critica del testo ['method/activity', 'topic']\n",
      "Nina: textual criticism n ['method/activity', 'topic']\n",
      "Nina: criticism, textual. y ['method/activity', 'topic']\n",
      "Martin: italian language criticism, textual. ['language', 'topic']\n",
      "Nina: italian language criticism, textual. ['method/activity', 'topic']\n",
      "Martin: latin language criticism, textual. ['language', 'topic']\n",
      "Nina: latin language criticism, textual. ['method/activity', 'topic']\n",
      "Martin: criticism, textual handbooks, manuals, etc. y ['object-type', 'multiple tags', 'topic']\n",
      "Martin: italian literature criticism, textual ['language', 'topic']\n",
      "\n",
      "Martin: Topic in 251 Fällen zusätzlich verwendet\n",
      "Nina: Topic in 111 Fällen zusätzlich verwendet\n"
     ]
    }
   ],
   "source": [
    "#Einblick: Wann kommt Topic zusätzlich zu einer anderen Kategorisierung vor?\n",
    "#Topic als sekundäre Kategorie verstehen (z.B. object-type und entities sind automatisch immer auch topic)?\n",
    "\n",
    "count_martin = 0\n",
    "count_nina = 0\n",
    "\n",
    "for x in df.index:\n",
    "    tag = df.loc[x, \"Tag\"]\n",
    "    rating1 = df.loc[x, \"Categories_x\"]\n",
    "    rating2 = df.loc[x, \"Categories_y\"]\n",
    "    if len(rating1) > 1 and \"topic\" in rating1:\n",
    "        print(\"Martin:\", tag, [x for x in rating1])\n",
    "        count_martin = count_martin + 1\n",
    "    if len(rating2) > 1 and \"topic\" in rating2:\n",
    "        print(\"Nina:\", tag, [x for x in rating2])\n",
    "        count_nina = count_nina + 1\n",
    "\n",
    "print()\n",
    "print(\"Martin: Topic in\", count_martin, \"Fällen zusätzlich verwendet\")\n",
    "print(\"Nina: Topic in\", count_nina, \"Fällen zusätzlich verwendet\")"
   ]
  },
  {
   "cell_type": "markdown",
   "metadata": {},
   "source": [
    "### Insight into individual rater behaviour"
   ]
  },
  {
   "cell_type": "code",
   "execution_count": 13,
   "metadata": {},
   "outputs": [
    {
     "data": {
      "application/vnd.plotly.v1+json": {
       "config": {
        "plotlyServerURL": "https://plot.ly"
       },
       "data": [
        {
         "marker": {
          "color": "skyblue"
         },
         "type": "bar",
         "x": [
          "discipline",
          "entity (event)",
          "entity (institution/organisation/brand)",
          "entity (person)",
          "entity (place)",
          "entity (product)",
          "entity (project)",
          "format/standard",
          "language",
          "method/activity",
          "multiple tags",
          "not categorizable",
          "object-type",
          "resource/tool",
          "time period",
          "topic"
         ],
         "y": [
          358,
          23,
          82,
          154,
          161,
          9,
          28,
          84,
          124,
          545,
          173,
          174,
          510,
          90,
          57,
          829
         ]
        }
       ],
       "layout": {
        "showlegend": false,
        "template": {
         "data": {
          "bar": [
           {
            "error_x": {
             "color": "#2a3f5f"
            },
            "error_y": {
             "color": "#2a3f5f"
            },
            "marker": {
             "line": {
              "color": "white",
              "width": 0.5
             },
             "pattern": {
              "fillmode": "overlay",
              "size": 10,
              "solidity": 0.2
             }
            },
            "type": "bar"
           }
          ],
          "barpolar": [
           {
            "marker": {
             "line": {
              "color": "white",
              "width": 0.5
             },
             "pattern": {
              "fillmode": "overlay",
              "size": 10,
              "solidity": 0.2
             }
            },
            "type": "barpolar"
           }
          ],
          "carpet": [
           {
            "aaxis": {
             "endlinecolor": "#2a3f5f",
             "gridcolor": "#C8D4E3",
             "linecolor": "#C8D4E3",
             "minorgridcolor": "#C8D4E3",
             "startlinecolor": "#2a3f5f"
            },
            "baxis": {
             "endlinecolor": "#2a3f5f",
             "gridcolor": "#C8D4E3",
             "linecolor": "#C8D4E3",
             "minorgridcolor": "#C8D4E3",
             "startlinecolor": "#2a3f5f"
            },
            "type": "carpet"
           }
          ],
          "choropleth": [
           {
            "colorbar": {
             "outlinewidth": 0,
             "ticks": ""
            },
            "type": "choropleth"
           }
          ],
          "contour": [
           {
            "colorbar": {
             "outlinewidth": 0,
             "ticks": ""
            },
            "colorscale": [
             [
              0,
              "#0d0887"
             ],
             [
              0.1111111111111111,
              "#46039f"
             ],
             [
              0.2222222222222222,
              "#7201a8"
             ],
             [
              0.3333333333333333,
              "#9c179e"
             ],
             [
              0.4444444444444444,
              "#bd3786"
             ],
             [
              0.5555555555555556,
              "#d8576b"
             ],
             [
              0.6666666666666666,
              "#ed7953"
             ],
             [
              0.7777777777777778,
              "#fb9f3a"
             ],
             [
              0.8888888888888888,
              "#fdca26"
             ],
             [
              1,
              "#f0f921"
             ]
            ],
            "type": "contour"
           }
          ],
          "contourcarpet": [
           {
            "colorbar": {
             "outlinewidth": 0,
             "ticks": ""
            },
            "type": "contourcarpet"
           }
          ],
          "heatmap": [
           {
            "colorbar": {
             "outlinewidth": 0,
             "ticks": ""
            },
            "colorscale": [
             [
              0,
              "#0d0887"
             ],
             [
              0.1111111111111111,
              "#46039f"
             ],
             [
              0.2222222222222222,
              "#7201a8"
             ],
             [
              0.3333333333333333,
              "#9c179e"
             ],
             [
              0.4444444444444444,
              "#bd3786"
             ],
             [
              0.5555555555555556,
              "#d8576b"
             ],
             [
              0.6666666666666666,
              "#ed7953"
             ],
             [
              0.7777777777777778,
              "#fb9f3a"
             ],
             [
              0.8888888888888888,
              "#fdca26"
             ],
             [
              1,
              "#f0f921"
             ]
            ],
            "type": "heatmap"
           }
          ],
          "heatmapgl": [
           {
            "colorbar": {
             "outlinewidth": 0,
             "ticks": ""
            },
            "colorscale": [
             [
              0,
              "#0d0887"
             ],
             [
              0.1111111111111111,
              "#46039f"
             ],
             [
              0.2222222222222222,
              "#7201a8"
             ],
             [
              0.3333333333333333,
              "#9c179e"
             ],
             [
              0.4444444444444444,
              "#bd3786"
             ],
             [
              0.5555555555555556,
              "#d8576b"
             ],
             [
              0.6666666666666666,
              "#ed7953"
             ],
             [
              0.7777777777777778,
              "#fb9f3a"
             ],
             [
              0.8888888888888888,
              "#fdca26"
             ],
             [
              1,
              "#f0f921"
             ]
            ],
            "type": "heatmapgl"
           }
          ],
          "histogram": [
           {
            "marker": {
             "pattern": {
              "fillmode": "overlay",
              "size": 10,
              "solidity": 0.2
             }
            },
            "type": "histogram"
           }
          ],
          "histogram2d": [
           {
            "colorbar": {
             "outlinewidth": 0,
             "ticks": ""
            },
            "colorscale": [
             [
              0,
              "#0d0887"
             ],
             [
              0.1111111111111111,
              "#46039f"
             ],
             [
              0.2222222222222222,
              "#7201a8"
             ],
             [
              0.3333333333333333,
              "#9c179e"
             ],
             [
              0.4444444444444444,
              "#bd3786"
             ],
             [
              0.5555555555555556,
              "#d8576b"
             ],
             [
              0.6666666666666666,
              "#ed7953"
             ],
             [
              0.7777777777777778,
              "#fb9f3a"
             ],
             [
              0.8888888888888888,
              "#fdca26"
             ],
             [
              1,
              "#f0f921"
             ]
            ],
            "type": "histogram2d"
           }
          ],
          "histogram2dcontour": [
           {
            "colorbar": {
             "outlinewidth": 0,
             "ticks": ""
            },
            "colorscale": [
             [
              0,
              "#0d0887"
             ],
             [
              0.1111111111111111,
              "#46039f"
             ],
             [
              0.2222222222222222,
              "#7201a8"
             ],
             [
              0.3333333333333333,
              "#9c179e"
             ],
             [
              0.4444444444444444,
              "#bd3786"
             ],
             [
              0.5555555555555556,
              "#d8576b"
             ],
             [
              0.6666666666666666,
              "#ed7953"
             ],
             [
              0.7777777777777778,
              "#fb9f3a"
             ],
             [
              0.8888888888888888,
              "#fdca26"
             ],
             [
              1,
              "#f0f921"
             ]
            ],
            "type": "histogram2dcontour"
           }
          ],
          "mesh3d": [
           {
            "colorbar": {
             "outlinewidth": 0,
             "ticks": ""
            },
            "type": "mesh3d"
           }
          ],
          "parcoords": [
           {
            "line": {
             "colorbar": {
              "outlinewidth": 0,
              "ticks": ""
             }
            },
            "type": "parcoords"
           }
          ],
          "pie": [
           {
            "automargin": true,
            "type": "pie"
           }
          ],
          "scatter": [
           {
            "marker": {
             "colorbar": {
              "outlinewidth": 0,
              "ticks": ""
             }
            },
            "type": "scatter"
           }
          ],
          "scatter3d": [
           {
            "line": {
             "colorbar": {
              "outlinewidth": 0,
              "ticks": ""
             }
            },
            "marker": {
             "colorbar": {
              "outlinewidth": 0,
              "ticks": ""
             }
            },
            "type": "scatter3d"
           }
          ],
          "scattercarpet": [
           {
            "marker": {
             "colorbar": {
              "outlinewidth": 0,
              "ticks": ""
             }
            },
            "type": "scattercarpet"
           }
          ],
          "scattergeo": [
           {
            "marker": {
             "colorbar": {
              "outlinewidth": 0,
              "ticks": ""
             }
            },
            "type": "scattergeo"
           }
          ],
          "scattergl": [
           {
            "marker": {
             "colorbar": {
              "outlinewidth": 0,
              "ticks": ""
             }
            },
            "type": "scattergl"
           }
          ],
          "scattermapbox": [
           {
            "marker": {
             "colorbar": {
              "outlinewidth": 0,
              "ticks": ""
             }
            },
            "type": "scattermapbox"
           }
          ],
          "scatterpolar": [
           {
            "marker": {
             "colorbar": {
              "outlinewidth": 0,
              "ticks": ""
             }
            },
            "type": "scatterpolar"
           }
          ],
          "scatterpolargl": [
           {
            "marker": {
             "colorbar": {
              "outlinewidth": 0,
              "ticks": ""
             }
            },
            "type": "scatterpolargl"
           }
          ],
          "scatterternary": [
           {
            "marker": {
             "colorbar": {
              "outlinewidth": 0,
              "ticks": ""
             }
            },
            "type": "scatterternary"
           }
          ],
          "surface": [
           {
            "colorbar": {
             "outlinewidth": 0,
             "ticks": ""
            },
            "colorscale": [
             [
              0,
              "#0d0887"
             ],
             [
              0.1111111111111111,
              "#46039f"
             ],
             [
              0.2222222222222222,
              "#7201a8"
             ],
             [
              0.3333333333333333,
              "#9c179e"
             ],
             [
              0.4444444444444444,
              "#bd3786"
             ],
             [
              0.5555555555555556,
              "#d8576b"
             ],
             [
              0.6666666666666666,
              "#ed7953"
             ],
             [
              0.7777777777777778,
              "#fb9f3a"
             ],
             [
              0.8888888888888888,
              "#fdca26"
             ],
             [
              1,
              "#f0f921"
             ]
            ],
            "type": "surface"
           }
          ],
          "table": [
           {
            "cells": {
             "fill": {
              "color": "#EBF0F8"
             },
             "line": {
              "color": "white"
             }
            },
            "header": {
             "fill": {
              "color": "#C8D4E3"
             },
             "line": {
              "color": "white"
             }
            },
            "type": "table"
           }
          ]
         },
         "layout": {
          "annotationdefaults": {
           "arrowcolor": "#2a3f5f",
           "arrowhead": 0,
           "arrowwidth": 1
          },
          "autotypenumbers": "strict",
          "coloraxis": {
           "colorbar": {
            "outlinewidth": 0,
            "ticks": ""
           }
          },
          "colorscale": {
           "diverging": [
            [
             0,
             "#8e0152"
            ],
            [
             0.1,
             "#c51b7d"
            ],
            [
             0.2,
             "#de77ae"
            ],
            [
             0.3,
             "#f1b6da"
            ],
            [
             0.4,
             "#fde0ef"
            ],
            [
             0.5,
             "#f7f7f7"
            ],
            [
             0.6,
             "#e6f5d0"
            ],
            [
             0.7,
             "#b8e186"
            ],
            [
             0.8,
             "#7fbc41"
            ],
            [
             0.9,
             "#4d9221"
            ],
            [
             1,
             "#276419"
            ]
           ],
           "sequential": [
            [
             0,
             "#0d0887"
            ],
            [
             0.1111111111111111,
             "#46039f"
            ],
            [
             0.2222222222222222,
             "#7201a8"
            ],
            [
             0.3333333333333333,
             "#9c179e"
            ],
            [
             0.4444444444444444,
             "#bd3786"
            ],
            [
             0.5555555555555556,
             "#d8576b"
            ],
            [
             0.6666666666666666,
             "#ed7953"
            ],
            [
             0.7777777777777778,
             "#fb9f3a"
            ],
            [
             0.8888888888888888,
             "#fdca26"
            ],
            [
             1,
             "#f0f921"
            ]
           ],
           "sequentialminus": [
            [
             0,
             "#0d0887"
            ],
            [
             0.1111111111111111,
             "#46039f"
            ],
            [
             0.2222222222222222,
             "#7201a8"
            ],
            [
             0.3333333333333333,
             "#9c179e"
            ],
            [
             0.4444444444444444,
             "#bd3786"
            ],
            [
             0.5555555555555556,
             "#d8576b"
            ],
            [
             0.6666666666666666,
             "#ed7953"
            ],
            [
             0.7777777777777778,
             "#fb9f3a"
            ],
            [
             0.8888888888888888,
             "#fdca26"
            ],
            [
             1,
             "#f0f921"
            ]
           ]
          },
          "colorway": [
           "#636efa",
           "#EF553B",
           "#00cc96",
           "#ab63fa",
           "#FFA15A",
           "#19d3f3",
           "#FF6692",
           "#B6E880",
           "#FF97FF",
           "#FECB52"
          ],
          "font": {
           "color": "#2a3f5f"
          },
          "geo": {
           "bgcolor": "white",
           "lakecolor": "white",
           "landcolor": "white",
           "showlakes": true,
           "showland": true,
           "subunitcolor": "#C8D4E3"
          },
          "hoverlabel": {
           "align": "left"
          },
          "hovermode": "closest",
          "mapbox": {
           "style": "light"
          },
          "paper_bgcolor": "white",
          "plot_bgcolor": "white",
          "polar": {
           "angularaxis": {
            "gridcolor": "#EBF0F8",
            "linecolor": "#EBF0F8",
            "ticks": ""
           },
           "bgcolor": "white",
           "radialaxis": {
            "gridcolor": "#EBF0F8",
            "linecolor": "#EBF0F8",
            "ticks": ""
           }
          },
          "scene": {
           "xaxis": {
            "backgroundcolor": "white",
            "gridcolor": "#DFE8F3",
            "gridwidth": 2,
            "linecolor": "#EBF0F8",
            "showbackground": true,
            "ticks": "",
            "zerolinecolor": "#EBF0F8"
           },
           "yaxis": {
            "backgroundcolor": "white",
            "gridcolor": "#DFE8F3",
            "gridwidth": 2,
            "linecolor": "#EBF0F8",
            "showbackground": true,
            "ticks": "",
            "zerolinecolor": "#EBF0F8"
           },
           "zaxis": {
            "backgroundcolor": "white",
            "gridcolor": "#DFE8F3",
            "gridwidth": 2,
            "linecolor": "#EBF0F8",
            "showbackground": true,
            "ticks": "",
            "zerolinecolor": "#EBF0F8"
           }
          },
          "shapedefaults": {
           "line": {
            "color": "#2a3f5f"
           }
          },
          "ternary": {
           "aaxis": {
            "gridcolor": "#DFE8F3",
            "linecolor": "#A2B1C6",
            "ticks": ""
           },
           "baxis": {
            "gridcolor": "#DFE8F3",
            "linecolor": "#A2B1C6",
            "ticks": ""
           },
           "bgcolor": "white",
           "caxis": {
            "gridcolor": "#DFE8F3",
            "linecolor": "#A2B1C6",
            "ticks": ""
           }
          },
          "title": {
           "x": 0.05
          },
          "xaxis": {
           "automargin": true,
           "gridcolor": "#EBF0F8",
           "linecolor": "#EBF0F8",
           "ticks": "",
           "title": {
            "standoff": 15
           },
           "zerolinecolor": "#EBF0F8",
           "zerolinewidth": 2
          },
          "yaxis": {
           "automargin": true,
           "gridcolor": "#EBF0F8",
           "linecolor": "#EBF0F8",
           "ticks": "",
           "title": {
            "standoff": 15
           },
           "zerolinecolor": "#EBF0F8",
           "zerolinewidth": 2
          }
         }
        },
        "title": {
         "text": "Categorizations by Martin"
        },
        "xaxis": {
         "title": {
          "text": "Element"
         }
        },
        "yaxis": {
         "title": {
          "text": "Count"
         }
        }
       }
      }
     },
     "metadata": {},
     "output_type": "display_data"
    }
   ],
   "source": [
    "# Flatten the frozensets and count occurrences\n",
    "counter = Counter([item for subset in df['Categories_x'] for item in subset])\n",
    "\n",
    "# Separate the keys and values for plotting\n",
    "items, counts = zip(*sorted(counter.items(), key=lambda x: x[0]))\n",
    "\n",
    "# Plot\n",
    "fig = go.Figure(data=[\n",
    "    go.Bar(x=items, y=counts, marker_color='skyblue')\n",
    "])\n",
    "\n",
    "fig.update_layout(\n",
    "    title='Categorizations by Martin',\n",
    "    xaxis_title='Element',\n",
    "    yaxis_title='Count',\n",
    "    showlegend=False,\n",
    "    template=\"plotly_white\"\n",
    ")\n",
    "\n",
    "fig.show()"
   ]
  },
  {
   "cell_type": "code",
   "execution_count": 14,
   "metadata": {},
   "outputs": [
    {
     "data": {
      "application/vnd.plotly.v1+json": {
       "config": {
        "plotlyServerURL": "https://plot.ly"
       },
       "data": [
        {
         "marker": {
          "color": "skyblue"
         },
         "type": "bar",
         "x": [
          "discipline",
          "entity (event)",
          "entity (institution/organisation/brand)",
          "entity (person)",
          "entity (place)",
          "entity (product)",
          "entity (project)",
          "format/standard",
          "language",
          "method/activity",
          "multiple tags",
          "not categorizable",
          "object-type",
          "resource/tool",
          "time period",
          "topic"
         ],
         "y": [
          244,
          14,
          76,
          100,
          104,
          21,
          6,
          48,
          102,
          529,
          158,
          103,
          440,
          104,
          24,
          976
         ]
        }
       ],
       "layout": {
        "showlegend": false,
        "template": {
         "data": {
          "bar": [
           {
            "error_x": {
             "color": "#2a3f5f"
            },
            "error_y": {
             "color": "#2a3f5f"
            },
            "marker": {
             "line": {
              "color": "white",
              "width": 0.5
             },
             "pattern": {
              "fillmode": "overlay",
              "size": 10,
              "solidity": 0.2
             }
            },
            "type": "bar"
           }
          ],
          "barpolar": [
           {
            "marker": {
             "line": {
              "color": "white",
              "width": 0.5
             },
             "pattern": {
              "fillmode": "overlay",
              "size": 10,
              "solidity": 0.2
             }
            },
            "type": "barpolar"
           }
          ],
          "carpet": [
           {
            "aaxis": {
             "endlinecolor": "#2a3f5f",
             "gridcolor": "#C8D4E3",
             "linecolor": "#C8D4E3",
             "minorgridcolor": "#C8D4E3",
             "startlinecolor": "#2a3f5f"
            },
            "baxis": {
             "endlinecolor": "#2a3f5f",
             "gridcolor": "#C8D4E3",
             "linecolor": "#C8D4E3",
             "minorgridcolor": "#C8D4E3",
             "startlinecolor": "#2a3f5f"
            },
            "type": "carpet"
           }
          ],
          "choropleth": [
           {
            "colorbar": {
             "outlinewidth": 0,
             "ticks": ""
            },
            "type": "choropleth"
           }
          ],
          "contour": [
           {
            "colorbar": {
             "outlinewidth": 0,
             "ticks": ""
            },
            "colorscale": [
             [
              0,
              "#0d0887"
             ],
             [
              0.1111111111111111,
              "#46039f"
             ],
             [
              0.2222222222222222,
              "#7201a8"
             ],
             [
              0.3333333333333333,
              "#9c179e"
             ],
             [
              0.4444444444444444,
              "#bd3786"
             ],
             [
              0.5555555555555556,
              "#d8576b"
             ],
             [
              0.6666666666666666,
              "#ed7953"
             ],
             [
              0.7777777777777778,
              "#fb9f3a"
             ],
             [
              0.8888888888888888,
              "#fdca26"
             ],
             [
              1,
              "#f0f921"
             ]
            ],
            "type": "contour"
           }
          ],
          "contourcarpet": [
           {
            "colorbar": {
             "outlinewidth": 0,
             "ticks": ""
            },
            "type": "contourcarpet"
           }
          ],
          "heatmap": [
           {
            "colorbar": {
             "outlinewidth": 0,
             "ticks": ""
            },
            "colorscale": [
             [
              0,
              "#0d0887"
             ],
             [
              0.1111111111111111,
              "#46039f"
             ],
             [
              0.2222222222222222,
              "#7201a8"
             ],
             [
              0.3333333333333333,
              "#9c179e"
             ],
             [
              0.4444444444444444,
              "#bd3786"
             ],
             [
              0.5555555555555556,
              "#d8576b"
             ],
             [
              0.6666666666666666,
              "#ed7953"
             ],
             [
              0.7777777777777778,
              "#fb9f3a"
             ],
             [
              0.8888888888888888,
              "#fdca26"
             ],
             [
              1,
              "#f0f921"
             ]
            ],
            "type": "heatmap"
           }
          ],
          "heatmapgl": [
           {
            "colorbar": {
             "outlinewidth": 0,
             "ticks": ""
            },
            "colorscale": [
             [
              0,
              "#0d0887"
             ],
             [
              0.1111111111111111,
              "#46039f"
             ],
             [
              0.2222222222222222,
              "#7201a8"
             ],
             [
              0.3333333333333333,
              "#9c179e"
             ],
             [
              0.4444444444444444,
              "#bd3786"
             ],
             [
              0.5555555555555556,
              "#d8576b"
             ],
             [
              0.6666666666666666,
              "#ed7953"
             ],
             [
              0.7777777777777778,
              "#fb9f3a"
             ],
             [
              0.8888888888888888,
              "#fdca26"
             ],
             [
              1,
              "#f0f921"
             ]
            ],
            "type": "heatmapgl"
           }
          ],
          "histogram": [
           {
            "marker": {
             "pattern": {
              "fillmode": "overlay",
              "size": 10,
              "solidity": 0.2
             }
            },
            "type": "histogram"
           }
          ],
          "histogram2d": [
           {
            "colorbar": {
             "outlinewidth": 0,
             "ticks": ""
            },
            "colorscale": [
             [
              0,
              "#0d0887"
             ],
             [
              0.1111111111111111,
              "#46039f"
             ],
             [
              0.2222222222222222,
              "#7201a8"
             ],
             [
              0.3333333333333333,
              "#9c179e"
             ],
             [
              0.4444444444444444,
              "#bd3786"
             ],
             [
              0.5555555555555556,
              "#d8576b"
             ],
             [
              0.6666666666666666,
              "#ed7953"
             ],
             [
              0.7777777777777778,
              "#fb9f3a"
             ],
             [
              0.8888888888888888,
              "#fdca26"
             ],
             [
              1,
              "#f0f921"
             ]
            ],
            "type": "histogram2d"
           }
          ],
          "histogram2dcontour": [
           {
            "colorbar": {
             "outlinewidth": 0,
             "ticks": ""
            },
            "colorscale": [
             [
              0,
              "#0d0887"
             ],
             [
              0.1111111111111111,
              "#46039f"
             ],
             [
              0.2222222222222222,
              "#7201a8"
             ],
             [
              0.3333333333333333,
              "#9c179e"
             ],
             [
              0.4444444444444444,
              "#bd3786"
             ],
             [
              0.5555555555555556,
              "#d8576b"
             ],
             [
              0.6666666666666666,
              "#ed7953"
             ],
             [
              0.7777777777777778,
              "#fb9f3a"
             ],
             [
              0.8888888888888888,
              "#fdca26"
             ],
             [
              1,
              "#f0f921"
             ]
            ],
            "type": "histogram2dcontour"
           }
          ],
          "mesh3d": [
           {
            "colorbar": {
             "outlinewidth": 0,
             "ticks": ""
            },
            "type": "mesh3d"
           }
          ],
          "parcoords": [
           {
            "line": {
             "colorbar": {
              "outlinewidth": 0,
              "ticks": ""
             }
            },
            "type": "parcoords"
           }
          ],
          "pie": [
           {
            "automargin": true,
            "type": "pie"
           }
          ],
          "scatter": [
           {
            "marker": {
             "colorbar": {
              "outlinewidth": 0,
              "ticks": ""
             }
            },
            "type": "scatter"
           }
          ],
          "scatter3d": [
           {
            "line": {
             "colorbar": {
              "outlinewidth": 0,
              "ticks": ""
             }
            },
            "marker": {
             "colorbar": {
              "outlinewidth": 0,
              "ticks": ""
             }
            },
            "type": "scatter3d"
           }
          ],
          "scattercarpet": [
           {
            "marker": {
             "colorbar": {
              "outlinewidth": 0,
              "ticks": ""
             }
            },
            "type": "scattercarpet"
           }
          ],
          "scattergeo": [
           {
            "marker": {
             "colorbar": {
              "outlinewidth": 0,
              "ticks": ""
             }
            },
            "type": "scattergeo"
           }
          ],
          "scattergl": [
           {
            "marker": {
             "colorbar": {
              "outlinewidth": 0,
              "ticks": ""
             }
            },
            "type": "scattergl"
           }
          ],
          "scattermapbox": [
           {
            "marker": {
             "colorbar": {
              "outlinewidth": 0,
              "ticks": ""
             }
            },
            "type": "scattermapbox"
           }
          ],
          "scatterpolar": [
           {
            "marker": {
             "colorbar": {
              "outlinewidth": 0,
              "ticks": ""
             }
            },
            "type": "scatterpolar"
           }
          ],
          "scatterpolargl": [
           {
            "marker": {
             "colorbar": {
              "outlinewidth": 0,
              "ticks": ""
             }
            },
            "type": "scatterpolargl"
           }
          ],
          "scatterternary": [
           {
            "marker": {
             "colorbar": {
              "outlinewidth": 0,
              "ticks": ""
             }
            },
            "type": "scatterternary"
           }
          ],
          "surface": [
           {
            "colorbar": {
             "outlinewidth": 0,
             "ticks": ""
            },
            "colorscale": [
             [
              0,
              "#0d0887"
             ],
             [
              0.1111111111111111,
              "#46039f"
             ],
             [
              0.2222222222222222,
              "#7201a8"
             ],
             [
              0.3333333333333333,
              "#9c179e"
             ],
             [
              0.4444444444444444,
              "#bd3786"
             ],
             [
              0.5555555555555556,
              "#d8576b"
             ],
             [
              0.6666666666666666,
              "#ed7953"
             ],
             [
              0.7777777777777778,
              "#fb9f3a"
             ],
             [
              0.8888888888888888,
              "#fdca26"
             ],
             [
              1,
              "#f0f921"
             ]
            ],
            "type": "surface"
           }
          ],
          "table": [
           {
            "cells": {
             "fill": {
              "color": "#EBF0F8"
             },
             "line": {
              "color": "white"
             }
            },
            "header": {
             "fill": {
              "color": "#C8D4E3"
             },
             "line": {
              "color": "white"
             }
            },
            "type": "table"
           }
          ]
         },
         "layout": {
          "annotationdefaults": {
           "arrowcolor": "#2a3f5f",
           "arrowhead": 0,
           "arrowwidth": 1
          },
          "autotypenumbers": "strict",
          "coloraxis": {
           "colorbar": {
            "outlinewidth": 0,
            "ticks": ""
           }
          },
          "colorscale": {
           "diverging": [
            [
             0,
             "#8e0152"
            ],
            [
             0.1,
             "#c51b7d"
            ],
            [
             0.2,
             "#de77ae"
            ],
            [
             0.3,
             "#f1b6da"
            ],
            [
             0.4,
             "#fde0ef"
            ],
            [
             0.5,
             "#f7f7f7"
            ],
            [
             0.6,
             "#e6f5d0"
            ],
            [
             0.7,
             "#b8e186"
            ],
            [
             0.8,
             "#7fbc41"
            ],
            [
             0.9,
             "#4d9221"
            ],
            [
             1,
             "#276419"
            ]
           ],
           "sequential": [
            [
             0,
             "#0d0887"
            ],
            [
             0.1111111111111111,
             "#46039f"
            ],
            [
             0.2222222222222222,
             "#7201a8"
            ],
            [
             0.3333333333333333,
             "#9c179e"
            ],
            [
             0.4444444444444444,
             "#bd3786"
            ],
            [
             0.5555555555555556,
             "#d8576b"
            ],
            [
             0.6666666666666666,
             "#ed7953"
            ],
            [
             0.7777777777777778,
             "#fb9f3a"
            ],
            [
             0.8888888888888888,
             "#fdca26"
            ],
            [
             1,
             "#f0f921"
            ]
           ],
           "sequentialminus": [
            [
             0,
             "#0d0887"
            ],
            [
             0.1111111111111111,
             "#46039f"
            ],
            [
             0.2222222222222222,
             "#7201a8"
            ],
            [
             0.3333333333333333,
             "#9c179e"
            ],
            [
             0.4444444444444444,
             "#bd3786"
            ],
            [
             0.5555555555555556,
             "#d8576b"
            ],
            [
             0.6666666666666666,
             "#ed7953"
            ],
            [
             0.7777777777777778,
             "#fb9f3a"
            ],
            [
             0.8888888888888888,
             "#fdca26"
            ],
            [
             1,
             "#f0f921"
            ]
           ]
          },
          "colorway": [
           "#636efa",
           "#EF553B",
           "#00cc96",
           "#ab63fa",
           "#FFA15A",
           "#19d3f3",
           "#FF6692",
           "#B6E880",
           "#FF97FF",
           "#FECB52"
          ],
          "font": {
           "color": "#2a3f5f"
          },
          "geo": {
           "bgcolor": "white",
           "lakecolor": "white",
           "landcolor": "white",
           "showlakes": true,
           "showland": true,
           "subunitcolor": "#C8D4E3"
          },
          "hoverlabel": {
           "align": "left"
          },
          "hovermode": "closest",
          "mapbox": {
           "style": "light"
          },
          "paper_bgcolor": "white",
          "plot_bgcolor": "white",
          "polar": {
           "angularaxis": {
            "gridcolor": "#EBF0F8",
            "linecolor": "#EBF0F8",
            "ticks": ""
           },
           "bgcolor": "white",
           "radialaxis": {
            "gridcolor": "#EBF0F8",
            "linecolor": "#EBF0F8",
            "ticks": ""
           }
          },
          "scene": {
           "xaxis": {
            "backgroundcolor": "white",
            "gridcolor": "#DFE8F3",
            "gridwidth": 2,
            "linecolor": "#EBF0F8",
            "showbackground": true,
            "ticks": "",
            "zerolinecolor": "#EBF0F8"
           },
           "yaxis": {
            "backgroundcolor": "white",
            "gridcolor": "#DFE8F3",
            "gridwidth": 2,
            "linecolor": "#EBF0F8",
            "showbackground": true,
            "ticks": "",
            "zerolinecolor": "#EBF0F8"
           },
           "zaxis": {
            "backgroundcolor": "white",
            "gridcolor": "#DFE8F3",
            "gridwidth": 2,
            "linecolor": "#EBF0F8",
            "showbackground": true,
            "ticks": "",
            "zerolinecolor": "#EBF0F8"
           }
          },
          "shapedefaults": {
           "line": {
            "color": "#2a3f5f"
           }
          },
          "ternary": {
           "aaxis": {
            "gridcolor": "#DFE8F3",
            "linecolor": "#A2B1C6",
            "ticks": ""
           },
           "baxis": {
            "gridcolor": "#DFE8F3",
            "linecolor": "#A2B1C6",
            "ticks": ""
           },
           "bgcolor": "white",
           "caxis": {
            "gridcolor": "#DFE8F3",
            "linecolor": "#A2B1C6",
            "ticks": ""
           }
          },
          "title": {
           "x": 0.05
          },
          "xaxis": {
           "automargin": true,
           "gridcolor": "#EBF0F8",
           "linecolor": "#EBF0F8",
           "ticks": "",
           "title": {
            "standoff": 15
           },
           "zerolinecolor": "#EBF0F8",
           "zerolinewidth": 2
          },
          "yaxis": {
           "automargin": true,
           "gridcolor": "#EBF0F8",
           "linecolor": "#EBF0F8",
           "ticks": "",
           "title": {
            "standoff": 15
           },
           "zerolinecolor": "#EBF0F8",
           "zerolinewidth": 2
          }
         }
        },
        "title": {
         "text": "Categorizations by Nina"
        },
        "xaxis": {
         "title": {
          "text": "Element"
         }
        },
        "yaxis": {
         "title": {
          "text": "Count"
         }
        }
       }
      }
     },
     "metadata": {},
     "output_type": "display_data"
    }
   ],
   "source": [
    "# Flatten the frozensets and count occurrences\n",
    "counter = Counter([item for subset in df['Categories_y'] for item in subset])\n",
    "\n",
    "# Separate the keys and values for plotting\n",
    "items, counts = zip(*sorted(counter.items(), key=lambda x: x[0]))\n",
    "\n",
    "# Plot\n",
    "fig = go.Figure(data=[\n",
    "    go.Bar(x=items, y=counts, marker_color='skyblue')\n",
    "])\n",
    "\n",
    "fig.update_layout(\n",
    "    title='Categorizations by Nina',\n",
    "    xaxis_title='Element',\n",
    "    yaxis_title='Count',\n",
    "    showlegend=False,\n",
    "    template=\"plotly_white\"\n",
    ")\n",
    "\n",
    "fig.show()"
   ]
  },
  {
   "cell_type": "markdown",
   "metadata": {},
   "source": [
    "### Calculating Cohen's Kappa Coefficient"
   ]
  },
  {
   "cell_type": "markdown",
   "metadata": {},
   "source": [
    "**Cohen's Kappa coefficient**\n",
    "\n",
    "Notes on interpretation:\n",
    "- 1 = perfect agreement\n",
    "- 0.6-0.8 = good agreement\n",
    "- 0.4-0.6 = moderate agreement\n",
    "- 0.2-0.4 = fair agreement\n",
    "- 0-0.2 = slight agreement\n",
    "- 0 = what would be expected by chance, i.e. no actual agreement\n",
    "- < 0 = worse than what would be expected by chance\n",
    "\n",
    "Notes on advantages and limitations:\n",
    "- accounts for change agreement, thus more robust\n",
    "- for categorical data\n",
    "- assumes that categories are mutually exclusive and exhaustive"
   ]
  },
  {
   "cell_type": "code",
   "execution_count": 15,
   "metadata": {},
   "outputs": [
    {
     "name": "stdout",
     "output_type": "stream",
     "text": [
      "0.5494395080146149\n"
     ]
    }
   ],
   "source": [
    "df['Categories_rater1_str'] = df['Categories_x'].astype(str)\n",
    "df['Categories_rater2_str'] = df['Categories_y'].astype(str)\n",
    "kappa = cohen_kappa_score(df['Categories_rater1_str'], df['Categories_rater2_str'])\n",
    "print(kappa)"
   ]
  },
  {
   "cell_type": "markdown",
   "metadata": {},
   "source": [
    "### Counting matches and mismatches (Category1 etc. are considered as single data points, i.e. one keyword can lead to one to three (mis)matches)"
   ]
  },
  {
   "cell_type": "code",
   "execution_count": 16,
   "metadata": {},
   "outputs": [
    {
     "name": "stdout",
     "output_type": "stream",
     "text": [
      "Matches: 2183 (62%)\n",
      "Mismatches: 1333 (38%)\n"
     ]
    }
   ],
   "source": [
    "count_mismatch = 0\n",
    "count_match = 0\n",
    "\n",
    "for x in df.index:\n",
    "\n",
    "    #hier finden sich die Ratings als frozensets (= Reihenfolge spielt keine Rolle)\n",
    "    rating1 = df.loc[x, \"Categories_x\"]\n",
    "    rating2 = df.loc[x, \"Categories_y\"]\n",
    "\n",
    "    #Person, die mehr Tags vergeben hat, wird jeweils als Ausgangspunkt genommen\n",
    "    if len(rating1) >= len(rating2):\n",
    "        start_rating = rating1\n",
    "        compare_rating = rating2\n",
    "    else:\n",
    "        start_rating = rating2\n",
    "        compare_rating = rating1\n",
    "\n",
    "    #Count für diese Zeile auf 0 setzen\n",
    "    count_match_row = 0\n",
    "    count_mismatch_row = 0\n",
    "\n",
    "    #zählen der Matches und Mismatches\n",
    "    for entry in start_rating:\n",
    "        if entry in compare_rating:\n",
    "            count_match_row = count_match_row + 1\n",
    "        else:\n",
    "            count_mismatch_row = count_mismatch_row + 1\n",
    "    \n",
    "    #in eigener Spalte speichern\n",
    "    df.loc[x, \"Matches\"] = count_match_row\n",
    "    df.loc[x, \"Mismatches\"] = count_mismatch_row\n",
    "\n",
    "    #zum Gesamtcount hinzufügen\n",
    "    count_match = count_match + count_match_row\n",
    "    count_mismatch = count_mismatch + count_mismatch_row\n",
    "\n",
    "print(\"Matches: \" + str(count_match) + \" (\" + str(round((count_match * 100)/(count_match + count_mismatch))) + \"%)\")\n",
    "print(\"Mismatches: \" + str(count_mismatch) + \" (\" + str(round((count_mismatch * 100)/(count_match + count_mismatch))) + \"%)\")\n"
   ]
  },
  {
   "cell_type": "markdown",
   "metadata": {},
   "source": [
    "### Taking a closer look at the mismatches"
   ]
  },
  {
   "cell_type": "code",
   "execution_count": 17,
   "metadata": {},
   "outputs": [
    {
     "name": "stdout",
     "output_type": "stream",
     "text": [
      "visual culture ['discipline'] ['topic']\n",
      "writings on music ['object-type'] ['topic']\n",
      "english as a lingua franca ['language'] ['topic']\n",
      "spelling ['method/activity'] ['topic']\n",
      "theater ['object-type', 'entity (place)', 'topic'] ['topic']\n",
      "antiquity ['object-type', 'time period'] ['time period', 'topic']\n",
      "burials ['entity (event)', 'object-type'] ['topic']\n",
      "code mixing ['method/activity'] ['topic']\n",
      "indigenous culture ['discipline', 'topic'] ['topic']\n",
      "pandemic ['entity (event)', 'topic'] ['topic']\n",
      "seals ['not categorizable'] ['object-type']\n",
      "18th century literature ['time period', 'topic'] ['object-type']\n",
      "19th century literature ['time period', 'topic'] ['object-type']\n",
      "absorption ['method/activity'] ['topic']\n",
      "african languages ['language', 'topic'] ['topic']\n",
      "airbnb ['resource/tool'] ['entity (institution/organisation/brand)', 'resource/tool']\n",
      "ancient rome ['entity (place)', 'time period'] ['topic']\n",
      "ancient world ['entity (place)', 'time period'] ['topic']\n",
      "anglo saxons ['entity (person)'] ['topic']\n",
      "autocorrection ['method/activity'] ['topic']\n",
      "boundaries ['not categorizable'] ['topic']\n",
      "church ['entity (place)', 'topic'] ['topic']\n",
      "code switching ['method/activity'] ['topic']\n",
      "economic ['discipline'] ['topic']\n",
      "emigrants ['topic', 'entity (person)'] ['topic']\n",
      "ethnic minorities ['topic', 'entity (person)'] ['topic']\n",
      "game of thrones ['resource/tool'] ['entity (product)']\n",
      "gameboiy advance ['object-type'] ['entity (product)']\n",
      "gameboy ['object-type'] ['entity (product)']\n",
      "higgs boson ['object-type'] ['topic']\n",
      "hotels ['object-type'] ['topic']\n",
      "immigrants ['topic', 'entity (person)'] ['topic']\n",
      "interlingua ['language'] ['topic']\n",
      "internet trolls ['entity (person)'] ['topic']\n",
      "jeopardy ['not categorizable'] ['entity (product)']\n",
      "pidgins ['language'] ['topic']\n",
      "place names ['entity (place)', 'topic'] ['topic']\n",
      "prison ['object-type', 'entity (place)', 'topic'] ['topic']\n",
      "roman empire ['entity (place)', 'time period'] ['topic']\n",
      "scholarly communication ['discipline'] ['topic']\n",
      "sega genesis ['object-type'] ['topic']\n",
      "snes ['object-type'] ['topic']\n",
      "social policy ['discipline'] ['topic']\n",
      "song of ice and fire ['not categorizable'] ['topic']\n",
      "spelling correction ['method/activity'] ['topic']\n",
      "spelling variation ['method/activity'] ['topic']\n",
      "spotify ['resource/tool'] ['topic']\n",
      "syllables ['language', 'topic'] ['topic']\n",
      "thermal effects ['object-type', 'topic'] ['topic']\n",
      "turkmen ['language', 'entity (person)'] ['topic']\n",
      "typos ['object-type', 'topic'] ['topic']\n",
      "uav ['object-type'] ['topic']\n",
      "vai script ['language'] ['topic']\n",
      "volcanic rock ['object-type'] ['topic']\n",
      "voting ['method/activity', 'topic'] ['topic']\n",
      "walloon ['language', 'entity (person)'] ['topic']\n",
      "text messaging ['method/activity', 'topic'] ['topic']\n",
      "agenda ['object-type'] ['topic']\n",
      "agriculture ['discipline', 'topic'] ['topic']\n",
      "aims news ['not categorizable'] ['topic']\n",
      "ausgedruckt ['not categorizable'] ['topic']\n",
      "cognates ['entity (person)'] ['topic']\n",
      "journalism ['discipline', 'topic'] ['topic']\n",
      "whole earth catalogue ['object-type'] ['topic']\n",
      "for interns ['entity (person)'] ['not categorizable']\n",
      "book history data ['object-type'] ['not categorizable']\n",
      "american social history project ['entity (project)'] ['not categorizable']\n",
      "flickr ['resource/tool'] ['entity (institution/organisation/brand)', 'resource/tool']\n",
      "twitch ['resource/tool'] ['entity (institution/organisation/brand)', 'resource/tool']\n",
      "yahoo ['resource/tool'] ['entity (institution/organisation/brand)', 'resource/tool']\n",
      "youtube ['resource/tool'] ['entity (institution/organisation/brand)', 'resource/tool']\n",
      "ecco ['not categorizable'] ['resource/tool']\n",
      "ecco tcp ['not categorizable'] ['resource/tool']\n",
      "edition ['not categorizable'] ['object-type']\n",
      "english literature ['entity (place)', 'topic'] ['object-type']\n",
      "historical newspapers ['object-type', 'time period'] ['object-type']\n",
      "historical postcards ['object-type', 'time period'] ['object-type']\n",
      "sammlung ['object-type', 'topic'] ['object-type']\n",
      "american literature ['topic'] ['object-type']\n",
      "ancient documents ['object-type', 'time period'] ['object-type']\n",
      "british literature ['entity (place)', 'topic'] ['object-type']\n",
      "dutch literature ['entity (place)', 'topic'] ['object-type']\n",
      "email ['object-type', 'topic'] ['object-type']\n",
      "fan fiction ['topic'] ['object-type']\n",
      "fiction ['topic'] ['object-type']\n",
      "film ['object-type', 'topic'] ['object-type']\n",
      "jokes ['topic'] ['object-type']\n",
      "nonfiction ['topic'] ['object-type']\n",
      "serial fiction ['topic'] ['object-type']\n",
      "trademarks ['object-type', 'topic'] ['object-type']\n",
      "trivia ['topic'] ['object-type']\n",
      "squeeze ['not categorizable'] ['object-type']\n",
      "census ['topic'] ['object-type']\n",
      "édition génétique ['not categorizable'] ['object-type']\n",
      "german literature ['topic'] ['object-type']\n",
      "ocr htr ['multiple tags', 'method/activity'] ['multiple tags']\n",
      "citizen science ['discipline'] ['method/activity']\n",
      "gis ['method/activity', 'topic'] ['method/activity']\n",
      "survey ['method/activity', 'topic'] ['method/activity']\n",
      "historical gis ['method/activity', 'topic'] ['method/activity']\n",
      "wavelength dispersive spectrometer ['object-type'] ['method/activity']\n",
      "historical language ['language', 'time period'] ['language']\n",
      "roman ['entity (place)'] ['language']\n",
      "ancient greek ['language', 'time period'] ['language']\n",
      "ancient roman ['language', 'time period'] ['language']\n",
      "african american ['entity (person)'] ['language']\n",
      "semeval ['method/activity'] ['entity (event)']\n",
      "parthenos ['resource/tool'] ['entity (project)']\n",
      "clarin ['entity (project)'] ['entity (institution/organisation/brand)']\n",
      "aldersbach abbey ['entity (place)'] ['entity (institution/organisation/brand)']\n",
      "clariah-at ['entity (project)'] ['entity (institution/organisation/brand)']\n",
      "royal libraries ['object-type', 'topic'] ['entity (institution/organisation/brand)']\n",
      "parliament ['object-type', 'topic'] ['entity (institution/organisation/brand)']\n",
      "brightkite ['resource/tool'] ['entity (institution/organisation/brand)']\n",
      "byzantine ['language', 'time period'] ['entity (institution/organisation/brand)']\n",
      "feminism ['discipline'] ['discipline', 'topic']\n",
      "spatial humanities ['discipline'] ['discipline', 'topic']\n",
      "bulgarian history ['discipline', 'entity (place)'] ['discipline', 'topic']\n",
      "canadian history ['discipline', 'entity (place)'] ['discipline', 'topic']\n",
      "islamic history ['discipline'] ['discipline', 'topic']\n",
      "jewish history ['discipline'] ['discipline', 'topic']\n",
      "social computing ['method/activity', 'topic'] ['discipline', 'topic']\n",
      "syntax ['topic'] ['discipline', 'topic']\n",
      "womens history ['discipline'] ['discipline', 'topic']\n",
      "historical geography ['discipline', 'time period'] ['discipline']\n",
      "ancient history ['discipline', 'time period'] ['discipline']\n",
      "aesthetics of music ['discipline'] ['topic']\n",
      "critical editions of music ['discipline'] ['object-type']\n",
      "history of musicology ['discipline'] ['discipline', 'topic']\n",
      "history of scholarship ['discipline'] ['discipline', 'topic']\n",
      "iconography of music ['discipline'] ['topic']\n",
      "longterm projects ['object-type', 'entity (project)'] ['topic']\n",
      "projects ['object-type'] ['topic']\n",
      "semantic technologies ['object-type'] ['method/activity']\n",
      "linked open data ['object-type'] ['object-type', 'method/activity']\n",
      "language variation ['method/activity'] ['topic']\n",
      "cultural heritage ['discipline'] ['object-type', 'topic']\n",
      "morphology ['topic'] ['discipline', 'topic']\n",
      "visualization ['method/activity'] ['method/activity', 'topic']\n",
      "medieval studies ['discipline', 'time period'] ['discipline']\n",
      "liturgy ['topic'] ['object-type']\n",
      "service ['not categorizable'] ['topic']\n",
      "material culture ['discipline', 'topic'] ['topic']\n",
      "meeting ['not categorizable'] ['topic']\n",
      "collection ['not categorizable'] ['object-type']\n",
      "controlled vocabulary ['format/standard', 'topic'] ['object-type']\n",
      "digitization ['method/activity'] ['method/activity', 'topic']\n",
      "data modeling ['discipline', 'method/activity'] ['method/activity']\n",
      "data visualisation ['discipline', 'method/activity'] ['method/activity']\n",
      "digital archives ['object-type'] ['topic']\n",
      "editing tools ['resource/tool'] ['topic']\n",
      "eheritage ['discipline'] ['object-type']\n",
      "eosc ['entity (project)'] ['resource/tool']\n",
      "mooc ['object-type', 'topic'] ['topic']\n",
      "software development ['discipline', 'topic'] ['method/activity']\n",
      "source criticism ['topic'] ['method/activity']\n",
      "speech technology ['topic'] ['method/activity', 'topic']\n",
      "xpath ['format/standard'] ['resource/tool']\n",
      "xslt ['format/standard'] ['resource/tool']\n",
      "lexicography ['topic'] ['discipline']\n",
      "data management ['discipline', 'method/activity'] ['method/activity']\n",
      "augmented reality ['discipline'] ['method/activity', 'topic']\n",
      "controlled vocabularies ['format/standard', 'topic'] ['object-type']\n",
      "scholarly publishing ['discipline', 'method/activity'] ['method/activity']\n",
      "big data ['topic'] ['object-type']\n",
      "project management ['discipline', 'method/activity'] ['method/activity']\n",
      "cqp/cql ['format/standard'] ['resource/tool']\n",
      "digital preservation ['method/activity'] ['method/activity', 'topic']\n",
      "glam ['entity (institution/organisation/brand)'] ['topic']\n",
      "metasearch ['method/activity'] ['topic']\n",
      "research data management ['discipline', 'method/activity'] ['method/activity']\n",
      "sru/cql ['format/standard'] ['resource/tool']\n",
      "type organisation ['not categorizable'] ['method/activity']\n",
      "vre ['resource/tool'] ['topic']\n",
      "dariah ['entity (project)'] ['entity (institution/organisation/brand)']\n",
      "demography ['discipline', 'topic'] ['topic']\n",
      "disciplines ['discipline', 'topic'] ['topic']\n",
      "linked data ['object-type', 'topic'] ['object-type']\n",
      "methods and statistics ['multiple tags', 'method/activity'] ['multiple tags']\n",
      "open source ['format/standard'] ['topic']\n",
      "query language ['resource/tool', 'topic'] ['object-type']\n",
      "search service ['resource/tool', 'topic'] ['topic']\n",
      "sql ['format/standard'] ['resource/tool']\n",
      "taxonomy ['format/standard', 'topic'] ['object-type']\n",
      "research infrastructure ['topic'] ['object-type']\n",
      "sparql ['format/standard'] ['resource/tool']\n",
      "ariadne ['entity (project)'] ['resource/tool']\n",
      "topics ['not categorizable'] ['topic']\n",
      "type ['not categorizable'] ['topic']\n",
      "education ['discipline', 'topic'] ['topic']\n",
      "analyser ['resource/tool'] ['topic']\n",
      "audio-visual ['topic'] ['not categorizable']\n",
      "cfa ['not categorizable'] ['topic']\n",
      "cfp ['not categorizable'] ['topic']\n",
      "co-design ['object-type', 'method/activity', 'topic'] ['method/activity']\n",
      "conceputal art ['discipline', 'topic'] ['object-type']\n",
      "conference ['entity (event)', 'topic'] ['topic']\n",
      "contemporary history ['discipline'] ['discipline', 'topic']\n",
      "crowd innovation ['method/activity'] ['topic']\n",
      "crowd science ['discipline'] ['method/activity', 'topic']\n",
      "culinary history ['discipline'] ['discipline', 'topic']\n",
      "dc ['discipline'] ['not categorizable']\n",
      "dha ['entity (institution/organisation/brand)', 'entity (project)'] ['entity (institution/organisation/brand)']\n",
      "digital art ['discipline', 'topic'] ['object-type']\n",
      "digital classics ['discipline'] ['object-type']\n",
      "digital diplomatics ['discipline'] ['discipline', 'topic']\n",
      "digital heritage ['discipline'] ['object-type']\n",
      "digital infrastructure ['topic'] ['object-type']\n",
      "digital museology ['discipline'] ['discipline', 'topic']\n",
      "e-learning ['discipline', 'method/activity'] ['method/activity', 'topic']\n",
      "exhibition ['entity (event)', 'topic'] ['topic']\n",
      "forschungsmethoden ['method/activity', 'topic'] ['topic']\n",
      "fused lects ['topic'] ['not categorizable']\n",
      "future thinking ['method/activity'] ['topic']\n",
      "go!digital ['entity (project)'] ['entity (institution/organisation/brand)']\n",
      "heritage preservation ['discipline', 'method/activity'] ['method/activity', 'topic']\n",
      "holocaust education ['discipline'] ['method/activity', 'topic']\n",
      "iconclass ['format/standard', 'resource/tool'] ['format/standard']\n",
      "ict use ['topic'] ['method/activity', 'topic']\n",
      "knowledge science ['discipline'] ['discipline', 'topic']\n",
      "language didactics ['discipline'] ['topic']\n",
      "lecture ['entity (event)', 'topic'] ['topic']\n",
      "long-term projects on cultural heritage ['topic', 'entity (project)'] ['topic']\n",
      "management ['method/activity', 'topic'] ['method/activity']\n",
      "medical communication ['discipline', 'method/activity'] ['topic']\n",
      "medieval brain anatomy ['discipline'] ['topic']\n",
      "middle high german ['language'] ['language', 'topic']\n",
      "minutes ['object-type'] ['topic']\n",
      "monasterium.net ['entity (project)'] ['resource/tool']\n",
      "mongol empire ['entity (place)', 'time period'] ['entity (institution/organisation/brand)']\n",
      "narratives ['topic'] ['object-type']\n",
      "narratology ['topic'] ['discipline']\n",
      "neural networks ['object-type'] ['topic']\n",
      "parser ['resource/tool'] ['topic']\n",
      "participatory methods ['method/activity', 'topic'] ['topic']\n",
      "perl ['format/standard'] ['resource/tool']\n",
      "php ['format/standard'] ['resource/tool']\n",
      "platform ['topic'] ['object-type']\n",
      "pos-tagger ['resource/tool'] ['object-type']\n",
      "presentation ['method/activity', 'topic'] ['object-type']\n",
      "radio ['topic'] ['object-type']\n",
      "research ethics ['discipline'] ['topic']\n",
      "science education ['discipline'] ['topic']\n",
      "scientific heritage ['discipline'] ['object-type', 'topic']\n",
      "tokenizer ['resource/tool'] ['object-type', 'resource/tool']\n",
      "training ['method/activity', 'topic'] ['method/activity']\n",
      "virtual reality ['discipline', 'topic'] ['topic']\n",
      "virtual research environment ['resource/tool'] ['topic']\n",
      "visual media ['object-type', 'topic'] ['object-type']\n",
      "webgis ['format/standard'] ['resource/tool']\n",
      "wissenschaftskommunikation ['discipline'] ['topic']\n",
      "workshop ['entity (event)', 'topic'] ['topic']\n",
      "xml-editor ['resource/tool'] ['object-type', 'resource/tool']\n",
      "classics ['not categorizable'] ['discipline']\n",
      "api ['format/standard'] ['topic']\n",
      "artificial intelligence ['discipline'] ['method/activity', 'topic']\n",
      "computer vision ['topic'] ['method/activity']\n",
      "framework ['topic'] ['object-type']\n",
      "libraries ['entity (place)', 'topic'] ['topic']\n",
      "media ['topic'] ['object-type']\n",
      "museums ['entity (place)', 'topic'] ['topic']\n",
      "poetry ['topic'] ['object-type']\n",
      "politics ['discipline'] ['topic']\n",
      "python ['format/standard'] ['resource/tool']\n",
      "tagger ['resource/tool'] ['topic']\n",
      "lod ['not categorizable'] ['object-type']\n",
      "images ['object-type', 'topic'] ['object-type']\n",
      "music ['topic'] ['discipline']\n",
      "religion ['topic'] ['discipline']\n",
      "archives ['entity (place)', 'topic'] ['topic']\n",
      "named entities ['object-type'] ['topic']\n",
      "project ['object-type', 'entity (project)', 'topic'] ['not categorizable']\n",
      "infrastructure ['topic'] ['not categorizable']\n",
      "archiv ['entity (place)', 'topic'] ['topic']\n",
      "author/novelist ['entity (person)'] ['topic']\n",
      "author/schriftsteller ['entity (person)'] ['topic']\n",
      "cultural hertitage ['discipline'] ['object-type', 'topic']\n",
      "didactics ['discipline', 'topic'] ['discipline']\n",
      "didaktik ['discipline', 'topic'] ['discipline']\n",
      "diplomatie ['topic'] ['discipline']\n",
      "historical accounts ['object-type', 'time period'] ['topic']\n",
      "images of legal activities ['object-type'] ['topic']\n",
      "kulturerbe ['topic'] ['object-type']\n",
      "kunst  ['discipline', 'topic'] ['discipline']\n",
      "literatur ['topic'] ['object-type']\n",
      "liturgie ['topic'] ['object-type']\n",
      "lyric poetry ['topic'] ['object-type']\n",
      "lyrik ['topic'] ['object-type']\n",
      "museum ['entity (place)', 'topic'] ['topic']\n",
      "rechtsdarstellungen ['object-type'] ['topic']\n",
      "virtual museum ['entity (place)', 'topic'] ['topic']\n",
      "virtuelles museum ['entity (place)', 'topic'] ['topic']\n",
      "literature ['topic'] ['object-type']\n",
      "archive ['entity (place)', 'topic'] ['object-type']\n",
      "digitale edition ['object-type', 'topic'] ['object-type']\n",
      "mediävistik ['discipline', 'time period'] ['discipline']\n",
      "datenmanagement ['discipline', 'method/activity'] ['method/activity']\n",
      "documentation howto platform ['entity (project)'] ['not categorizable']\n",
      "ui design ['topic'] ['method/activity', 'topic']\n",
      "(quantitative) survey research ['topic'] ['method/activity']\n",
      "1 grams ['not categorizable'] ['topic']\n",
      "acoustic ['topic'] ['not categorizable']\n",
      "african american history ['discipline'] ['discipline', 'topic']\n",
      "african history ['discipline'] ['discipline', 'topic']\n",
      "aggregate data ['object-type'] ['method/activity']\n",
      "ai ['topic'] ['method/activity', 'topic']\n",
      "alignment ['topic'] ['method/activity']\n",
      "argument ['topic'] ['object-type']\n",
      "asr ['topic'] ['method/activity']\n",
      "audio ['format/standard'] ['object-type']\n",
      "audio transcription ['method/activity'] ['object-type', 'method/activity']\n",
      "bestellers ['not categorizable'] ['object-type']\n",
      "billboard ['entity (institution/organisation/brand)'] ['object-type']\n",
      "bloggers ['entity (person)'] ['topic']\n",
      "categories ['object-type'] ['topic']\n",
      "chaining odds ['not categorizable'] ['topic']\n",
      "citations ['object-type'] ['topic']\n",
      "classification ['object-type', 'method/activity'] ['method/activity']\n",
      "codata ['object-type'] ['entity (institution/organisation/brand)']\n",
      "college ['entity (place)', 'entity (institution/organisation/brand)'] ['topic']\n",
      "contemporary literature ['topic'] ['object-type']\n",
      "cover art ['topic'] ['object-type']\n",
      "creoles ['entity (person)'] ['topic']\n",
      "cultural analytics ['topic'] ['discipline']\n",
      "cuneiform ['language'] ['resource/tool', 'topic']\n",
      "data analysis ['discipline', 'method/activity'] ['method/activity']\n",
      "data archive ['object-type'] ['topic']\n",
      "data deposit ['method/activity'] ['topic']\n",
      "database of polymer spectra ['object-type'] ['not categorizable', 'object-type']\n",
      "dates ['object-type'] ['topic']\n",
      "ddi ['format/standard'] ['not categorizable']\n",
      "directed ['not categorizable'] ['topic']\n",
      "displaced persons ['entity (person)'] ['topic']\n",
      "dita ['format/standard'] ['not categorizable']\n",
      "download ['not categorizable'] ['method/activity', 'topic']\n",
      "dpla ['entity (project)'] ['resource/tool']\n",
      "drama ['topic'] ['object-type']\n",
      "ds ['not categorizable'] ['entity (product)']\n",
      "ead ['format/standard'] ['not categorizable']\n",
      "edm ['format/standard'] ['not categorizable']\n",
      "eighteenth century poetry ['time period', 'topic'] ['object-type']\n",
      "event detection ['topic'] ['method/activity']\n",
      "facetted search ['method/activity', 'topic'] ['method/activity']\n",
      "forced alignment ['topic'] ['method/activity']\n",
      "formats ['format/standard'] ['topic']\n",
      "ftir ['topic'] ['method/activity']\n",
      "ftir reflectance spectroscopy ['topic'] ['method/activity']\n",
      "full text ['topic'] ['object-type']\n",
      "function words ['object-type'] ['topic']\n",
      "goodreads ['entity (institution/organisation/brand)', 'resource/tool'] ['resource/tool']\n",
      "gowalla ['entity (institution/organisation/brand)', 'resource/tool'] ['resource/tool']\n",
      "group on earth observations ['topic'] ['entity (institution/organisation/brand)']\n",
      "hand corrected ['topic'] ['not categorizable']\n",
      "hisco ['not categorizable'] ['format/standard']\n",
      "in situ measurements ['object-type'] ['topic']\n",
      "indian history ['discipline'] ['discipline', 'topic']\n",
      "institutional research board ['entity (institution/organisation/brand)'] ['topic']\n",
      "ipr ['discipline'] ['discipline', 'topic']\n",
      "ipr issues ['discipline', 'topic'] ['topic']\n",
      "isco ['format/standard'] ['not categorizable']\n",
      "kannada ['entity (place)'] ['language']\n",
      "keywords ['object-type'] ['topic']\n",
      "keywords from sshoc mp ['object-type'] ['not categorizable', 'topic']\n",
      "khmer ['language', 'entity (person)'] ['language']\n",
      "kirghiz ['language', 'entity (person)'] ['topic']\n",
      "kurdish ['language'] ['language', 'topic']\n",
      "language typology ['topic'] ['object-type']\n",
      "laser ablation ['topic'] ['method/activity']\n",
      "legal ['topic'] ['not categorizable']\n",
      "legal requirements ['object-type'] ['topic']\n",
      "lemmas ['object-type'] ['topic']\n",
      "letter writing ['method/activity'] ['method/activity', 'topic']\n",
      "library ['entity (place)', 'topic'] ['topic']\n",
      "libs ['method/activity'] ['not categorizable']\n",
      "licenses ['object-type'] ['topic']\n",
      "literary characters ['object-type', 'topic'] ['topic']\n",
      "literary fiction ['topic'] ['object-type']\n",
      "literary plot ['object-type', 'topic'] ['topic']\n",
      "literary prizes ['object-type', 'topic'] ['topic']\n",
      "livejournal ['entity (institution/organisation/brand)', 'resource/tool'] ['object-type']\n",
      "loc ['entity (institution/organisation/brand)'] ['not categorizable']\n",
      "locations ['object-type'] ['topic']\n",
      "marc ['format/standard'] ['resource/tool']\n",
      "media & communications ['discipline', 'multiple tags'] ['multiple tags']\n",
      "media format ['format/standard', 'topic'] ['topic']\n",
      "medieval archaeology ['discipline', 'time period'] ['discipline']\n",
      "medieval history ['discipline', 'time period'] ['discipline']\n",
      "medieval music ['discipline', 'time period'] ['object-type']\n",
      "mesh ['format/standard', 'topic'] ['topic']\n",
      "metadata search ['method/activity', 'topic'] ['method/activity']\n",
      "meter ['not categorizable'] ['topic']\n",
      "metrics ['format/standard'] ['topic']\n",
      "microsoft ['entity (institution/organisation/brand)'] ['resource/tool']\n",
      "migrants ['entity (person)'] ['topic']\n",
      "models ['object-type'] ['topic']\n",
      "mp3 ['format/standard'] ['object-type']\n",
      "multiple languages ['language'] ['topic']\n",
      "mushrooms ['not categorizable'] ['topic']\n",
      "muslim history ['discipline'] ['discipline', 'topic']\n",
      "nes ['entity (institution/organisation/brand)'] ['topic']\n",
      "netflix ['entity (institution/organisation/brand)', 'resource/tool'] ['resource/tool']\n",
      "neuma quality dashboard ['not categorizable'] ['resource/tool']\n",
      "new york times ['entity (institution/organisation/brand)'] ['entity (institution/organisation/brand)', 'resource/tool']\n",
      "newgate ['not categorizable'] ['entity (place)']\n",
      "nexus ['entity (institution/organisation/brand)'] ['not categorizable']\n",
      "ngrams ['entity (institution/organisation/brand)', 'resource/tool'] ['topic']\n",
      "open research ['method/activity', 'topic'] ['topic']\n",
      "phrases ['object-type'] ['topic']\n",
      "pigments ['object-type'] ['topic']\n",
      "pill ['not categorizable'] ['topic']\n",
      "placeography ['discipline'] ['resource/tool']\n",
      "plaintext ['format/standard'] ['object-type']\n",
      "plastics ['object-type', 'topic'] ['object-type']\n",
      "podcast ['object-type', 'topic'] ['object-type']\n",
      "pokec ['not categorizable'] ['resource/tool']\n",
      "policies ['object-type', 'topic'] ['topic']\n",
      "policy positions ['object-type'] ['topic']\n",
      "portable ftir ['format/standard'] ['topic']\n",
      "post 45 ['entity (person)'] ['entity (institution/organisation/brand)']\n",
      "predicates ['object-type'] ['topic']\n",
      "predictions ['object-type'] ['topic']\n",
      "prescriptions ['object-type'] ['topic']\n",
      "production ['method/activity', 'topic'] ['topic']\n",
      "products ['object-type'] ['topic']\n",
      "proper name disambiguation ['method/activity'] ['method/activity', 'topic']\n",
      "publishers weekly ['entity (institution/organisation/brand)'] ['resource/tool']\n",
      "pubs ['object-type'] ['topic']\n",
      "questions ['object-type'] ['topic']\n",
      "race films ['object-type'] ['object-type', 'topic']\n",
      "raman ['topic'] ['method/activity', 'entity (person)']\n",
      "raman spectroscopy ['topic'] ['method/activity']\n",
      "random forest ['object-type'] ['method/activity', 'topic']\n",
      "raw ['format/standard'] ['not categorizable']\n",
      "reception ['method/activity'] ['topic']\n",
      "recommendation ['method/activity'] ['object-type']\n",
      "recommended ['not categorizable'] ['topic']\n",
      "refugees ['entity (person)'] ['topic']\n",
      "research notebook ['topic'] ['object-type']\n",
      "standards ['format/standard'] ['topic']\n",
      "stop words ['object-type'] ['topic']\n",
      "subsets ['object-type'] ['topic']\n",
      "symmetry calculations ['object-type'] ['method/activity']\n",
      "tbx in tei ['format/standard'] ['format/standard', 'topic']\n",
      "term frequencies ['object-type'] ['topic']\n",
      "terminologies ['object-type'] ['topic']\n",
      "textual reuse ['method/activity'] ['topic']\n",
      "tokens ['object-type'] ['topic']\n",
      "use case ['object-type'] ['topic']\n",
      "value of open data ['not categorizable'] ['topic']\n",
      "viewer ['resource/tool'] ['topic']\n",
      "web3d ['entity (institution/organisation/brand)'] ['entity (institution/organisation/brand)', 'topic']\n",
      "website ['object-type'] ['topic']\n",
      "websites ['object-type'] ['topic']\n",
      "word counts ['object-type'] ['topic']\n",
      "workflows ['object-type'] ['topic']\n",
      "workplace ['entity (place)', 'topic'] ['topic']\n",
      "xrf ['format/standard'] ['topic']\n",
      "xsl ['format/standard'] ['resource/tool']\n",
      "discovery ['topic'] ['method/activity']\n",
      "video ['format/standard'] ['object-type']\n",
      "description ['method/activity', 'topic'] ['method/activity']\n",
      "animation ['method/activity', 'topic'] ['object-type', 'method/activity']\n",
      "arts ['discipline', 'topic'] ['discipline']\n",
      "names ['object-type'] ['topic']\n",
      "ml ['not categorizable'] ['method/activity']\n",
      "pid ['format/standard'] ['topic']\n",
      "video capture ['method/activity', 'topic'] ['method/activity']\n",
      "academic publication ['object-type', 'method/activity', 'topic'] ['object-type', 'method/activity']\n",
      "audio conference ['entity (event)'] ['topic']\n",
      "diagramm ['method/activity', 'topic'] ['object-type']\n",
      "digital publication ['object-type', 'method/activity', 'topic'] ['method/activity']\n",
      "encoding/code ['method/activity'] ['multiple tags']\n",
      "identification ['method/activity'] ['method/activity', 'topic']\n",
      "pos tag ['object-type'] ['topic']\n",
      "query ['object-type'] ['topic']\n",
      "wireframe ['object-type'] ['object-type', 'resource/tool']\n",
      "organisation ['entity (institution/organisation/brand)'] ['topic']\n",
      "abstract thinking ['method/activity', 'topic'] ['method/activity']\n",
      "concordance ['method/activity'] ['method/activity', 'topic']\n",
      "co-occurrence ['topic'] ['method/activity', 'topic']\n",
      "digital object identifier ['topic'] ['format/standard']\n",
      "distance measures ['object-type'] ['method/activity', 'topic']\n",
      "explanation ['object-type', 'method/activity', 'topic'] ['method/activity']\n",
      "exploration ['object-type', 'method/activity', 'topic'] ['method/activity']\n",
      "preservation metadata ['not categorizable'] ['object-type']\n",
      "recording ['method/activity'] ['object-type']\n",
      "replication ['method/activity'] ['object-type', 'method/activity']\n",
      "upload ['not categorizable'] ['method/activity']\n",
      "user generated content ['topic'] ['object-type']\n",
      "video conference ['entity (event)'] ['topic']\n",
      "collaboration ['method/activity', 'topic'] ['method/activity']\n",
      "conversion ['method/activity', 'topic'] ['method/activity']\n",
      "storage ['topic'] ['method/activity']\n",
      "academics ['entity (person)'] ['topic']\n",
      "acceso ['not categorizable'] ['topic']\n",
      "analytics ['topic'] ['resource/tool']\n",
      "annotation system design ['topic'] ['method/activity', 'topic']\n",
      "app ['topic'] ['object-type']\n",
      "code ['topic'] ['object-type', 'method/activity']\n",
      "compling ['method/activity'] ['discipline']\n",
      "computer network resources ['object-type', 'topic'] ['topic']\n",
      "computers ['object-type'] ['topic']\n",
      "conferences ['entity (event)', 'topic'] ['topic']\n",
      "consumer ['entity (person)'] ['topic']\n",
      "criticism, textual ['method/activity', 'topic'] ['method/activity']\n",
      "criticism, textual y ['method/activity', 'topic'] ['method/activity']\n",
      "cv ['object-type', 'topic'] ['object-type']\n",
      "data federation ['method/activity'] ['topic']\n",
      "data/databases ['object-type'] ['multiple tags']\n",
      "diskurs analyse - informatik - methoden ['multiple tags', 'method/activity'] ['multiple tags']\n",
      "diskurs analyse - literatur - informatik ['multiple tags', 'method/activity'] ['multiple tags']\n",
      "events ml ['not categorizable'] ['format/standard']\n",
      "forschungsdatenmanagement ['method/activity', 'topic'] ['method/activity']\n",
      "google ['entity (institution/organisation/brand)'] ['resource/tool']\n",
      "heml ['format/standard'] ['resource/tool']\n",
      "history matters ['discipline', 'topic'] ['topic']\n",
      "history teaching ['method/activity'] ['topic']\n",
      "informatiesystemen ['not categorizable'] ['topic']\n",
      "information storage and retrieval systems ['multiple tags'] ['topic']\n",
      "journal of american history' ['entity (institution/organisation/brand)'] ['entity (product)']\n",
      "knowledge ['not categorizable'] ['topic']\n",
      "kropač, i.h. ['multiple tags'] ['entity (person)']\n",
      "literaire semiotiek ['not categorizable'] ['topic']\n",
      "littérature ['topic'] ['object-type']\n",
      "lode ['not categorizable'] ['format/standard']\n",
      "method ['method/activity', 'topic'] ['topic']\n",
      "methodology ['method/activity', 'topic'] ['topic']\n",
      "query/retrieve ['method/activity'] ['multiple tags']\n",
      "statistique lexicale ['discipline'] ['discipline', 'method/activity']\n",
      "teaching/learning ['method/activity'] ['multiple tags']\n",
      "text technology ['discipline', 'topic'] ['topic']\n",
      "resources ['object-type'] ['topic']\n",
      "3d ['format/standard', 'topic'] ['topic']\n",
      "editor ['entity (person)'] ['topic']\n",
      "summer school ['entity (event)'] ['topic']\n",
      "event ['entity (event)'] ['topic']\n",
      "ethics ['discipline'] ['discipline', 'topic']\n",
      "tools ['object-type'] ['topic']\n",
      "uhrfedebücher ['topic'] ['object-type']\n",
      "ages ['time period'] ['topic']\n",
      "author ['entity (person)'] ['topic']\n",
      "norwegian.norwegian ['entity (place)'] ['language']\n",
      "other humanities ['discipline'] ['not categorizable']\n",
      "other social sciences ['discipline'] ['not categorizable']\n",
      "ottoman ['time period', 'entity (person)'] ['topic']\n",
      "philosophy, ethics & religion ['discipline'] ['multiple tags']\n",
      "schematron ['format/standard'] ['resource/tool']\n",
      "sign languages ['language'] ['topic']\n",
      "singapore english ['language'] ['language', 'topic']\n",
      "social & economic geography ['discipline', 'multiple tags'] ['discipline']\n",
      "t docs ['not categorizable'] ['object-type']\n",
      "research ['method/activity'] ['topic']\n",
      "emulation ['method/activity'] ['method/activity', 'topic']\n",
      "american ['entity (place)'] ['not categorizable']\n",
      "american historical review ['entity (institution/organisation/brand)'] ['entity (product)']\n",
      "android ['entity (institution/organisation/brand)', 'resource/tool'] ['resource/tool']\n",
      "communication in learning and scholarship ['discipline', 'method/activity'] ['method/activity']\n",
      "sem ['topic'] ['format/standard']\n",
      "vres ['not categorizable'] ['topic']\n",
      "x_astree ['not categorizable'] ['format/standard']\n",
      "giveoverview ['not categorizable', 'method/activity'] ['method/activity']\n",
      "methods ['object-type'] ['topic']\n",
      "events ['object-type'] ['topic']\n",
      "babel ['not categorizable'] ['entity (place)']\n",
      "infrastructures ['object-type'] ['topic']\n",
      "informationretrieval ['discipline', 'method/activity'] ['method/activity']\n",
      "sheetmusic ['not categorizable'] ['object-type']\n",
      "variants ['object-type'] ['topic']\n",
      "namedentities ['object-type', 'topic'] ['topic']\n",
      "o-methods ['object-type', 'topic'] ['not categorizable']\n",
      "berlin (tu) ['entity (institution/organisation/brand)', 'entity (place)', 'multiple tags'] ['entity (institution/organisation/brand)']\n",
      "korpus <linguistik> ['discipline', 'multiple tags', 'object-type'] ['object-type']\n",
      "tübingen (eberhard karls universität) ['entity (institution/organisation/brand)', 'entity (place)', 'multiple tags'] ['entity (institution/organisation/brand)']\n",
      "stylistics ['not categorizable'] ['discipline']\n",
      "visualisierung ['method/activity'] ['object-type', 'method/activity']\n",
      "kollokation ['method/activity'] ['topic']\n",
      "projectmanagement ['discipline', 'method/activity'] ['method/activity']\n",
      "people ['entity (person)'] ['topic']\n",
      "institutions ['object-type', 'entity (institution/organisation/brand)'] ['topic']\n",
      "arch ['not categorizable'] ['object-type']\n",
      "persons ['entity (person)'] ['topic']\n",
      "object ['object-type'] ['not categorizable']\n",
      "tool-entwicklung ['discipline', 'method/activity'] ['method/activity']\n",
      "coreference ['method/activity'] ['topic']\n",
      "ontologie ['object-type', 'topic'] ['topic']\n",
      "übersicht event-modelle ['object-type', 'multiple tags'] ['topic']\n",
      "goerz ['entity (place)'] ['not categorizable']\n",
      "named events ['object-type'] ['topic']\n",
      "todo ['topic'] ['not categorizable']\n",
      "event-model-f ['not categorizable'] ['format/standard']\n",
      "ontologie (top-level) ['object-type', 'topic'] ['topic']\n",
      "the event ontology ['object-type', 'topic'] ['resource/tool']\n",
      "wikipedia_as_model ['resource/tool', 'topic'] ['topic']\n",
      "wikipedia_as_subject ['resource/tool', 'topic'] ['topic']\n",
      "wikipedia_critique ['resource/tool', 'topic'] ['topic']\n",
      "civil war ['entity (event)'] ['entity (event)', 'time period']\n",
      "hypertext ['format/standard'] ['object-type']\n",
      "virtual communities ['object-type'] ['topic']\n",
      "technological innovations ['object-type'] ['topic']\n",
      "computer networks ['object-type'] ['topic']\n",
      "digital communications ['object-type', 'topic'] ['topic']\n",
      "patchwork ['method/activity'] ['topic']\n",
      "quilting ['method/activity'] ['topic']\n",
      "canadian century research infrastructure ['entity (place)', 'multiple tags', 'topic'] ['resource/tool']\n",
      "labor ['entity (place)'] ['topic']\n",
      "librarians, academic ['multiple tags', 'entity (person)'] ['topic']\n",
      "computer-assisted instruction ['topic'] ['method/activity']\n",
      "history research ['discipline'] ['topic']\n",
      "history study & teaching ['discipline', 'method/activity'] ['multiple tags', 'topic']\n",
      "learning ['method/activity'] ['topic']\n",
      "publishers and publishing ['entity (institution/organisation/brand)', 'multiple tags', 'method/activity'] ['multiple tags', 'topic']\n",
      "teaching aids and devices ['object-type', 'multiple tags'] ['topic']\n",
      "whole earth catalog ['object-type'] ['entity (product)']\n",
      "digital libraries ['object-type', 'entity (place)'] ['topic']\n",
      "wikipedia_mixedview ['resource/tool'] ['topic']\n",
      "wikipedia_pedagogy ['resource/tool', 'topic'] ['topic']\n",
      "print_on_demand ['not categorizable'] ['topic']\n",
      "internet (review article) ['multiple tags', 'topic'] ['not categorizable']\n",
      "university presses ['object-type', 'entity (institution/organisation/brand)'] ['topic']\n",
      "libraries (academic) ['object-type', 'entity (place)', 'multiple tags'] ['topic']\n",
      "paper ['object-type', 'topic'] ['object-type']\n",
      "information technology ['discipline'] ['topic']\n",
      "schools ['object-type'] ['topic']\n",
      "historians ['entity (person)'] ['topic']\n",
      "study and teaching ['multiple tags', 'method/activity'] ['topic']\n",
      "fugitive slaves ['entity (person)'] ['topic']\n",
      "names, personal ['object-type'] ['topic']\n",
      "united states social life & customs to 1775 ['entity (place)', 'multiple tags', 'topic'] ['topic']\n",
      "recessions ['object-type', 'topic'] ['topic']\n",
      "intellectuals ['entity (person)'] ['topic']\n",
      "primarily history project ['entity (project)'] ['not categorizable']\n",
      "surveys ['object-type'] ['method/activity', 'topic']\n",
      "minnesota, university of (minnesota population center) ['multiple tags', 'entity (place)', 'entity (institution/organisation/brand)'] ['entity (institution/organisation/brand)']\n",
      "collectors and collecting ['multiple tags', 'method/activity', 'entity (person)'] ['multiple tags']\n",
      "integrated public use microdata series ['not categorizable'] ['resource/tool']\n",
      "electronic information resources ['object-type'] ['topic']\n",
      "internet programming ['discipline', 'method/activity'] ['method/activity']\n",
      "audiences ['object-type', 'entity (person)'] ['topic']\n",
      "science fiction ['topic'] ['object-type']\n",
      "visual aids ['object-type', 'topic'] ['topic']\n",
      "narrative ['topic'] ['object-type']\n",
      "immersive ['not categorizable'] ['topic']\n",
      "generations ['not categorizable'] ['topic']\n",
      "scholars ['entity (person)'] ['topic']\n",
      "examples ['not categorizable'] ['topic']\n",
      "focus ['not categorizable'] ['topic']\n",
      "interdisciplinary approach in education ['method/activity'] ['topic']\n",
      "network analysis (planning) ['multiple tags', 'method/activity'] ['method/activity']\n",
      "pathfinder networks ['object-type', 'topic'] ['topic']\n",
      "text mining (information retrieval) ['multiple tags', 'method/activity'] ['method/activity']\n",
      "archivists ['entity (person)'] ['topic']\n",
      "federal government ['entity (institution/organisation/brand)'] ['topic']\n",
      "geographic information systems ['object-type'] ['topic']\n",
      "national historical geographic information system ['object-type'] ['resource/tool']\n",
      "slaves ['entity (person)'] ['topic']\n",
      "senate ['entity (institution/organisation/brand)'] ['topic']\n",
      "city planning ['discipline'] ['method/activity', 'topic']\n",
      "early california population project ['entity (project)'] ['resource/tool']\n",
      "indians ['entity (person)'] ['topic']\n",
      "virginia polytechnic institute and state university ['multiple tags', 'entity (institution/organisation/brand)'] ['entity (institution/organisation/brand)']\n",
      "current population survey ['topic'] ['resource/tool', 'entity (project)']\n",
      "rosenzweig, roy (obituary) ['entity (person)'] ['topic']\n",
      "subscriptions ['not categorizable'] ['topic']\n",
      "college students ['entity (person)'] ['topic']\n",
      "endowment of research ['entity (institution/organisation/brand)'] ['topic']\n",
      "brain pickings ['not categorizable'] ['topic']\n",
      "poetry, modern ['topic'] ['object-type']\n",
      "egan ['not categorizable'] ['entity (person)']\n",
      "geodh ['discipline'] ['discipline', 'topic']\n",
      "hipertexto ['format/standard'] ['object-type']\n",
      "journals ['object-type'] ['topic']\n",
      "social science / media studies ['discipline', 'multiple tags'] ['multiple tags']\n",
      "social science / popular culture ['discipline', 'multiple tags'] ['multiple tags']\n",
      "curators ['entity (person)'] ['topic']\n",
      "information management ['discipline'] ['method/activity', 'topic']\n",
      "usage ['method/activity'] ['topic']\n",
      "data collection ['object-type', 'method/activity'] ['method/activity']\n",
      "conceptual art ['discipline', 'topic'] ['object-type']\n",
      "lightning ['not categorizable'] ['topic']\n",
      "national endowment ['entity (institution/organisation/brand)'] ['topic']\n",
      "heritage ['topic'] ['object-type']\n",
      "tedtalks ['entity (product)'] ['resource/tool']\n",
      "brewster ['not categorizable'] ['entity (person)']\n",
      "kahle ['not categorizable'] ['entity (person)']\n",
      "teachers ['entity (person)'] ['topic']\n",
      "teaching resources ['object-type'] ['topic']\n",
      "collaborative ['method/activity'] ['topic']\n",
      "kaptur ['not categorizable'] ['entity (institution/organisation/brand)']\n",
      "spectral ['not categorizable'] ['topic']\n",
      "dlc ['not categorizable'] ['topic']\n",
      "hss ['not categorizable'] ['discipline']\n",
      "ideas ['object-type', 'topic'] ['topic']\n",
      "sciences ['discipline'] ['topic']\n",
      "terras ['not categorizable'] ['entity (person)']\n",
      "university ['entity (place)', 'entity (institution/organisation/brand)'] ['topic']\n",
      "q&a ['object-type'] ['topic']\n",
      "eveil de conscience ['not categorizable'] ['topic']\n",
      "opprime ['not categorizable'] ['topic']\n",
      "prise de conscience ['not categorizable'] ['topic']\n",
      "student ['entity (person)'] ['topic']\n",
      "diskurs analyse - literatur -  informatik ['discipline', 'multiple tags'] ['multiple tags']\n",
      "humanities topic modeling ['discipline', 'multiple tags', 'method/activity'] ['method/activity']\n",
      "invalid doi ['not categorizable'] ['topic']\n",
      "tool ['object-type', 'resource/tool'] ['topic']\n",
      "semantics ['topic'] ['discipline']\n",
      "cad ['resource/tool'] ['method/activity']\n",
      "dm_compling ['not categorizable'] ['discipline']\n",
      "study of hebrew ['discipline'] ['discipline', 'topic']\n",
      "ontologies ['object-type', 'topic'] ['object-type']\n",
      "langzeitarchivierung ['topic'] ['method/activity']\n",
      "speichermedien ['object-type'] ['topic']\n",
      "trusted repositories ['object-type'] ['topic']\n",
      "textgenese ['topic'] ['method/activity']\n",
      "inkunabel ['object-type', 'topic'] ['object-type']\n",
      "domain specific languages ['object-type', 'language'] ['topic']\n",
      "language theory ['discipline', 'topic'] ['topic']\n",
      "graphdatenbanken ['object-type'] ['topic']\n",
      "recherchesysteme ['object-type'] ['topic']\n",
      "lexicon ['object-type'] ['topic']\n",
      "münster (wwu) ['entity (institution/organisation/brand)', 'entity (place)', 'multiple tags'] ['entity (institution/organisation/brand)']\n",
      "person name disambiguation ['topic'] ['method/activity']\n",
      "toponym disambiguation ['topic'] ['method/activity']\n",
      "ästhetik ['topic'] ['discipline', 'topic']\n",
      "autocad/autolisp ['resource/tool'] ['multiple tags']\n",
      "caad ['resource/tool'] ['topic']\n",
      "handschriften. epigrafie. paleografie ['discipline', 'multiple tags', 'topic'] ['multiple tags']\n",
      "boekgeschiedenis ['not categorizable'] ['discipline']\n",
      "ecdotica ['method/activity'] ['method/activity', 'topic']\n",
      "computer. informatica. automatisering ['discipline', 'multiple tags', 'method/activity'] ['multiple tags']\n",
      "bibliography theory, methods, etc ['multiple tags', 'topic'] ['multiple tags']\n",
      "transmission of texts ['method/activity'] ['topic']\n",
      "immunology ['topic'] ['discipline']\n",
      "qualitative studies ['discipline'] ['method/activity']\n",
      "literary criticism / semiotics & theory ['multiple tags', 'method/activity'] ['multiple tags']\n",
      "language arts & disciplines / linguistics / general ['discipline', 'multiple tags'] ['multiple tags']\n",
      "language arts & disciplines / communication studies ['discipline', 'multiple tags'] ['multiple tags']\n",
      "language arts & disciplines / linguistics / sociolinguistics ['discipline', 'multiple tags'] ['multiple tags']\n",
      "imitation ['method/activity', 'topic'] ['topic']\n",
      "literary transformation ['method/activity'] ['topic']\n",
      "reuse ['method/activity'] ['topic']\n",
      "corpus stylistics ['topic'] ['discipline', 'topic']\n",
      "suspended quotation ['method/activity', 'topic'] ['topic']\n",
      "littérature française ['topic'] ['object-type']\n",
      "cscw ['discipline'] ['discipline', 'topic']\n",
      "longitudinal case study ['object-type', 'topic'] ['method/activity']\n",
      "virtual teams. ['object-type'] ['topic']\n",
      "community grid ['not categorizable'] ['resource/tool']\n",
      "groupware ['resource/tool'] ['topic']\n",
      "virtual corpus ['topic'] ['object-type']\n",
      "erschließungsverfahren ['method/activity'] ['topic']\n",
      "isin_us30303m1027 ['not categorizable'] ['entity (product)']\n",
      "isin_us38259p5089 ['not categorizable'] ['entity (product)']\n",
      "documentation ['method/activity'] ['method/activity', 'topic']\n",
      "distance measure ['method/activity'] ['topic']\n",
      "edit distance ['method/activity'] ['topic']\n",
      "query term ['method/activity'] ['topic']\n",
      "historical spelling variants ['object-type', 'topic'] ['topic']\n",
      "training set construction ['topic'] ['method/activity']\n",
      "dialects ['object-type', 'language'] ['topic']\n",
      "features ['not categorizable'] ['topic']\n",
      "phonetic alignment ['topic'] ['method/activity']\n",
      "convolutional and recurrent neural networks ['object-type', 'multiple tags', 'topic'] ['method/activity', 'topic']\n",
      "convolutional neural networks ['object-type', 'topic'] ['method/activity', 'topic']\n",
      "large lexicon fields ['object-type'] ['topic']\n",
      "printed word anchors ['object-type'] ['topic']\n",
      "recurrent neural nets ['object-type', 'topic'] ['method/activity']\n",
      "recurrent neural networks ['object-type', 'topic'] ['method/activity']\n",
      "registration algorithm ['topic'] ['method/activity']\n",
      "small lexicon fields ['object-type'] ['topic']\n",
      "modernism (literature) ['multiple tags', 'time period'] ['time period']\n",
      "french literature ['topic'] ['object-type']\n",
      "textbooks (review article) ['object-type'] ['not categorizable']\n",
      "maryland (rockville) ['entity (place)', 'multiple tags'] ['entity (place)']\n",
      "simulation and games ['object-type', 'multiple tags', 'topic'] ['multiple tags']\n",
      "community colleges ['object-type'] ['topic']\n",
      "automated data collection ['object-type', 'method/activity'] ['method/activity']\n",
      "online games ['object-type', 'topic'] ['object-type']\n",
      "third places ['not categorizable'] ['topic']\n",
      "connectionism ['topic'] ['method/activity']\n",
      "critical thinking ['method/activity', 'topic'] ['method/activity']\n",
      "user ['entity (person)'] ['topic']\n",
      "design implication ['method/activity'] ['topic']\n",
      "distributed and interdisciplinary research teams ['multiple tags', 'entity (person)'] ['topic']\n",
      "coauthors ['entity (person)'] ['topic']\n",
      "intellectual collaboration ['method/activity'] ['method/activity', 'topic']\n",
      "written communication ['method/activity'] ['method/activity', 'topic']\n",
      "meeting support tools ['object-type', 'resource/tool'] ['topic']\n",
      "real-time distributed groupware ['resource/tool', 'topic'] ['topic']\n",
      "cves ['topic'] ['object-type']\n",
      "information-rich virtual environments ['object-type', 'topic'] ['topic']\n",
      "computer science - computers and society ['discipline', 'multiple tags'] ['multiple tags']\n",
      "scientific transformation ['method/activity'] ['topic']\n",
      "communications ['discipline'] ['topic']\n",
      "relationships ['object-type', 'topic'] ['topic']\n",
      "trust ['entity (institution/organisation/brand)', 'topic'] ['topic']\n",
      "virtual organisations ['object-type'] ['topic']\n",
      "virtual teams ['object-type', 'topic'] ['topic']\n",
      "virtual working ['method/activity'] ['topic']\n",
      "vos ['not categorizable'] ['topic']\n",
      "computer mediated communication ['discipline', 'topic'] ['topic']\n",
      "communication in science ['discipline'] ['topic']\n",
      "structural features ['object-type', 'topic'] ['topic']\n",
      "computers and the internet ['object-type', 'multiple tags', 'topic'] ['multiple tags']\n",
      "electronic books and readers ['object-type', 'multiple tags'] ['multiple tags']\n",
      "vook ['not categorizable'] ['object-type']\n",
      "digital classicist ['entity (person)'] ['topic']\n",
      "wikis ['object-type', 'resource/tool'] ['object-type']\n",
      "connected age ['time period'] ['topic']\n",
      "open educational resources ['object-type', 'topic'] ['topic']\n",
      "adafruit ['not categorizable'] ['entity (institution/organisation/brand)']\n",
      "cloudfab ['resource/tool'] ['entity (institution/organisation/brand)']\n",
      "gadgets ['object-type', 'resource/tool'] ['topic']\n",
      "green ['not categorizable'] ['topic']\n",
      "little bits ['not categorizable'] ['entity (institution/organisation/brand)']\n",
      "littlebits ['not categorizable'] ['entity (institution/organisation/brand)']\n",
      "makerbot ['not categorizable'] ['entity (institution/organisation/brand)', 'resource/tool']\n",
      "makers ['not categorizable'] ['topic']\n",
      "ponoko ['entity (institution/organisation/brand)', 'resource/tool'] ['entity (institution/organisation/brand)']\n",
      "retail ['not categorizable'] ['topic']\n",
      "science ['discipline'] ['topic']\n",
      "juxta ['not categorizable'] ['resource/tool']\n",
      "miscellanea ['not categorizable'] ['object-type']\n",
      "successful people ['entity (person)'] ['topic']\n",
      "co-located groups ['entity (person)'] ['topic']\n",
      "idea finding ['topic'] ['method/activity']\n",
      "personal digital assistants ['resource/tool'] ['topic']\n",
      "production blocking ['method/activity'] ['topic']\n",
      "tool-suite ['resource/tool'] ['topic']\n",
      "case studies ['object-type'] ['topic']\n",
      "literary criticism ['topic'] ['method/activity', 'topic']\n",
      "clipping ['method/activity'] ['object-type', 'method/activity']\n",
      "field study ['topic'] ['method/activity', 'topic']\n",
      "digital library project ['entity (project)'] ['topic']\n",
      "distributed proofreading project ['entity (project)'] ['topic']\n",
      "image scanners ['object-type'] ['topic']\n",
      "project gutenberg ['entity (project)'] ['entity (institution/organisation/brand)', 'resource/tool']\n",
      "humanities computing ['method/activity'] ['discipline', 'topic']\n",
      "australian literature ['topic'] ['object-type']\n",
      "play ['method/activity', 'topic'] ['object-type']\n",
      "law / legal history ['discipline', 'multiple tags'] ['multiple tags']\n",
      "literary criticism / ancient & classical ['multiple tags', 'topic'] ['multiple tags']\n",
      "literary criticism / medieval ['multiple tags', 'topic'] ['multiple tags']\n",
      "literary criticism / women authors ['multiple tags', 'topic'] ['multiple tags']\n",
      "science / history ['discipline', 'multiple tags'] ['multiple tags']\n",
      "social science / sociology / general ['discipline', 'multiple tags'] ['multiple tags']\n",
      "social science / sociology / marriage & family ['discipline', 'multiple tags'] ['multiple tags']\n",
      "social science / womens studies ['discipline', 'multiple tags'] ['multiple tags']\n",
      "poetry / european / english, irish, scottish, welsh ['multiple tags', 'topic'] ['multiple tags']\n",
      "history and criticism ['discipline', 'multiple tags'] ['multiple tags']\n",
      "civilization, medieval, in literature ['multiple tags', 'time period', 'topic'] ['multiple tags']\n",
      "english literature/ middle english, 1100-1500/ history and criticism ['multiple tags', 'language', 'topic'] ['multiple tags']\n",
      "history / europe / great britain ['discipline', 'entity (place)', 'multiple tags'] ['multiple tags']\n",
      "middle english, 1100-1500 ['multiple tags', 'language', 'time period'] ['multiple tags']\n",
      "search engines ['object-type'] ['topic']\n",
      "history / general ['discipline', 'multiple tags'] ['multiple tags']\n",
      "history / historical geography ['discipline', 'multiple tags'] ['multiple tags']\n",
      "science / earth sciences / geography ['discipline', 'multiple tags'] ['multiple tags']\n",
      "technology & engineering / remote sensing & geographic information systems ['discipline', 'multiple tags', 'method/activity'] ['multiple tags']\n",
      "travel / general ['multiple tags', 'method/activity'] ['multiple tags']\n",
      "historical geographic information systems ['object-type'] ['topic']\n",
      "social aspects methodology ['topic'] ['multiple tags']\n",
      "spatial information geographic information systems ['topic'] ['multiple tags']\n",
      "writing saving  <br> citations zotero library research guides ['object-type', 'method/activity'] ['multiple tags']\n",
      "deaths (fatalities) ['object-type'] ['topic']\n",
      "fires and firefighters ['multiple tags', 'entity (person)'] ['topic']\n",
      "transgender and transsexual ['multiple tags', 'topic'] ['multiple tags']\n",
      "social science / ethnic studies / african american studies ['discipline', 'multiple tags'] ['multiple tags']\n",
      "history / united states / 20th century ['discipline', 'entity (place)', 'multiple tags'] ['multiple tags']\n",
      "political science / civil rights ['discipline', 'multiple tags', 'topic'] ['multiple tags']\n",
      "social science / gender studies ['discipline', 'multiple tags'] ['multiple tags']\n",
      "universities ['object-type'] ['topic']\n",
      "cached resources ['object-type'] ['topic']\n",
      "recovery ['topic'] ['method/activity']\n",
      "search engine ['object-type'] ['topic']\n",
      "recordsearch ['method/activity'] ['resource/tool']\n",
      "experiments ['object-type'] ['topic']\n",
      "invisibleaustralians ['entity (project)'] ['topic', 'resource/tool', 'entity (project)']\n",
      "white australia ['entity (place)', 'topic'] ['topic']\n",
      "digital curation and preservation ['multiple tags', 'method/activity'] ['multiple tags']\n",
      "music / genres & styles / rap & hip hop ['multiple tags', 'topic'] ['multiple tags']\n",
      "circle ['topic'] ['not categorizable']\n",
      "trinity college ['entity (place)'] ['entity (institution/organisation/brand)']\n",
      "british museum ['entity (place)'] ['entity (institution/organisation/brand)']\n",
      "centre for digital humanities ['entity (place)'] ['topic']\n",
      "ucl lunch hour lectures ['object-type'] ['entity (event)']\n",
      "virtual visitors ['entity (person)'] ['topic']\n",
      "digitized ['not categorizable'] ['topic']\n",
      "vulgate ['object-type', 'topic'] ['object-type']\n",
      "congress ['entity (event)'] ['entity (institution/organisation/brand)']\n",
      "digital content ['topic'] ['object-type']\n",
      "scholarly communications ['discipline'] ['topic']\n",
      "ted talk ['entity (institution/organisation/brand)', 'entity (project)'] ['object-type']\n",
      "ted talks ['object-type', 'entity (institution/organisation/brand)', 'entity (project)'] ['object-type']\n",
      "ted2012 ['entity (institution/organisation/brand)', 'entity (project)'] ['not categorizable']\n",
      "tedtalk ['entity (institution/organisation/brand)', 'entity (project)'] ['object-type']\n",
      "british ['entity (place)'] ['entity (place)', 'topic']\n",
      "mediavision ['entity (institution/organisation/brand)'] ['resource/tool']\n",
      "columbia ['entity (place)', 'entity (institution/organisation/brand)'] ['entity (place)']\n",
      "humanistic ['discipline', 'topic'] ['topic']\n",
      "inspire ['not categorizable'] ['method/activity']\n",
      "mukomuc ['entity (institution/organisation/brand)'] ['entity (event)']\n",
      "museen ['object-type', 'entity (place)'] ['topic']\n",
      "musesocial ['not categorizable'] ['topic']\n",
      "musetech ['not categorizable'] ['topic']\n",
      "public ['not categorizable'] ['topic']\n",
      "scmuc12 ['not categorizable'] ['entity (event)']\n",
      "share ['method/activity'] ['method/activity', 'topic']\n",
      "the economist ['entity (institution/organisation/brand)'] ['entity (product)']\n",
      "web 2.0 ['format/standard'] ['topic']\n",
      "world ['entity (place)'] ['topic']\n",
      "anthony ['entity (person)'] ['not categorizable']\n",
      "donaldson ['entity (person)'] ['not categorizable']\n",
      "doug ['entity (person)'] ['not categorizable']\n",
      "dworak ['entity (person)'] ['not categorizable']\n",
      "mcn ['not categorizable'] ['entity (event)', 'entity (institution/organisation/brand)']\n",
      "melody ['topic'] ['entity (person)']\n",
      "reside ['not categorizable'] ['entity (person)']\n",
      "architectural history ['discipline'] ['discipline', 'topic']\n",
      "hgis ['method/activity'] ['resource/tool']\n",
      "nolli ['not categorizable'] ['entity (person)']\n",
      "vasi ['not categorizable'] ['entity (person)']\n",
      "dh 2011 opening keynote ['object-type', 'topic'] ['entity (event)']\n",
      "crowd source ['topic'] ['method/activity']\n",
      "crowdsource ['topic'] ['method/activity']\n",
      "flights ['object-type'] ['topic']\n",
      "java script ['format/standard'] ['resource/tool']\n",
      "koblin ['not categorizable'] ['resource/tool']\n",
      "lab ['entity (place)'] ['topic']\n",
      "message ['topic'] ['object-type']\n",
      "outsource ['topic'] ['method/activity']\n",
      "picture ['object-type', 'topic'] ['object-type']\n",
      "senseable city ['entity (place)', 'topic'] ['topic']\n",
      "sensible city ['entity (place)', 'topic'] ['topic']\n",
      "sheep ['topic'] ['object-type']\n",
      "story ['topic'] ['object-type']\n",
      "office ['entity (place)'] ['topic']\n",
      "architect ['entity (person)'] ['topic']\n",
      "building ['topic'] ['method/activity']\n",
      "designer ['entity (person)'] ['topic']\n",
      "guy ['entity (person)'] ['topic']\n",
      "product ['object-type'] ['topic']\n",
      "south ['entity (place)'] ['topic']\n",
      "space ['entity (place)', 'topic'] ['topic']\n",
      "wits ['object-type', 'topic'] ['topic']\n",
      "city ['entity (place)'] ['topic']\n",
      "connected ['not categorizable'] ['topic']\n",
      "tedx ['entity (institution/organisation/brand)', 'entity (project)'] ['entity (institution/organisation/brand)']\n",
      "dhsi ['entity (event)'] ['entity (institution/organisation/brand)']\n",
      "abe ['not categorizable'] ['entity (person)']\n",
      "hypercities ['object-type', 'entity (place)', 'topic'] ['topic']\n",
      "dead sea scrolls ['object-type'] ['topic']\n",
      "learned ['not categorizable'] ['topic']\n",
      "million ['not categorizable'] ['topic']\n",
      "christian ['entity (person)'] ['topic']\n",
      "codex ['topic'] ['object-type']\n",
      "modern ['time period'] ['topic']\n",
      "multispectral ['topic'] ['method/activity']\n",
      "netz ['topic'] ['entity (person)']\n",
      "palimpsest ['object-type', 'topic'] ['entity (product)']\n",
      "reviel ['not categorizable'] ['entity (person)']\n",
      "darwin, charles, 1809-1882 ['multiple tags', 'time period', 'entity (person)'] ['entity (person)']\n",
      "evolution (biology) ['discipline'] ['topic']\n",
      "humanities digital libraries ['object-type'] ['topic']\n",
      "science & the humanities ['discipline', 'multiple tags'] ['multiple tags']\n",
      "interfaces (informatique) ['object-type', 'topic'] ['topic']\n",
      "médias ['object-type', 'topic'] ['topic']\n",
      "science / philosophy & social aspects ['discipline', 'multiple tags'] ['multiple tags']\n",
      "social science / general ['discipline', 'multiple tags'] ['multiple tags']\n",
      "social science / research ['discipline', 'multiple tags'] ['multiple tags']\n",
      "enseignants de français ['entity (person)'] ['topic']\n",
      "lecture à l’écran ['entity (event)', 'topic'] ['topic']\n",
      "lecture distante ['entity (event)', 'topic'] ['method/activity']\n",
      "philosophy / criticism ['discipline', 'multiple tags', 'topic'] ['multiple tags']\n",
      "humanisme ['discipline'] ['topic']\n",
      "literary criticism / books & reading ['multiple tags', 'method/activity', 'topic'] ['multiple tags']\n",
      "literary criticism / australian & oceanian ['entity (place)', 'multiple tags', 'topic'] ['multiple tags']\n",
      "derrida ,  jacques  ( 1930-2004 ) ['time period', 'entity (person)'] ['entity (person)']\n",
      "édition savante électronique ['topic'] ['object-type']\n",
      "édition électronique ['topic'] ['object-type']\n",
      "usages ['object-type'] ['topic']\n",
      "language arts & disciplines / linguistics / semantics ['discipline', 'multiple tags', 'topic'] ['multiple tags']\n",
      "language arts & disciplines / rhetoric ['discipline', 'multiple tags', 'topic'] ['multiple tags']\n",
      "language arts & disciplines / speech ['discipline', 'multiple tags', 'topic'] ['multiple tags']\n",
      "foreign language study / english as a second language ['discipline', 'multiple tags', 'topic'] ['multiple tags']\n",
      "language arts & disciplines / library & information science / archives & special libraries ['discipline', 'multiple tags', 'topic'] ['multiple tags']\n",
      "language arts & disciplines / general ['discipline', 'multiple tags', 'topic'] ['multiple tags']\n",
      "language arts & disciplines / literacy ['discipline', 'multiple tags', 'topic'] ['multiple tags']\n",
      "computers / programming / general ['multiple tags', 'method/activity', 'topic'] ['multiple tags']\n",
      "literary criticism / reference ['multiple tags', 'topic'] ['multiple tags']\n",
      "bestiaire ['object-type', 'topic'] ['object-type']\n",
      "colette ['entity (person)'] ['not categorizable']\n",
      "frantext ['topic'] ['resource/tool']\n",
      "statistique ['discipline'] ['discipline', 'method/activity']\n",
      "computers / information technology ['discipline', 'multiple tags', 'topic'] ['multiple tags']\n",
      "computers / system administration / storage & retrieval ['discipline', 'method/activity', 'topic'] ['multiple tags']\n",
      "computers / optical data processing ['multiple tags', 'method/activity', 'topic'] ['multiple tags']\n",
      "computers / computer vision & pattern recognition ['multiple tags', 'method/activity', 'topic'] ['multiple tags']\n",
      "computers / data processing ['multiple tags', 'method/activity', 'topic'] ['multiple tags']\n",
      "computers / intelligence (ai) & semantics ['multiple tags', 'topic'] ['multiple tags']\n",
      "social media ['topic'] ['object-type']\n",
      "giraudoux, jean (1882-1944) language ['multiple tags', 'time period', 'entity (person)'] ['multiple tags']\n",
      "giraudoux, jean (1882-1944) langue ['multiple tags', 'time period', 'entity (person)'] ['multiple tags']\n",
      "corpus linguistique ['object-type', 'topic'] ['object-type']\n",
      "linguistique informatique ['discipline'] ['topic']\n",
      "littérature française 19e siècle thèmes, motifs ['multiple tags', 'time period', 'topic'] ['multiple tags']\n",
      "récits de voyages français 19e siècle histoire et critique ['object-type', 'multiple tags', 'time period'] ['multiple tags']\n",
      "voyages dans la littérature ['object-type', 'topic'] ['topic']\n",
      "corpus (recherche) ['object-type', 'topic'] ['object-type']\n",
      "littérature et informatique ['discipline', 'multiple tags'] ['multiple tags']\n",
      "statistique lexicale informatique ['discipline'] ['method/activity']\n",
      "electronic text ['topic'] ['object-type']\n",
      "encoding schemes ['object-type'] ['topic']\n",
      "markup language ['format/standard', 'topic'] ['topic']\n",
      "sgml ['format/standard'] ['method/activity']\n",
      "text processing (computer science) ['discipline', 'multiple tags', 'method/activity'] ['method/activity', 'topic']\n",
      "categorization ['topic'] ['method/activity']\n",
      "latin text ['topic'] ['object-type']\n",
      "maximum entropy model ['topic'] ['method/activity']\n",
      "mobile device ['topic'] ['object-type']\n",
      "short messaging service ['topic'] ['object-type']\n",
      "exist knowledge base ['topic'] ['object-type', 'topic']\n",
      "query expansion ['method/activity'] ['method/activity', 'topic']\n",
      "delaunay triangulation ['topic'] ['method/activity']\n",
      "dense region ['entity (place)', 'topic'] ['topic']\n",
      "text material ['topic'] ['object-type']\n",
      "deception detection ['method/activity'] ['topic']\n",
      "true teller ['not categorizable'] ['topic']\n",
      "computers / databases / data mining ['object-type', 'multiple tags', 'method/activity'] ['multiple tags']\n",
      "computers / databases / general ['object-type', 'multiple tags'] ['multiple tags']\n",
      "computers / desktop applications / design & graphics ['object-type', 'multiple tags'] ['multiple tags']\n",
      "computers / interactive & multimedia ['multiple tags', 'topic'] ['multiple tags']\n",
      "computers / networking / hardware ['multiple tags', 'method/activity', 'topic'] ['multiple tags']\n",
      "string similarity ['topic'] ['method/activity']\n",
      "historical research ['method/activity'] ['topic']\n",
      "historical source ['topic'] ['object-type']\n",
      "police report ['object-type', 'topic'] ['object-type']\n",
      "computational linguistic ['discipline'] ['not categorizable']\n",
      "product review ['object-type', 'topic'] ['object-type']\n",
      "data visualization tools ['object-type', 'resource/tool'] ['topic']\n",
      "patent information ['topic'] ['object-type']\n",
      "review ['topic'] ['object-type', 'method/activity']\n",
      "word association ['topic'] ['method/activity']\n",
      "clustering algorithms ['topic'] ['method/activity']\n",
      "cosine similarity ['topic'] ['method/activity']\n",
      "electronic mail ['topic'] ['object-type']\n",
      "frequent terms ['object-type'] ['topic']\n",
      "guttenbergs william shakespeare stories dataset ['object-type', 'multiple tags', 'entity (person)'] ['resource/tool']\n",
      "hierarchical agglomerative clustering algorithm ['topic'] ['method/activity']\n",
      "k-means clustering algorithm ['topic'] ['method/activity']\n",
      "linux ['entity (institution/organisation/brand)'] ['entity (institution/organisation/brand)', 'resource/tool']\n",
      "statistical analysis tool ['resource/tool'] ['topic']\n",
      "computers / expert systems ['object-type', 'multiple tags'] ['multiple tags']\n",
      "mathematics / discrete mathematics ['discipline', 'multiple tags'] ['multiple tags']\n",
      "mathematics / general ['discipline', 'multiple tags'] ['multiple tags']\n",
      "science / physics / general ['discipline', 'multiple tags'] ['multiple tags']\n",
      "co-occurrences ['object-type', 'topic'] ['topic']\n",
      "collocation ['method/activity'] ['topic']\n",
      "cooccurrences ['object-type', 'topic'] ['topic']\n",
      "corrélats ['object-type', 'topic'] ['topic']\n",
      "digital text ['object-type', 'topic'] ['object-type']\n",
      "j.5 computer applications: arts and humanities ['discipline', 'multiple tags'] ['multiple tags']\n",
      "computers / general ['object-type', 'multiple tags'] ['multiple tags']\n",
      "language arts & disciplines / authorship ['discipline'] ['multiple tags']\n",
      "austen, jane - technique ['multiple tags', 'entity (person)'] ['multiple tags']\n",
      "criticism - data processing ['multiple tags', 'method/activity'] ['multiple tags']\n",
      "criticism/ data processing ['multiple tags', 'method/activity'] ['multiple tags']\n",
      "fiction - technique ['topic'] ['multiple tags']\n",
      "love stories, english ['object-type', 'multiple tags', 'language'] ['object-type']\n",
      "love stories, english - history and criticism ['object-type', 'multiple tags', 'language'] ['multiple tags']\n",
      "love stories, english/ history and criticism ['object-type', 'multiple tags', 'language'] ['multiple tags']\n",
      "libraries and librarians ['entity (place)', 'multiple tags', 'entity (person)'] ['multiple tags']\n",
      "statistics ['discipline'] ['discipline', 'method/activity']\n",
      "computer science - computation and language ['discipline', 'multiple tags', 'method/activity'] ['multiple tags']\n",
      "computer science - artificial intelligence ['discipline', 'multiple tags', 'topic'] ['multiple tags']\n",
      "mathematics / probability & statistics / general ['discipline', 'multiple tags', 'topic'] ['multiple tags']\n",
      "business & economics / statistics ['discipline', 'multiple tags'] ['multiple tags']\n",
      "hyperbase ['not categorizable'] ['resource/tool']\n",
      "lemmes ['object-type'] ['topic']\n",
      "mots ['object-type'] ['topic']\n",
      "linguistique de corpus ['discipline'] ['discipline', 'topic']\n",
      "linguistique systémique fonctionnelle ['discipline'] ['discipline', 'topic']\n",
      "logiciel txm ['method/activity'] ['resource/tool']\n",
      "traduction ['method/activity'] ['object-type', 'method/activity']\n",
      "estadísticas lexicales ['object-type'] ['method/activity', 'topic']\n",
      "lexical studies ['discipline'] ['discipline', 'method/activity', 'topic']\n",
      "statistiques lexicales ['object-type'] ['method/activity', 'topic']\n",
      "drama / shakespeare ['topic', 'multiple tags', 'entity (person)'] ['multiple tags']\n",
      "literary criticism / shakespeare ['topic', 'multiple tags', 'entity (person)'] ['multiple tags']\n",
      "parody ['topic'] ['object-type']\n",
      "literary criticism / european / german ['multiple tags', 'language', 'topic'] ['multiple tags']\n",
      "business & economics / commerce ['discipline'] ['multiple tags']\n",
      "electrical engineering ['method/activity'] ['topic']\n",
      "electronics ['discipline', 'topic'] ['object-type']\n",
      "social edition ['topic'] ['object-type']\n",
      "social media. ['topic'] ['object-type']\n",
      "neue medien ['topic'] ['object-type']\n",
      "digitale medien ['topic'] ['object-type']\n",
      "höfische dichtung ['topic'] ['object-type']\n",
      "höfische literatur ['topic'] ['object-type']\n",
      "hyperdokument ['object-type', 'topic'] ['object-type']\n",
      "hypertextdokument ['object-type', 'topic'] ['object-type']\n",
      "ritterdichtung ['topic'] ['object-type']\n",
      "web mapping, internet, map-based online system, mapserver ['multiple tags', 'method/activity', 'topic'] ['multiple tags']\n",
      "web-mapping, internet, kartenserver ['multiple tags', 'method/activity', 'topic'] ['multiple tags']\n",
      "duitse letterkunde ['topic'] ['discipline']\n",
      "cuestiones textuales ['object-type'] ['topic']\n",
      "sanskrit literature ['language', 'topic'] ['object-type']\n",
      "item ['object-type'] ['topic']\n",
      "linguistique ['not categorizable', 'discipline'] ['topic']\n",
      "numérique ['not categorizable'] ['topic']\n",
      "computer graphics ['topic'] ['discipline', 'topic']\n",
      "document preparation and text processing ['multiple tags', 'method/activity'] ['multiple tags']\n",
      "image processing and computer vision ['multiple tags', 'method/activity', 'topic'] ['multiple tags']\n",
      "information storage and retrieval ['multiple tags', 'method/activity'] ['multiple tags', 'topic']\n",
      "information systems applications (incl.internet) ['object-type', 'topic'] ['topic']\n",
      "multimedia information systems ['object-type', 'topic'] ['topic']\n",
      "computer science - digital libraries ['discipline', 'multiple tags', 'object-type'] ['multiple tags']\n",
      "pragmatiek ['topic'] ['discipline', 'topic']\n",
      "kunst ['discipline'] ['discipline', 'object-type']\n",
      "p5 ['not categorizable'] ['format/standard']\n",
      "publishing tools ['object-type', 'resource/tool'] ['object-type']\n",
      "digital scholarly editions ['object-type', 'topic'] ['object-type']\n",
      "stand-off markup ['method/activity'] ['topic']\n",
      "création (esthétique) ['method/activity'] ['topic']\n",
      "critique textuelle ['topic'] ['method/activity', 'topic']\n",
      "littérature française commentaire de texte ['language', 'topic'] ['multiple tags']\n",
      "documentaire informatie ['topic'] ['not categorizable']\n",
      "letterkunde: auteurs ['multiple tags', 'topic'] ['multiple tags']\n",
      "édition numérique ['topic'] ['object-type']\n",
      "études francophones ['discipline'] ['topic']\n",
      "processus de création ['topic'] ['method/activity', 'topic']\n",
      "data processing computer science ['discipline', 'multiple tags', 'method/activity'] ['multiple tags']\n",
      "geography and history ['discipline', 'multiple tags'] ['multiple tags']\n",
      "library and information sciences ['discipline', 'multiple tags'] ['discipline']\n",
      "technology (applied sciences) ['multiple tags', 'topic'] ['discipline']\n",
      "criticism, textual congresses ['multiple tags', 'topic'] ['multiple tags']\n",
      "critica del testo ['method/activity', 'topic'] ['entity (product)']\n",
      "filologia classica ['topic'] ['discipline']\n",
      "saggi ['object-type'] ['not categorizable']\n",
      "textual criticism n ['topic'] ['method/activity', 'topic']\n",
      "criticism, textual. y ['topic'] ['method/activity', 'topic']\n",
      "italian language criticism, textual. ['language', 'topic'] ['method/activity', 'topic']\n",
      "latin language criticism, textual. ['language', 'topic'] ['method/activity', 'topic']\n",
      "criticism, textual handbooks, manuals, etc. y ['object-type', 'multiple tags', 'topic'] ['multiple tags']\n",
      "literary transmission ['method/activity'] ['topic']\n",
      "literary transmission n ['method/activity'] ['topic']\n",
      "manuscript transmission ['method/activity'] ['topic']\n",
      "manuscript transmission n ['method/activity'] ['topic']\n",
      "textual transmission ['method/activity'] ['topic']\n",
      "textual transmission n ['method/activity'] ['topic']\n",
      "transmission of texts y ['method/activity'] ['topic']\n",
      "italian literature criticism, textual ['language', 'topic'] ['multiple tags']\n"
     ]
    }
   ],
   "source": [
    "for x in df.index:\n",
    "    if df.loc[x, \"Mismatches\"] > 0:\n",
    "        print(df.loc[x, \"Tag\"], [x for x in df.loc[x, \"Categories_x\"]], [x for x in df.loc[x, \"Categories_y\"]])"
   ]
  },
  {
   "cell_type": "markdown",
   "metadata": {},
   "source": [
    "### Taking a closer look at individual categories (only matches considered)"
   ]
  },
  {
   "cell_type": "code",
   "execution_count": 29,
   "metadata": {},
   "outputs": [],
   "source": [
    "def show_matching_entities(category):\n",
    "    print(\"Kategorie:\", category)\n",
    "    print()\n",
    "    entities = []\n",
    "    for x in df.index:\n",
    "        if category in df.loc[x, \"Categories_x\"] and category in df.loc[x, \"Categories_y\"]:\n",
    "            entities.append(df.loc[x, \"Tag\"])\n",
    "    for x in sorted(entities):\n",
    "        print(x)"
   ]
  },
  {
   "cell_type": "code",
   "execution_count": 30,
   "metadata": {},
   "outputs": [
    {
     "name": "stdout",
     "output_type": "stream",
     "text": [
      "Kategorie: method/activity\n",
      "\n",
      "abstract thinking\n",
      "academic blogging\n",
      "academic publication\n",
      "academic publishing\n",
      "active learning\n",
      "adding\n",
      "advocating\n",
      "aggregating\n",
      "aggregation\n",
      "algorithm design and analysis\n",
      "alphabetisch katalogisieren\n",
      "analyse des données\n",
      "analysis\n",
      "analyze qualitatively\n",
      "analyze quantitatively\n",
      "analyze statistically\n",
      "analyzequalitatively\n",
      "analyzestatistically\n",
      "analyzing\n",
      "animation\n",
      "annotate\n",
      "annotating\n",
      "annotation\n",
      "anonymization\n",
      "archiving\n",
      "aspect analysis\n",
      "assess\n",
      "assessing\n",
      "associate\n",
      "associating\n",
      "association\n",
      "attribution of authorship\n",
      "audio annotation\n",
      "audio conferencing\n",
      "audio recording\n",
      "audio transcription\n",
      "authenticate\n",
      "authorship attribution\n",
      "automated data collection\n",
      "automatic linguistic analysis\n",
      "automation\n",
      "benefits analysis\n",
      "bit stream preservation\n",
      "blogging\n",
      "browsing\n",
      "brute force method\n",
      "capture\n",
      "capturing\n",
      "cataloguing\n",
      "certification\n",
      "citation\n",
      "classification\n",
      "clipping\n",
      "cluster analysis\n",
      "cluster mining\n",
      "clustering\n",
      "co-creation\n",
      "co-creation of knowledge\n",
      "co-design\n",
      "collaborate\n",
      "collaborating\n",
      "collaboration\n",
      "collaborative citymaking\n",
      "collaborative creation\n",
      "collaborative interpretation\n",
      "collaborative text analysis\n",
      "collaborative text annotation\n",
      "collaborative text editing\n",
      "collating\n",
      "collation\n",
      "collect\n",
      "collecting\n",
      "collocation analysis\n",
      "commenting\n",
      "commitment building\n",
      "communicating\n",
      "communication in learning and scholarship\n",
      "communitybuilding\n",
      "compare\n",
      "comparing\n",
      "comparison\n",
      "compilation\n",
      "compiling\n",
      "composition\n",
      "computational imaging\n",
      "computational methods\n",
      "conceptualize\n",
      "conceptualizing\n",
      "concordance\n",
      "content analysis\n",
      "contentanalysis\n",
      "contextual exploration\n",
      "contextualizing\n",
      "contrastive analysis\n",
      "conversion\n",
      "converting\n",
      "cooperative working method\n",
      "correcting\n",
      "create\n",
      "creating\n",
      "creation\n",
      "crf parsing\n",
      "critical thinking\n",
      "criticism\n",
      "criticism, textual\n",
      "criticism, textual y\n",
      "critique génétique\n",
      "cropping\n",
      "crowdsourcing\n",
      "customization\n",
      "data analysis\n",
      "data anaylsis\n",
      "data cleansing\n",
      "data collection\n",
      "data curation\n",
      "data discovery\n",
      "data extraction\n",
      "data ingest\n",
      "data ingestion\n",
      "data management\n",
      "data manipulation\n",
      "data mapping\n",
      "data migration\n",
      "data mining\n",
      "data modeling\n",
      "data processing\n",
      "data protection\n",
      "data recognition\n",
      "data visualisation\n",
      "data visualization\n",
      "datarecognition\n",
      "datenmanagement\n",
      "datenmodellierung\n",
      "debugging\n",
      "deep learning\n",
      "define policy\n",
      "definepolicy\n",
      "defining\n",
      "description\n",
      "design\n",
      "design methods\n",
      "design thinking\n",
      "designing\n",
      "developing\n",
      "diagramming\n",
      "digital editing\n",
      "digital mapping\n",
      "digital preservation\n",
      "digital publication\n",
      "digital publishing\n",
      "digitisation\n",
      "digitization\n",
      "digitize\n",
      "dimensionality reduction\n",
      "discourse analysis\n",
      "discourseanalysis\n",
      "discovering\n",
      "discussing\n",
      "discussion\n",
      "diskurs analyse\n",
      "disseminating\n",
      "dissemination\n",
      "distant reading\n",
      "document clustering\n",
      "document clustering and classification\n",
      "document image processing\n",
      "document layout analysis\n",
      "documentation\n",
      "dokumentation\n",
      "drawing\n",
      "e-learning\n",
      "e-mailing\n",
      "earth observations\n",
      "ecdotica\n",
      "editing\n",
      "eigen decomposition\n",
      "electrochemical impedance spectroscopy\n",
      "electronic data processing\n",
      "electronic publishing\n",
      "emulation\n",
      "encode\n",
      "encoding\n",
      "enrich\n",
      "enriching\n",
      "enrichment\n",
      "entity linking\n",
      "entity recognition\n",
      "error analysis\n",
      "evaluation\n",
      "experimentation\n",
      "explanation\n",
      "exploration\n",
      "exploration de données\n",
      "expressing opinion\n",
      "extracting\n",
      "extraktion\n",
      "facetted search\n",
      "feature extraction\n",
      "finding\n",
      "formatting\n",
      "forschungsdatenmanagement\n",
      "frequent pattern mining\n",
      "gamification\n",
      "gather\n",
      "gathering\n",
      "genre recognition\n",
      "georeferencing\n",
      "geotagging\n",
      "gis\n",
      "give overview\n",
      "giveoverview\n",
      "graphics programming\n",
      "grid computing\n",
      "handwriting recognition\n",
      "handwritten information extraction\n",
      "handwritten text recognition\n",
      "harmonization\n",
      "hcr\n",
      "heritage preservation\n",
      "highlighting\n",
      "historical document processing\n",
      "historical gis\n",
      "humanities topic modeling\n",
      "identification\n",
      "identifying\n",
      "image recognition\n",
      "image registration\n",
      "imaging\n",
      "improving\n",
      "in situ analysis\n",
      "information extraction\n",
      "information mining\n",
      "information resources management\n",
      "information retrieval\n",
      "information visualization\n",
      "informationretrieval\n",
      "instant messaging\n",
      "integrating\n",
      "integration\n",
      "intellectual collaboration\n",
      "intellectual property analysis\n",
      "internet programming\n",
      "interpret\n",
      "interpretation\n",
      "interpreting\n",
      "journal publishing\n",
      "keyword spotting\n",
      "knowledge discovery\n",
      "knowledge extraction\n",
      "knowledge mining\n",
      "laser analysis\n",
      "laser cleaning\n",
      "laserscanning\n",
      "layoutanalyse\n",
      "lemmatisation\n",
      "lemmatization\n",
      "lemmatizing\n",
      "letter writing\n",
      "lettering\n",
      "licensing\n",
      "linear discriminant analysis\n",
      "linguisticannotation\n",
      "literature publishing\n",
      "locality sensitive hashing\n",
      "logométrie\n",
      "machine learning\n",
      "machine translation\n",
      "machinelearning\n",
      "management\n",
      "managing\n",
      "manuscript encoding\n",
      "mapping\n",
      "material analysis\n",
      "merging\n",
      "metadata search\n",
      "microblogging\n",
      "migration\n",
      "mind mapping\n",
      "mind-mapping\n",
      "minería de datos\n",
      "modeling\n",
      "modelling\n",
      "modifying\n",
      "multiclass classification\n",
      "multispectral imaging\n",
      "music encoding\n",
      "name entity recognition\n",
      "named entity recognition\n",
      "namedentityrecognition\n",
      "natural language processing\n",
      "ner\n",
      "network analysis\n",
      "network analysis (planning)\n",
      "networkanalysis\n",
      "nlp\n",
      "non invasive analysis\n",
      "numérisation\n",
      "ocr\n",
      "omr\n",
      "optical character recognition\n",
      "optische zeichenerkennung\n",
      "oral history\n",
      "organizing\n",
      "parsing\n",
      "part-of-speech-tagging\n",
      "pattern clustering\n",
      "pattern finding\n",
      "pattern recognition\n",
      "pca\n",
      "peer review\n",
      "photodecomposition\n",
      "photographing\n",
      "plotting\n",
      "portable techniques\n",
      "pos tagging\n",
      "pos-tagging\n",
      "posting\n",
      "preprocessing\n",
      "preservation\n",
      "preserving\n",
      "principal component analysis\n",
      "programming\n",
      "project management\n",
      "projectmanagement\n",
      "proper name disambiguation\n",
      "prototyping\n",
      "pseudo coding\n",
      "publication\n",
      "publishing\n",
      "query expansion\n",
      "querying\n",
      "read\n",
      "reading\n",
      "reasoning\n",
      "record-keeping\n",
      "reflect\n",
      "relational analysis\n",
      "relationalanalysis\n",
      "removing\n",
      "reorganization\n",
      "replication\n",
      "requirements analysis\n",
      "research data management\n",
      "research design\n",
      "resource sharing\n",
      "rhetorical analysis\n",
      "scanning\n",
      "schema mapping\n",
      "scholarly electronic publishing\n",
      "scholarly publishing\n",
      "search\n",
      "searching\n",
      "segmentation\n",
      "segmenting\n",
      "semantification\n",
      "semisupervised learning\n",
      "sentiment analysis\n",
      "sentimentanalysis\n",
      "sequence alignment\n",
      "share\n",
      "sharing\n",
      "simulate\n",
      "social network analysis\n",
      "social networking\n",
      "spatial analysis\n",
      "speculation\n",
      "speech recognition\n",
      "speech recognizing\n",
      "statistical analysis\n",
      "stemming\n",
      "storing\n",
      "storytelling\n",
      "structural analysis\n",
      "structuralanalysis\n",
      "stylistic analysis\n",
      "stylisticanalysis\n",
      "stylometry\n",
      "subtracting\n",
      "supplementing\n",
      "survey\n",
      "tagging\n",
      "teaching\n",
      "term extraction\n",
      "text analysis\n",
      "text annotation\n",
      "text categorization\n",
      "text encoding\n",
      "text mining\n",
      "text mining (information retrieval)\n",
      "text processing (computer science)\n",
      "text recognition\n",
      "textual criticism\n",
      "textual editing\n",
      "tf - idf\n",
      "theorizing\n",
      "tokenisation\n",
      "tool-entwicklung\n",
      "topic modeling\n",
      "topic modelling\n",
      "topicmodeling\n",
      "traduction\n",
      "training\n",
      "transcoding\n",
      "transcribing\n",
      "transcription\n",
      "transfer learning\n",
      "transformation\n",
      "translating\n",
      "translation\n",
      "tree-tagging\n",
      "type reading\n",
      "user testing\n",
      "versioning\n",
      "video capture\n",
      "video editing\n",
      "video recording\n",
      "virtual collaboration\n",
      "virtuelle rekonstruktion\n",
      "visual analysis\n",
      "visual annotation\n",
      "visualisation de données\n",
      "visualisierung\n",
      "visualization\n",
      "visualize\n",
      "visualizing\n",
      "web crawling\n",
      "web development\n",
      "web scraping\n",
      "web site development\n",
      "wireframing\n",
      "writing\n",
      "written communication\n",
      "x ray absorption\n",
      "x ray diffraction\n",
      "x ray fluorescence\n",
      "xrf mapping\n",
      "étiquetage\n"
     ]
    }
   ],
   "source": [
    "show_matching_entities(\"method/activity\")"
   ]
  },
  {
   "cell_type": "markdown",
   "metadata": {},
   "source": [
    "### Comparing different categories in terms of (mis)matches"
   ]
  },
  {
   "cell_type": "code",
   "execution_count": 66,
   "metadata": {},
   "outputs": [],
   "source": [
    "def count_match(category):\n",
    "    count = 0\n",
    "    for x in df.index:\n",
    "        if category in df.loc[x, \"Categories_x\"] and category in df.loc[x, \"Categories_y\"]:\n",
    "            count = count + 1\n",
    "    return count\n",
    "\n",
    "def count_mismatch(category):\n",
    "    count = 0\n",
    "    for x in df.index:\n",
    "        if category in df.loc[x, \"Categories_x\"] and category not in df.loc[x, \"Categories_y\"]:\n",
    "            count = count + 1\n",
    "        elif category not in df.loc[x, \"Categories_x\"] and category in df.loc[x, \"Categories_y\"]:\n",
    "            count = count + 1\n",
    "    return count\n",
    "\n",
    "def calculate_agreement(category):\n",
    "    matches = count_match(category)\n",
    "    mismatches = count_mismatch(category)\n",
    "    rate = matches*100/(matches+mismatches)\n",
    "    return rate\n",
    "\n",
    "def print_agreement(category):\n",
    "    rate = calculate_agreement(category)\n",
    "    print(round(rate, 2), \"%\")"
   ]
  },
  {
   "cell_type": "code",
   "execution_count": 70,
   "metadata": {},
   "outputs": [
    {
     "name": "stdout",
     "output_type": "stream",
     "text": [
      "discipline\n",
      "57.18 %\n",
      "\n",
      "entity (event)\n",
      "27.59 %\n",
      "\n",
      "entity (institution/organisation/brand)\n",
      "41.07 %\n",
      "\n",
      "entity (person)\n",
      "52.1 %\n",
      "\n",
      "entity (place)\n",
      "62.58 %\n",
      "\n",
      "entity (product)\n",
      "36.36 %\n",
      "\n",
      "entity (project)\n",
      "13.33 %\n",
      "\n",
      "format/standard\n",
      "43.48 %\n",
      "\n",
      "language\n",
      "76.56 %\n",
      "\n",
      "method/activity\n",
      "68.6 %\n",
      "\n",
      "multiple tags\n",
      "75.13 %\n",
      "\n",
      "not categorizable\n",
      "27.65 %\n",
      "\n",
      "object-type\n",
      "47.06 %\n",
      "\n",
      "resource/tool\n",
      "36.62 %\n",
      "\n",
      "time period\n",
      "39.66 %\n",
      "\n",
      "topic\n",
      "44.17 %\n",
      "\n"
     ]
    }
   ],
   "source": [
    "categories = [\"discipline\", \"entity (event)\", \"entity (institution/organisation/brand)\", \"entity (person)\", \n",
    "              \"entity (place)\", \"entity (product)\", \"entity (project)\", \"format/standard\", \"language\", \"method/activity\", \n",
    "              \"multiple tags\", \"not categorizable\", \"object-type\", \"resource/tool\", \"time period\", \"topic\"]\n",
    "\n",
    "for category in categories:\n",
    "    print(category)\n",
    "    print_agreement(category)\n",
    "    print()"
   ]
  },
  {
   "cell_type": "code",
   "execution_count": 73,
   "metadata": {},
   "outputs": [
    {
     "data": {
      "application/vnd.plotly.v1+json": {
       "config": {
        "plotlyServerURL": "https://plot.ly"
       },
       "data": [
        {
         "name": "Agreement Rates",
         "type": "bar",
         "x": [
          "discipline",
          "entity (event)",
          "entity (institution/organisation/brand)",
          "entity (person)",
          "entity (place)",
          "entity (product)",
          "entity (project)",
          "format/standard",
          "language",
          "method/activity",
          "multiple tags",
          "not categorizable",
          "object-type",
          "resource/tool",
          "time period",
          "topic"
         ],
         "y": [
          57.180156657963444,
          27.586206896551722,
          41.07142857142857,
          52.09580838323353,
          62.576687116564415,
          36.36363636363637,
          13.333333333333334,
          43.47826086956522,
          76.5625,
          68.60282574568289,
          75.13227513227513,
          27.649769585253456,
          47.05882352941177,
          36.61971830985915,
          39.6551724137931,
          44.16932907348243
         ]
        }
       ],
       "layout": {
        "template": {
         "data": {
          "bar": [
           {
            "error_x": {
             "color": "#2a3f5f"
            },
            "error_y": {
             "color": "#2a3f5f"
            },
            "marker": {
             "line": {
              "color": "#E5ECF6",
              "width": 0.5
             },
             "pattern": {
              "fillmode": "overlay",
              "size": 10,
              "solidity": 0.2
             }
            },
            "type": "bar"
           }
          ],
          "barpolar": [
           {
            "marker": {
             "line": {
              "color": "#E5ECF6",
              "width": 0.5
             },
             "pattern": {
              "fillmode": "overlay",
              "size": 10,
              "solidity": 0.2
             }
            },
            "type": "barpolar"
           }
          ],
          "carpet": [
           {
            "aaxis": {
             "endlinecolor": "#2a3f5f",
             "gridcolor": "white",
             "linecolor": "white",
             "minorgridcolor": "white",
             "startlinecolor": "#2a3f5f"
            },
            "baxis": {
             "endlinecolor": "#2a3f5f",
             "gridcolor": "white",
             "linecolor": "white",
             "minorgridcolor": "white",
             "startlinecolor": "#2a3f5f"
            },
            "type": "carpet"
           }
          ],
          "choropleth": [
           {
            "colorbar": {
             "outlinewidth": 0,
             "ticks": ""
            },
            "type": "choropleth"
           }
          ],
          "contour": [
           {
            "colorbar": {
             "outlinewidth": 0,
             "ticks": ""
            },
            "colorscale": [
             [
              0,
              "#0d0887"
             ],
             [
              0.1111111111111111,
              "#46039f"
             ],
             [
              0.2222222222222222,
              "#7201a8"
             ],
             [
              0.3333333333333333,
              "#9c179e"
             ],
             [
              0.4444444444444444,
              "#bd3786"
             ],
             [
              0.5555555555555556,
              "#d8576b"
             ],
             [
              0.6666666666666666,
              "#ed7953"
             ],
             [
              0.7777777777777778,
              "#fb9f3a"
             ],
             [
              0.8888888888888888,
              "#fdca26"
             ],
             [
              1,
              "#f0f921"
             ]
            ],
            "type": "contour"
           }
          ],
          "contourcarpet": [
           {
            "colorbar": {
             "outlinewidth": 0,
             "ticks": ""
            },
            "type": "contourcarpet"
           }
          ],
          "heatmap": [
           {
            "colorbar": {
             "outlinewidth": 0,
             "ticks": ""
            },
            "colorscale": [
             [
              0,
              "#0d0887"
             ],
             [
              0.1111111111111111,
              "#46039f"
             ],
             [
              0.2222222222222222,
              "#7201a8"
             ],
             [
              0.3333333333333333,
              "#9c179e"
             ],
             [
              0.4444444444444444,
              "#bd3786"
             ],
             [
              0.5555555555555556,
              "#d8576b"
             ],
             [
              0.6666666666666666,
              "#ed7953"
             ],
             [
              0.7777777777777778,
              "#fb9f3a"
             ],
             [
              0.8888888888888888,
              "#fdca26"
             ],
             [
              1,
              "#f0f921"
             ]
            ],
            "type": "heatmap"
           }
          ],
          "heatmapgl": [
           {
            "colorbar": {
             "outlinewidth": 0,
             "ticks": ""
            },
            "colorscale": [
             [
              0,
              "#0d0887"
             ],
             [
              0.1111111111111111,
              "#46039f"
             ],
             [
              0.2222222222222222,
              "#7201a8"
             ],
             [
              0.3333333333333333,
              "#9c179e"
             ],
             [
              0.4444444444444444,
              "#bd3786"
             ],
             [
              0.5555555555555556,
              "#d8576b"
             ],
             [
              0.6666666666666666,
              "#ed7953"
             ],
             [
              0.7777777777777778,
              "#fb9f3a"
             ],
             [
              0.8888888888888888,
              "#fdca26"
             ],
             [
              1,
              "#f0f921"
             ]
            ],
            "type": "heatmapgl"
           }
          ],
          "histogram": [
           {
            "marker": {
             "pattern": {
              "fillmode": "overlay",
              "size": 10,
              "solidity": 0.2
             }
            },
            "type": "histogram"
           }
          ],
          "histogram2d": [
           {
            "colorbar": {
             "outlinewidth": 0,
             "ticks": ""
            },
            "colorscale": [
             [
              0,
              "#0d0887"
             ],
             [
              0.1111111111111111,
              "#46039f"
             ],
             [
              0.2222222222222222,
              "#7201a8"
             ],
             [
              0.3333333333333333,
              "#9c179e"
             ],
             [
              0.4444444444444444,
              "#bd3786"
             ],
             [
              0.5555555555555556,
              "#d8576b"
             ],
             [
              0.6666666666666666,
              "#ed7953"
             ],
             [
              0.7777777777777778,
              "#fb9f3a"
             ],
             [
              0.8888888888888888,
              "#fdca26"
             ],
             [
              1,
              "#f0f921"
             ]
            ],
            "type": "histogram2d"
           }
          ],
          "histogram2dcontour": [
           {
            "colorbar": {
             "outlinewidth": 0,
             "ticks": ""
            },
            "colorscale": [
             [
              0,
              "#0d0887"
             ],
             [
              0.1111111111111111,
              "#46039f"
             ],
             [
              0.2222222222222222,
              "#7201a8"
             ],
             [
              0.3333333333333333,
              "#9c179e"
             ],
             [
              0.4444444444444444,
              "#bd3786"
             ],
             [
              0.5555555555555556,
              "#d8576b"
             ],
             [
              0.6666666666666666,
              "#ed7953"
             ],
             [
              0.7777777777777778,
              "#fb9f3a"
             ],
             [
              0.8888888888888888,
              "#fdca26"
             ],
             [
              1,
              "#f0f921"
             ]
            ],
            "type": "histogram2dcontour"
           }
          ],
          "mesh3d": [
           {
            "colorbar": {
             "outlinewidth": 0,
             "ticks": ""
            },
            "type": "mesh3d"
           }
          ],
          "parcoords": [
           {
            "line": {
             "colorbar": {
              "outlinewidth": 0,
              "ticks": ""
             }
            },
            "type": "parcoords"
           }
          ],
          "pie": [
           {
            "automargin": true,
            "type": "pie"
           }
          ],
          "scatter": [
           {
            "marker": {
             "colorbar": {
              "outlinewidth": 0,
              "ticks": ""
             }
            },
            "type": "scatter"
           }
          ],
          "scatter3d": [
           {
            "line": {
             "colorbar": {
              "outlinewidth": 0,
              "ticks": ""
             }
            },
            "marker": {
             "colorbar": {
              "outlinewidth": 0,
              "ticks": ""
             }
            },
            "type": "scatter3d"
           }
          ],
          "scattercarpet": [
           {
            "marker": {
             "colorbar": {
              "outlinewidth": 0,
              "ticks": ""
             }
            },
            "type": "scattercarpet"
           }
          ],
          "scattergeo": [
           {
            "marker": {
             "colorbar": {
              "outlinewidth": 0,
              "ticks": ""
             }
            },
            "type": "scattergeo"
           }
          ],
          "scattergl": [
           {
            "marker": {
             "colorbar": {
              "outlinewidth": 0,
              "ticks": ""
             }
            },
            "type": "scattergl"
           }
          ],
          "scattermapbox": [
           {
            "marker": {
             "colorbar": {
              "outlinewidth": 0,
              "ticks": ""
             }
            },
            "type": "scattermapbox"
           }
          ],
          "scatterpolar": [
           {
            "marker": {
             "colorbar": {
              "outlinewidth": 0,
              "ticks": ""
             }
            },
            "type": "scatterpolar"
           }
          ],
          "scatterpolargl": [
           {
            "marker": {
             "colorbar": {
              "outlinewidth": 0,
              "ticks": ""
             }
            },
            "type": "scatterpolargl"
           }
          ],
          "scatterternary": [
           {
            "marker": {
             "colorbar": {
              "outlinewidth": 0,
              "ticks": ""
             }
            },
            "type": "scatterternary"
           }
          ],
          "surface": [
           {
            "colorbar": {
             "outlinewidth": 0,
             "ticks": ""
            },
            "colorscale": [
             [
              0,
              "#0d0887"
             ],
             [
              0.1111111111111111,
              "#46039f"
             ],
             [
              0.2222222222222222,
              "#7201a8"
             ],
             [
              0.3333333333333333,
              "#9c179e"
             ],
             [
              0.4444444444444444,
              "#bd3786"
             ],
             [
              0.5555555555555556,
              "#d8576b"
             ],
             [
              0.6666666666666666,
              "#ed7953"
             ],
             [
              0.7777777777777778,
              "#fb9f3a"
             ],
             [
              0.8888888888888888,
              "#fdca26"
             ],
             [
              1,
              "#f0f921"
             ]
            ],
            "type": "surface"
           }
          ],
          "table": [
           {
            "cells": {
             "fill": {
              "color": "#EBF0F8"
             },
             "line": {
              "color": "white"
             }
            },
            "header": {
             "fill": {
              "color": "#C8D4E3"
             },
             "line": {
              "color": "white"
             }
            },
            "type": "table"
           }
          ]
         },
         "layout": {
          "annotationdefaults": {
           "arrowcolor": "#2a3f5f",
           "arrowhead": 0,
           "arrowwidth": 1
          },
          "autotypenumbers": "strict",
          "coloraxis": {
           "colorbar": {
            "outlinewidth": 0,
            "ticks": ""
           }
          },
          "colorscale": {
           "diverging": [
            [
             0,
             "#8e0152"
            ],
            [
             0.1,
             "#c51b7d"
            ],
            [
             0.2,
             "#de77ae"
            ],
            [
             0.3,
             "#f1b6da"
            ],
            [
             0.4,
             "#fde0ef"
            ],
            [
             0.5,
             "#f7f7f7"
            ],
            [
             0.6,
             "#e6f5d0"
            ],
            [
             0.7,
             "#b8e186"
            ],
            [
             0.8,
             "#7fbc41"
            ],
            [
             0.9,
             "#4d9221"
            ],
            [
             1,
             "#276419"
            ]
           ],
           "sequential": [
            [
             0,
             "#0d0887"
            ],
            [
             0.1111111111111111,
             "#46039f"
            ],
            [
             0.2222222222222222,
             "#7201a8"
            ],
            [
             0.3333333333333333,
             "#9c179e"
            ],
            [
             0.4444444444444444,
             "#bd3786"
            ],
            [
             0.5555555555555556,
             "#d8576b"
            ],
            [
             0.6666666666666666,
             "#ed7953"
            ],
            [
             0.7777777777777778,
             "#fb9f3a"
            ],
            [
             0.8888888888888888,
             "#fdca26"
            ],
            [
             1,
             "#f0f921"
            ]
           ],
           "sequentialminus": [
            [
             0,
             "#0d0887"
            ],
            [
             0.1111111111111111,
             "#46039f"
            ],
            [
             0.2222222222222222,
             "#7201a8"
            ],
            [
             0.3333333333333333,
             "#9c179e"
            ],
            [
             0.4444444444444444,
             "#bd3786"
            ],
            [
             0.5555555555555556,
             "#d8576b"
            ],
            [
             0.6666666666666666,
             "#ed7953"
            ],
            [
             0.7777777777777778,
             "#fb9f3a"
            ],
            [
             0.8888888888888888,
             "#fdca26"
            ],
            [
             1,
             "#f0f921"
            ]
           ]
          },
          "colorway": [
           "#636efa",
           "#EF553B",
           "#00cc96",
           "#ab63fa",
           "#FFA15A",
           "#19d3f3",
           "#FF6692",
           "#B6E880",
           "#FF97FF",
           "#FECB52"
          ],
          "font": {
           "color": "#2a3f5f"
          },
          "geo": {
           "bgcolor": "white",
           "lakecolor": "white",
           "landcolor": "#E5ECF6",
           "showlakes": true,
           "showland": true,
           "subunitcolor": "white"
          },
          "hoverlabel": {
           "align": "left"
          },
          "hovermode": "closest",
          "mapbox": {
           "style": "light"
          },
          "paper_bgcolor": "white",
          "plot_bgcolor": "#E5ECF6",
          "polar": {
           "angularaxis": {
            "gridcolor": "white",
            "linecolor": "white",
            "ticks": ""
           },
           "bgcolor": "#E5ECF6",
           "radialaxis": {
            "gridcolor": "white",
            "linecolor": "white",
            "ticks": ""
           }
          },
          "scene": {
           "xaxis": {
            "backgroundcolor": "#E5ECF6",
            "gridcolor": "white",
            "gridwidth": 2,
            "linecolor": "white",
            "showbackground": true,
            "ticks": "",
            "zerolinecolor": "white"
           },
           "yaxis": {
            "backgroundcolor": "#E5ECF6",
            "gridcolor": "white",
            "gridwidth": 2,
            "linecolor": "white",
            "showbackground": true,
            "ticks": "",
            "zerolinecolor": "white"
           },
           "zaxis": {
            "backgroundcolor": "#E5ECF6",
            "gridcolor": "white",
            "gridwidth": 2,
            "linecolor": "white",
            "showbackground": true,
            "ticks": "",
            "zerolinecolor": "white"
           }
          },
          "shapedefaults": {
           "line": {
            "color": "#2a3f5f"
           }
          },
          "ternary": {
           "aaxis": {
            "gridcolor": "white",
            "linecolor": "white",
            "ticks": ""
           },
           "baxis": {
            "gridcolor": "white",
            "linecolor": "white",
            "ticks": ""
           },
           "bgcolor": "#E5ECF6",
           "caxis": {
            "gridcolor": "white",
            "linecolor": "white",
            "ticks": ""
           }
          },
          "title": {
           "x": 0.05
          },
          "xaxis": {
           "automargin": true,
           "gridcolor": "white",
           "linecolor": "white",
           "ticks": "",
           "title": {
            "standoff": 15
           },
           "zerolinecolor": "white",
           "zerolinewidth": 2
          },
          "yaxis": {
           "automargin": true,
           "gridcolor": "white",
           "linecolor": "white",
           "ticks": "",
           "title": {
            "standoff": 15
           },
           "zerolinecolor": "white",
           "zerolinewidth": 2
          }
         }
        },
        "title": {
         "text": "Agreement Rates by Category"
        },
        "xaxis": {
         "tickangle": -45,
         "title": {
          "text": "Category"
         }
        },
        "yaxis": {
         "range": [
          0,
          100
         ],
         "title": {
          "text": "Agreement Rate (%)"
         }
        }
       }
      }
     },
     "metadata": {},
     "output_type": "display_data"
    }
   ],
   "source": [
    "agreement_rates = []\n",
    "\n",
    "for category in categories:\n",
    "    agreement_rates.append(calculate_agreement(category))\n",
    "\n",
    "# Plotting the agreement rates using Plotly\n",
    "fig = go.Figure(data=[\n",
    "    go.Bar(name='Agreement Rates', x=categories, y=agreement_rates)\n",
    "])\n",
    "\n",
    "fig.update_layout(\n",
    "    title='Agreement Rates by Category',\n",
    "    xaxis_title='Category',\n",
    "    yaxis_title='Agreement Rate (%)',\n",
    "    xaxis_tickangle=-45,\n",
    "    yaxis=dict(range=[0, 100]) #0-100 % on y-axis\n",
    ")\n",
    "\n",
    "fig.show()"
   ]
  },
  {
   "cell_type": "markdown",
   "metadata": {},
   "source": [
    "### Exporting the merged dataframe"
   ]
  },
  {
   "cell_type": "code",
   "execution_count": 20,
   "metadata": {},
   "outputs": [],
   "source": [
    "df.to_excel('Keyword_Categorisation_merged_18.08.2023.xlsx', index=False, encoding=\"utf-8\")"
   ]
  }
 ],
 "metadata": {
  "kernelspec": {
   "display_name": "Python 3",
   "language": "python",
   "name": "python3"
  },
  "language_info": {
   "codemirror_mode": {
    "name": "ipython",
    "version": 3
   },
   "file_extension": ".py",
   "mimetype": "text/x-python",
   "name": "python",
   "nbconvert_exporter": "python",
   "pygments_lexer": "ipython3",
   "version": "3.9.10"
  },
  "orig_nbformat": 4
 },
 "nbformat": 4,
 "nbformat_minor": 2
}
