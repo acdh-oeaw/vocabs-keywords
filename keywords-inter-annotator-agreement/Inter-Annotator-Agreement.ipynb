{
 "cells": [
  {
   "cell_type": "code",
   "execution_count": 1,
   "metadata": {},
   "outputs": [
    {
     "name": "stderr",
     "output_type": "stream",
     "text": [
      "c:\\Users\\43650\\AppData\\Local\\Programs\\Python\\Python39\\lib\\site-packages\\requests\\__init__.py:102: RequestsDependencyWarning: urllib3 (1.26.8) or chardet (5.1.0)/charset_normalizer (2.0.12) doesn't match a supported version!\n",
      "  warnings.warn(\"urllib3 ({}) or chardet ({})/charset_normalizer ({}) doesn't match a supported \"\n"
     ]
    }
   ],
   "source": [
    "import pandas as pd\n",
    "from sklearn.metrics import cohen_kappa_score\n",
    "import openpyxl\n",
    "import numpy as np\n",
    "import plotly.graph_objects as go\n",
    "from collections import Counter\n",
    "import pygwalker as pyg\n",
    "\n",
    "def extract_categories(row):\n",
    "    \"\"\"Extracts categories from a row and returns them as a sorted set.\"\"\"\n",
    "    categories = {row['Category 1'], row['Category 2'], row['Category 3']}\n",
    "    # Remove NaN values\n",
    "    categories = {cat for cat in categories if pd.notna(cat)}\n",
    "    return frozenset(categories)"
   ]
  },
  {
   "cell_type": "markdown",
   "metadata": {},
   "source": [
    "### Preprocessing and cleaning"
   ]
  },
  {
   "cell_type": "code",
   "execution_count": 4,
   "metadata": {},
   "outputs": [],
   "source": [
    "file_m = \"DH_Keywords_Categorisation_Martin_V1.xlsx\"\n",
    "file_n = \"DH_Keywords_Categorisation_Nina_V1.xlsx\"\n",
    "df_martin = pd.read_excel(file_m)\n",
    "df_nina = pd.read_excel(file_n)"
   ]
  },
  {
   "cell_type": "code",
   "execution_count": 5,
   "metadata": {},
   "outputs": [],
   "source": [
    "#Zusammenführen der Kategorien \"too broad/unspecific\", \"unclear\" and \"too specific\" \n",
    "#zu \"not categorizable\"\n",
    "\n",
    "values_to_replace = ['too broad/unspecific', 'too specific', 'unclear']\n",
    "\n",
    "# Columns to operate on\n",
    "columns = ['Category 1', 'Category 2', 'Category 3']\n",
    "\n",
    "# Replace the values in the specified columns\n",
    "df_martin[columns] = df_martin[columns].replace(values_to_replace, 'not categorizable')\n",
    "df_nina[columns] = df_nina[columns].replace(values_to_replace, 'not categorizable')"
   ]
  },
  {
   "cell_type": "code",
   "execution_count": 6,
   "metadata": {},
   "outputs": [
    {
     "data": {
      "text/html": [
       "<div>\n",
       "<style scoped>\n",
       "    .dataframe tbody tr th:only-of-type {\n",
       "        vertical-align: middle;\n",
       "    }\n",
       "\n",
       "    .dataframe tbody tr th {\n",
       "        vertical-align: top;\n",
       "    }\n",
       "\n",
       "    .dataframe thead th {\n",
       "        text-align: right;\n",
       "    }\n",
       "</style>\n",
       "<table border=\"1\" class=\"dataframe\">\n",
       "  <thead>\n",
       "    <tr style=\"text-align: right;\">\n",
       "      <th></th>\n",
       "      <th>Tag</th>\n",
       "      <th>variant_x</th>\n",
       "      <th>Vocabularies (excl. Zotero_DHA)</th>\n",
       "      <th>Number of Vocabularies (excl. Zotero_DHA)</th>\n",
       "      <th>Category 1_x</th>\n",
       "      <th>Category 2_x</th>\n",
       "      <th>Category 3_x</th>\n",
       "      <th>Count_Zotero_DHA</th>\n",
       "      <th>Categories_x</th>\n",
       "      <th>variant_y</th>\n",
       "      <th>Vocabularies</th>\n",
       "      <th>Number of Vocabularies</th>\n",
       "      <th>Category 1_y</th>\n",
       "      <th>Category 2_y</th>\n",
       "      <th>Category 3_y</th>\n",
       "      <th>Count</th>\n",
       "      <th>Categories_y</th>\n",
       "    </tr>\n",
       "  </thead>\n",
       "  <tbody>\n",
       "    <tr>\n",
       "      <th>0</th>\n",
       "      <td>1922</td>\n",
       "      <td>NaN</td>\n",
       "      <td>NaN</td>\n",
       "      <td>NaN</td>\n",
       "      <td>time period</td>\n",
       "      <td>NaN</td>\n",
       "      <td>NaN</td>\n",
       "      <td>1.0</td>\n",
       "      <td>(time period)</td>\n",
       "      <td>NaN</td>\n",
       "      <td>NaN</td>\n",
       "      <td>NaN</td>\n",
       "      <td>time period</td>\n",
       "      <td>NaN</td>\n",
       "      <td>NaN</td>\n",
       "      <td>1.0</td>\n",
       "      <td>(time period)</td>\n",
       "    </tr>\n",
       "    <tr>\n",
       "      <th>1</th>\n",
       "      <td>2011</td>\n",
       "      <td>NaN</td>\n",
       "      <td>NaN</td>\n",
       "      <td>NaN</td>\n",
       "      <td>time period</td>\n",
       "      <td>NaN</td>\n",
       "      <td>NaN</td>\n",
       "      <td>1.0</td>\n",
       "      <td>(time period)</td>\n",
       "      <td>NaN</td>\n",
       "      <td>NaN</td>\n",
       "      <td>NaN</td>\n",
       "      <td>time period</td>\n",
       "      <td>NaN</td>\n",
       "      <td>NaN</td>\n",
       "      <td>1.0</td>\n",
       "      <td>(time period)</td>\n",
       "    </tr>\n",
       "    <tr>\n",
       "      <th>2</th>\n",
       "      <td>#nosource</td>\n",
       "      <td>NaN</td>\n",
       "      <td>NaN</td>\n",
       "      <td>NaN</td>\n",
       "      <td>not categorizable</td>\n",
       "      <td>NaN</td>\n",
       "      <td>NaN</td>\n",
       "      <td>4.0</td>\n",
       "      <td>(not categorizable)</td>\n",
       "      <td>NaN</td>\n",
       "      <td>NaN</td>\n",
       "      <td>NaN</td>\n",
       "      <td>not categorizable</td>\n",
       "      <td>NaN</td>\n",
       "      <td>NaN</td>\n",
       "      <td>4.0</td>\n",
       "      <td>(not categorizable)</td>\n",
       "    </tr>\n",
       "    <tr>\n",
       "      <th>3</th>\n",
       "      <td>(meta)data</td>\n",
       "      <td>NaN</td>\n",
       "      <td>SSHOC</td>\n",
       "      <td>1.0</td>\n",
       "      <td>object-type</td>\n",
       "      <td>NaN</td>\n",
       "      <td>NaN</td>\n",
       "      <td>NaN</td>\n",
       "      <td>(object-type)</td>\n",
       "      <td>NaN</td>\n",
       "      <td>SSHOC</td>\n",
       "      <td>1.0</td>\n",
       "      <td>object-type</td>\n",
       "      <td>NaN</td>\n",
       "      <td>NaN</td>\n",
       "      <td>NaN</td>\n",
       "      <td>(object-type)</td>\n",
       "    </tr>\n",
       "    <tr>\n",
       "      <th>4</th>\n",
       "      <td>(quantitative) survey research</td>\n",
       "      <td>NaN</td>\n",
       "      <td>SSHOC</td>\n",
       "      <td>1.0</td>\n",
       "      <td>topic</td>\n",
       "      <td>NaN</td>\n",
       "      <td>NaN</td>\n",
       "      <td>NaN</td>\n",
       "      <td>(topic)</td>\n",
       "      <td>NaN</td>\n",
       "      <td>SSHOC</td>\n",
       "      <td>1.0</td>\n",
       "      <td>method/activity</td>\n",
       "      <td>NaN</td>\n",
       "      <td>NaN</td>\n",
       "      <td>NaN</td>\n",
       "      <td>(method/activity)</td>\n",
       "    </tr>\n",
       "    <tr>\n",
       "      <th>...</th>\n",
       "      <td>...</td>\n",
       "      <td>...</td>\n",
       "      <td>...</td>\n",
       "      <td>...</td>\n",
       "      <td>...</td>\n",
       "      <td>...</td>\n",
       "      <td>...</td>\n",
       "      <td>...</td>\n",
       "      <td>...</td>\n",
       "      <td>...</td>\n",
       "      <td>...</td>\n",
       "      <td>...</td>\n",
       "      <td>...</td>\n",
       "      <td>...</td>\n",
       "      <td>...</td>\n",
       "      <td>...</td>\n",
       "      <td>...</td>\n",
       "    </tr>\n",
       "    <tr>\n",
       "      <th>3777</th>\n",
       "      <td>zustellung</td>\n",
       "      <td>NaN</td>\n",
       "      <td>ARCHE</td>\n",
       "      <td>1.0</td>\n",
       "      <td>NaN</td>\n",
       "      <td>NaN</td>\n",
       "      <td>NaN</td>\n",
       "      <td>NaN</td>\n",
       "      <td>()</td>\n",
       "      <td>NaN</td>\n",
       "      <td>ARCHE</td>\n",
       "      <td>1.0</td>\n",
       "      <td>topic</td>\n",
       "      <td>NaN</td>\n",
       "      <td>NaN</td>\n",
       "      <td>NaN</td>\n",
       "      <td>(topic)</td>\n",
       "    </tr>\n",
       "    <tr>\n",
       "      <th>3778</th>\n",
       "      <td>zweiter weltkrieg</td>\n",
       "      <td>NaN</td>\n",
       "      <td>ARCHE</td>\n",
       "      <td>1.0</td>\n",
       "      <td>time period</td>\n",
       "      <td>topic</td>\n",
       "      <td>entity (event)</td>\n",
       "      <td>NaN</td>\n",
       "      <td>(entity (event), time period, topic)</td>\n",
       "      <td>NaN</td>\n",
       "      <td>ARCHE</td>\n",
       "      <td>1.0</td>\n",
       "      <td>time period</td>\n",
       "      <td>NaN</td>\n",
       "      <td>NaN</td>\n",
       "      <td>NaN</td>\n",
       "      <td>(time period)</td>\n",
       "    </tr>\n",
       "    <tr>\n",
       "      <th>3779</th>\n",
       "      <td>zwischenkriegszeit</td>\n",
       "      <td>NaN</td>\n",
       "      <td>ARCHE</td>\n",
       "      <td>1.0</td>\n",
       "      <td>time period</td>\n",
       "      <td>NaN</td>\n",
       "      <td>NaN</td>\n",
       "      <td>NaN</td>\n",
       "      <td>(time period)</td>\n",
       "      <td>NaN</td>\n",
       "      <td>ARCHE</td>\n",
       "      <td>1.0</td>\n",
       "      <td>time period</td>\n",
       "      <td>NaN</td>\n",
       "      <td>NaN</td>\n",
       "      <td>NaN</td>\n",
       "      <td>(time period)</td>\n",
       "    </tr>\n",
       "    <tr>\n",
       "      <th>3780</th>\n",
       "      <td>zwischenstaatliche vereinbarung</td>\n",
       "      <td>NaN</td>\n",
       "      <td>ARCHE</td>\n",
       "      <td>1.0</td>\n",
       "      <td>NaN</td>\n",
       "      <td>NaN</td>\n",
       "      <td>NaN</td>\n",
       "      <td>NaN</td>\n",
       "      <td>()</td>\n",
       "      <td>NaN</td>\n",
       "      <td>ARCHE</td>\n",
       "      <td>1.0</td>\n",
       "      <td>topic</td>\n",
       "      <td>NaN</td>\n",
       "      <td>NaN</td>\n",
       "      <td>NaN</td>\n",
       "      <td>(topic)</td>\n",
       "    </tr>\n",
       "    <tr>\n",
       "      <th>3781</th>\n",
       "      <td>zwischenstaatliche verhandlung</td>\n",
       "      <td>NaN</td>\n",
       "      <td>ARCHE</td>\n",
       "      <td>1.0</td>\n",
       "      <td>NaN</td>\n",
       "      <td>NaN</td>\n",
       "      <td>NaN</td>\n",
       "      <td>NaN</td>\n",
       "      <td>()</td>\n",
       "      <td>NaN</td>\n",
       "      <td>ARCHE</td>\n",
       "      <td>1.0</td>\n",
       "      <td>topic</td>\n",
       "      <td>NaN</td>\n",
       "      <td>NaN</td>\n",
       "      <td>NaN</td>\n",
       "      <td>(topic)</td>\n",
       "    </tr>\n",
       "  </tbody>\n",
       "</table>\n",
       "<p>3782 rows × 17 columns</p>\n",
       "</div>"
      ],
      "text/plain": [
       "                                  Tag variant_x  \\\n",
       "0                                1922       NaN   \n",
       "1                                2011       NaN   \n",
       "2                           #nosource       NaN   \n",
       "3                          (meta)data       NaN   \n",
       "4      (quantitative) survey research       NaN   \n",
       "...                               ...       ...   \n",
       "3777                       zustellung       NaN   \n",
       "3778                zweiter weltkrieg       NaN   \n",
       "3779               zwischenkriegszeit       NaN   \n",
       "3780  zwischenstaatliche vereinbarung       NaN   \n",
       "3781   zwischenstaatliche verhandlung       NaN   \n",
       "\n",
       "     Vocabularies (excl. Zotero_DHA)  \\\n",
       "0                                NaN   \n",
       "1                                NaN   \n",
       "2                                NaN   \n",
       "3                              SSHOC   \n",
       "4                              SSHOC   \n",
       "...                              ...   \n",
       "3777                           ARCHE   \n",
       "3778                           ARCHE   \n",
       "3779                           ARCHE   \n",
       "3780                           ARCHE   \n",
       "3781                           ARCHE   \n",
       "\n",
       "      Number of Vocabularies (excl. Zotero_DHA)       Category 1_x  \\\n",
       "0                                           NaN        time period   \n",
       "1                                           NaN        time period   \n",
       "2                                           NaN  not categorizable   \n",
       "3                                           1.0        object-type   \n",
       "4                                           1.0              topic   \n",
       "...                                         ...                ...   \n",
       "3777                                        1.0                NaN   \n",
       "3778                                        1.0        time period   \n",
       "3779                                        1.0        time period   \n",
       "3780                                        1.0                NaN   \n",
       "3781                                        1.0                NaN   \n",
       "\n",
       "     Category 2_x    Category 3_x  Count_Zotero_DHA  \\\n",
       "0             NaN             NaN               1.0   \n",
       "1             NaN             NaN               1.0   \n",
       "2             NaN             NaN               4.0   \n",
       "3             NaN             NaN               NaN   \n",
       "4             NaN             NaN               NaN   \n",
       "...           ...             ...               ...   \n",
       "3777          NaN             NaN               NaN   \n",
       "3778        topic  entity (event)               NaN   \n",
       "3779          NaN             NaN               NaN   \n",
       "3780          NaN             NaN               NaN   \n",
       "3781          NaN             NaN               NaN   \n",
       "\n",
       "                              Categories_x variant_y Vocabularies  \\\n",
       "0                            (time period)       NaN          NaN   \n",
       "1                            (time period)       NaN          NaN   \n",
       "2                      (not categorizable)       NaN          NaN   \n",
       "3                            (object-type)       NaN        SSHOC   \n",
       "4                                  (topic)       NaN        SSHOC   \n",
       "...                                    ...       ...          ...   \n",
       "3777                                    ()       NaN        ARCHE   \n",
       "3778  (entity (event), time period, topic)       NaN        ARCHE   \n",
       "3779                         (time period)       NaN        ARCHE   \n",
       "3780                                    ()       NaN        ARCHE   \n",
       "3781                                    ()       NaN        ARCHE   \n",
       "\n",
       "      Number of Vocabularies       Category 1_y Category 2_y Category 3_y  \\\n",
       "0                        NaN        time period          NaN          NaN   \n",
       "1                        NaN        time period          NaN          NaN   \n",
       "2                        NaN  not categorizable          NaN          NaN   \n",
       "3                        1.0        object-type          NaN          NaN   \n",
       "4                        1.0    method/activity          NaN          NaN   \n",
       "...                      ...                ...          ...          ...   \n",
       "3777                     1.0              topic          NaN          NaN   \n",
       "3778                     1.0        time period          NaN          NaN   \n",
       "3779                     1.0        time period          NaN          NaN   \n",
       "3780                     1.0              topic          NaN          NaN   \n",
       "3781                     1.0              topic          NaN          NaN   \n",
       "\n",
       "      Count         Categories_y  \n",
       "0       1.0        (time period)  \n",
       "1       1.0        (time period)  \n",
       "2       4.0  (not categorizable)  \n",
       "3       NaN        (object-type)  \n",
       "4       NaN    (method/activity)  \n",
       "...     ...                  ...  \n",
       "3777    NaN              (topic)  \n",
       "3778    NaN        (time period)  \n",
       "3779    NaN        (time period)  \n",
       "3780    NaN              (topic)  \n",
       "3781    NaN              (topic)  \n",
       "\n",
       "[3782 rows x 17 columns]"
      ]
     },
     "execution_count": 6,
     "metadata": {},
     "output_type": "execute_result"
    }
   ],
   "source": [
    "#Zusammenführen von Kategorisierungen zu frozensets (damit Reihenfolge egal) \n",
    "# und merge zu einem gemeinsamen Dataframe\n",
    "df_martin['Categories'] = df_martin.apply(extract_categories, axis=1)\n",
    "df_nina['Categories'] = df_nina.apply(extract_categories, axis=1)\n",
    "df = df_martin.merge(df_nina, on='Tag', how='inner')\n",
    "df"
   ]
  },
  {
   "cell_type": "code",
   "execution_count": 7,
   "metadata": {},
   "outputs": [
    {
     "data": {
      "text/html": [
       "<div>\n",
       "<style scoped>\n",
       "    .dataframe tbody tr th:only-of-type {\n",
       "        vertical-align: middle;\n",
       "    }\n",
       "\n",
       "    .dataframe tbody tr th {\n",
       "        vertical-align: top;\n",
       "    }\n",
       "\n",
       "    .dataframe thead th {\n",
       "        text-align: right;\n",
       "    }\n",
       "</style>\n",
       "<table border=\"1\" class=\"dataframe\">\n",
       "  <thead>\n",
       "    <tr style=\"text-align: right;\">\n",
       "      <th></th>\n",
       "      <th>Tag</th>\n",
       "      <th>variant_x</th>\n",
       "      <th>Vocabularies (excl. Zotero_DHA)</th>\n",
       "      <th>Number of Vocabularies (excl. Zotero_DHA)</th>\n",
       "      <th>Category 1_x</th>\n",
       "      <th>Category 2_x</th>\n",
       "      <th>Category 3_x</th>\n",
       "      <th>Count_Zotero_DHA</th>\n",
       "      <th>Categories_x</th>\n",
       "      <th>variant_y</th>\n",
       "      <th>Vocabularies</th>\n",
       "      <th>Number of Vocabularies</th>\n",
       "      <th>Category 1_y</th>\n",
       "      <th>Category 2_y</th>\n",
       "      <th>Category 3_y</th>\n",
       "      <th>Count</th>\n",
       "      <th>Categories_y</th>\n",
       "    </tr>\n",
       "  </thead>\n",
       "  <tbody>\n",
       "    <tr>\n",
       "      <th>0</th>\n",
       "      <td>1922</td>\n",
       "      <td>NaN</td>\n",
       "      <td>NaN</td>\n",
       "      <td>NaN</td>\n",
       "      <td>time period</td>\n",
       "      <td>NaN</td>\n",
       "      <td>NaN</td>\n",
       "      <td>1.0</td>\n",
       "      <td>(time period)</td>\n",
       "      <td>NaN</td>\n",
       "      <td>NaN</td>\n",
       "      <td>NaN</td>\n",
       "      <td>time period</td>\n",
       "      <td>NaN</td>\n",
       "      <td>NaN</td>\n",
       "      <td>1.0</td>\n",
       "      <td>(time period)</td>\n",
       "    </tr>\n",
       "    <tr>\n",
       "      <th>1</th>\n",
       "      <td>2011</td>\n",
       "      <td>NaN</td>\n",
       "      <td>NaN</td>\n",
       "      <td>NaN</td>\n",
       "      <td>time period</td>\n",
       "      <td>NaN</td>\n",
       "      <td>NaN</td>\n",
       "      <td>1.0</td>\n",
       "      <td>(time period)</td>\n",
       "      <td>NaN</td>\n",
       "      <td>NaN</td>\n",
       "      <td>NaN</td>\n",
       "      <td>time period</td>\n",
       "      <td>NaN</td>\n",
       "      <td>NaN</td>\n",
       "      <td>1.0</td>\n",
       "      <td>(time period)</td>\n",
       "    </tr>\n",
       "    <tr>\n",
       "      <th>2</th>\n",
       "      <td>#nosource</td>\n",
       "      <td>NaN</td>\n",
       "      <td>NaN</td>\n",
       "      <td>NaN</td>\n",
       "      <td>not categorizable</td>\n",
       "      <td>NaN</td>\n",
       "      <td>NaN</td>\n",
       "      <td>4.0</td>\n",
       "      <td>(not categorizable)</td>\n",
       "      <td>NaN</td>\n",
       "      <td>NaN</td>\n",
       "      <td>NaN</td>\n",
       "      <td>not categorizable</td>\n",
       "      <td>NaN</td>\n",
       "      <td>NaN</td>\n",
       "      <td>4.0</td>\n",
       "      <td>(not categorizable)</td>\n",
       "    </tr>\n",
       "    <tr>\n",
       "      <th>5</th>\n",
       "      <td>(teil-)automatisch generiert</td>\n",
       "      <td>NaN</td>\n",
       "      <td>NaN</td>\n",
       "      <td>NaN</td>\n",
       "      <td>not categorizable</td>\n",
       "      <td>NaN</td>\n",
       "      <td>NaN</td>\n",
       "      <td>4.0</td>\n",
       "      <td>(not categorizable)</td>\n",
       "      <td>NaN</td>\n",
       "      <td>NaN</td>\n",
       "      <td>NaN</td>\n",
       "      <td>not categorizable</td>\n",
       "      <td>NaN</td>\n",
       "      <td>NaN</td>\n",
       "      <td>4.0</td>\n",
       "      <td>(not categorizable)</td>\n",
       "    </tr>\n",
       "    <tr>\n",
       "      <th>7</th>\n",
       "      <td>1066-1485</td>\n",
       "      <td>NaN</td>\n",
       "      <td>NaN</td>\n",
       "      <td>NaN</td>\n",
       "      <td>time period</td>\n",
       "      <td>NaN</td>\n",
       "      <td>NaN</td>\n",
       "      <td>1.0</td>\n",
       "      <td>(time period)</td>\n",
       "      <td>NaN</td>\n",
       "      <td>NaN</td>\n",
       "      <td>NaN</td>\n",
       "      <td>time period</td>\n",
       "      <td>NaN</td>\n",
       "      <td>NaN</td>\n",
       "      <td>1.0</td>\n",
       "      <td>(time period)</td>\n",
       "    </tr>\n",
       "    <tr>\n",
       "      <th>...</th>\n",
       "      <td>...</td>\n",
       "      <td>...</td>\n",
       "      <td>...</td>\n",
       "      <td>...</td>\n",
       "      <td>...</td>\n",
       "      <td>...</td>\n",
       "      <td>...</td>\n",
       "      <td>...</td>\n",
       "      <td>...</td>\n",
       "      <td>...</td>\n",
       "      <td>...</td>\n",
       "      <td>...</td>\n",
       "      <td>...</td>\n",
       "      <td>...</td>\n",
       "      <td>...</td>\n",
       "      <td>...</td>\n",
       "      <td>...</td>\n",
       "    </tr>\n",
       "    <tr>\n",
       "      <th>3740</th>\n",
       "      <td>xml</td>\n",
       "      <td>NaN</td>\n",
       "      <td>ARCHE, DARIAH Campus, dha taxonomy, HowTo, SSH...</td>\n",
       "      <td>6.0</td>\n",
       "      <td>format/standard</td>\n",
       "      <td>NaN</td>\n",
       "      <td>NaN</td>\n",
       "      <td>16.0</td>\n",
       "      <td>(format/standard)</td>\n",
       "      <td>NaN</td>\n",
       "      <td>ARCHE, DARIAH Campus, dha taxonomy, HowTo, SSH...</td>\n",
       "      <td>6.0</td>\n",
       "      <td>format/standard</td>\n",
       "      <td>NaN</td>\n",
       "      <td>NaN</td>\n",
       "      <td>16.0</td>\n",
       "      <td>(format/standard)</td>\n",
       "    </tr>\n",
       "    <tr>\n",
       "      <th>3742</th>\n",
       "      <td>xml schema</td>\n",
       "      <td>NaN</td>\n",
       "      <td>NaN</td>\n",
       "      <td>NaN</td>\n",
       "      <td>format/standard</td>\n",
       "      <td>NaN</td>\n",
       "      <td>NaN</td>\n",
       "      <td>2.0</td>\n",
       "      <td>(format/standard)</td>\n",
       "      <td>NaN</td>\n",
       "      <td>NaN</td>\n",
       "      <td>NaN</td>\n",
       "      <td>format/standard</td>\n",
       "      <td>NaN</td>\n",
       "      <td>NaN</td>\n",
       "      <td>2.0</td>\n",
       "      <td>(format/standard)</td>\n",
       "    </tr>\n",
       "    <tr>\n",
       "      <th>3755</th>\n",
       "      <td>yearindh2008</td>\n",
       "      <td>NaN</td>\n",
       "      <td>NaN</td>\n",
       "      <td>NaN</td>\n",
       "      <td>not categorizable</td>\n",
       "      <td>NaN</td>\n",
       "      <td>NaN</td>\n",
       "      <td>1.0</td>\n",
       "      <td>(not categorizable)</td>\n",
       "      <td>NaN</td>\n",
       "      <td>NaN</td>\n",
       "      <td>NaN</td>\n",
       "      <td>not categorizable</td>\n",
       "      <td>NaN</td>\n",
       "      <td>NaN</td>\n",
       "      <td>1.0</td>\n",
       "      <td>(not categorizable)</td>\n",
       "    </tr>\n",
       "    <tr>\n",
       "      <th>3759</th>\n",
       "      <td>youth</td>\n",
       "      <td>NaN</td>\n",
       "      <td>NaN</td>\n",
       "      <td>NaN</td>\n",
       "      <td>topic</td>\n",
       "      <td>NaN</td>\n",
       "      <td>NaN</td>\n",
       "      <td>1.0</td>\n",
       "      <td>(topic)</td>\n",
       "      <td>NaN</td>\n",
       "      <td>NaN</td>\n",
       "      <td>NaN</td>\n",
       "      <td>topic</td>\n",
       "      <td>NaN</td>\n",
       "      <td>NaN</td>\n",
       "      <td>1.0</td>\n",
       "      <td>(topic)</td>\n",
       "    </tr>\n",
       "    <tr>\n",
       "      <th>3772</th>\n",
       "      <td>zotero</td>\n",
       "      <td>NaN</td>\n",
       "      <td>NaN</td>\n",
       "      <td>NaN</td>\n",
       "      <td>resource/tool</td>\n",
       "      <td>NaN</td>\n",
       "      <td>NaN</td>\n",
       "      <td>2.0</td>\n",
       "      <td>(resource/tool)</td>\n",
       "      <td>NaN</td>\n",
       "      <td>NaN</td>\n",
       "      <td>NaN</td>\n",
       "      <td>resource/tool</td>\n",
       "      <td>NaN</td>\n",
       "      <td>NaN</td>\n",
       "      <td>2.0</td>\n",
       "      <td>(resource/tool)</td>\n",
       "    </tr>\n",
       "  </tbody>\n",
       "</table>\n",
       "<p>1589 rows × 17 columns</p>\n",
       "</div>"
      ],
      "text/plain": [
       "                               Tag variant_x  \\\n",
       "0                             1922       NaN   \n",
       "1                             2011       NaN   \n",
       "2                        #nosource       NaN   \n",
       "5     (teil-)automatisch generiert       NaN   \n",
       "7                        1066-1485       NaN   \n",
       "...                            ...       ...   \n",
       "3740                           xml       NaN   \n",
       "3742                    xml schema       NaN   \n",
       "3755                  yearindh2008       NaN   \n",
       "3759                         youth       NaN   \n",
       "3772                        zotero       NaN   \n",
       "\n",
       "                        Vocabularies (excl. Zotero_DHA)  \\\n",
       "0                                                   NaN   \n",
       "1                                                   NaN   \n",
       "2                                                   NaN   \n",
       "5                                                   NaN   \n",
       "7                                                   NaN   \n",
       "...                                                 ...   \n",
       "3740  ARCHE, DARIAH Campus, dha taxonomy, HowTo, SSH...   \n",
       "3742                                                NaN   \n",
       "3755                                                NaN   \n",
       "3759                                                NaN   \n",
       "3772                                                NaN   \n",
       "\n",
       "      Number of Vocabularies (excl. Zotero_DHA)       Category 1_x  \\\n",
       "0                                           NaN        time period   \n",
       "1                                           NaN        time period   \n",
       "2                                           NaN  not categorizable   \n",
       "5                                           NaN  not categorizable   \n",
       "7                                           NaN        time period   \n",
       "...                                         ...                ...   \n",
       "3740                                        6.0    format/standard   \n",
       "3742                                        NaN    format/standard   \n",
       "3755                                        NaN  not categorizable   \n",
       "3759                                        NaN              topic   \n",
       "3772                                        NaN      resource/tool   \n",
       "\n",
       "     Category 2_x Category 3_x  Count_Zotero_DHA         Categories_x  \\\n",
       "0             NaN          NaN               1.0        (time period)   \n",
       "1             NaN          NaN               1.0        (time period)   \n",
       "2             NaN          NaN               4.0  (not categorizable)   \n",
       "5             NaN          NaN               4.0  (not categorizable)   \n",
       "7             NaN          NaN               1.0        (time period)   \n",
       "...           ...          ...               ...                  ...   \n",
       "3740          NaN          NaN              16.0    (format/standard)   \n",
       "3742          NaN          NaN               2.0    (format/standard)   \n",
       "3755          NaN          NaN               1.0  (not categorizable)   \n",
       "3759          NaN          NaN               1.0              (topic)   \n",
       "3772          NaN          NaN               2.0      (resource/tool)   \n",
       "\n",
       "     variant_y                                       Vocabularies  \\\n",
       "0          NaN                                                NaN   \n",
       "1          NaN                                                NaN   \n",
       "2          NaN                                                NaN   \n",
       "5          NaN                                                NaN   \n",
       "7          NaN                                                NaN   \n",
       "...        ...                                                ...   \n",
       "3740       NaN  ARCHE, DARIAH Campus, dha taxonomy, HowTo, SSH...   \n",
       "3742       NaN                                                NaN   \n",
       "3755       NaN                                                NaN   \n",
       "3759       NaN                                                NaN   \n",
       "3772       NaN                                                NaN   \n",
       "\n",
       "      Number of Vocabularies       Category 1_y Category 2_y Category 3_y  \\\n",
       "0                        NaN        time period          NaN          NaN   \n",
       "1                        NaN        time period          NaN          NaN   \n",
       "2                        NaN  not categorizable          NaN          NaN   \n",
       "5                        NaN  not categorizable          NaN          NaN   \n",
       "7                        NaN        time period          NaN          NaN   \n",
       "...                      ...                ...          ...          ...   \n",
       "3740                     6.0    format/standard          NaN          NaN   \n",
       "3742                     NaN    format/standard          NaN          NaN   \n",
       "3755                     NaN  not categorizable          NaN          NaN   \n",
       "3759                     NaN              topic          NaN          NaN   \n",
       "3772                     NaN      resource/tool          NaN          NaN   \n",
       "\n",
       "      Count         Categories_y  \n",
       "0       1.0        (time period)  \n",
       "1       1.0        (time period)  \n",
       "2       4.0  (not categorizable)  \n",
       "5       4.0  (not categorizable)  \n",
       "7       1.0        (time period)  \n",
       "...     ...                  ...  \n",
       "3740   16.0    (format/standard)  \n",
       "3742    2.0    (format/standard)  \n",
       "3755    1.0  (not categorizable)  \n",
       "3759    1.0              (topic)  \n",
       "3772    2.0      (resource/tool)  \n",
       "\n",
       "[1589 rows x 17 columns]"
      ]
     },
     "execution_count": 7,
     "metadata": {},
     "output_type": "execute_result"
    }
   ],
   "source": [
    "#nur DHA-Zotero-Daten\n",
    "\n",
    "df_dha = df[df['Count'].between(1, 1000)]\n",
    "df_dha"
   ]
  },
  {
   "cell_type": "code",
   "execution_count": 5,
   "metadata": {},
   "outputs": [
    {
     "name": "stdout",
     "output_type": "stream",
     "text": [
      "2900\n"
     ]
    }
   ],
   "source": [
    "#Löschen von Tags, die nur in ARCHE vorkommen\n",
    "\n",
    "df = df[df['Vocabularies (excl. Zotero_DHA)'] != 'ARCHE']\n",
    "df = df[df['Vocabularies (excl. Zotero_DHA)'] != 'ARCHE / ARCHE']\n",
    "print(len(df))"
   ]
  },
  {
   "cell_type": "code",
   "execution_count": 6,
   "metadata": {},
   "outputs": [
    {
     "name": "stdout",
     "output_type": "stream",
     "text": [
      "Martin:\n",
      "2\n",
      "2001: a space odyssey (film)\n",
      "journal of american history\n",
      "\n",
      "Nina:\n",
      "0\n"
     ]
    }
   ],
   "source": [
    "#Wieviele und welche Tags sind nicht von Martin/Nina kategorisiert worden? \n",
    "#ARCHE-Tags ausgeschlossen\n",
    "\n",
    "empty_category_tags_m = df[df['Category 1_x'].isna() | (df['Category 1_x'] == '')]['Tag']\n",
    "print(\"Martin:\")\n",
    "print(len(empty_category_tags_m))\n",
    "for x in empty_category_tags_m:\n",
    "    print(x)\n",
    "print()\n",
    "\n",
    "empty_category_tags_n = df[df['Category 1_y'].isna() | (df['Category 1_y'] == '')]['Tag']\n",
    "print(\"Nina:\")\n",
    "print(len(empty_category_tags_n))\n",
    "for x in empty_category_tags_n:\n",
    "    print(x)"
   ]
  },
  {
   "cell_type": "code",
   "execution_count": 7,
   "metadata": {},
   "outputs": [
    {
     "name": "stdout",
     "output_type": "stream",
     "text": [
      "2898\n"
     ]
    }
   ],
   "source": [
    "#Löschen von Tags, die von Martin nicht kategorisiert worden sind\n",
    "cols_to_check = ['Category 1_x', 'Category 2_x', 'Category 3_x']\n",
    "df = df.dropna(subset=cols_to_check, how='all')\n",
    "print(len(df))"
   ]
  },
  {
   "cell_type": "code",
   "execution_count": 8,
   "metadata": {},
   "outputs": [
    {
     "name": "stdout",
     "output_type": "stream",
     "text": [
      "2898\n"
     ]
    }
   ],
   "source": [
    "#Löschen von Tags, die von Nina nicht kategorisiert worden sind\n",
    "cols_to_check = ['Category 1_y', 'Category 2_y', 'Category 3_y']\n",
    "df = df.dropna(subset=cols_to_check, how='all')\n",
    "print(len(df))"
   ]
  },
  {
   "cell_type": "code",
   "execution_count": 9,
   "metadata": {},
   "outputs": [
    {
     "name": "stdout",
     "output_type": "stream",
     "text": [
      "Martin: theater ['topic', 'object-type', 'entity (place)']\n",
      "Nina: antiquity ['topic', 'time period']\n",
      "Martin: indigenous culture ['topic', 'discipline']\n",
      "Martin: pandemic ['topic', 'entity (event)']\n",
      "Martin: 18th century literature ['topic', 'time period']\n",
      "Martin: 19th century literature ['topic', 'time period']\n",
      "Martin: african languages ['topic', 'language']\n",
      "Martin: church ['topic', 'entity (place)']\n",
      "Martin: earth observations ['topic', 'method/activity']\n",
      "Nina: earth observations ['topic', 'method/activity']\n",
      "Martin: emigrants ['topic', 'entity (person)']\n",
      "Martin: ethnic minorities ['topic', 'entity (person)']\n",
      "Martin: immigrants ['topic', 'entity (person)']\n",
      "Martin: place names ['topic', 'entity (place)']\n",
      "Martin: prison ['topic', 'object-type', 'entity (place)']\n",
      "Martin: syllables ['topic', 'language']\n",
      "Martin: thermal effects ['topic', 'object-type']\n",
      "Martin: typos ['topic', 'object-type']\n",
      "Martin: voting ['topic', 'method/activity']\n",
      "Martin: text messaging ['topic', 'method/activity']\n",
      "Martin: agriculture ['topic', 'discipline']\n",
      "Martin: journalism ['topic', 'discipline']\n",
      "Martin: english literature ['topic', 'entity (place)']\n",
      "Martin: sammlung ['topic', 'object-type']\n",
      "Martin: british literature ['topic', 'entity (place)']\n",
      "Martin: dutch literature ['topic', 'entity (place)']\n",
      "Martin: email ['topic', 'object-type']\n",
      "Martin: film ['topic', 'object-type']\n",
      "Martin: trademarks ['topic', 'object-type']\n",
      "Martin: gis ['topic', 'method/activity']\n",
      "Martin: survey ['topic', 'method/activity']\n",
      "Martin: historical gis ['topic', 'method/activity']\n",
      "Martin: royal libraries ['topic', 'object-type']\n",
      "Martin: parliament ['topic', 'object-type']\n",
      "Nina: feminism ['topic', 'discipline']\n",
      "Nina: spatial humanities ['topic', 'discipline']\n",
      "Nina: bulgarian history ['topic', 'discipline']\n",
      "Nina: canadian history ['topic', 'discipline']\n",
      "Nina: islamic history ['topic', 'discipline']\n",
      "Nina: jewish history ['topic', 'discipline']\n",
      "Martin: social computing ['topic', 'method/activity']\n",
      "Nina: social computing ['topic', 'discipline']\n",
      "Nina: syntax ['topic', 'discipline']\n",
      "Nina: womens history ['topic', 'discipline']\n",
      "Nina: history of musicology ['topic', 'discipline']\n",
      "Nina: history of scholarship ['topic', 'discipline']\n",
      "Nina: cultural heritage ['topic', 'object-type']\n",
      "Nina: morphology ['topic', 'discipline']\n",
      "Nina: visualization ['topic', 'method/activity']\n",
      "Martin: digitisation ['topic', 'method/activity']\n",
      "Nina: digitisation ['topic', 'method/activity']\n",
      "Martin: material culture ['topic', 'discipline']\n",
      "Martin: controlled vocabulary ['topic', 'format/standard']\n",
      "Nina: digitization ['topic', 'method/activity']\n",
      "Martin: mooc ['topic', 'object-type']\n",
      "Martin: software development ['topic', 'discipline']\n",
      "Nina: speech technology ['topic', 'method/activity']\n",
      "Nina: augmented reality ['topic', 'method/activity']\n",
      "Martin: controlled vocabularies ['topic', 'format/standard']\n",
      "Nina: digital preservation ['topic', 'method/activity']\n",
      "Martin: demography ['topic', 'discipline']\n",
      "Martin: disciplines ['topic', 'discipline']\n",
      "Martin: linked data ['topic', 'object-type']\n",
      "Martin: query language ['topic', 'resource/tool']\n",
      "Martin: search service ['topic', 'resource/tool']\n",
      "Martin: taxonomy ['topic', 'format/standard']\n",
      "Martin: law ['topic', 'discipline']\n",
      "Nina: law ['topic', 'discipline']\n",
      "Martin: education ['topic', 'discipline']\n",
      "Martin: co-design ['topic', 'object-type', 'method/activity']\n",
      "Martin: conceputal art ['topic', 'discipline']\n",
      "Martin: conference ['topic', 'entity (event)']\n",
      "Nina: contemporary history ['topic', 'discipline']\n",
      "Nina: crowd science ['topic', 'method/activity']\n",
      "Nina: culinary history ['topic', 'discipline']\n",
      "Martin: design methods ['topic', 'method/activity']\n",
      "Nina: design methods ['topic', 'method/activity']\n",
      "Martin: digital art ['topic', 'discipline']\n",
      "Nina: digital diplomatics ['topic', 'discipline']\n",
      "Martin: digital humanism ['topic', 'discipline']\n",
      "Nina: digital humanism ['topic', 'discipline']\n",
      "Nina: digital museology ['topic', 'discipline']\n",
      "Nina: e-learning ['topic', 'method/activity']\n",
      "Martin: exhibition ['topic', 'entity (event)']\n",
      "Martin: forschungsmethoden ['topic', 'method/activity']\n",
      "Nina: heritage preservation ['topic', 'method/activity']\n",
      "Nina: holocaust education ['topic', 'method/activity']\n",
      "Nina: ict use ['topic', 'method/activity']\n",
      "Nina: knowledge science ['topic', 'discipline']\n",
      "Martin: lecture ['topic', 'entity (event)']\n",
      "Martin: long-term projects on cultural heritage ['topic', 'entity (project)']\n",
      "Martin: management ['topic', 'method/activity']\n",
      "Nina: middle high german ['topic', 'language']\n",
      "Martin: participatory methods ['topic', 'method/activity']\n",
      "Martin: presentation ['topic', 'method/activity']\n",
      "Nina: scientific heritage ['topic', 'object-type']\n",
      "Martin: training ['topic', 'method/activity']\n",
      "Martin: virtual reality ['topic', 'discipline']\n",
      "Martin: visual media ['topic', 'object-type']\n",
      "Martin: workshop ['topic', 'entity (event)']\n",
      "Nina: artificial intelligence ['topic', 'method/activity']\n",
      "Martin: libraries ['topic', 'entity (place)']\n",
      "Martin: museums ['topic', 'entity (place)']\n",
      "Martin: images ['topic', 'object-type']\n",
      "Martin: archives ['topic', 'entity (place)']\n",
      "Martin: project ['topic', 'object-type', 'entity (project)']\n",
      "Martin: archiv ['topic', 'entity (place)']\n",
      "Nina: cultural hertitage ['topic', 'object-type']\n",
      "Martin: didactics ['topic', 'discipline']\n",
      "Martin: didaktik ['topic', 'discipline']\n",
      "Martin: kunst  ['topic', 'discipline']\n",
      "Martin: museum ['topic', 'entity (place)']\n",
      "Martin: virtual museum ['topic', 'entity (place)']\n",
      "Martin: virtuelles museum ['topic', 'entity (place)']\n",
      "Martin: archive ['topic', 'entity (place)']\n",
      "Martin: digitale edition ['topic', 'object-type']\n",
      "Nina: ui design ['topic', 'method/activity']\n",
      "Nina: african american history ['topic', 'discipline']\n",
      "Nina: african history ['topic', 'discipline']\n",
      "Nina: ai ['topic', 'method/activity']\n",
      "Nina: cuneiform ['topic', 'resource/tool']\n",
      "Nina: download ['topic', 'method/activity']\n",
      "Martin: eighteenth century poetry ['topic', 'time period']\n",
      "Martin: facetted search ['topic', 'method/activity']\n",
      "Nina: indian history ['topic', 'discipline']\n",
      "Nina: ipr ['topic', 'discipline']\n",
      "Martin: ipr issues ['topic', 'discipline']\n",
      "Nina: keywords from sshoc mp ['topic', 'not categorizable']\n",
      "Nina: kurdish ['topic', 'language']\n",
      "Nina: letter writing ['topic', 'method/activity']\n",
      "Martin: library ['topic', 'entity (place)']\n",
      "Martin: literary characters ['topic', 'object-type']\n"
     ]
    },
    {
     "name": "stdout",
     "output_type": "stream",
     "text": [
      "Martin: literary plot ['topic', 'object-type']\n",
      "Martin: literary prizes ['topic', 'object-type']\n",
      "Martin: media format ['topic', 'format/standard']\n",
      "Martin: mesh ['topic', 'format/standard']\n",
      "Martin: metadata search ['topic', 'method/activity']\n",
      "Nina: muslim history ['topic', 'discipline']\n",
      "Martin: open research ['topic', 'method/activity']\n",
      "Martin: peer review ['topic', 'method/activity']\n",
      "Nina: peer review ['topic', 'method/activity']\n",
      "Martin: plastics ['topic', 'object-type']\n",
      "Martin: podcast ['topic', 'object-type']\n",
      "Martin: point cloud ['topic', 'object-type']\n",
      "Nina: point cloud ['topic', 'object-type']\n",
      "Martin: policies ['topic', 'object-type']\n",
      "Martin: production ['topic', 'method/activity']\n",
      "Nina: proper name disambiguation ['topic', 'method/activity']\n",
      "Nina: race films ['topic', 'object-type']\n",
      "Nina: random forest ['topic', 'method/activity']\n",
      "Nina: tbx in tei ['topic', 'format/standard']\n",
      "Nina: web3d ['topic', 'entity (institution/organisation/brand)']\n",
      "Martin: workplace ['topic', 'entity (place)']\n",
      "Martin: description ['topic', 'method/activity']\n",
      "Martin: animation ['topic', 'method/activity']\n",
      "Martin: arts ['topic', 'discipline']\n",
      "Martin: video capture ['topic', 'method/activity']\n",
      "Martin: academic publication ['topic', 'object-type', 'method/activity']\n",
      "Martin: design ['topic', 'method/activity']\n",
      "Nina: design ['topic', 'method/activity']\n",
      "Martin: diagramm ['topic', 'method/activity']\n",
      "Martin: digital publication ['topic', 'object-type', 'method/activity']\n",
      "Nina: identification ['topic', 'method/activity']\n",
      "Martin: abstract thinking ['topic', 'method/activity']\n",
      "Nina: concordance ['topic', 'method/activity']\n",
      "Nina: co-occurrence ['topic', 'method/activity']\n",
      "Nina: distance measures ['topic', 'method/activity']\n",
      "Martin: explanation ['topic', 'object-type', 'method/activity']\n",
      "Martin: exploration ['topic', 'object-type', 'method/activity']\n",
      "Martin: collaboration ['topic', 'method/activity']\n",
      "Martin: conversion ['topic', 'method/activity']\n",
      "Nina: annotation system design ['topic', 'method/activity']\n",
      "Martin: computer network resources ['topic', 'object-type']\n",
      "Martin: conferences ['topic', 'entity (event)']\n",
      "Martin: criticism, textual ['topic', 'method/activity']\n",
      "Martin: criticism, textual y ['topic', 'method/activity']\n",
      "Martin: cv ['topic', 'object-type']\n",
      "Martin: forschungsdatenmanagement ['topic', 'method/activity']\n",
      "Martin: history matters ['topic', 'discipline']\n",
      "Martin: method ['topic', 'method/activity']\n",
      "Martin: methodology ['topic', 'method/activity']\n",
      "Martin: text technology ['topic', 'discipline']\n",
      "Martin: 3d ['topic', 'format/standard']\n",
      "Nina: ethics ['topic', 'discipline']\n",
      "Martin: certification ['topic', 'method/activity']\n",
      "Nina: certification ['topic', 'method/activity']\n",
      "Nina: singapore english ['topic', 'language']\n",
      "Nina: emulation ['topic', 'method/activity']\n",
      "Martin: namedentities ['topic', 'object-type']\n",
      "Martin: o-methods ['topic', 'object-type']\n",
      "Martin: ontologie ['topic', 'object-type']\n",
      "Martin: dokumentation ['topic', 'method/activity']\n",
      "Nina: dokumentation ['topic', 'method/activity']\n",
      "Martin: ontologie (top-level) ['topic', 'object-type']\n",
      "Martin: the event ontology ['topic', 'object-type']\n",
      "Martin: wikipedia_as_model ['topic', 'resource/tool']\n",
      "Martin: wikipedia_as_subject ['topic', 'resource/tool']\n",
      "Martin: wikipedia_critique ['topic', 'resource/tool']\n",
      "Martin: digital communications ['topic', 'object-type']\n",
      "Martin: canadian century research infrastructure ['topic', 'multiple tags', 'entity (place)']\n",
      "Nina: history study & teaching ['topic', 'multiple tags']\n",
      "Nina: publishers and publishing ['topic', 'multiple tags']\n",
      "Martin: wikipedia_pedagogy ['topic', 'resource/tool']\n",
      "Martin: internet (review article) ['topic', 'multiple tags']\n",
      "Martin: paper ['topic', 'object-type']\n",
      "Martin: united states social life & customs to 1775 ['topic', 'multiple tags', 'entity (place)']\n",
      "Martin: recessions ['topic', 'object-type']\n",
      "Nina: surveys ['topic', 'method/activity']\n",
      "Martin: visual aids ['topic', 'object-type']\n",
      "Martin: pathfinder networks ['topic', 'object-type']\n",
      "Nina: city planning ['topic', 'method/activity']\n",
      "Nina: geodh ['topic', 'discipline']\n",
      "Nina: information management ['topic', 'method/activity']\n",
      "Martin: conceptual art ['topic', 'discipline']\n",
      "Martin: ideas ['topic', 'object-type']\n",
      "Nina: study of hebrew ['topic', 'discipline']\n",
      "Martin: ontologies ['topic', 'object-type']\n",
      "Martin: inkunabel ['topic', 'object-type']\n",
      "Martin: language theory ['topic', 'discipline']\n",
      "Nina: ästhetik ['topic', 'discipline']\n",
      "Martin: handschriften. epigrafie. paleografie ['topic', 'discipline', 'multiple tags']\n",
      "Nina: ecdotica ['topic', 'method/activity']\n",
      "Martin: bibliography theory, methods, etc ['topic', 'multiple tags']\n",
      "Martin: citation ['topic', 'method/activity']\n",
      "Nina: citation ['topic', 'method/activity']\n",
      "Martin: imitation ['topic', 'method/activity']\n",
      "Nina: corpus stylistics ['topic', 'discipline']\n",
      "Martin: suspended quotation ['topic', 'method/activity']\n",
      "Nina: cscw ['topic', 'discipline']\n",
      "Martin: longitudinal case study ['topic', 'object-type']\n",
      "Nina: documentation ['topic', 'method/activity']\n",
      "Martin: historical spelling variants ['topic', 'object-type']\n",
      "Martin: convolutional and recurrent neural networks ['topic', 'object-type', 'multiple tags']\n",
      "Nina: convolutional and recurrent neural networks ['topic', 'method/activity']\n",
      "Martin: convolutional neural networks ['topic', 'object-type']\n",
      "Nina: convolutional neural networks ['topic', 'method/activity']\n",
      "Martin: recurrent neural nets ['topic', 'object-type']\n",
      "Martin: recurrent neural networks ['topic', 'object-type']\n",
      "Martin: simulation and games ['topic', 'object-type', 'multiple tags']\n",
      "Martin: online games ['topic', 'object-type']\n",
      "Martin: critical thinking ['topic', 'method/activity']\n",
      "Nina: intellectual collaboration ['topic', 'method/activity']\n",
      "Nina: written communication ['topic', 'method/activity']\n",
      "Martin: real-time distributed groupware ['topic', 'resource/tool']\n",
      "Martin: information-rich virtual environments ['topic', 'object-type']\n",
      "Martin: relationships ['topic', 'object-type']\n",
      "Martin: trust ['topic', 'entity (institution/organisation/brand)']\n",
      "Martin: virtual teams ['topic', 'object-type']\n",
      "Martin: computer mediated communication ['topic', 'discipline']\n",
      "Martin: structural features ['topic', 'object-type']\n",
      "Martin: computers and the internet ['topic', 'object-type', 'multiple tags']\n",
      "Martin: open educational resources ['topic', 'object-type']\n",
      "Nina: literary criticism ['topic', 'method/activity']\n",
      "Nina: field study ['topic', 'method/activity']\n",
      "Nina: humanities computing ['topic', 'discipline']\n",
      "Martin: play ['topic', 'method/activity']\n",
      "Martin: literary criticism / ancient & classical ['topic', 'multiple tags']\n",
      "Martin: literary criticism / medieval ['topic', 'multiple tags']\n",
      "Martin: literary criticism / women authors ['topic', 'multiple tags']\n",
      "Martin: poetry / european / english, irish, scottish, welsh ['topic', 'multiple tags']\n",
      "Martin: civilization, medieval, in literature ['topic', 'multiple tags', 'time period']\n",
      "Martin: english literature/ middle english, 1100-1500/ history and criticism ['topic', 'language', 'multiple tags']\n",
      "Martin: transgender and transsexual ['topic', 'multiple tags']\n",
      "Martin: political science / civil rights ['topic', 'discipline', 'multiple tags']\n",
      "Nina: invisibleaustralians ['topic', 'resource/tool', 'entity (project)']\n",
      "Martin: white australia ['topic', 'entity (place)']\n",
      "Martin: music / genres & styles / rap & hip hop ['topic', 'multiple tags']\n",
      "Martin: vulgate ['topic', 'object-type']\n",
      "Nina: british ['topic', 'entity (place)']\n",
      "Martin: humanistic ['topic', 'discipline']\n",
      "Nina: share ['topic', 'method/activity']\n",
      "Nina: architectural history ['topic', 'discipline']\n",
      "Martin: dh 2011 opening keynote ['topic', 'object-type']\n",
      "Martin: picture ['topic', 'object-type']\n",
      "Martin: senseable city ['topic', 'entity (place)']\n",
      "Martin: sensible city ['topic', 'entity (place)']\n",
      "Martin: space ['topic', 'entity (place)']\n",
      "Martin: wits ['topic', 'object-type']\n",
      "Martin: hypercities ['topic', 'object-type', 'entity (place)']\n",
      "Martin: palimpsest ['topic', 'object-type']\n",
      "Martin: interfaces (informatique) ['topic', 'object-type']\n",
      "Martin: médias ['topic', 'object-type']\n",
      "Martin: lecture à l’écran ['topic', 'entity (event)']\n",
      "Martin: lecture distante ['topic', 'entity (event)']\n",
      "Martin: philosophy / criticism ['topic', 'discipline', 'multiple tags']\n",
      "Martin: literary criticism / books & reading ['topic', 'method/activity', 'multiple tags']\n",
      "Martin: literary criticism / australian & oceanian ['topic', 'multiple tags', 'entity (place)']\n",
      "Martin: language arts & disciplines / linguistics / semantics ['topic', 'discipline', 'multiple tags']\n",
      "Martin: language arts & disciplines / rhetoric ['topic', 'discipline', 'multiple tags']\n",
      "Martin: language arts & disciplines / speech ['topic', 'discipline', 'multiple tags']\n",
      "Martin: foreign language study / english as a second language ['topic', 'discipline', 'multiple tags']\n",
      "Martin: language arts & disciplines / library & information science / archives & special libraries ['topic', 'discipline', 'multiple tags']\n",
      "Martin: language arts & disciplines / general ['topic', 'discipline', 'multiple tags']\n",
      "Martin: language arts & disciplines / literacy ['topic', 'discipline', 'multiple tags']\n",
      "Martin: computers / programming / general ['topic', 'method/activity', 'multiple tags']\n",
      "Martin: literary criticism / reference ['topic', 'multiple tags']\n",
      "Martin: bestiaire ['topic', 'object-type']\n",
      "Martin: computers / information technology ['topic', 'discipline', 'multiple tags']\n",
      "Martin: computers / system administration / storage & retrieval ['topic', 'method/activity', 'discipline']\n",
      "Martin: computers / optical data processing ['topic', 'method/activity', 'multiple tags']\n",
      "Martin: computers / computer vision & pattern recognition ['topic', 'method/activity', 'multiple tags']\n",
      "Martin: computers / data processing ['topic', 'method/activity', 'multiple tags']\n",
      "Martin: computers / intelligence (ai) & semantics ['topic', 'multiple tags']\n",
      "Martin: corpus linguistique ['topic', 'object-type']\n",
      "Martin: littérature française 19e siècle thèmes, motifs ['topic', 'multiple tags', 'time period']\n",
      "Martin: voyages dans la littérature ['topic', 'object-type']\n",
      "Martin: corpus (recherche) ['topic', 'object-type']\n",
      "Martin: markup language ['topic', 'format/standard']\n",
      "Nina: text processing (computer science) ['topic', 'method/activity']\n",
      "Martin: speculation ['topic', 'method/activity']\n",
      "Nina: speculation ['topic', 'method/activity']\n",
      "Nina: exist knowledge base ['topic', 'object-type']\n",
      "Nina: query expansion ['topic', 'method/activity']\n",
      "Martin: dense region ['topic', 'entity (place)']\n",
      "Martin: computers / interactive & multimedia ['topic', 'multiple tags']\n",
      "Martin: computers / networking / hardware ['topic', 'method/activity', 'multiple tags']\n",
      "Martin: police report ['topic', 'object-type']\n",
      "Martin: product review ['topic', 'object-type']\n",
      "Martin: co-occurrences ['topic', 'object-type']\n",
      "Martin: cooccurrences ['topic', 'object-type']\n",
      "Martin: corrélats ['topic', 'object-type']\n",
      "Martin: digital text ['topic', 'object-type']\n",
      "Martin: criticism ['topic', 'method/activity']\n",
      "Nina: criticism ['topic', 'method/activity']\n",
      "Martin: computer science - artificial intelligence ['topic', 'discipline', 'multiple tags']\n",
      "Martin: mathematics / probability & statistics / general ['topic', 'discipline', 'multiple tags']\n",
      "Nina: linguistique de corpus ['topic', 'discipline']\n",
      "Nina: linguistique systémique fonctionnelle ['topic', 'discipline']\n",
      "Nina: estadísticas lexicales ['topic', 'method/activity']\n",
      "Nina: lexical studies ['topic', 'method/activity', 'discipline']\n",
      "Nina: statistiques lexicales ['topic', 'method/activity']\n",
      "Martin: drama / shakespeare ['topic', 'entity (person)', 'multiple tags']\n",
      "Martin: literary criticism / shakespeare ['topic', 'entity (person)', 'multiple tags']\n",
      "Martin: literary criticism / european / german ['topic', 'language', 'multiple tags']\n",
      "Martin: electronics ['topic', 'discipline']\n",
      "Martin: hyperdokument ['topic', 'object-type']\n",
      "Martin: hypertextdokument ['topic', 'object-type']\n",
      "Martin: web mapping, internet, map-based online system, mapserver ['topic', 'method/activity', 'multiple tags']\n",
      "Martin: web-mapping, internet, kartenserver ['topic', 'method/activity', 'multiple tags']\n",
      "Martin: sanskrit literature ['topic', 'language']\n",
      "Nina: computer graphics ['topic', 'discipline']\n",
      "Martin: image processing and computer vision ['topic', 'method/activity', 'multiple tags']\n",
      "Nina: information storage and retrieval ['topic', 'multiple tags']\n",
      "Martin: information systems applications (incl.internet) ['topic', 'object-type']\n",
      "Martin: multimedia information systems ['topic', 'object-type']\n",
      "Nina: pragmatiek ['topic', 'discipline']\n",
      "Martin: digital scholarly editions ['topic', 'object-type']\n",
      "Nina: critique textuelle ['topic', 'method/activity']\n",
      "Martin: littérature française commentaire de texte ['topic', 'language']\n",
      "Martin: letterkunde: auteurs ['topic', 'multiple tags']\n",
      "Nina: processus de création ['topic', 'method/activity']\n",
      "Martin: technology (applied sciences) ['topic', 'multiple tags']\n",
      "Martin: criticism, textual congresses ['topic', 'multiple tags']\n",
      "Martin: critica del testo ['topic', 'method/activity']\n",
      "Nina: textual criticism n ['topic', 'method/activity']\n",
      "Nina: criticism, textual. y ['topic', 'method/activity']\n",
      "Martin: italian language criticism, textual. ['topic', 'language']\n",
      "Nina: italian language criticism, textual. ['topic', 'method/activity']\n",
      "Martin: latin language criticism, textual. ['topic', 'language']\n",
      "Nina: latin language criticism, textual. ['topic', 'method/activity']\n",
      "Martin: criticism, textual handbooks, manuals, etc. y ['topic', 'object-type', 'multiple tags']\n",
      "Martin: italian literature criticism, textual ['topic', 'language']\n",
      "\n",
      "Martin: Topic in 251 Fällen zusätzlich verwendet\n",
      "Nina: Topic in 111 Fällen zusätzlich verwendet\n"
     ]
    }
   ],
   "source": [
    "#Einblick: Wann kommt Topic zusätzlich zu einer anderen Kategorisierung vor?\n",
    "#Topic als sekundäre Kategorie verstehen (z.B. object-type und entities sind automatisch immer auch topic)?\n",
    "\n",
    "count_martin = 0\n",
    "count_nina = 0\n",
    "\n",
    "for x in df.index:\n",
    "    tag = df.loc[x, \"Tag\"]\n",
    "    rating1 = df.loc[x, \"Categories_x\"]\n",
    "    rating2 = df.loc[x, \"Categories_y\"]\n",
    "    if len(rating1) > 1 and \"topic\" in rating1:\n",
    "        print(\"Martin:\", tag, [x for x in rating1])\n",
    "        count_martin = count_martin + 1\n",
    "    if len(rating2) > 1 and \"topic\" in rating2:\n",
    "        print(\"Nina:\", tag, [x for x in rating2])\n",
    "        count_nina = count_nina + 1\n",
    "\n",
    "print()\n",
    "print(\"Martin: Topic in\", count_martin, \"Fällen zusätzlich verwendet\")\n",
    "print(\"Nina: Topic in\", count_nina, \"Fällen zusätzlich verwendet\")"
   ]
  },
  {
   "cell_type": "markdown",
   "metadata": {},
   "source": [
    "### Insight into individual rater behaviour"
   ]
  },
  {
   "cell_type": "code",
   "execution_count": 10,
   "metadata": {},
   "outputs": [
    {
     "data": {
      "application/vnd.plotly.v1+json": {
       "config": {
        "plotlyServerURL": "https://plot.ly"
       },
       "data": [
        {
         "marker": {
          "color": "skyblue"
         },
         "type": "bar",
         "x": [
          "discipline",
          "entity (event)",
          "entity (institution/organisation/brand)",
          "entity (person)",
          "entity (place)",
          "entity (product)",
          "entity (project)",
          "format/standard",
          "language",
          "method/activity",
          "multiple tags",
          "not categorizable",
          "object-type",
          "resource/tool",
          "time period",
          "topic"
         ],
         "y": [
          358,
          23,
          82,
          154,
          161,
          9,
          28,
          84,
          124,
          545,
          173,
          174,
          510,
          90,
          57,
          829
         ]
        }
       ],
       "layout": {
        "showlegend": false,
        "template": {
         "data": {
          "bar": [
           {
            "error_x": {
             "color": "#2a3f5f"
            },
            "error_y": {
             "color": "#2a3f5f"
            },
            "marker": {
             "line": {
              "color": "white",
              "width": 0.5
             },
             "pattern": {
              "fillmode": "overlay",
              "size": 10,
              "solidity": 0.2
             }
            },
            "type": "bar"
           }
          ],
          "barpolar": [
           {
            "marker": {
             "line": {
              "color": "white",
              "width": 0.5
             },
             "pattern": {
              "fillmode": "overlay",
              "size": 10,
              "solidity": 0.2
             }
            },
            "type": "barpolar"
           }
          ],
          "carpet": [
           {
            "aaxis": {
             "endlinecolor": "#2a3f5f",
             "gridcolor": "#C8D4E3",
             "linecolor": "#C8D4E3",
             "minorgridcolor": "#C8D4E3",
             "startlinecolor": "#2a3f5f"
            },
            "baxis": {
             "endlinecolor": "#2a3f5f",
             "gridcolor": "#C8D4E3",
             "linecolor": "#C8D4E3",
             "minorgridcolor": "#C8D4E3",
             "startlinecolor": "#2a3f5f"
            },
            "type": "carpet"
           }
          ],
          "choropleth": [
           {
            "colorbar": {
             "outlinewidth": 0,
             "ticks": ""
            },
            "type": "choropleth"
           }
          ],
          "contour": [
           {
            "colorbar": {
             "outlinewidth": 0,
             "ticks": ""
            },
            "colorscale": [
             [
              0,
              "#0d0887"
             ],
             [
              0.1111111111111111,
              "#46039f"
             ],
             [
              0.2222222222222222,
              "#7201a8"
             ],
             [
              0.3333333333333333,
              "#9c179e"
             ],
             [
              0.4444444444444444,
              "#bd3786"
             ],
             [
              0.5555555555555556,
              "#d8576b"
             ],
             [
              0.6666666666666666,
              "#ed7953"
             ],
             [
              0.7777777777777778,
              "#fb9f3a"
             ],
             [
              0.8888888888888888,
              "#fdca26"
             ],
             [
              1,
              "#f0f921"
             ]
            ],
            "type": "contour"
           }
          ],
          "contourcarpet": [
           {
            "colorbar": {
             "outlinewidth": 0,
             "ticks": ""
            },
            "type": "contourcarpet"
           }
          ],
          "heatmap": [
           {
            "colorbar": {
             "outlinewidth": 0,
             "ticks": ""
            },
            "colorscale": [
             [
              0,
              "#0d0887"
             ],
             [
              0.1111111111111111,
              "#46039f"
             ],
             [
              0.2222222222222222,
              "#7201a8"
             ],
             [
              0.3333333333333333,
              "#9c179e"
             ],
             [
              0.4444444444444444,
              "#bd3786"
             ],
             [
              0.5555555555555556,
              "#d8576b"
             ],
             [
              0.6666666666666666,
              "#ed7953"
             ],
             [
              0.7777777777777778,
              "#fb9f3a"
             ],
             [
              0.8888888888888888,
              "#fdca26"
             ],
             [
              1,
              "#f0f921"
             ]
            ],
            "type": "heatmap"
           }
          ],
          "heatmapgl": [
           {
            "colorbar": {
             "outlinewidth": 0,
             "ticks": ""
            },
            "colorscale": [
             [
              0,
              "#0d0887"
             ],
             [
              0.1111111111111111,
              "#46039f"
             ],
             [
              0.2222222222222222,
              "#7201a8"
             ],
             [
              0.3333333333333333,
              "#9c179e"
             ],
             [
              0.4444444444444444,
              "#bd3786"
             ],
             [
              0.5555555555555556,
              "#d8576b"
             ],
             [
              0.6666666666666666,
              "#ed7953"
             ],
             [
              0.7777777777777778,
              "#fb9f3a"
             ],
             [
              0.8888888888888888,
              "#fdca26"
             ],
             [
              1,
              "#f0f921"
             ]
            ],
            "type": "heatmapgl"
           }
          ],
          "histogram": [
           {
            "marker": {
             "pattern": {
              "fillmode": "overlay",
              "size": 10,
              "solidity": 0.2
             }
            },
            "type": "histogram"
           }
          ],
          "histogram2d": [
           {
            "colorbar": {
             "outlinewidth": 0,
             "ticks": ""
            },
            "colorscale": [
             [
              0,
              "#0d0887"
             ],
             [
              0.1111111111111111,
              "#46039f"
             ],
             [
              0.2222222222222222,
              "#7201a8"
             ],
             [
              0.3333333333333333,
              "#9c179e"
             ],
             [
              0.4444444444444444,
              "#bd3786"
             ],
             [
              0.5555555555555556,
              "#d8576b"
             ],
             [
              0.6666666666666666,
              "#ed7953"
             ],
             [
              0.7777777777777778,
              "#fb9f3a"
             ],
             [
              0.8888888888888888,
              "#fdca26"
             ],
             [
              1,
              "#f0f921"
             ]
            ],
            "type": "histogram2d"
           }
          ],
          "histogram2dcontour": [
           {
            "colorbar": {
             "outlinewidth": 0,
             "ticks": ""
            },
            "colorscale": [
             [
              0,
              "#0d0887"
             ],
             [
              0.1111111111111111,
              "#46039f"
             ],
             [
              0.2222222222222222,
              "#7201a8"
             ],
             [
              0.3333333333333333,
              "#9c179e"
             ],
             [
              0.4444444444444444,
              "#bd3786"
             ],
             [
              0.5555555555555556,
              "#d8576b"
             ],
             [
              0.6666666666666666,
              "#ed7953"
             ],
             [
              0.7777777777777778,
              "#fb9f3a"
             ],
             [
              0.8888888888888888,
              "#fdca26"
             ],
             [
              1,
              "#f0f921"
             ]
            ],
            "type": "histogram2dcontour"
           }
          ],
          "mesh3d": [
           {
            "colorbar": {
             "outlinewidth": 0,
             "ticks": ""
            },
            "type": "mesh3d"
           }
          ],
          "parcoords": [
           {
            "line": {
             "colorbar": {
              "outlinewidth": 0,
              "ticks": ""
             }
            },
            "type": "parcoords"
           }
          ],
          "pie": [
           {
            "automargin": true,
            "type": "pie"
           }
          ],
          "scatter": [
           {
            "marker": {
             "colorbar": {
              "outlinewidth": 0,
              "ticks": ""
             }
            },
            "type": "scatter"
           }
          ],
          "scatter3d": [
           {
            "line": {
             "colorbar": {
              "outlinewidth": 0,
              "ticks": ""
             }
            },
            "marker": {
             "colorbar": {
              "outlinewidth": 0,
              "ticks": ""
             }
            },
            "type": "scatter3d"
           }
          ],
          "scattercarpet": [
           {
            "marker": {
             "colorbar": {
              "outlinewidth": 0,
              "ticks": ""
             }
            },
            "type": "scattercarpet"
           }
          ],
          "scattergeo": [
           {
            "marker": {
             "colorbar": {
              "outlinewidth": 0,
              "ticks": ""
             }
            },
            "type": "scattergeo"
           }
          ],
          "scattergl": [
           {
            "marker": {
             "colorbar": {
              "outlinewidth": 0,
              "ticks": ""
             }
            },
            "type": "scattergl"
           }
          ],
          "scattermapbox": [
           {
            "marker": {
             "colorbar": {
              "outlinewidth": 0,
              "ticks": ""
             }
            },
            "type": "scattermapbox"
           }
          ],
          "scatterpolar": [
           {
            "marker": {
             "colorbar": {
              "outlinewidth": 0,
              "ticks": ""
             }
            },
            "type": "scatterpolar"
           }
          ],
          "scatterpolargl": [
           {
            "marker": {
             "colorbar": {
              "outlinewidth": 0,
              "ticks": ""
             }
            },
            "type": "scatterpolargl"
           }
          ],
          "scatterternary": [
           {
            "marker": {
             "colorbar": {
              "outlinewidth": 0,
              "ticks": ""
             }
            },
            "type": "scatterternary"
           }
          ],
          "surface": [
           {
            "colorbar": {
             "outlinewidth": 0,
             "ticks": ""
            },
            "colorscale": [
             [
              0,
              "#0d0887"
             ],
             [
              0.1111111111111111,
              "#46039f"
             ],
             [
              0.2222222222222222,
              "#7201a8"
             ],
             [
              0.3333333333333333,
              "#9c179e"
             ],
             [
              0.4444444444444444,
              "#bd3786"
             ],
             [
              0.5555555555555556,
              "#d8576b"
             ],
             [
              0.6666666666666666,
              "#ed7953"
             ],
             [
              0.7777777777777778,
              "#fb9f3a"
             ],
             [
              0.8888888888888888,
              "#fdca26"
             ],
             [
              1,
              "#f0f921"
             ]
            ],
            "type": "surface"
           }
          ],
          "table": [
           {
            "cells": {
             "fill": {
              "color": "#EBF0F8"
             },
             "line": {
              "color": "white"
             }
            },
            "header": {
             "fill": {
              "color": "#C8D4E3"
             },
             "line": {
              "color": "white"
             }
            },
            "type": "table"
           }
          ]
         },
         "layout": {
          "annotationdefaults": {
           "arrowcolor": "#2a3f5f",
           "arrowhead": 0,
           "arrowwidth": 1
          },
          "autotypenumbers": "strict",
          "coloraxis": {
           "colorbar": {
            "outlinewidth": 0,
            "ticks": ""
           }
          },
          "colorscale": {
           "diverging": [
            [
             0,
             "#8e0152"
            ],
            [
             0.1,
             "#c51b7d"
            ],
            [
             0.2,
             "#de77ae"
            ],
            [
             0.3,
             "#f1b6da"
            ],
            [
             0.4,
             "#fde0ef"
            ],
            [
             0.5,
             "#f7f7f7"
            ],
            [
             0.6,
             "#e6f5d0"
            ],
            [
             0.7,
             "#b8e186"
            ],
            [
             0.8,
             "#7fbc41"
            ],
            [
             0.9,
             "#4d9221"
            ],
            [
             1,
             "#276419"
            ]
           ],
           "sequential": [
            [
             0,
             "#0d0887"
            ],
            [
             0.1111111111111111,
             "#46039f"
            ],
            [
             0.2222222222222222,
             "#7201a8"
            ],
            [
             0.3333333333333333,
             "#9c179e"
            ],
            [
             0.4444444444444444,
             "#bd3786"
            ],
            [
             0.5555555555555556,
             "#d8576b"
            ],
            [
             0.6666666666666666,
             "#ed7953"
            ],
            [
             0.7777777777777778,
             "#fb9f3a"
            ],
            [
             0.8888888888888888,
             "#fdca26"
            ],
            [
             1,
             "#f0f921"
            ]
           ],
           "sequentialminus": [
            [
             0,
             "#0d0887"
            ],
            [
             0.1111111111111111,
             "#46039f"
            ],
            [
             0.2222222222222222,
             "#7201a8"
            ],
            [
             0.3333333333333333,
             "#9c179e"
            ],
            [
             0.4444444444444444,
             "#bd3786"
            ],
            [
             0.5555555555555556,
             "#d8576b"
            ],
            [
             0.6666666666666666,
             "#ed7953"
            ],
            [
             0.7777777777777778,
             "#fb9f3a"
            ],
            [
             0.8888888888888888,
             "#fdca26"
            ],
            [
             1,
             "#f0f921"
            ]
           ]
          },
          "colorway": [
           "#636efa",
           "#EF553B",
           "#00cc96",
           "#ab63fa",
           "#FFA15A",
           "#19d3f3",
           "#FF6692",
           "#B6E880",
           "#FF97FF",
           "#FECB52"
          ],
          "font": {
           "color": "#2a3f5f"
          },
          "geo": {
           "bgcolor": "white",
           "lakecolor": "white",
           "landcolor": "white",
           "showlakes": true,
           "showland": true,
           "subunitcolor": "#C8D4E3"
          },
          "hoverlabel": {
           "align": "left"
          },
          "hovermode": "closest",
          "mapbox": {
           "style": "light"
          },
          "paper_bgcolor": "white",
          "plot_bgcolor": "white",
          "polar": {
           "angularaxis": {
            "gridcolor": "#EBF0F8",
            "linecolor": "#EBF0F8",
            "ticks": ""
           },
           "bgcolor": "white",
           "radialaxis": {
            "gridcolor": "#EBF0F8",
            "linecolor": "#EBF0F8",
            "ticks": ""
           }
          },
          "scene": {
           "xaxis": {
            "backgroundcolor": "white",
            "gridcolor": "#DFE8F3",
            "gridwidth": 2,
            "linecolor": "#EBF0F8",
            "showbackground": true,
            "ticks": "",
            "zerolinecolor": "#EBF0F8"
           },
           "yaxis": {
            "backgroundcolor": "white",
            "gridcolor": "#DFE8F3",
            "gridwidth": 2,
            "linecolor": "#EBF0F8",
            "showbackground": true,
            "ticks": "",
            "zerolinecolor": "#EBF0F8"
           },
           "zaxis": {
            "backgroundcolor": "white",
            "gridcolor": "#DFE8F3",
            "gridwidth": 2,
            "linecolor": "#EBF0F8",
            "showbackground": true,
            "ticks": "",
            "zerolinecolor": "#EBF0F8"
           }
          },
          "shapedefaults": {
           "line": {
            "color": "#2a3f5f"
           }
          },
          "ternary": {
           "aaxis": {
            "gridcolor": "#DFE8F3",
            "linecolor": "#A2B1C6",
            "ticks": ""
           },
           "baxis": {
            "gridcolor": "#DFE8F3",
            "linecolor": "#A2B1C6",
            "ticks": ""
           },
           "bgcolor": "white",
           "caxis": {
            "gridcolor": "#DFE8F3",
            "linecolor": "#A2B1C6",
            "ticks": ""
           }
          },
          "title": {
           "x": 0.05
          },
          "xaxis": {
           "automargin": true,
           "gridcolor": "#EBF0F8",
           "linecolor": "#EBF0F8",
           "ticks": "",
           "title": {
            "standoff": 15
           },
           "zerolinecolor": "#EBF0F8",
           "zerolinewidth": 2
          },
          "yaxis": {
           "automargin": true,
           "gridcolor": "#EBF0F8",
           "linecolor": "#EBF0F8",
           "ticks": "",
           "title": {
            "standoff": 15
           },
           "zerolinecolor": "#EBF0F8",
           "zerolinewidth": 2
          }
         }
        },
        "title": {
         "text": "Categorizations by Martin"
        },
        "xaxis": {
         "title": {
          "text": "Element"
         }
        },
        "yaxis": {
         "title": {
          "text": "Count"
         }
        }
       }
      }
     },
     "metadata": {},
     "output_type": "display_data"
    }
   ],
   "source": [
    "# Flatten the frozensets and count occurrences\n",
    "counter = Counter([item for subset in df['Categories_x'] for item in subset])\n",
    "\n",
    "# Separate the keys and values for plotting\n",
    "items, counts = zip(*sorted(counter.items(), key=lambda x: x[0]))\n",
    "\n",
    "# Plot\n",
    "fig = go.Figure(data=[\n",
    "    go.Bar(x=items, y=counts, marker_color='skyblue')\n",
    "])\n",
    "\n",
    "fig.update_layout(\n",
    "    title='Categorizations by Martin',\n",
    "    xaxis_title='Element',\n",
    "    yaxis_title='Count',\n",
    "    showlegend=False,\n",
    "    template=\"plotly_white\"\n",
    ")\n",
    "\n",
    "fig.show()"
   ]
  },
  {
   "cell_type": "code",
   "execution_count": 11,
   "metadata": {},
   "outputs": [
    {
     "data": {
      "application/vnd.plotly.v1+json": {
       "config": {
        "plotlyServerURL": "https://plot.ly"
       },
       "data": [
        {
         "marker": {
          "color": "skyblue"
         },
         "type": "bar",
         "x": [
          "discipline",
          "entity (event)",
          "entity (institution/organisation/brand)",
          "entity (person)",
          "entity (place)",
          "entity (product)",
          "entity (project)",
          "format/standard",
          "language",
          "method/activity",
          "multiple tags",
          "not categorizable",
          "object-type",
          "resource/tool",
          "time period",
          "topic"
         ],
         "y": [
          244,
          14,
          76,
          100,
          104,
          21,
          6,
          48,
          102,
          529,
          158,
          103,
          440,
          104,
          24,
          976
         ]
        }
       ],
       "layout": {
        "showlegend": false,
        "template": {
         "data": {
          "bar": [
           {
            "error_x": {
             "color": "#2a3f5f"
            },
            "error_y": {
             "color": "#2a3f5f"
            },
            "marker": {
             "line": {
              "color": "white",
              "width": 0.5
             },
             "pattern": {
              "fillmode": "overlay",
              "size": 10,
              "solidity": 0.2
             }
            },
            "type": "bar"
           }
          ],
          "barpolar": [
           {
            "marker": {
             "line": {
              "color": "white",
              "width": 0.5
             },
             "pattern": {
              "fillmode": "overlay",
              "size": 10,
              "solidity": 0.2
             }
            },
            "type": "barpolar"
           }
          ],
          "carpet": [
           {
            "aaxis": {
             "endlinecolor": "#2a3f5f",
             "gridcolor": "#C8D4E3",
             "linecolor": "#C8D4E3",
             "minorgridcolor": "#C8D4E3",
             "startlinecolor": "#2a3f5f"
            },
            "baxis": {
             "endlinecolor": "#2a3f5f",
             "gridcolor": "#C8D4E3",
             "linecolor": "#C8D4E3",
             "minorgridcolor": "#C8D4E3",
             "startlinecolor": "#2a3f5f"
            },
            "type": "carpet"
           }
          ],
          "choropleth": [
           {
            "colorbar": {
             "outlinewidth": 0,
             "ticks": ""
            },
            "type": "choropleth"
           }
          ],
          "contour": [
           {
            "colorbar": {
             "outlinewidth": 0,
             "ticks": ""
            },
            "colorscale": [
             [
              0,
              "#0d0887"
             ],
             [
              0.1111111111111111,
              "#46039f"
             ],
             [
              0.2222222222222222,
              "#7201a8"
             ],
             [
              0.3333333333333333,
              "#9c179e"
             ],
             [
              0.4444444444444444,
              "#bd3786"
             ],
             [
              0.5555555555555556,
              "#d8576b"
             ],
             [
              0.6666666666666666,
              "#ed7953"
             ],
             [
              0.7777777777777778,
              "#fb9f3a"
             ],
             [
              0.8888888888888888,
              "#fdca26"
             ],
             [
              1,
              "#f0f921"
             ]
            ],
            "type": "contour"
           }
          ],
          "contourcarpet": [
           {
            "colorbar": {
             "outlinewidth": 0,
             "ticks": ""
            },
            "type": "contourcarpet"
           }
          ],
          "heatmap": [
           {
            "colorbar": {
             "outlinewidth": 0,
             "ticks": ""
            },
            "colorscale": [
             [
              0,
              "#0d0887"
             ],
             [
              0.1111111111111111,
              "#46039f"
             ],
             [
              0.2222222222222222,
              "#7201a8"
             ],
             [
              0.3333333333333333,
              "#9c179e"
             ],
             [
              0.4444444444444444,
              "#bd3786"
             ],
             [
              0.5555555555555556,
              "#d8576b"
             ],
             [
              0.6666666666666666,
              "#ed7953"
             ],
             [
              0.7777777777777778,
              "#fb9f3a"
             ],
             [
              0.8888888888888888,
              "#fdca26"
             ],
             [
              1,
              "#f0f921"
             ]
            ],
            "type": "heatmap"
           }
          ],
          "heatmapgl": [
           {
            "colorbar": {
             "outlinewidth": 0,
             "ticks": ""
            },
            "colorscale": [
             [
              0,
              "#0d0887"
             ],
             [
              0.1111111111111111,
              "#46039f"
             ],
             [
              0.2222222222222222,
              "#7201a8"
             ],
             [
              0.3333333333333333,
              "#9c179e"
             ],
             [
              0.4444444444444444,
              "#bd3786"
             ],
             [
              0.5555555555555556,
              "#d8576b"
             ],
             [
              0.6666666666666666,
              "#ed7953"
             ],
             [
              0.7777777777777778,
              "#fb9f3a"
             ],
             [
              0.8888888888888888,
              "#fdca26"
             ],
             [
              1,
              "#f0f921"
             ]
            ],
            "type": "heatmapgl"
           }
          ],
          "histogram": [
           {
            "marker": {
             "pattern": {
              "fillmode": "overlay",
              "size": 10,
              "solidity": 0.2
             }
            },
            "type": "histogram"
           }
          ],
          "histogram2d": [
           {
            "colorbar": {
             "outlinewidth": 0,
             "ticks": ""
            },
            "colorscale": [
             [
              0,
              "#0d0887"
             ],
             [
              0.1111111111111111,
              "#46039f"
             ],
             [
              0.2222222222222222,
              "#7201a8"
             ],
             [
              0.3333333333333333,
              "#9c179e"
             ],
             [
              0.4444444444444444,
              "#bd3786"
             ],
             [
              0.5555555555555556,
              "#d8576b"
             ],
             [
              0.6666666666666666,
              "#ed7953"
             ],
             [
              0.7777777777777778,
              "#fb9f3a"
             ],
             [
              0.8888888888888888,
              "#fdca26"
             ],
             [
              1,
              "#f0f921"
             ]
            ],
            "type": "histogram2d"
           }
          ],
          "histogram2dcontour": [
           {
            "colorbar": {
             "outlinewidth": 0,
             "ticks": ""
            },
            "colorscale": [
             [
              0,
              "#0d0887"
             ],
             [
              0.1111111111111111,
              "#46039f"
             ],
             [
              0.2222222222222222,
              "#7201a8"
             ],
             [
              0.3333333333333333,
              "#9c179e"
             ],
             [
              0.4444444444444444,
              "#bd3786"
             ],
             [
              0.5555555555555556,
              "#d8576b"
             ],
             [
              0.6666666666666666,
              "#ed7953"
             ],
             [
              0.7777777777777778,
              "#fb9f3a"
             ],
             [
              0.8888888888888888,
              "#fdca26"
             ],
             [
              1,
              "#f0f921"
             ]
            ],
            "type": "histogram2dcontour"
           }
          ],
          "mesh3d": [
           {
            "colorbar": {
             "outlinewidth": 0,
             "ticks": ""
            },
            "type": "mesh3d"
           }
          ],
          "parcoords": [
           {
            "line": {
             "colorbar": {
              "outlinewidth": 0,
              "ticks": ""
             }
            },
            "type": "parcoords"
           }
          ],
          "pie": [
           {
            "automargin": true,
            "type": "pie"
           }
          ],
          "scatter": [
           {
            "marker": {
             "colorbar": {
              "outlinewidth": 0,
              "ticks": ""
             }
            },
            "type": "scatter"
           }
          ],
          "scatter3d": [
           {
            "line": {
             "colorbar": {
              "outlinewidth": 0,
              "ticks": ""
             }
            },
            "marker": {
             "colorbar": {
              "outlinewidth": 0,
              "ticks": ""
             }
            },
            "type": "scatter3d"
           }
          ],
          "scattercarpet": [
           {
            "marker": {
             "colorbar": {
              "outlinewidth": 0,
              "ticks": ""
             }
            },
            "type": "scattercarpet"
           }
          ],
          "scattergeo": [
           {
            "marker": {
             "colorbar": {
              "outlinewidth": 0,
              "ticks": ""
             }
            },
            "type": "scattergeo"
           }
          ],
          "scattergl": [
           {
            "marker": {
             "colorbar": {
              "outlinewidth": 0,
              "ticks": ""
             }
            },
            "type": "scattergl"
           }
          ],
          "scattermapbox": [
           {
            "marker": {
             "colorbar": {
              "outlinewidth": 0,
              "ticks": ""
             }
            },
            "type": "scattermapbox"
           }
          ],
          "scatterpolar": [
           {
            "marker": {
             "colorbar": {
              "outlinewidth": 0,
              "ticks": ""
             }
            },
            "type": "scatterpolar"
           }
          ],
          "scatterpolargl": [
           {
            "marker": {
             "colorbar": {
              "outlinewidth": 0,
              "ticks": ""
             }
            },
            "type": "scatterpolargl"
           }
          ],
          "scatterternary": [
           {
            "marker": {
             "colorbar": {
              "outlinewidth": 0,
              "ticks": ""
             }
            },
            "type": "scatterternary"
           }
          ],
          "surface": [
           {
            "colorbar": {
             "outlinewidth": 0,
             "ticks": ""
            },
            "colorscale": [
             [
              0,
              "#0d0887"
             ],
             [
              0.1111111111111111,
              "#46039f"
             ],
             [
              0.2222222222222222,
              "#7201a8"
             ],
             [
              0.3333333333333333,
              "#9c179e"
             ],
             [
              0.4444444444444444,
              "#bd3786"
             ],
             [
              0.5555555555555556,
              "#d8576b"
             ],
             [
              0.6666666666666666,
              "#ed7953"
             ],
             [
              0.7777777777777778,
              "#fb9f3a"
             ],
             [
              0.8888888888888888,
              "#fdca26"
             ],
             [
              1,
              "#f0f921"
             ]
            ],
            "type": "surface"
           }
          ],
          "table": [
           {
            "cells": {
             "fill": {
              "color": "#EBF0F8"
             },
             "line": {
              "color": "white"
             }
            },
            "header": {
             "fill": {
              "color": "#C8D4E3"
             },
             "line": {
              "color": "white"
             }
            },
            "type": "table"
           }
          ]
         },
         "layout": {
          "annotationdefaults": {
           "arrowcolor": "#2a3f5f",
           "arrowhead": 0,
           "arrowwidth": 1
          },
          "autotypenumbers": "strict",
          "coloraxis": {
           "colorbar": {
            "outlinewidth": 0,
            "ticks": ""
           }
          },
          "colorscale": {
           "diverging": [
            [
             0,
             "#8e0152"
            ],
            [
             0.1,
             "#c51b7d"
            ],
            [
             0.2,
             "#de77ae"
            ],
            [
             0.3,
             "#f1b6da"
            ],
            [
             0.4,
             "#fde0ef"
            ],
            [
             0.5,
             "#f7f7f7"
            ],
            [
             0.6,
             "#e6f5d0"
            ],
            [
             0.7,
             "#b8e186"
            ],
            [
             0.8,
             "#7fbc41"
            ],
            [
             0.9,
             "#4d9221"
            ],
            [
             1,
             "#276419"
            ]
           ],
           "sequential": [
            [
             0,
             "#0d0887"
            ],
            [
             0.1111111111111111,
             "#46039f"
            ],
            [
             0.2222222222222222,
             "#7201a8"
            ],
            [
             0.3333333333333333,
             "#9c179e"
            ],
            [
             0.4444444444444444,
             "#bd3786"
            ],
            [
             0.5555555555555556,
             "#d8576b"
            ],
            [
             0.6666666666666666,
             "#ed7953"
            ],
            [
             0.7777777777777778,
             "#fb9f3a"
            ],
            [
             0.8888888888888888,
             "#fdca26"
            ],
            [
             1,
             "#f0f921"
            ]
           ],
           "sequentialminus": [
            [
             0,
             "#0d0887"
            ],
            [
             0.1111111111111111,
             "#46039f"
            ],
            [
             0.2222222222222222,
             "#7201a8"
            ],
            [
             0.3333333333333333,
             "#9c179e"
            ],
            [
             0.4444444444444444,
             "#bd3786"
            ],
            [
             0.5555555555555556,
             "#d8576b"
            ],
            [
             0.6666666666666666,
             "#ed7953"
            ],
            [
             0.7777777777777778,
             "#fb9f3a"
            ],
            [
             0.8888888888888888,
             "#fdca26"
            ],
            [
             1,
             "#f0f921"
            ]
           ]
          },
          "colorway": [
           "#636efa",
           "#EF553B",
           "#00cc96",
           "#ab63fa",
           "#FFA15A",
           "#19d3f3",
           "#FF6692",
           "#B6E880",
           "#FF97FF",
           "#FECB52"
          ],
          "font": {
           "color": "#2a3f5f"
          },
          "geo": {
           "bgcolor": "white",
           "lakecolor": "white",
           "landcolor": "white",
           "showlakes": true,
           "showland": true,
           "subunitcolor": "#C8D4E3"
          },
          "hoverlabel": {
           "align": "left"
          },
          "hovermode": "closest",
          "mapbox": {
           "style": "light"
          },
          "paper_bgcolor": "white",
          "plot_bgcolor": "white",
          "polar": {
           "angularaxis": {
            "gridcolor": "#EBF0F8",
            "linecolor": "#EBF0F8",
            "ticks": ""
           },
           "bgcolor": "white",
           "radialaxis": {
            "gridcolor": "#EBF0F8",
            "linecolor": "#EBF0F8",
            "ticks": ""
           }
          },
          "scene": {
           "xaxis": {
            "backgroundcolor": "white",
            "gridcolor": "#DFE8F3",
            "gridwidth": 2,
            "linecolor": "#EBF0F8",
            "showbackground": true,
            "ticks": "",
            "zerolinecolor": "#EBF0F8"
           },
           "yaxis": {
            "backgroundcolor": "white",
            "gridcolor": "#DFE8F3",
            "gridwidth": 2,
            "linecolor": "#EBF0F8",
            "showbackground": true,
            "ticks": "",
            "zerolinecolor": "#EBF0F8"
           },
           "zaxis": {
            "backgroundcolor": "white",
            "gridcolor": "#DFE8F3",
            "gridwidth": 2,
            "linecolor": "#EBF0F8",
            "showbackground": true,
            "ticks": "",
            "zerolinecolor": "#EBF0F8"
           }
          },
          "shapedefaults": {
           "line": {
            "color": "#2a3f5f"
           }
          },
          "ternary": {
           "aaxis": {
            "gridcolor": "#DFE8F3",
            "linecolor": "#A2B1C6",
            "ticks": ""
           },
           "baxis": {
            "gridcolor": "#DFE8F3",
            "linecolor": "#A2B1C6",
            "ticks": ""
           },
           "bgcolor": "white",
           "caxis": {
            "gridcolor": "#DFE8F3",
            "linecolor": "#A2B1C6",
            "ticks": ""
           }
          },
          "title": {
           "x": 0.05
          },
          "xaxis": {
           "automargin": true,
           "gridcolor": "#EBF0F8",
           "linecolor": "#EBF0F8",
           "ticks": "",
           "title": {
            "standoff": 15
           },
           "zerolinecolor": "#EBF0F8",
           "zerolinewidth": 2
          },
          "yaxis": {
           "automargin": true,
           "gridcolor": "#EBF0F8",
           "linecolor": "#EBF0F8",
           "ticks": "",
           "title": {
            "standoff": 15
           },
           "zerolinecolor": "#EBF0F8",
           "zerolinewidth": 2
          }
         }
        },
        "title": {
         "text": "Categorizations by Nina"
        },
        "xaxis": {
         "title": {
          "text": "Element"
         }
        },
        "yaxis": {
         "title": {
          "text": "Count"
         }
        }
       }
      }
     },
     "metadata": {},
     "output_type": "display_data"
    }
   ],
   "source": [
    "# Flatten the frozensets and count occurrences\n",
    "counter = Counter([item for subset in df['Categories_y'] for item in subset])\n",
    "\n",
    "# Separate the keys and values for plotting\n",
    "items, counts = zip(*sorted(counter.items(), key=lambda x: x[0]))\n",
    "\n",
    "# Plot\n",
    "fig = go.Figure(data=[\n",
    "    go.Bar(x=items, y=counts, marker_color='skyblue')\n",
    "])\n",
    "\n",
    "fig.update_layout(\n",
    "    title='Categorizations by Nina',\n",
    "    xaxis_title='Element',\n",
    "    yaxis_title='Count',\n",
    "    showlegend=False,\n",
    "    template=\"plotly_white\"\n",
    ")\n",
    "\n",
    "fig.show()"
   ]
  },
  {
   "cell_type": "code",
   "execution_count": 10,
   "metadata": {},
   "outputs": [
    {
     "data": {
      "application/vnd.plotly.v1+json": {
       "config": {
        "plotlyServerURL": "https://plot.ly"
       },
       "data": [
        {
         "marker": {
          "color": "skyblue"
         },
         "type": "bar",
         "x": [
          "discipline",
          "entity (event)",
          "entity (institution/organisation/brand)",
          "entity (person)",
          "entity (place)",
          "entity (product)",
          "entity (project)",
          "format/standard",
          "language",
          "method/activity",
          "multiple tags",
          "not categorizable",
          "object-type",
          "resource/tool",
          "time period",
          "topic"
         ],
         "y": [
          190,
          7,
          55,
          124,
          90,
          9,
          14,
          25,
          19,
          291,
          153,
          127,
          244,
          40,
          21,
          525
         ]
        }
       ],
       "layout": {
        "showlegend": false,
        "template": {
         "data": {
          "bar": [
           {
            "error_x": {
             "color": "#2a3f5f"
            },
            "error_y": {
             "color": "#2a3f5f"
            },
            "marker": {
             "line": {
              "color": "white",
              "width": 0.5
             },
             "pattern": {
              "fillmode": "overlay",
              "size": 10,
              "solidity": 0.2
             }
            },
            "type": "bar"
           }
          ],
          "barpolar": [
           {
            "marker": {
             "line": {
              "color": "white",
              "width": 0.5
             },
             "pattern": {
              "fillmode": "overlay",
              "size": 10,
              "solidity": 0.2
             }
            },
            "type": "barpolar"
           }
          ],
          "carpet": [
           {
            "aaxis": {
             "endlinecolor": "#2a3f5f",
             "gridcolor": "#C8D4E3",
             "linecolor": "#C8D4E3",
             "minorgridcolor": "#C8D4E3",
             "startlinecolor": "#2a3f5f"
            },
            "baxis": {
             "endlinecolor": "#2a3f5f",
             "gridcolor": "#C8D4E3",
             "linecolor": "#C8D4E3",
             "minorgridcolor": "#C8D4E3",
             "startlinecolor": "#2a3f5f"
            },
            "type": "carpet"
           }
          ],
          "choropleth": [
           {
            "colorbar": {
             "outlinewidth": 0,
             "ticks": ""
            },
            "type": "choropleth"
           }
          ],
          "contour": [
           {
            "colorbar": {
             "outlinewidth": 0,
             "ticks": ""
            },
            "colorscale": [
             [
              0,
              "#0d0887"
             ],
             [
              0.1111111111111111,
              "#46039f"
             ],
             [
              0.2222222222222222,
              "#7201a8"
             ],
             [
              0.3333333333333333,
              "#9c179e"
             ],
             [
              0.4444444444444444,
              "#bd3786"
             ],
             [
              0.5555555555555556,
              "#d8576b"
             ],
             [
              0.6666666666666666,
              "#ed7953"
             ],
             [
              0.7777777777777778,
              "#fb9f3a"
             ],
             [
              0.8888888888888888,
              "#fdca26"
             ],
             [
              1,
              "#f0f921"
             ]
            ],
            "type": "contour"
           }
          ],
          "contourcarpet": [
           {
            "colorbar": {
             "outlinewidth": 0,
             "ticks": ""
            },
            "type": "contourcarpet"
           }
          ],
          "heatmap": [
           {
            "colorbar": {
             "outlinewidth": 0,
             "ticks": ""
            },
            "colorscale": [
             [
              0,
              "#0d0887"
             ],
             [
              0.1111111111111111,
              "#46039f"
             ],
             [
              0.2222222222222222,
              "#7201a8"
             ],
             [
              0.3333333333333333,
              "#9c179e"
             ],
             [
              0.4444444444444444,
              "#bd3786"
             ],
             [
              0.5555555555555556,
              "#d8576b"
             ],
             [
              0.6666666666666666,
              "#ed7953"
             ],
             [
              0.7777777777777778,
              "#fb9f3a"
             ],
             [
              0.8888888888888888,
              "#fdca26"
             ],
             [
              1,
              "#f0f921"
             ]
            ],
            "type": "heatmap"
           }
          ],
          "heatmapgl": [
           {
            "colorbar": {
             "outlinewidth": 0,
             "ticks": ""
            },
            "colorscale": [
             [
              0,
              "#0d0887"
             ],
             [
              0.1111111111111111,
              "#46039f"
             ],
             [
              0.2222222222222222,
              "#7201a8"
             ],
             [
              0.3333333333333333,
              "#9c179e"
             ],
             [
              0.4444444444444444,
              "#bd3786"
             ],
             [
              0.5555555555555556,
              "#d8576b"
             ],
             [
              0.6666666666666666,
              "#ed7953"
             ],
             [
              0.7777777777777778,
              "#fb9f3a"
             ],
             [
              0.8888888888888888,
              "#fdca26"
             ],
             [
              1,
              "#f0f921"
             ]
            ],
            "type": "heatmapgl"
           }
          ],
          "histogram": [
           {
            "marker": {
             "pattern": {
              "fillmode": "overlay",
              "size": 10,
              "solidity": 0.2
             }
            },
            "type": "histogram"
           }
          ],
          "histogram2d": [
           {
            "colorbar": {
             "outlinewidth": 0,
             "ticks": ""
            },
            "colorscale": [
             [
              0,
              "#0d0887"
             ],
             [
              0.1111111111111111,
              "#46039f"
             ],
             [
              0.2222222222222222,
              "#7201a8"
             ],
             [
              0.3333333333333333,
              "#9c179e"
             ],
             [
              0.4444444444444444,
              "#bd3786"
             ],
             [
              0.5555555555555556,
              "#d8576b"
             ],
             [
              0.6666666666666666,
              "#ed7953"
             ],
             [
              0.7777777777777778,
              "#fb9f3a"
             ],
             [
              0.8888888888888888,
              "#fdca26"
             ],
             [
              1,
              "#f0f921"
             ]
            ],
            "type": "histogram2d"
           }
          ],
          "histogram2dcontour": [
           {
            "colorbar": {
             "outlinewidth": 0,
             "ticks": ""
            },
            "colorscale": [
             [
              0,
              "#0d0887"
             ],
             [
              0.1111111111111111,
              "#46039f"
             ],
             [
              0.2222222222222222,
              "#7201a8"
             ],
             [
              0.3333333333333333,
              "#9c179e"
             ],
             [
              0.4444444444444444,
              "#bd3786"
             ],
             [
              0.5555555555555556,
              "#d8576b"
             ],
             [
              0.6666666666666666,
              "#ed7953"
             ],
             [
              0.7777777777777778,
              "#fb9f3a"
             ],
             [
              0.8888888888888888,
              "#fdca26"
             ],
             [
              1,
              "#f0f921"
             ]
            ],
            "type": "histogram2dcontour"
           }
          ],
          "mesh3d": [
           {
            "colorbar": {
             "outlinewidth": 0,
             "ticks": ""
            },
            "type": "mesh3d"
           }
          ],
          "parcoords": [
           {
            "line": {
             "colorbar": {
              "outlinewidth": 0,
              "ticks": ""
             }
            },
            "type": "parcoords"
           }
          ],
          "pie": [
           {
            "automargin": true,
            "type": "pie"
           }
          ],
          "scatter": [
           {
            "marker": {
             "colorbar": {
              "outlinewidth": 0,
              "ticks": ""
             }
            },
            "type": "scatter"
           }
          ],
          "scatter3d": [
           {
            "line": {
             "colorbar": {
              "outlinewidth": 0,
              "ticks": ""
             }
            },
            "marker": {
             "colorbar": {
              "outlinewidth": 0,
              "ticks": ""
             }
            },
            "type": "scatter3d"
           }
          ],
          "scattercarpet": [
           {
            "marker": {
             "colorbar": {
              "outlinewidth": 0,
              "ticks": ""
             }
            },
            "type": "scattercarpet"
           }
          ],
          "scattergeo": [
           {
            "marker": {
             "colorbar": {
              "outlinewidth": 0,
              "ticks": ""
             }
            },
            "type": "scattergeo"
           }
          ],
          "scattergl": [
           {
            "marker": {
             "colorbar": {
              "outlinewidth": 0,
              "ticks": ""
             }
            },
            "type": "scattergl"
           }
          ],
          "scattermapbox": [
           {
            "marker": {
             "colorbar": {
              "outlinewidth": 0,
              "ticks": ""
             }
            },
            "type": "scattermapbox"
           }
          ],
          "scatterpolar": [
           {
            "marker": {
             "colorbar": {
              "outlinewidth": 0,
              "ticks": ""
             }
            },
            "type": "scatterpolar"
           }
          ],
          "scatterpolargl": [
           {
            "marker": {
             "colorbar": {
              "outlinewidth": 0,
              "ticks": ""
             }
            },
            "type": "scatterpolargl"
           }
          ],
          "scatterternary": [
           {
            "marker": {
             "colorbar": {
              "outlinewidth": 0,
              "ticks": ""
             }
            },
            "type": "scatterternary"
           }
          ],
          "surface": [
           {
            "colorbar": {
             "outlinewidth": 0,
             "ticks": ""
            },
            "colorscale": [
             [
              0,
              "#0d0887"
             ],
             [
              0.1111111111111111,
              "#46039f"
             ],
             [
              0.2222222222222222,
              "#7201a8"
             ],
             [
              0.3333333333333333,
              "#9c179e"
             ],
             [
              0.4444444444444444,
              "#bd3786"
             ],
             [
              0.5555555555555556,
              "#d8576b"
             ],
             [
              0.6666666666666666,
              "#ed7953"
             ],
             [
              0.7777777777777778,
              "#fb9f3a"
             ],
             [
              0.8888888888888888,
              "#fdca26"
             ],
             [
              1,
              "#f0f921"
             ]
            ],
            "type": "surface"
           }
          ],
          "table": [
           {
            "cells": {
             "fill": {
              "color": "#EBF0F8"
             },
             "line": {
              "color": "white"
             }
            },
            "header": {
             "fill": {
              "color": "#C8D4E3"
             },
             "line": {
              "color": "white"
             }
            },
            "type": "table"
           }
          ]
         },
         "layout": {
          "annotationdefaults": {
           "arrowcolor": "#2a3f5f",
           "arrowhead": 0,
           "arrowwidth": 1
          },
          "autotypenumbers": "strict",
          "coloraxis": {
           "colorbar": {
            "outlinewidth": 0,
            "ticks": ""
           }
          },
          "colorscale": {
           "diverging": [
            [
             0,
             "#8e0152"
            ],
            [
             0.1,
             "#c51b7d"
            ],
            [
             0.2,
             "#de77ae"
            ],
            [
             0.3,
             "#f1b6da"
            ],
            [
             0.4,
             "#fde0ef"
            ],
            [
             0.5,
             "#f7f7f7"
            ],
            [
             0.6,
             "#e6f5d0"
            ],
            [
             0.7,
             "#b8e186"
            ],
            [
             0.8,
             "#7fbc41"
            ],
            [
             0.9,
             "#4d9221"
            ],
            [
             1,
             "#276419"
            ]
           ],
           "sequential": [
            [
             0,
             "#0d0887"
            ],
            [
             0.1111111111111111,
             "#46039f"
            ],
            [
             0.2222222222222222,
             "#7201a8"
            ],
            [
             0.3333333333333333,
             "#9c179e"
            ],
            [
             0.4444444444444444,
             "#bd3786"
            ],
            [
             0.5555555555555556,
             "#d8576b"
            ],
            [
             0.6666666666666666,
             "#ed7953"
            ],
            [
             0.7777777777777778,
             "#fb9f3a"
            ],
            [
             0.8888888888888888,
             "#fdca26"
            ],
            [
             1,
             "#f0f921"
            ]
           ],
           "sequentialminus": [
            [
             0,
             "#0d0887"
            ],
            [
             0.1111111111111111,
             "#46039f"
            ],
            [
             0.2222222222222222,
             "#7201a8"
            ],
            [
             0.3333333333333333,
             "#9c179e"
            ],
            [
             0.4444444444444444,
             "#bd3786"
            ],
            [
             0.5555555555555556,
             "#d8576b"
            ],
            [
             0.6666666666666666,
             "#ed7953"
            ],
            [
             0.7777777777777778,
             "#fb9f3a"
            ],
            [
             0.8888888888888888,
             "#fdca26"
            ],
            [
             1,
             "#f0f921"
            ]
           ]
          },
          "colorway": [
           "#636efa",
           "#EF553B",
           "#00cc96",
           "#ab63fa",
           "#FFA15A",
           "#19d3f3",
           "#FF6692",
           "#B6E880",
           "#FF97FF",
           "#FECB52"
          ],
          "font": {
           "color": "#2a3f5f"
          },
          "geo": {
           "bgcolor": "white",
           "lakecolor": "white",
           "landcolor": "white",
           "showlakes": true,
           "showland": true,
           "subunitcolor": "#C8D4E3"
          },
          "hoverlabel": {
           "align": "left"
          },
          "hovermode": "closest",
          "mapbox": {
           "style": "light"
          },
          "paper_bgcolor": "white",
          "plot_bgcolor": "white",
          "polar": {
           "angularaxis": {
            "gridcolor": "#EBF0F8",
            "linecolor": "#EBF0F8",
            "ticks": ""
           },
           "bgcolor": "white",
           "radialaxis": {
            "gridcolor": "#EBF0F8",
            "linecolor": "#EBF0F8",
            "ticks": ""
           }
          },
          "scene": {
           "xaxis": {
            "backgroundcolor": "white",
            "gridcolor": "#DFE8F3",
            "gridwidth": 2,
            "linecolor": "#EBF0F8",
            "showbackground": true,
            "ticks": "",
            "zerolinecolor": "#EBF0F8"
           },
           "yaxis": {
            "backgroundcolor": "white",
            "gridcolor": "#DFE8F3",
            "gridwidth": 2,
            "linecolor": "#EBF0F8",
            "showbackground": true,
            "ticks": "",
            "zerolinecolor": "#EBF0F8"
           },
           "zaxis": {
            "backgroundcolor": "white",
            "gridcolor": "#DFE8F3",
            "gridwidth": 2,
            "linecolor": "#EBF0F8",
            "showbackground": true,
            "ticks": "",
            "zerolinecolor": "#EBF0F8"
           }
          },
          "shapedefaults": {
           "line": {
            "color": "#2a3f5f"
           }
          },
          "ternary": {
           "aaxis": {
            "gridcolor": "#DFE8F3",
            "linecolor": "#A2B1C6",
            "ticks": ""
           },
           "baxis": {
            "gridcolor": "#DFE8F3",
            "linecolor": "#A2B1C6",
            "ticks": ""
           },
           "bgcolor": "white",
           "caxis": {
            "gridcolor": "#DFE8F3",
            "linecolor": "#A2B1C6",
            "ticks": ""
           }
          },
          "title": {
           "x": 0.05
          },
          "xaxis": {
           "automargin": true,
           "gridcolor": "#EBF0F8",
           "linecolor": "#EBF0F8",
           "ticks": "",
           "title": {
            "standoff": 15
           },
           "zerolinecolor": "#EBF0F8",
           "zerolinewidth": 2
          },
          "yaxis": {
           "automargin": true,
           "gridcolor": "#EBF0F8",
           "linecolor": "#EBF0F8",
           "ticks": "",
           "title": {
            "standoff": 15
           },
           "zerolinecolor": "#EBF0F8",
           "zerolinewidth": 2
          }
         }
        },
        "title": {
         "text": "Categorizations by Martin"
        },
        "xaxis": {
         "title": {
          "text": "Element"
         }
        },
        "yaxis": {
         "title": {
          "text": "Count"
         }
        }
       }
      }
     },
     "metadata": {},
     "output_type": "display_data"
    }
   ],
   "source": [
    "# Flatten the frozensets and count occurrences - DHA-Zotero only\n",
    "counter = Counter([item for subset in df_dha['Categories_x'] for item in subset])\n",
    "\n",
    "# Separate the keys and values for plotting\n",
    "items, counts = zip(*sorted(counter.items(), key=lambda x: x[0]))\n",
    "\n",
    "# Plot\n",
    "fig = go.Figure(data=[\n",
    "    go.Bar(x=items, y=counts, marker_color='skyblue')\n",
    "])\n",
    "\n",
    "fig.update_layout(\n",
    "    title='Categorizations by Martin',\n",
    "    xaxis_title='Element',\n",
    "    yaxis_title='Count',\n",
    "    showlegend=False,\n",
    "    template=\"plotly_white\"\n",
    ")\n",
    "\n",
    "fig.show()"
   ]
  },
  {
   "cell_type": "code",
   "execution_count": 9,
   "metadata": {},
   "outputs": [
    {
     "data": {
      "application/vnd.plotly.v1+json": {
       "config": {
        "plotlyServerURL": "https://plot.ly"
       },
       "data": [
        {
         "marker": {
          "color": "skyblue"
         },
         "type": "bar",
         "x": [
          "discipline",
          "entity (event)",
          "entity (institution/organisation/brand)",
          "entity (person)",
          "entity (place)",
          "entity (product)",
          "entity (project)",
          "format/standard",
          "language",
          "method/activity",
          "multiple tags",
          "not categorizable",
          "object-type",
          "resource/tool",
          "time period",
          "topic"
         ],
         "y": [
          118,
          7,
          48,
          89,
          54,
          17,
          3,
          18,
          6,
          273,
          137,
          71,
          183,
          44,
          9,
          583
         ]
        }
       ],
       "layout": {
        "showlegend": false,
        "template": {
         "data": {
          "bar": [
           {
            "error_x": {
             "color": "#2a3f5f"
            },
            "error_y": {
             "color": "#2a3f5f"
            },
            "marker": {
             "line": {
              "color": "white",
              "width": 0.5
             },
             "pattern": {
              "fillmode": "overlay",
              "size": 10,
              "solidity": 0.2
             }
            },
            "type": "bar"
           }
          ],
          "barpolar": [
           {
            "marker": {
             "line": {
              "color": "white",
              "width": 0.5
             },
             "pattern": {
              "fillmode": "overlay",
              "size": 10,
              "solidity": 0.2
             }
            },
            "type": "barpolar"
           }
          ],
          "carpet": [
           {
            "aaxis": {
             "endlinecolor": "#2a3f5f",
             "gridcolor": "#C8D4E3",
             "linecolor": "#C8D4E3",
             "minorgridcolor": "#C8D4E3",
             "startlinecolor": "#2a3f5f"
            },
            "baxis": {
             "endlinecolor": "#2a3f5f",
             "gridcolor": "#C8D4E3",
             "linecolor": "#C8D4E3",
             "minorgridcolor": "#C8D4E3",
             "startlinecolor": "#2a3f5f"
            },
            "type": "carpet"
           }
          ],
          "choropleth": [
           {
            "colorbar": {
             "outlinewidth": 0,
             "ticks": ""
            },
            "type": "choropleth"
           }
          ],
          "contour": [
           {
            "colorbar": {
             "outlinewidth": 0,
             "ticks": ""
            },
            "colorscale": [
             [
              0,
              "#0d0887"
             ],
             [
              0.1111111111111111,
              "#46039f"
             ],
             [
              0.2222222222222222,
              "#7201a8"
             ],
             [
              0.3333333333333333,
              "#9c179e"
             ],
             [
              0.4444444444444444,
              "#bd3786"
             ],
             [
              0.5555555555555556,
              "#d8576b"
             ],
             [
              0.6666666666666666,
              "#ed7953"
             ],
             [
              0.7777777777777778,
              "#fb9f3a"
             ],
             [
              0.8888888888888888,
              "#fdca26"
             ],
             [
              1,
              "#f0f921"
             ]
            ],
            "type": "contour"
           }
          ],
          "contourcarpet": [
           {
            "colorbar": {
             "outlinewidth": 0,
             "ticks": ""
            },
            "type": "contourcarpet"
           }
          ],
          "heatmap": [
           {
            "colorbar": {
             "outlinewidth": 0,
             "ticks": ""
            },
            "colorscale": [
             [
              0,
              "#0d0887"
             ],
             [
              0.1111111111111111,
              "#46039f"
             ],
             [
              0.2222222222222222,
              "#7201a8"
             ],
             [
              0.3333333333333333,
              "#9c179e"
             ],
             [
              0.4444444444444444,
              "#bd3786"
             ],
             [
              0.5555555555555556,
              "#d8576b"
             ],
             [
              0.6666666666666666,
              "#ed7953"
             ],
             [
              0.7777777777777778,
              "#fb9f3a"
             ],
             [
              0.8888888888888888,
              "#fdca26"
             ],
             [
              1,
              "#f0f921"
             ]
            ],
            "type": "heatmap"
           }
          ],
          "heatmapgl": [
           {
            "colorbar": {
             "outlinewidth": 0,
             "ticks": ""
            },
            "colorscale": [
             [
              0,
              "#0d0887"
             ],
             [
              0.1111111111111111,
              "#46039f"
             ],
             [
              0.2222222222222222,
              "#7201a8"
             ],
             [
              0.3333333333333333,
              "#9c179e"
             ],
             [
              0.4444444444444444,
              "#bd3786"
             ],
             [
              0.5555555555555556,
              "#d8576b"
             ],
             [
              0.6666666666666666,
              "#ed7953"
             ],
             [
              0.7777777777777778,
              "#fb9f3a"
             ],
             [
              0.8888888888888888,
              "#fdca26"
             ],
             [
              1,
              "#f0f921"
             ]
            ],
            "type": "heatmapgl"
           }
          ],
          "histogram": [
           {
            "marker": {
             "pattern": {
              "fillmode": "overlay",
              "size": 10,
              "solidity": 0.2
             }
            },
            "type": "histogram"
           }
          ],
          "histogram2d": [
           {
            "colorbar": {
             "outlinewidth": 0,
             "ticks": ""
            },
            "colorscale": [
             [
              0,
              "#0d0887"
             ],
             [
              0.1111111111111111,
              "#46039f"
             ],
             [
              0.2222222222222222,
              "#7201a8"
             ],
             [
              0.3333333333333333,
              "#9c179e"
             ],
             [
              0.4444444444444444,
              "#bd3786"
             ],
             [
              0.5555555555555556,
              "#d8576b"
             ],
             [
              0.6666666666666666,
              "#ed7953"
             ],
             [
              0.7777777777777778,
              "#fb9f3a"
             ],
             [
              0.8888888888888888,
              "#fdca26"
             ],
             [
              1,
              "#f0f921"
             ]
            ],
            "type": "histogram2d"
           }
          ],
          "histogram2dcontour": [
           {
            "colorbar": {
             "outlinewidth": 0,
             "ticks": ""
            },
            "colorscale": [
             [
              0,
              "#0d0887"
             ],
             [
              0.1111111111111111,
              "#46039f"
             ],
             [
              0.2222222222222222,
              "#7201a8"
             ],
             [
              0.3333333333333333,
              "#9c179e"
             ],
             [
              0.4444444444444444,
              "#bd3786"
             ],
             [
              0.5555555555555556,
              "#d8576b"
             ],
             [
              0.6666666666666666,
              "#ed7953"
             ],
             [
              0.7777777777777778,
              "#fb9f3a"
             ],
             [
              0.8888888888888888,
              "#fdca26"
             ],
             [
              1,
              "#f0f921"
             ]
            ],
            "type": "histogram2dcontour"
           }
          ],
          "mesh3d": [
           {
            "colorbar": {
             "outlinewidth": 0,
             "ticks": ""
            },
            "type": "mesh3d"
           }
          ],
          "parcoords": [
           {
            "line": {
             "colorbar": {
              "outlinewidth": 0,
              "ticks": ""
             }
            },
            "type": "parcoords"
           }
          ],
          "pie": [
           {
            "automargin": true,
            "type": "pie"
           }
          ],
          "scatter": [
           {
            "marker": {
             "colorbar": {
              "outlinewidth": 0,
              "ticks": ""
             }
            },
            "type": "scatter"
           }
          ],
          "scatter3d": [
           {
            "line": {
             "colorbar": {
              "outlinewidth": 0,
              "ticks": ""
             }
            },
            "marker": {
             "colorbar": {
              "outlinewidth": 0,
              "ticks": ""
             }
            },
            "type": "scatter3d"
           }
          ],
          "scattercarpet": [
           {
            "marker": {
             "colorbar": {
              "outlinewidth": 0,
              "ticks": ""
             }
            },
            "type": "scattercarpet"
           }
          ],
          "scattergeo": [
           {
            "marker": {
             "colorbar": {
              "outlinewidth": 0,
              "ticks": ""
             }
            },
            "type": "scattergeo"
           }
          ],
          "scattergl": [
           {
            "marker": {
             "colorbar": {
              "outlinewidth": 0,
              "ticks": ""
             }
            },
            "type": "scattergl"
           }
          ],
          "scattermapbox": [
           {
            "marker": {
             "colorbar": {
              "outlinewidth": 0,
              "ticks": ""
             }
            },
            "type": "scattermapbox"
           }
          ],
          "scatterpolar": [
           {
            "marker": {
             "colorbar": {
              "outlinewidth": 0,
              "ticks": ""
             }
            },
            "type": "scatterpolar"
           }
          ],
          "scatterpolargl": [
           {
            "marker": {
             "colorbar": {
              "outlinewidth": 0,
              "ticks": ""
             }
            },
            "type": "scatterpolargl"
           }
          ],
          "scatterternary": [
           {
            "marker": {
             "colorbar": {
              "outlinewidth": 0,
              "ticks": ""
             }
            },
            "type": "scatterternary"
           }
          ],
          "surface": [
           {
            "colorbar": {
             "outlinewidth": 0,
             "ticks": ""
            },
            "colorscale": [
             [
              0,
              "#0d0887"
             ],
             [
              0.1111111111111111,
              "#46039f"
             ],
             [
              0.2222222222222222,
              "#7201a8"
             ],
             [
              0.3333333333333333,
              "#9c179e"
             ],
             [
              0.4444444444444444,
              "#bd3786"
             ],
             [
              0.5555555555555556,
              "#d8576b"
             ],
             [
              0.6666666666666666,
              "#ed7953"
             ],
             [
              0.7777777777777778,
              "#fb9f3a"
             ],
             [
              0.8888888888888888,
              "#fdca26"
             ],
             [
              1,
              "#f0f921"
             ]
            ],
            "type": "surface"
           }
          ],
          "table": [
           {
            "cells": {
             "fill": {
              "color": "#EBF0F8"
             },
             "line": {
              "color": "white"
             }
            },
            "header": {
             "fill": {
              "color": "#C8D4E3"
             },
             "line": {
              "color": "white"
             }
            },
            "type": "table"
           }
          ]
         },
         "layout": {
          "annotationdefaults": {
           "arrowcolor": "#2a3f5f",
           "arrowhead": 0,
           "arrowwidth": 1
          },
          "autotypenumbers": "strict",
          "coloraxis": {
           "colorbar": {
            "outlinewidth": 0,
            "ticks": ""
           }
          },
          "colorscale": {
           "diverging": [
            [
             0,
             "#8e0152"
            ],
            [
             0.1,
             "#c51b7d"
            ],
            [
             0.2,
             "#de77ae"
            ],
            [
             0.3,
             "#f1b6da"
            ],
            [
             0.4,
             "#fde0ef"
            ],
            [
             0.5,
             "#f7f7f7"
            ],
            [
             0.6,
             "#e6f5d0"
            ],
            [
             0.7,
             "#b8e186"
            ],
            [
             0.8,
             "#7fbc41"
            ],
            [
             0.9,
             "#4d9221"
            ],
            [
             1,
             "#276419"
            ]
           ],
           "sequential": [
            [
             0,
             "#0d0887"
            ],
            [
             0.1111111111111111,
             "#46039f"
            ],
            [
             0.2222222222222222,
             "#7201a8"
            ],
            [
             0.3333333333333333,
             "#9c179e"
            ],
            [
             0.4444444444444444,
             "#bd3786"
            ],
            [
             0.5555555555555556,
             "#d8576b"
            ],
            [
             0.6666666666666666,
             "#ed7953"
            ],
            [
             0.7777777777777778,
             "#fb9f3a"
            ],
            [
             0.8888888888888888,
             "#fdca26"
            ],
            [
             1,
             "#f0f921"
            ]
           ],
           "sequentialminus": [
            [
             0,
             "#0d0887"
            ],
            [
             0.1111111111111111,
             "#46039f"
            ],
            [
             0.2222222222222222,
             "#7201a8"
            ],
            [
             0.3333333333333333,
             "#9c179e"
            ],
            [
             0.4444444444444444,
             "#bd3786"
            ],
            [
             0.5555555555555556,
             "#d8576b"
            ],
            [
             0.6666666666666666,
             "#ed7953"
            ],
            [
             0.7777777777777778,
             "#fb9f3a"
            ],
            [
             0.8888888888888888,
             "#fdca26"
            ],
            [
             1,
             "#f0f921"
            ]
           ]
          },
          "colorway": [
           "#636efa",
           "#EF553B",
           "#00cc96",
           "#ab63fa",
           "#FFA15A",
           "#19d3f3",
           "#FF6692",
           "#B6E880",
           "#FF97FF",
           "#FECB52"
          ],
          "font": {
           "color": "#2a3f5f"
          },
          "geo": {
           "bgcolor": "white",
           "lakecolor": "white",
           "landcolor": "white",
           "showlakes": true,
           "showland": true,
           "subunitcolor": "#C8D4E3"
          },
          "hoverlabel": {
           "align": "left"
          },
          "hovermode": "closest",
          "mapbox": {
           "style": "light"
          },
          "paper_bgcolor": "white",
          "plot_bgcolor": "white",
          "polar": {
           "angularaxis": {
            "gridcolor": "#EBF0F8",
            "linecolor": "#EBF0F8",
            "ticks": ""
           },
           "bgcolor": "white",
           "radialaxis": {
            "gridcolor": "#EBF0F8",
            "linecolor": "#EBF0F8",
            "ticks": ""
           }
          },
          "scene": {
           "xaxis": {
            "backgroundcolor": "white",
            "gridcolor": "#DFE8F3",
            "gridwidth": 2,
            "linecolor": "#EBF0F8",
            "showbackground": true,
            "ticks": "",
            "zerolinecolor": "#EBF0F8"
           },
           "yaxis": {
            "backgroundcolor": "white",
            "gridcolor": "#DFE8F3",
            "gridwidth": 2,
            "linecolor": "#EBF0F8",
            "showbackground": true,
            "ticks": "",
            "zerolinecolor": "#EBF0F8"
           },
           "zaxis": {
            "backgroundcolor": "white",
            "gridcolor": "#DFE8F3",
            "gridwidth": 2,
            "linecolor": "#EBF0F8",
            "showbackground": true,
            "ticks": "",
            "zerolinecolor": "#EBF0F8"
           }
          },
          "shapedefaults": {
           "line": {
            "color": "#2a3f5f"
           }
          },
          "ternary": {
           "aaxis": {
            "gridcolor": "#DFE8F3",
            "linecolor": "#A2B1C6",
            "ticks": ""
           },
           "baxis": {
            "gridcolor": "#DFE8F3",
            "linecolor": "#A2B1C6",
            "ticks": ""
           },
           "bgcolor": "white",
           "caxis": {
            "gridcolor": "#DFE8F3",
            "linecolor": "#A2B1C6",
            "ticks": ""
           }
          },
          "title": {
           "x": 0.05
          },
          "xaxis": {
           "automargin": true,
           "gridcolor": "#EBF0F8",
           "linecolor": "#EBF0F8",
           "ticks": "",
           "title": {
            "standoff": 15
           },
           "zerolinecolor": "#EBF0F8",
           "zerolinewidth": 2
          },
          "yaxis": {
           "automargin": true,
           "gridcolor": "#EBF0F8",
           "linecolor": "#EBF0F8",
           "ticks": "",
           "title": {
            "standoff": 15
           },
           "zerolinecolor": "#EBF0F8",
           "zerolinewidth": 2
          }
         }
        },
        "title": {
         "text": "Categorizations by Nina"
        },
        "xaxis": {
         "title": {
          "text": "Element"
         }
        },
        "yaxis": {
         "title": {
          "text": "Count"
         }
        }
       }
      }
     },
     "metadata": {},
     "output_type": "display_data"
    }
   ],
   "source": [
    "# Flatten the frozensets and count occurrences - DHA-Zotero only\n",
    "counter = Counter([item for subset in df_dha['Categories_y'] for item in subset])\n",
    "\n",
    "# Separate the keys and values for plotting\n",
    "items, counts = zip(*sorted(counter.items(), key=lambda x: x[0]))\n",
    "\n",
    "# Plot\n",
    "fig = go.Figure(data=[\n",
    "    go.Bar(x=items, y=counts, marker_color='skyblue')\n",
    "])\n",
    "\n",
    "fig.update_layout(\n",
    "    title='Categorizations by Nina',\n",
    "    xaxis_title='Element',\n",
    "    yaxis_title='Count',\n",
    "    showlegend=False,\n",
    "    template=\"plotly_white\"\n",
    ")\n",
    "\n",
    "fig.show()"
   ]
  },
  {
   "cell_type": "markdown",
   "metadata": {},
   "source": [
    "### Calculating Cohen's Kappa Coefficient"
   ]
  },
  {
   "cell_type": "markdown",
   "metadata": {},
   "source": [
    "**Cohen's Kappa coefficient**\n",
    "\n",
    "Notes on interpretation:\n",
    "- 1 = perfect agreement\n",
    "- 0.6-0.8 = good agreement\n",
    "- 0.4-0.6 = moderate agreement\n",
    "- 0.2-0.4 = fair agreement\n",
    "- 0-0.2 = slight agreement\n",
    "- 0 = what would be expected by chance, i.e. no actual agreement\n",
    "- < 0 = worse than what would be expected by chance\n",
    "\n",
    "Notes on advantages and limitations:\n",
    "- accounts for change agreement, thus more robust\n",
    "- for categorical data\n",
    "- assumes that categories are mutually exclusive and exhaustive"
   ]
  },
  {
   "cell_type": "code",
   "execution_count": 12,
   "metadata": {},
   "outputs": [
    {
     "name": "stdout",
     "output_type": "stream",
     "text": [
      "0.549439508014615\n"
     ]
    }
   ],
   "source": [
    "df['Categories_rater1_str'] = df['Categories_x'].astype(str)\n",
    "df['Categories_rater2_str'] = df['Categories_y'].astype(str)\n",
    "kappa = cohen_kappa_score(df['Categories_rater1_str'], df['Categories_rater2_str'])\n",
    "print(kappa)"
   ]
  },
  {
   "cell_type": "markdown",
   "metadata": {},
   "source": [
    "### Counting matches and mismatches (Category1 etc. are considered as single data points, i.e. one keyword can lead to one to three (mis)matches)"
   ]
  },
  {
   "cell_type": "code",
   "execution_count": 13,
   "metadata": {},
   "outputs": [
    {
     "name": "stdout",
     "output_type": "stream",
     "text": [
      "Matches: 2183 (62%)\n",
      "Mismatches: 1333 (38%)\n"
     ]
    }
   ],
   "source": [
    "count_mismatch = 0\n",
    "count_match = 0\n",
    "\n",
    "for x in df.index:\n",
    "\n",
    "    #hier finden sich die Ratings als frozensets (= Reihenfolge spielt keine Rolle)\n",
    "    rating1 = df.loc[x, \"Categories_x\"]\n",
    "    rating2 = df.loc[x, \"Categories_y\"]\n",
    "\n",
    "    #Person, die mehr Tags vergeben hat, wird jeweils als Ausgangspunkt genommen\n",
    "    if len(rating1) >= len(rating2):\n",
    "        start_rating = rating1\n",
    "        compare_rating = rating2\n",
    "    else:\n",
    "        start_rating = rating2\n",
    "        compare_rating = rating1\n",
    "\n",
    "    #Count für diese Zeile auf 0 setzen\n",
    "    count_match_row = 0\n",
    "    count_mismatch_row = 0\n",
    "\n",
    "    #zählen der Matches und Mismatches\n",
    "    for entry in start_rating:\n",
    "        if entry in compare_rating:\n",
    "            count_match_row = count_match_row + 1\n",
    "        else:\n",
    "            count_mismatch_row = count_mismatch_row + 1\n",
    "    \n",
    "    #in eigener Spalte speichern\n",
    "    df.loc[x, \"Matches\"] = count_match_row\n",
    "    df.loc[x, \"Mismatches\"] = count_mismatch_row\n",
    "\n",
    "    #zum Gesamtcount hinzufügen\n",
    "    count_match = count_match + count_match_row\n",
    "    count_mismatch = count_mismatch + count_mismatch_row\n",
    "\n",
    "print(\"Matches: \" + str(count_match) + \" (\" + str(round((count_match * 100)/(count_match + count_mismatch))) + \"%)\")\n",
    "print(\"Mismatches: \" + str(count_mismatch) + \" (\" + str(round((count_mismatch * 100)/(count_match + count_mismatch))) + \"%)\")\n"
   ]
  },
  {
   "cell_type": "markdown",
   "metadata": {},
   "source": [
    "### Taking a closer look at the mismatches"
   ]
  },
  {
   "cell_type": "code",
   "execution_count": 14,
   "metadata": {},
   "outputs": [
    {
     "name": "stdout",
     "output_type": "stream",
     "text": [
      "visual culture ['discipline'] ['topic']\n",
      "writings on music ['object-type'] ['topic']\n",
      "english as a lingua franca ['language'] ['topic']\n",
      "spelling ['method/activity'] ['topic']\n",
      "theater ['topic', 'object-type', 'entity (place)'] ['topic']\n",
      "antiquity ['object-type', 'time period'] ['topic', 'time period']\n",
      "burials ['object-type', 'entity (event)'] ['topic']\n",
      "code mixing ['method/activity'] ['topic']\n",
      "indigenous culture ['topic', 'discipline'] ['topic']\n",
      "pandemic ['topic', 'entity (event)'] ['topic']\n",
      "seals ['not categorizable'] ['object-type']\n",
      "18th century literature ['topic', 'time period'] ['object-type']\n",
      "19th century literature ['topic', 'time period'] ['object-type']\n",
      "absorption ['method/activity'] ['topic']\n",
      "african languages ['topic', 'language'] ['topic']\n",
      "airbnb ['resource/tool'] ['entity (institution/organisation/brand)', 'resource/tool']\n",
      "ancient rome ['entity (place)', 'time period'] ['topic']\n",
      "ancient world ['entity (place)', 'time period'] ['topic']\n",
      "anglo saxons ['entity (person)'] ['topic']\n",
      "autocorrection ['method/activity'] ['topic']\n",
      "boundaries ['not categorizable'] ['topic']\n",
      "church ['topic', 'entity (place)'] ['topic']\n",
      "code switching ['method/activity'] ['topic']\n",
      "economic ['discipline'] ['topic']\n",
      "emigrants ['topic', 'entity (person)'] ['topic']\n",
      "ethnic minorities ['topic', 'entity (person)'] ['topic']\n",
      "game of thrones ['resource/tool'] ['entity (product)']\n",
      "gameboiy advance ['object-type'] ['entity (product)']\n",
      "gameboy ['object-type'] ['entity (product)']\n",
      "higgs boson ['object-type'] ['topic']\n",
      "hotels ['object-type'] ['topic']\n",
      "immigrants ['topic', 'entity (person)'] ['topic']\n",
      "interlingua ['language'] ['topic']\n",
      "internet trolls ['entity (person)'] ['topic']\n",
      "jeopardy ['not categorizable'] ['entity (product)']\n",
      "pidgins ['language'] ['topic']\n",
      "place names ['topic', 'entity (place)'] ['topic']\n",
      "prison ['topic', 'object-type', 'entity (place)'] ['topic']\n",
      "roman empire ['time period', 'entity (place)'] ['topic']\n",
      "scholarly communication ['discipline'] ['topic']\n",
      "sega genesis ['object-type'] ['topic']\n",
      "snes ['object-type'] ['topic']\n",
      "social policy ['discipline'] ['topic']\n",
      "song of ice and fire ['not categorizable'] ['topic']\n",
      "spelling correction ['method/activity'] ['topic']\n",
      "spelling variation ['method/activity'] ['topic']\n",
      "spotify ['resource/tool'] ['topic']\n",
      "syllables ['topic', 'language'] ['topic']\n",
      "thermal effects ['topic', 'object-type'] ['topic']\n",
      "turkmen ['entity (person)', 'language'] ['topic']\n",
      "typos ['topic', 'object-type'] ['topic']\n",
      "uav ['object-type'] ['topic']\n",
      "vai script ['language'] ['topic']\n",
      "volcanic rock ['object-type'] ['topic']\n",
      "voting ['topic', 'method/activity'] ['topic']\n",
      "walloon ['entity (person)', 'language'] ['topic']\n",
      "text messaging ['topic', 'method/activity'] ['topic']\n",
      "agenda ['object-type'] ['topic']\n",
      "agriculture ['topic', 'discipline'] ['topic']\n",
      "aims news ['not categorizable'] ['topic']\n",
      "ausgedruckt ['not categorizable'] ['topic']\n",
      "cognates ['entity (person)'] ['topic']\n",
      "journalism ['topic', 'discipline'] ['topic']\n",
      "whole earth catalogue ['object-type'] ['topic']\n",
      "for interns ['entity (person)'] ['not categorizable']\n",
      "book history data ['object-type'] ['not categorizable']\n",
      "american social history project ['entity (project)'] ['not categorizable']\n",
      "flickr ['resource/tool'] ['entity (institution/organisation/brand)', 'resource/tool']\n",
      "twitch ['resource/tool'] ['entity (institution/organisation/brand)', 'resource/tool']\n",
      "yahoo ['resource/tool'] ['entity (institution/organisation/brand)', 'resource/tool']\n",
      "youtube ['resource/tool'] ['entity (institution/organisation/brand)', 'resource/tool']\n",
      "ecco ['not categorizable'] ['resource/tool']\n",
      "ecco tcp ['not categorizable'] ['resource/tool']\n",
      "edition ['not categorizable'] ['object-type']\n",
      "english literature ['topic', 'entity (place)'] ['object-type']\n",
      "historical newspapers ['object-type', 'time period'] ['object-type']\n",
      "historical postcards ['object-type', 'time period'] ['object-type']\n",
      "sammlung ['topic', 'object-type'] ['object-type']\n",
      "american literature ['topic'] ['object-type']\n",
      "ancient documents ['object-type', 'time period'] ['object-type']\n",
      "british literature ['topic', 'entity (place)'] ['object-type']\n",
      "dutch literature ['topic', 'entity (place)'] ['object-type']\n",
      "email ['topic', 'object-type'] ['object-type']\n",
      "fan fiction ['topic'] ['object-type']\n",
      "fiction ['topic'] ['object-type']\n",
      "film ['topic', 'object-type'] ['object-type']\n",
      "jokes ['topic'] ['object-type']\n",
      "nonfiction ['topic'] ['object-type']\n",
      "serial fiction ['topic'] ['object-type']\n",
      "trademarks ['topic', 'object-type'] ['object-type']\n",
      "trivia ['topic'] ['object-type']\n",
      "squeeze ['not categorizable'] ['object-type']\n",
      "census ['topic'] ['object-type']\n",
      "édition génétique ['not categorizable'] ['object-type']\n",
      "german literature ['topic'] ['object-type']\n",
      "ocr htr ['method/activity', 'multiple tags'] ['multiple tags']\n",
      "citizen science ['discipline'] ['method/activity']\n",
      "gis ['topic', 'method/activity'] ['method/activity']\n",
      "survey ['topic', 'method/activity'] ['method/activity']\n",
      "historical gis ['topic', 'method/activity'] ['method/activity']\n",
      "wavelength dispersive spectrometer ['object-type'] ['method/activity']\n",
      "historical language ['language', 'time period'] ['language']\n",
      "roman ['entity (place)'] ['language']\n",
      "ancient greek ['language', 'time period'] ['language']\n",
      "ancient roman ['language', 'time period'] ['language']\n",
      "african american ['entity (person)'] ['language']\n",
      "semeval ['method/activity'] ['entity (event)']\n",
      "parthenos ['resource/tool'] ['entity (project)']\n",
      "clarin ['entity (project)'] ['entity (institution/organisation/brand)']\n",
      "aldersbach abbey ['entity (place)'] ['entity (institution/organisation/brand)']\n",
      "clariah-at ['entity (project)'] ['entity (institution/organisation/brand)']\n",
      "royal libraries ['topic', 'object-type'] ['entity (institution/organisation/brand)']\n",
      "parliament ['topic', 'object-type'] ['entity (institution/organisation/brand)']\n",
      "brightkite ['resource/tool'] ['entity (institution/organisation/brand)']\n",
      "byzantine ['language', 'time period'] ['entity (institution/organisation/brand)']\n",
      "feminism ['discipline'] ['topic', 'discipline']\n",
      "spatial humanities ['discipline'] ['topic', 'discipline']\n",
      "bulgarian history ['discipline', 'entity (place)'] ['topic', 'discipline']\n",
      "canadian history ['discipline', 'entity (place)'] ['topic', 'discipline']\n",
      "islamic history ['discipline'] ['topic', 'discipline']\n",
      "jewish history ['discipline'] ['topic', 'discipline']\n",
      "social computing ['topic', 'method/activity'] ['topic', 'discipline']\n",
      "syntax ['topic'] ['topic', 'discipline']\n",
      "womens history ['discipline'] ['topic', 'discipline']\n",
      "historical geography ['discipline', 'time period'] ['discipline']\n",
      "ancient history ['discipline', 'time period'] ['discipline']\n",
      "aesthetics of music ['discipline'] ['topic']\n",
      "critical editions of music ['discipline'] ['object-type']\n",
      "history of musicology ['discipline'] ['topic', 'discipline']\n",
      "history of scholarship ['discipline'] ['topic', 'discipline']\n",
      "iconography of music ['discipline'] ['topic']\n",
      "longterm projects ['object-type', 'entity (project)'] ['topic']\n",
      "projects ['object-type'] ['topic']\n",
      "semantic technologies ['object-type'] ['method/activity']\n",
      "linked open data ['object-type'] ['object-type', 'method/activity']\n",
      "language variation ['method/activity'] ['topic']\n",
      "cultural heritage ['discipline'] ['topic', 'object-type']\n",
      "morphology ['topic'] ['topic', 'discipline']\n",
      "visualization ['method/activity'] ['topic', 'method/activity']\n",
      "medieval studies ['discipline', 'time period'] ['discipline']\n",
      "liturgy ['topic'] ['object-type']\n",
      "service ['not categorizable'] ['topic']\n",
      "material culture ['topic', 'discipline'] ['topic']\n",
      "meeting ['not categorizable'] ['topic']\n",
      "collection ['not categorizable'] ['object-type']\n",
      "controlled vocabulary ['topic', 'format/standard'] ['object-type']\n",
      "digitization ['method/activity'] ['topic', 'method/activity']\n",
      "data modeling ['method/activity', 'discipline'] ['method/activity']\n",
      "data visualisation ['method/activity', 'discipline'] ['method/activity']\n",
      "digital archives ['object-type'] ['topic']\n",
      "editing tools ['resource/tool'] ['topic']\n",
      "eheritage ['discipline'] ['object-type']\n",
      "eosc ['entity (project)'] ['resource/tool']\n",
      "mooc ['topic', 'object-type'] ['topic']\n",
      "software development ['topic', 'discipline'] ['method/activity']\n",
      "source criticism ['topic'] ['method/activity']\n",
      "speech technology ['topic'] ['topic', 'method/activity']\n",
      "xpath ['format/standard'] ['resource/tool']\n",
      "xslt ['format/standard'] ['resource/tool']\n",
      "lexicography ['topic'] ['discipline']\n",
      "data management ['method/activity', 'discipline'] ['method/activity']\n",
      "augmented reality ['discipline'] ['topic', 'method/activity']\n",
      "controlled vocabularies ['topic', 'format/standard'] ['object-type']\n",
      "scholarly publishing ['method/activity', 'discipline'] ['method/activity']\n",
      "big data ['topic'] ['object-type']\n",
      "project management ['method/activity', 'discipline'] ['method/activity']\n",
      "cqp/cql ['format/standard'] ['resource/tool']\n",
      "digital preservation ['method/activity'] ['topic', 'method/activity']\n",
      "glam ['entity (institution/organisation/brand)'] ['topic']\n",
      "metasearch ['method/activity'] ['topic']\n",
      "research data management ['method/activity', 'discipline'] ['method/activity']\n",
      "sru/cql ['format/standard'] ['resource/tool']\n",
      "type organisation ['not categorizable'] ['method/activity']\n",
      "vre ['resource/tool'] ['topic']\n",
      "dariah ['entity (project)'] ['entity (institution/organisation/brand)']\n",
      "demography ['topic', 'discipline'] ['topic']\n",
      "disciplines ['topic', 'discipline'] ['topic']\n",
      "linked data ['topic', 'object-type'] ['object-type']\n",
      "methods and statistics ['method/activity', 'multiple tags'] ['multiple tags']\n",
      "open source ['format/standard'] ['topic']\n",
      "query language ['topic', 'resource/tool'] ['object-type']\n",
      "search service ['topic', 'resource/tool'] ['topic']\n",
      "sql ['format/standard'] ['resource/tool']\n",
      "taxonomy ['topic', 'format/standard'] ['object-type']\n",
      "research infrastructure ['topic'] ['object-type']\n",
      "sparql ['format/standard'] ['resource/tool']\n",
      "ariadne ['entity (project)'] ['resource/tool']\n",
      "topics ['not categorizable'] ['topic']\n",
      "type ['not categorizable'] ['topic']\n",
      "education ['topic', 'discipline'] ['topic']\n",
      "analyser ['resource/tool'] ['topic']\n",
      "audio-visual ['topic'] ['not categorizable']\n",
      "cfa ['not categorizable'] ['topic']\n",
      "cfp ['not categorizable'] ['topic']\n",
      "co-design ['topic', 'object-type', 'method/activity'] ['method/activity']\n",
      "conceputal art ['topic', 'discipline'] ['object-type']\n",
      "conference ['topic', 'entity (event)'] ['topic']\n",
      "contemporary history ['discipline'] ['topic', 'discipline']\n",
      "crowd innovation ['method/activity'] ['topic']\n",
      "crowd science ['discipline'] ['topic', 'method/activity']\n",
      "culinary history ['discipline'] ['topic', 'discipline']\n",
      "dc ['discipline'] ['not categorizable']\n",
      "dha ['entity (institution/organisation/brand)', 'entity (project)'] ['entity (institution/organisation/brand)']\n",
      "digital art ['topic', 'discipline'] ['object-type']\n",
      "digital classics ['discipline'] ['object-type']\n",
      "digital diplomatics ['discipline'] ['topic', 'discipline']\n",
      "digital heritage ['discipline'] ['object-type']\n",
      "digital infrastructure ['topic'] ['object-type']\n",
      "digital museology ['discipline'] ['topic', 'discipline']\n",
      "e-learning ['method/activity', 'discipline'] ['topic', 'method/activity']\n",
      "exhibition ['topic', 'entity (event)'] ['topic']\n",
      "forschungsmethoden ['topic', 'method/activity'] ['topic']\n",
      "fused lects ['topic'] ['not categorizable']\n",
      "future thinking ['method/activity'] ['topic']\n",
      "go!digital ['entity (project)'] ['entity (institution/organisation/brand)']\n",
      "heritage preservation ['method/activity', 'discipline'] ['topic', 'method/activity']\n",
      "holocaust education ['discipline'] ['topic', 'method/activity']\n",
      "iconclass ['format/standard', 'resource/tool'] ['format/standard']\n",
      "ict use ['topic'] ['topic', 'method/activity']\n",
      "knowledge science ['discipline'] ['topic', 'discipline']\n",
      "language didactics ['discipline'] ['topic']\n",
      "lecture ['topic', 'entity (event)'] ['topic']\n",
      "long-term projects on cultural heritage ['topic', 'entity (project)'] ['topic']\n",
      "management ['topic', 'method/activity'] ['method/activity']\n",
      "medical communication ['method/activity', 'discipline'] ['topic']\n",
      "medieval brain anatomy ['discipline'] ['topic']\n",
      "middle high german ['language'] ['topic', 'language']\n",
      "minutes ['object-type'] ['topic']\n",
      "monasterium.net ['entity (project)'] ['resource/tool']\n",
      "mongol empire ['entity (place)', 'time period'] ['entity (institution/organisation/brand)']\n",
      "narratives ['topic'] ['object-type']\n",
      "narratology ['topic'] ['discipline']\n",
      "neural networks ['object-type'] ['topic']\n",
      "parser ['resource/tool'] ['topic']\n",
      "participatory methods ['topic', 'method/activity'] ['topic']\n",
      "perl ['format/standard'] ['resource/tool']\n",
      "php ['format/standard'] ['resource/tool']\n",
      "platform ['topic'] ['object-type']\n",
      "pos-tagger ['resource/tool'] ['object-type']\n",
      "presentation ['topic', 'method/activity'] ['object-type']\n",
      "radio ['topic'] ['object-type']\n",
      "research ethics ['discipline'] ['topic']\n",
      "science education ['discipline'] ['topic']\n",
      "scientific heritage ['discipline'] ['topic', 'object-type']\n",
      "tokenizer ['resource/tool'] ['object-type', 'resource/tool']\n",
      "training ['topic', 'method/activity'] ['method/activity']\n",
      "virtual reality ['topic', 'discipline'] ['topic']\n",
      "virtual research environment ['resource/tool'] ['topic']\n",
      "visual media ['topic', 'object-type'] ['object-type']\n",
      "webgis ['format/standard'] ['resource/tool']\n",
      "wissenschaftskommunikation ['discipline'] ['topic']\n",
      "workshop ['topic', 'entity (event)'] ['topic']\n",
      "xml-editor ['resource/tool'] ['object-type', 'resource/tool']\n",
      "classics ['not categorizable'] ['discipline']\n",
      "api ['format/standard'] ['topic']\n",
      "artificial intelligence ['discipline'] ['topic', 'method/activity']\n",
      "computer vision ['topic'] ['method/activity']\n",
      "framework ['topic'] ['object-type']\n",
      "libraries ['topic', 'entity (place)'] ['topic']\n",
      "media ['topic'] ['object-type']\n",
      "museums ['topic', 'entity (place)'] ['topic']\n",
      "poetry ['topic'] ['object-type']\n",
      "politics ['discipline'] ['topic']\n",
      "python ['format/standard'] ['resource/tool']\n",
      "tagger ['resource/tool'] ['topic']\n",
      "lod ['not categorizable'] ['object-type']\n",
      "images ['topic', 'object-type'] ['object-type']\n",
      "music ['topic'] ['discipline']\n",
      "religion ['topic'] ['discipline']\n",
      "archives ['topic', 'entity (place)'] ['topic']\n",
      "named entities ['object-type'] ['topic']\n",
      "project ['topic', 'object-type', 'entity (project)'] ['not categorizable']\n",
      "infrastructure ['topic'] ['not categorizable']\n",
      "archiv ['topic', 'entity (place)'] ['topic']\n",
      "author/novelist ['entity (person)'] ['topic']\n",
      "author/schriftsteller ['entity (person)'] ['topic']\n",
      "cultural hertitage ['discipline'] ['topic', 'object-type']\n",
      "didactics ['topic', 'discipline'] ['discipline']\n",
      "didaktik ['topic', 'discipline'] ['discipline']\n",
      "diplomatie ['topic'] ['discipline']\n",
      "historical accounts ['object-type', 'time period'] ['topic']\n",
      "images of legal activities ['object-type'] ['topic']\n",
      "kulturerbe ['topic'] ['object-type']\n",
      "kunst  ['topic', 'discipline'] ['discipline']\n",
      "literatur ['topic'] ['object-type']\n",
      "liturgie ['topic'] ['object-type']\n",
      "lyric poetry ['topic'] ['object-type']\n",
      "lyrik ['topic'] ['object-type']\n",
      "museum ['topic', 'entity (place)'] ['topic']\n",
      "rechtsdarstellungen ['object-type'] ['topic']\n",
      "virtual museum ['topic', 'entity (place)'] ['topic']\n",
      "virtuelles museum ['topic', 'entity (place)'] ['topic']\n",
      "literature ['topic'] ['object-type']\n",
      "archive ['topic', 'entity (place)'] ['object-type']\n",
      "digitale edition ['topic', 'object-type'] ['object-type']\n",
      "mediävistik ['discipline', 'time period'] ['discipline']\n",
      "datenmanagement ['method/activity', 'discipline'] ['method/activity']\n",
      "documentation howto platform ['entity (project)'] ['not categorizable']\n",
      "ui design ['topic'] ['topic', 'method/activity']\n",
      "(quantitative) survey research ['topic'] ['method/activity']\n",
      "1 grams ['not categorizable'] ['topic']\n",
      "acoustic ['topic'] ['not categorizable']\n",
      "african american history ['discipline'] ['topic', 'discipline']\n",
      "african history ['discipline'] ['topic', 'discipline']\n",
      "aggregate data ['object-type'] ['method/activity']\n",
      "ai ['topic'] ['topic', 'method/activity']\n",
      "alignment ['topic'] ['method/activity']\n",
      "argument ['topic'] ['object-type']\n",
      "asr ['topic'] ['method/activity']\n",
      "audio ['format/standard'] ['object-type']\n",
      "audio transcription ['method/activity'] ['object-type', 'method/activity']\n",
      "bestellers ['not categorizable'] ['object-type']\n",
      "billboard ['entity (institution/organisation/brand)'] ['object-type']\n",
      "bloggers ['entity (person)'] ['topic']\n",
      "categories ['object-type'] ['topic']\n",
      "chaining odds ['not categorizable'] ['topic']\n",
      "citations ['object-type'] ['topic']\n",
      "classification ['object-type', 'method/activity'] ['method/activity']\n",
      "codata ['object-type'] ['entity (institution/organisation/brand)']\n",
      "college ['entity (institution/organisation/brand)', 'entity (place)'] ['topic']\n",
      "contemporary literature ['topic'] ['object-type']\n",
      "cover art ['topic'] ['object-type']\n",
      "creoles ['entity (person)'] ['topic']\n",
      "cultural analytics ['topic'] ['discipline']\n",
      "cuneiform ['language'] ['topic', 'resource/tool']\n",
      "data analysis ['method/activity', 'discipline'] ['method/activity']\n",
      "data archive ['object-type'] ['topic']\n",
      "data deposit ['method/activity'] ['topic']\n",
      "database of polymer spectra ['object-type'] ['object-type', 'not categorizable']\n",
      "dates ['object-type'] ['topic']\n",
      "ddi ['format/standard'] ['not categorizable']\n",
      "directed ['not categorizable'] ['topic']\n",
      "displaced persons ['entity (person)'] ['topic']\n",
      "dita ['format/standard'] ['not categorizable']\n",
      "download ['not categorizable'] ['topic', 'method/activity']\n",
      "dpla ['entity (project)'] ['resource/tool']\n",
      "drama ['topic'] ['object-type']\n",
      "ds ['not categorizable'] ['entity (product)']\n",
      "ead ['format/standard'] ['not categorizable']\n",
      "edm ['format/standard'] ['not categorizable']\n",
      "eighteenth century poetry ['topic', 'time period'] ['object-type']\n",
      "event detection ['topic'] ['method/activity']\n",
      "facetted search ['topic', 'method/activity'] ['method/activity']\n",
      "forced alignment ['topic'] ['method/activity']\n",
      "formats ['format/standard'] ['topic']\n",
      "ftir ['topic'] ['method/activity']\n",
      "ftir reflectance spectroscopy ['topic'] ['method/activity']\n",
      "full text ['topic'] ['object-type']\n",
      "function words ['object-type'] ['topic']\n",
      "goodreads ['entity (institution/organisation/brand)', 'resource/tool'] ['resource/tool']\n",
      "gowalla ['entity (institution/organisation/brand)', 'resource/tool'] ['resource/tool']\n",
      "group on earth observations ['topic'] ['entity (institution/organisation/brand)']\n",
      "hand corrected ['topic'] ['not categorizable']\n",
      "hisco ['not categorizable'] ['format/standard']\n",
      "in situ measurements ['object-type'] ['topic']\n",
      "indian history ['discipline'] ['topic', 'discipline']\n",
      "institutional research board ['entity (institution/organisation/brand)'] ['topic']\n",
      "ipr ['discipline'] ['topic', 'discipline']\n",
      "ipr issues ['topic', 'discipline'] ['topic']\n",
      "isco ['format/standard'] ['not categorizable']\n",
      "kannada ['entity (place)'] ['language']\n",
      "keywords ['object-type'] ['topic']\n",
      "keywords from sshoc mp ['object-type'] ['topic', 'not categorizable']\n",
      "khmer ['entity (person)', 'language'] ['language']\n",
      "kirghiz ['entity (person)', 'language'] ['topic']\n",
      "kurdish ['language'] ['topic', 'language']\n",
      "language typology ['topic'] ['object-type']\n",
      "laser ablation ['topic'] ['method/activity']\n",
      "legal ['topic'] ['not categorizable']\n",
      "legal requirements ['object-type'] ['topic']\n",
      "lemmas ['object-type'] ['topic']\n",
      "letter writing ['method/activity'] ['topic', 'method/activity']\n",
      "library ['topic', 'entity (place)'] ['topic']\n",
      "libs ['method/activity'] ['not categorizable']\n",
      "licenses ['object-type'] ['topic']\n",
      "literary characters ['topic', 'object-type'] ['topic']\n",
      "literary fiction ['topic'] ['object-type']\n",
      "literary plot ['topic', 'object-type'] ['topic']\n",
      "literary prizes ['topic', 'object-type'] ['topic']\n",
      "livejournal ['entity (institution/organisation/brand)', 'resource/tool'] ['object-type']\n",
      "loc ['entity (institution/organisation/brand)'] ['not categorizable']\n",
      "locations ['object-type'] ['topic']\n",
      "marc ['format/standard'] ['resource/tool']\n",
      "media & communications ['discipline', 'multiple tags'] ['multiple tags']\n",
      "media format ['topic', 'format/standard'] ['topic']\n",
      "medieval archaeology ['discipline', 'time period'] ['discipline']\n",
      "medieval history ['discipline', 'time period'] ['discipline']\n",
      "medieval music ['discipline', 'time period'] ['object-type']\n",
      "mesh ['topic', 'format/standard'] ['topic']\n",
      "metadata search ['topic', 'method/activity'] ['method/activity']\n",
      "meter ['not categorizable'] ['topic']\n",
      "metrics ['format/standard'] ['topic']\n",
      "microsoft ['entity (institution/organisation/brand)'] ['resource/tool']\n",
      "migrants ['entity (person)'] ['topic']\n",
      "models ['object-type'] ['topic']\n",
      "mp3 ['format/standard'] ['object-type']\n",
      "multiple languages ['language'] ['topic']\n",
      "mushrooms ['not categorizable'] ['topic']\n",
      "muslim history ['discipline'] ['topic', 'discipline']\n",
      "nes ['entity (institution/organisation/brand)'] ['topic']\n",
      "netflix ['entity (institution/organisation/brand)', 'resource/tool'] ['resource/tool']\n",
      "neuma quality dashboard ['not categorizable'] ['resource/tool']\n",
      "new york times ['entity (institution/organisation/brand)'] ['entity (institution/organisation/brand)', 'resource/tool']\n",
      "newgate ['not categorizable'] ['entity (place)']\n",
      "nexus ['entity (institution/organisation/brand)'] ['not categorizable']\n",
      "ngrams ['entity (institution/organisation/brand)', 'resource/tool'] ['topic']\n",
      "open research ['topic', 'method/activity'] ['topic']\n",
      "phrases ['object-type'] ['topic']\n",
      "pigments ['object-type'] ['topic']\n",
      "pill ['not categorizable'] ['topic']\n",
      "placeography ['discipline'] ['resource/tool']\n",
      "plaintext ['format/standard'] ['object-type']\n",
      "plastics ['topic', 'object-type'] ['object-type']\n",
      "podcast ['topic', 'object-type'] ['object-type']\n",
      "pokec ['not categorizable'] ['resource/tool']\n",
      "policies ['topic', 'object-type'] ['topic']\n",
      "policy positions ['object-type'] ['topic']\n",
      "portable ftir ['format/standard'] ['topic']\n",
      "post 45 ['entity (person)'] ['entity (institution/organisation/brand)']\n",
      "predicates ['object-type'] ['topic']\n",
      "predictions ['object-type'] ['topic']\n",
      "prescriptions ['object-type'] ['topic']\n",
      "production ['topic', 'method/activity'] ['topic']\n",
      "products ['object-type'] ['topic']\n",
      "proper name disambiguation ['method/activity'] ['topic', 'method/activity']\n",
      "publishers weekly ['entity (institution/organisation/brand)'] ['resource/tool']\n",
      "pubs ['object-type'] ['topic']\n",
      "questions ['object-type'] ['topic']\n",
      "race films ['object-type'] ['topic', 'object-type']\n",
      "raman ['topic'] ['entity (person)', 'method/activity']\n",
      "raman spectroscopy ['topic'] ['method/activity']\n",
      "random forest ['object-type'] ['topic', 'method/activity']\n",
      "raw ['format/standard'] ['not categorizable']\n",
      "reception ['method/activity'] ['topic']\n",
      "recommendation ['method/activity'] ['object-type']\n",
      "recommended ['not categorizable'] ['topic']\n",
      "refugees ['entity (person)'] ['topic']\n",
      "research notebook ['topic'] ['object-type']\n",
      "standards ['format/standard'] ['topic']\n",
      "stop words ['object-type'] ['topic']\n",
      "subsets ['object-type'] ['topic']\n",
      "symmetry calculations ['object-type'] ['method/activity']\n",
      "tbx in tei ['format/standard'] ['topic', 'format/standard']\n",
      "term frequencies ['object-type'] ['topic']\n",
      "terminologies ['object-type'] ['topic']\n",
      "textual reuse ['method/activity'] ['topic']\n",
      "tokens ['object-type'] ['topic']\n",
      "use case ['object-type'] ['topic']\n",
      "value of open data ['not categorizable'] ['topic']\n",
      "viewer ['resource/tool'] ['topic']\n",
      "web3d ['entity (institution/organisation/brand)'] ['topic', 'entity (institution/organisation/brand)']\n",
      "website ['object-type'] ['topic']\n",
      "websites ['object-type'] ['topic']\n",
      "word counts ['object-type'] ['topic']\n",
      "workflows ['object-type'] ['topic']\n",
      "workplace ['topic', 'entity (place)'] ['topic']\n",
      "xrf ['format/standard'] ['topic']\n",
      "xsl ['format/standard'] ['resource/tool']\n",
      "discovery ['topic'] ['method/activity']\n",
      "video ['format/standard'] ['object-type']\n",
      "description ['topic', 'method/activity'] ['method/activity']\n",
      "animation ['topic', 'method/activity'] ['object-type', 'method/activity']\n",
      "arts ['topic', 'discipline'] ['discipline']\n",
      "names ['object-type'] ['topic']\n",
      "ml ['not categorizable'] ['method/activity']\n",
      "pid ['format/standard'] ['topic']\n",
      "video capture ['topic', 'method/activity'] ['method/activity']\n",
      "academic publication ['topic', 'object-type', 'method/activity'] ['object-type', 'method/activity']\n",
      "audio conference ['entity (event)'] ['topic']\n",
      "diagramm ['topic', 'method/activity'] ['object-type']\n",
      "digital publication ['topic', 'object-type', 'method/activity'] ['method/activity']\n",
      "encoding/code ['method/activity'] ['multiple tags']\n",
      "identification ['method/activity'] ['topic', 'method/activity']\n",
      "pos tag ['object-type'] ['topic']\n",
      "query ['object-type'] ['topic']\n",
      "wireframe ['object-type'] ['object-type', 'resource/tool']\n",
      "organisation ['entity (institution/organisation/brand)'] ['topic']\n",
      "abstract thinking ['topic', 'method/activity'] ['method/activity']\n",
      "concordance ['method/activity'] ['topic', 'method/activity']\n",
      "co-occurrence ['topic'] ['topic', 'method/activity']\n",
      "digital object identifier ['topic'] ['format/standard']\n",
      "distance measures ['object-type'] ['topic', 'method/activity']\n",
      "explanation ['topic', 'object-type', 'method/activity'] ['method/activity']\n",
      "exploration ['topic', 'object-type', 'method/activity'] ['method/activity']\n",
      "preservation metadata ['not categorizable'] ['object-type']\n",
      "recording ['method/activity'] ['object-type']\n",
      "replication ['method/activity'] ['object-type', 'method/activity']\n",
      "upload ['not categorizable'] ['method/activity']\n",
      "user generated content ['topic'] ['object-type']\n",
      "video conference ['entity (event)'] ['topic']\n",
      "collaboration ['topic', 'method/activity'] ['method/activity']\n",
      "conversion ['topic', 'method/activity'] ['method/activity']\n",
      "storage ['topic'] ['method/activity']\n",
      "academics ['entity (person)'] ['topic']\n",
      "acceso ['not categorizable'] ['topic']\n",
      "analytics ['topic'] ['resource/tool']\n",
      "annotation system design ['topic'] ['topic', 'method/activity']\n",
      "app ['topic'] ['object-type']\n",
      "code ['topic'] ['object-type', 'method/activity']\n",
      "compling ['method/activity'] ['discipline']\n",
      "computer network resources ['topic', 'object-type'] ['topic']\n",
      "computers ['object-type'] ['topic']\n",
      "conferences ['topic', 'entity (event)'] ['topic']\n",
      "consumer ['entity (person)'] ['topic']\n",
      "criticism, textual ['topic', 'method/activity'] ['method/activity']\n",
      "criticism, textual y ['topic', 'method/activity'] ['method/activity']\n",
      "cv ['topic', 'object-type'] ['object-type']\n",
      "data federation ['method/activity'] ['topic']\n",
      "data/databases ['object-type'] ['multiple tags']\n",
      "diskurs analyse - informatik - methoden ['method/activity', 'multiple tags'] ['multiple tags']\n",
      "diskurs analyse - literatur - informatik ['method/activity', 'multiple tags'] ['multiple tags']\n",
      "events ml ['not categorizable'] ['format/standard']\n",
      "forschungsdatenmanagement ['topic', 'method/activity'] ['method/activity']\n",
      "google ['entity (institution/organisation/brand)'] ['resource/tool']\n",
      "heml ['format/standard'] ['resource/tool']\n",
      "history matters ['topic', 'discipline'] ['topic']\n",
      "history teaching ['method/activity'] ['topic']\n",
      "informatiesystemen ['not categorizable'] ['topic']\n",
      "information storage and retrieval systems ['multiple tags'] ['topic']\n",
      "journal of american history' ['entity (institution/organisation/brand)'] ['entity (product)']\n",
      "knowledge ['not categorizable'] ['topic']\n",
      "kropač, i.h. ['multiple tags'] ['entity (person)']\n",
      "literaire semiotiek ['not categorizable'] ['topic']\n",
      "littérature ['topic'] ['object-type']\n",
      "lode ['not categorizable'] ['format/standard']\n",
      "method ['topic', 'method/activity'] ['topic']\n",
      "methodology ['topic', 'method/activity'] ['topic']\n",
      "query/retrieve ['method/activity'] ['multiple tags']\n",
      "statistique lexicale ['discipline'] ['method/activity', 'discipline']\n",
      "teaching/learning ['method/activity'] ['multiple tags']\n",
      "text technology ['topic', 'discipline'] ['topic']\n",
      "resources ['object-type'] ['topic']\n",
      "3d ['topic', 'format/standard'] ['topic']\n",
      "editor ['entity (person)'] ['topic']\n",
      "summer school ['entity (event)'] ['topic']\n",
      "event ['entity (event)'] ['topic']\n",
      "ethics ['discipline'] ['topic', 'discipline']\n",
      "tools ['object-type'] ['topic']\n",
      "uhrfedebücher ['topic'] ['object-type']\n",
      "ages ['time period'] ['topic']\n",
      "author ['entity (person)'] ['topic']\n",
      "norwegian.norwegian ['entity (place)'] ['language']\n",
      "other humanities ['discipline'] ['not categorizable']\n",
      "other social sciences ['discipline'] ['not categorizable']\n",
      "ottoman ['entity (person)', 'time period'] ['topic']\n",
      "philosophy, ethics & religion ['discipline'] ['multiple tags']\n",
      "schematron ['format/standard'] ['resource/tool']\n",
      "sign languages ['language'] ['topic']\n",
      "singapore english ['language'] ['topic', 'language']\n",
      "social & economic geography ['discipline', 'multiple tags'] ['discipline']\n",
      "t docs ['not categorizable'] ['object-type']\n",
      "research ['method/activity'] ['topic']\n",
      "emulation ['method/activity'] ['topic', 'method/activity']\n",
      "american ['entity (place)'] ['not categorizable']\n",
      "american historical review ['entity (institution/organisation/brand)'] ['entity (product)']\n",
      "android ['entity (institution/organisation/brand)', 'resource/tool'] ['resource/tool']\n",
      "communication in learning and scholarship ['method/activity', 'discipline'] ['method/activity']\n",
      "sem ['topic'] ['format/standard']\n",
      "vres ['not categorizable'] ['topic']\n",
      "x_astree ['not categorizable'] ['format/standard']\n",
      "giveoverview ['method/activity', 'not categorizable'] ['method/activity']\n",
      "methods ['object-type'] ['topic']\n",
      "events ['object-type'] ['topic']\n",
      "babel ['not categorizable'] ['entity (place)']\n",
      "infrastructures ['object-type'] ['topic']\n",
      "informationretrieval ['method/activity', 'discipline'] ['method/activity']\n",
      "sheetmusic ['not categorizable'] ['object-type']\n",
      "variants ['object-type'] ['topic']\n",
      "namedentities ['topic', 'object-type'] ['topic']\n",
      "o-methods ['topic', 'object-type'] ['not categorizable']\n",
      "berlin (tu) ['entity (institution/organisation/brand)', 'multiple tags', 'entity (place)'] ['entity (institution/organisation/brand)']\n",
      "korpus <linguistik> ['object-type', 'discipline', 'multiple tags'] ['object-type']\n",
      "tübingen (eberhard karls universität) ['entity (institution/organisation/brand)', 'multiple tags', 'entity (place)'] ['entity (institution/organisation/brand)']\n",
      "stylistics ['not categorizable'] ['discipline']\n",
      "visualisierung ['method/activity'] ['object-type', 'method/activity']\n",
      "kollokation ['method/activity'] ['topic']\n",
      "projectmanagement ['method/activity', 'discipline'] ['method/activity']\n",
      "people ['entity (person)'] ['topic']\n",
      "institutions ['object-type', 'entity (institution/organisation/brand)'] ['topic']\n",
      "arch ['not categorizable'] ['object-type']\n",
      "persons ['entity (person)'] ['topic']\n",
      "object ['object-type'] ['not categorizable']\n",
      "tool-entwicklung ['method/activity', 'discipline'] ['method/activity']\n",
      "coreference ['method/activity'] ['topic']\n",
      "ontologie ['topic', 'object-type'] ['topic']\n",
      "übersicht event-modelle ['object-type', 'multiple tags'] ['topic']\n",
      "goerz ['entity (place)'] ['not categorizable']\n",
      "named events ['object-type'] ['topic']\n",
      "todo ['topic'] ['not categorizable']\n",
      "event-model-f ['not categorizable'] ['format/standard']\n",
      "ontologie (top-level) ['topic', 'object-type'] ['topic']\n",
      "the event ontology ['topic', 'object-type'] ['resource/tool']\n",
      "wikipedia_as_model ['topic', 'resource/tool'] ['topic']\n",
      "wikipedia_as_subject ['topic', 'resource/tool'] ['topic']\n",
      "wikipedia_critique ['topic', 'resource/tool'] ['topic']\n",
      "civil war ['entity (event)'] ['entity (event)', 'time period']\n",
      "hypertext ['format/standard'] ['object-type']\n",
      "virtual communities ['object-type'] ['topic']\n",
      "technological innovations ['object-type'] ['topic']\n",
      "computer networks ['object-type'] ['topic']\n",
      "digital communications ['topic', 'object-type'] ['topic']\n",
      "patchwork ['method/activity'] ['topic']\n",
      "quilting ['method/activity'] ['topic']\n",
      "canadian century research infrastructure ['topic', 'multiple tags', 'entity (place)'] ['resource/tool']\n",
      "labor ['entity (place)'] ['topic']\n",
      "librarians, academic ['entity (person)', 'multiple tags'] ['topic']\n",
      "computer-assisted instruction ['topic'] ['method/activity']\n",
      "history research ['discipline'] ['topic']\n",
      "history study & teaching ['method/activity', 'discipline'] ['topic', 'multiple tags']\n",
      "learning ['method/activity'] ['topic']\n",
      "publishers and publishing ['entity (institution/organisation/brand)', 'method/activity', 'multiple tags'] ['topic', 'multiple tags']\n",
      "teaching aids and devices ['object-type', 'multiple tags'] ['topic']\n",
      "whole earth catalog ['object-type'] ['entity (product)']\n",
      "digital libraries ['object-type', 'entity (place)'] ['topic']\n",
      "wikipedia_mixedview ['resource/tool'] ['topic']\n",
      "wikipedia_pedagogy ['topic', 'resource/tool'] ['topic']\n",
      "print_on_demand ['not categorizable'] ['topic']\n",
      "internet (review article) ['topic', 'multiple tags'] ['not categorizable']\n",
      "university presses ['object-type', 'entity (institution/organisation/brand)'] ['topic']\n",
      "libraries (academic) ['object-type', 'multiple tags', 'entity (place)'] ['topic']\n",
      "paper ['topic', 'object-type'] ['object-type']\n",
      "information technology ['discipline'] ['topic']\n",
      "schools ['object-type'] ['topic']\n",
      "historians ['entity (person)'] ['topic']\n",
      "study and teaching ['method/activity', 'multiple tags'] ['topic']\n",
      "fugitive slaves ['entity (person)'] ['topic']\n",
      "names, personal ['object-type'] ['topic']\n",
      "united states social life & customs to 1775 ['topic', 'multiple tags', 'entity (place)'] ['topic']\n",
      "recessions ['topic', 'object-type'] ['topic']\n",
      "intellectuals ['entity (person)'] ['topic']\n",
      "primarily history project ['entity (project)'] ['not categorizable']\n",
      "surveys ['object-type'] ['topic', 'method/activity']\n",
      "minnesota, university of (minnesota population center) ['entity (institution/organisation/brand)', 'multiple tags', 'entity (place)'] ['entity (institution/organisation/brand)']\n",
      "collectors and collecting ['entity (person)', 'method/activity', 'multiple tags'] ['multiple tags']\n",
      "integrated public use microdata series ['not categorizable'] ['resource/tool']\n",
      "electronic information resources ['object-type'] ['topic']\n",
      "internet programming ['method/activity', 'discipline'] ['method/activity']\n",
      "audiences ['object-type', 'entity (person)'] ['topic']\n",
      "science fiction ['topic'] ['object-type']\n",
      "visual aids ['topic', 'object-type'] ['topic']\n",
      "narrative ['topic'] ['object-type']\n",
      "immersive ['not categorizable'] ['topic']\n",
      "generations ['not categorizable'] ['topic']\n",
      "scholars ['entity (person)'] ['topic']\n",
      "examples ['not categorizable'] ['topic']\n",
      "focus ['not categorizable'] ['topic']\n",
      "interdisciplinary approach in education ['method/activity'] ['topic']\n",
      "network analysis (planning) ['method/activity', 'multiple tags'] ['method/activity']\n",
      "pathfinder networks ['topic', 'object-type'] ['topic']\n",
      "text mining (information retrieval) ['method/activity', 'multiple tags'] ['method/activity']\n",
      "archivists ['entity (person)'] ['topic']\n",
      "federal government ['entity (institution/organisation/brand)'] ['topic']\n",
      "geographic information systems ['object-type'] ['topic']\n",
      "national historical geographic information system ['object-type'] ['resource/tool']\n",
      "slaves ['entity (person)'] ['topic']\n",
      "senate ['entity (institution/organisation/brand)'] ['topic']\n",
      "city planning ['discipline'] ['topic', 'method/activity']\n",
      "early california population project ['entity (project)'] ['resource/tool']\n",
      "indians ['entity (person)'] ['topic']\n",
      "virginia polytechnic institute and state university ['entity (institution/organisation/brand)', 'multiple tags'] ['entity (institution/organisation/brand)']\n",
      "current population survey ['topic'] ['resource/tool', 'entity (project)']\n",
      "rosenzweig, roy (obituary) ['entity (person)'] ['topic']\n",
      "subscriptions ['not categorizable'] ['topic']\n",
      "college students ['entity (person)'] ['topic']\n",
      "endowment of research ['entity (institution/organisation/brand)'] ['topic']\n",
      "brain pickings ['not categorizable'] ['topic']\n",
      "poetry, modern ['topic'] ['object-type']\n",
      "egan ['not categorizable'] ['entity (person)']\n",
      "geodh ['discipline'] ['topic', 'discipline']\n",
      "hipertexto ['format/standard'] ['object-type']\n",
      "journals ['object-type'] ['topic']\n",
      "social science / media studies ['discipline', 'multiple tags'] ['multiple tags']\n",
      "social science / popular culture ['discipline', 'multiple tags'] ['multiple tags']\n",
      "curators ['entity (person)'] ['topic']\n",
      "information management ['discipline'] ['topic', 'method/activity']\n",
      "usage ['method/activity'] ['topic']\n",
      "data collection ['object-type', 'method/activity'] ['method/activity']\n",
      "conceptual art ['topic', 'discipline'] ['object-type']\n",
      "lightning ['not categorizable'] ['topic']\n",
      "national endowment ['entity (institution/organisation/brand)'] ['topic']\n",
      "heritage ['topic'] ['object-type']\n",
      "tedtalks ['entity (product)'] ['resource/tool']\n",
      "brewster ['not categorizable'] ['entity (person)']\n",
      "kahle ['not categorizable'] ['entity (person)']\n",
      "teachers ['entity (person)'] ['topic']\n",
      "teaching resources ['object-type'] ['topic']\n",
      "collaborative ['method/activity'] ['topic']\n",
      "kaptur ['not categorizable'] ['entity (institution/organisation/brand)']\n",
      "spectral ['not categorizable'] ['topic']\n",
      "dlc ['not categorizable'] ['topic']\n",
      "hss ['not categorizable'] ['discipline']\n",
      "ideas ['topic', 'object-type'] ['topic']\n",
      "sciences ['discipline'] ['topic']\n",
      "terras ['not categorizable'] ['entity (person)']\n",
      "university ['entity (institution/organisation/brand)', 'entity (place)'] ['topic']\n",
      "q&a ['object-type'] ['topic']\n",
      "eveil de conscience ['not categorizable'] ['topic']\n",
      "opprime ['not categorizable'] ['topic']\n",
      "prise de conscience ['not categorizable'] ['topic']\n",
      "student ['entity (person)'] ['topic']\n",
      "diskurs analyse - literatur -  informatik ['discipline', 'multiple tags'] ['multiple tags']\n",
      "humanities topic modeling ['method/activity', 'discipline', 'multiple tags'] ['method/activity']\n",
      "invalid doi ['not categorizable'] ['topic']\n",
      "tool ['object-type', 'resource/tool'] ['topic']\n",
      "semantics ['topic'] ['discipline']\n",
      "cad ['resource/tool'] ['method/activity']\n",
      "dm_compling ['not categorizable'] ['discipline']\n",
      "study of hebrew ['discipline'] ['topic', 'discipline']\n",
      "ontologies ['topic', 'object-type'] ['object-type']\n",
      "langzeitarchivierung ['topic'] ['method/activity']\n",
      "speichermedien ['object-type'] ['topic']\n",
      "trusted repositories ['object-type'] ['topic']\n",
      "textgenese ['topic'] ['method/activity']\n",
      "inkunabel ['topic', 'object-type'] ['object-type']\n",
      "domain specific languages ['object-type', 'language'] ['topic']\n",
      "language theory ['topic', 'discipline'] ['topic']\n",
      "graphdatenbanken ['object-type'] ['topic']\n",
      "recherchesysteme ['object-type'] ['topic']\n",
      "lexicon ['object-type'] ['topic']\n",
      "münster (wwu) ['entity (institution/organisation/brand)', 'multiple tags', 'entity (place)'] ['entity (institution/organisation/brand)']\n",
      "person name disambiguation ['topic'] ['method/activity']\n",
      "toponym disambiguation ['topic'] ['method/activity']\n",
      "ästhetik ['topic'] ['topic', 'discipline']\n",
      "autocad/autolisp ['resource/tool'] ['multiple tags']\n",
      "caad ['resource/tool'] ['topic']\n",
      "handschriften. epigrafie. paleografie ['topic', 'discipline', 'multiple tags'] ['multiple tags']\n",
      "boekgeschiedenis ['not categorizable'] ['discipline']\n",
      "ecdotica ['method/activity'] ['topic', 'method/activity']\n",
      "computer. informatica. automatisering ['method/activity', 'discipline', 'multiple tags'] ['multiple tags']\n",
      "bibliography theory, methods, etc ['topic', 'multiple tags'] ['multiple tags']\n",
      "transmission of texts ['method/activity'] ['topic']\n",
      "immunology ['topic'] ['discipline']\n",
      "qualitative studies ['discipline'] ['method/activity']\n",
      "literary criticism / semiotics & theory ['method/activity', 'multiple tags'] ['multiple tags']\n",
      "language arts & disciplines / linguistics / general ['discipline', 'multiple tags'] ['multiple tags']\n",
      "language arts & disciplines / communication studies ['discipline', 'multiple tags'] ['multiple tags']\n",
      "language arts & disciplines / linguistics / sociolinguistics ['discipline', 'multiple tags'] ['multiple tags']\n",
      "imitation ['topic', 'method/activity'] ['topic']\n",
      "literary transformation ['method/activity'] ['topic']\n",
      "reuse ['method/activity'] ['topic']\n",
      "corpus stylistics ['topic'] ['topic', 'discipline']\n",
      "suspended quotation ['topic', 'method/activity'] ['topic']\n",
      "littérature française ['topic'] ['object-type']\n",
      "cscw ['discipline'] ['topic', 'discipline']\n",
      "longitudinal case study ['topic', 'object-type'] ['method/activity']\n",
      "virtual teams. ['object-type'] ['topic']\n",
      "community grid ['not categorizable'] ['resource/tool']\n",
      "groupware ['resource/tool'] ['topic']\n",
      "virtual corpus ['topic'] ['object-type']\n",
      "erschließungsverfahren ['method/activity'] ['topic']\n",
      "isin_us30303m1027 ['not categorizable'] ['entity (product)']\n",
      "isin_us38259p5089 ['not categorizable'] ['entity (product)']\n",
      "documentation ['method/activity'] ['topic', 'method/activity']\n",
      "distance measure ['method/activity'] ['topic']\n",
      "edit distance ['method/activity'] ['topic']\n",
      "query term ['method/activity'] ['topic']\n",
      "historical spelling variants ['topic', 'object-type'] ['topic']\n",
      "training set construction ['topic'] ['method/activity']\n",
      "dialects ['object-type', 'language'] ['topic']\n",
      "features ['not categorizable'] ['topic']\n",
      "phonetic alignment ['topic'] ['method/activity']\n",
      "convolutional and recurrent neural networks ['topic', 'object-type', 'multiple tags'] ['topic', 'method/activity']\n",
      "convolutional neural networks ['topic', 'object-type'] ['topic', 'method/activity']\n",
      "large lexicon fields ['object-type'] ['topic']\n",
      "printed word anchors ['object-type'] ['topic']\n",
      "recurrent neural nets ['topic', 'object-type'] ['method/activity']\n",
      "recurrent neural networks ['topic', 'object-type'] ['method/activity']\n",
      "registration algorithm ['topic'] ['method/activity']\n",
      "small lexicon fields ['object-type'] ['topic']\n",
      "modernism (literature) ['multiple tags', 'time period'] ['time period']\n",
      "french literature ['topic'] ['object-type']\n",
      "textbooks (review article) ['object-type'] ['not categorizable']\n",
      "maryland (rockville) ['multiple tags', 'entity (place)'] ['entity (place)']\n",
      "simulation and games ['topic', 'object-type', 'multiple tags'] ['multiple tags']\n",
      "community colleges ['object-type'] ['topic']\n",
      "automated data collection ['object-type', 'method/activity'] ['method/activity']\n",
      "online games ['topic', 'object-type'] ['object-type']\n",
      "third places ['not categorizable'] ['topic']\n",
      "connectionism ['topic'] ['method/activity']\n",
      "critical thinking ['topic', 'method/activity'] ['method/activity']\n",
      "user ['entity (person)'] ['topic']\n",
      "design implication ['method/activity'] ['topic']\n",
      "distributed and interdisciplinary research teams ['entity (person)', 'multiple tags'] ['topic']\n",
      "coauthors ['entity (person)'] ['topic']\n",
      "intellectual collaboration ['method/activity'] ['topic', 'method/activity']\n",
      "written communication ['method/activity'] ['topic', 'method/activity']\n",
      "meeting support tools ['object-type', 'resource/tool'] ['topic']\n",
      "real-time distributed groupware ['topic', 'resource/tool'] ['topic']\n",
      "cves ['topic'] ['object-type']\n",
      "information-rich virtual environments ['topic', 'object-type'] ['topic']\n",
      "computer science - computers and society ['discipline', 'multiple tags'] ['multiple tags']\n",
      "scientific transformation ['method/activity'] ['topic']\n",
      "communications ['discipline'] ['topic']\n",
      "relationships ['topic', 'object-type'] ['topic']\n",
      "trust ['topic', 'entity (institution/organisation/brand)'] ['topic']\n",
      "virtual organisations ['object-type'] ['topic']\n",
      "virtual teams ['topic', 'object-type'] ['topic']\n",
      "virtual working ['method/activity'] ['topic']\n",
      "vos ['not categorizable'] ['topic']\n",
      "computer mediated communication ['topic', 'discipline'] ['topic']\n",
      "communication in science ['discipline'] ['topic']\n",
      "structural features ['topic', 'object-type'] ['topic']\n",
      "computers and the internet ['topic', 'object-type', 'multiple tags'] ['multiple tags']\n",
      "electronic books and readers ['object-type', 'multiple tags'] ['multiple tags']\n",
      "vook ['not categorizable'] ['object-type']\n",
      "digital classicist ['entity (person)'] ['topic']\n",
      "wikis ['object-type', 'resource/tool'] ['object-type']\n",
      "connected age ['time period'] ['topic']\n",
      "open educational resources ['topic', 'object-type'] ['topic']\n",
      "adafruit ['not categorizable'] ['entity (institution/organisation/brand)']\n",
      "cloudfab ['resource/tool'] ['entity (institution/organisation/brand)']\n",
      "gadgets ['object-type', 'resource/tool'] ['topic']\n",
      "green ['not categorizable'] ['topic']\n",
      "little bits ['not categorizable'] ['entity (institution/organisation/brand)']\n",
      "littlebits ['not categorizable'] ['entity (institution/organisation/brand)']\n",
      "makerbot ['not categorizable'] ['entity (institution/organisation/brand)', 'resource/tool']\n",
      "makers ['not categorizable'] ['topic']\n",
      "ponoko ['entity (institution/organisation/brand)', 'resource/tool'] ['entity (institution/organisation/brand)']\n",
      "retail ['not categorizable'] ['topic']\n",
      "science ['discipline'] ['topic']\n",
      "juxta ['not categorizable'] ['resource/tool']\n",
      "miscellanea ['not categorizable'] ['object-type']\n",
      "successful people ['entity (person)'] ['topic']\n",
      "co-located groups ['entity (person)'] ['topic']\n",
      "idea finding ['topic'] ['method/activity']\n",
      "personal digital assistants ['resource/tool'] ['topic']\n",
      "production blocking ['method/activity'] ['topic']\n",
      "tool-suite ['resource/tool'] ['topic']\n",
      "case studies ['object-type'] ['topic']\n",
      "literary criticism ['topic'] ['topic', 'method/activity']\n",
      "clipping ['method/activity'] ['object-type', 'method/activity']\n",
      "field study ['topic'] ['topic', 'method/activity']\n",
      "digital library project ['entity (project)'] ['topic']\n",
      "distributed proofreading project ['entity (project)'] ['topic']\n",
      "image scanners ['object-type'] ['topic']\n",
      "project gutenberg ['entity (project)'] ['entity (institution/organisation/brand)', 'resource/tool']\n",
      "humanities computing ['method/activity'] ['topic', 'discipline']\n",
      "australian literature ['topic'] ['object-type']\n",
      "play ['topic', 'method/activity'] ['object-type']\n",
      "law / legal history ['discipline', 'multiple tags'] ['multiple tags']\n",
      "literary criticism / ancient & classical ['topic', 'multiple tags'] ['multiple tags']\n",
      "literary criticism / medieval ['topic', 'multiple tags'] ['multiple tags']\n",
      "literary criticism / women authors ['topic', 'multiple tags'] ['multiple tags']\n",
      "science / history ['discipline', 'multiple tags'] ['multiple tags']\n",
      "social science / sociology / general ['discipline', 'multiple tags'] ['multiple tags']\n",
      "social science / sociology / marriage & family ['discipline', 'multiple tags'] ['multiple tags']\n",
      "social science / womens studies ['discipline', 'multiple tags'] ['multiple tags']\n",
      "poetry / european / english, irish, scottish, welsh ['topic', 'multiple tags'] ['multiple tags']\n",
      "history and criticism ['discipline', 'multiple tags'] ['multiple tags']\n",
      "civilization, medieval, in literature ['topic', 'multiple tags', 'time period'] ['multiple tags']\n",
      "english literature/ middle english, 1100-1500/ history and criticism ['topic', 'language', 'multiple tags'] ['multiple tags']\n",
      "history / europe / great britain ['entity (place)', 'discipline', 'multiple tags'] ['multiple tags']\n",
      "middle english, 1100-1500 ['language', 'multiple tags', 'time period'] ['multiple tags']\n",
      "search engines ['object-type'] ['topic']\n",
      "history / general ['discipline', 'multiple tags'] ['multiple tags']\n",
      "history / historical geography ['discipline', 'multiple tags'] ['multiple tags']\n",
      "science / earth sciences / geography ['discipline', 'multiple tags'] ['multiple tags']\n",
      "technology & engineering / remote sensing & geographic information systems ['method/activity', 'discipline', 'multiple tags'] ['multiple tags']\n",
      "travel / general ['method/activity', 'multiple tags'] ['multiple tags']\n",
      "historical geographic information systems ['object-type'] ['topic']\n",
      "social aspects methodology ['topic'] ['multiple tags']\n",
      "spatial information geographic information systems ['topic'] ['multiple tags']\n",
      "writing saving  <br> citations zotero library research guides ['object-type', 'method/activity'] ['multiple tags']\n",
      "deaths (fatalities) ['object-type'] ['topic']\n",
      "fires and firefighters ['entity (person)', 'multiple tags'] ['topic']\n",
      "transgender and transsexual ['topic', 'multiple tags'] ['multiple tags']\n",
      "social science / ethnic studies / african american studies ['discipline', 'multiple tags'] ['multiple tags']\n",
      "history / united states / 20th century ['entity (place)', 'discipline', 'multiple tags'] ['multiple tags']\n",
      "political science / civil rights ['topic', 'discipline', 'multiple tags'] ['multiple tags']\n",
      "social science / gender studies ['discipline', 'multiple tags'] ['multiple tags']\n",
      "universities ['object-type'] ['topic']\n",
      "cached resources ['object-type'] ['topic']\n",
      "recovery ['topic'] ['method/activity']\n",
      "search engine ['object-type'] ['topic']\n",
      "recordsearch ['method/activity'] ['resource/tool']\n",
      "experiments ['object-type'] ['topic']\n",
      "invisibleaustralians ['entity (project)'] ['topic', 'resource/tool', 'entity (project)']\n",
      "white australia ['topic', 'entity (place)'] ['topic']\n",
      "digital curation and preservation ['method/activity', 'multiple tags'] ['multiple tags']\n",
      "music / genres & styles / rap & hip hop ['topic', 'multiple tags'] ['multiple tags']\n",
      "circle ['topic'] ['not categorizable']\n",
      "trinity college ['entity (place)'] ['entity (institution/organisation/brand)']\n",
      "british museum ['entity (place)'] ['entity (institution/organisation/brand)']\n",
      "centre for digital humanities ['entity (place)'] ['topic']\n",
      "ucl lunch hour lectures ['object-type'] ['entity (event)']\n",
      "virtual visitors ['entity (person)'] ['topic']\n",
      "digitized ['not categorizable'] ['topic']\n",
      "vulgate ['topic', 'object-type'] ['object-type']\n",
      "congress ['entity (event)'] ['entity (institution/organisation/brand)']\n",
      "digital content ['topic'] ['object-type']\n",
      "scholarly communications ['discipline'] ['topic']\n",
      "ted talk ['entity (institution/organisation/brand)', 'entity (project)'] ['object-type']\n",
      "ted talks ['object-type', 'entity (institution/organisation/brand)', 'entity (project)'] ['object-type']\n",
      "ted2012 ['entity (institution/organisation/brand)', 'entity (project)'] ['not categorizable']\n",
      "tedtalk ['entity (institution/organisation/brand)', 'entity (project)'] ['object-type']\n",
      "british ['entity (place)'] ['topic', 'entity (place)']\n",
      "mediavision ['entity (institution/organisation/brand)'] ['resource/tool']\n",
      "columbia ['entity (institution/organisation/brand)', 'entity (place)'] ['entity (place)']\n",
      "humanistic ['topic', 'discipline'] ['topic']\n",
      "inspire ['not categorizable'] ['method/activity']\n",
      "mukomuc ['entity (institution/organisation/brand)'] ['entity (event)']\n",
      "museen ['object-type', 'entity (place)'] ['topic']\n",
      "musesocial ['not categorizable'] ['topic']\n",
      "musetech ['not categorizable'] ['topic']\n",
      "public ['not categorizable'] ['topic']\n",
      "scmuc12 ['not categorizable'] ['entity (event)']\n",
      "share ['method/activity'] ['topic', 'method/activity']\n",
      "the economist ['entity (institution/organisation/brand)'] ['entity (product)']\n",
      "web 2.0 ['format/standard'] ['topic']\n",
      "world ['entity (place)'] ['topic']\n",
      "anthony ['entity (person)'] ['not categorizable']\n",
      "donaldson ['entity (person)'] ['not categorizable']\n",
      "doug ['entity (person)'] ['not categorizable']\n",
      "dworak ['entity (person)'] ['not categorizable']\n",
      "mcn ['not categorizable'] ['entity (institution/organisation/brand)', 'entity (event)']\n",
      "melody ['topic'] ['entity (person)']\n",
      "reside ['not categorizable'] ['entity (person)']\n",
      "architectural history ['discipline'] ['topic', 'discipline']\n",
      "hgis ['method/activity'] ['resource/tool']\n",
      "nolli ['not categorizable'] ['entity (person)']\n",
      "vasi ['not categorizable'] ['entity (person)']\n",
      "dh 2011 opening keynote ['topic', 'object-type'] ['entity (event)']\n",
      "crowd source ['topic'] ['method/activity']\n",
      "crowdsource ['topic'] ['method/activity']\n",
      "flights ['object-type'] ['topic']\n",
      "java script ['format/standard'] ['resource/tool']\n",
      "koblin ['not categorizable'] ['resource/tool']\n",
      "lab ['entity (place)'] ['topic']\n",
      "message ['topic'] ['object-type']\n",
      "outsource ['topic'] ['method/activity']\n",
      "picture ['topic', 'object-type'] ['object-type']\n",
      "senseable city ['topic', 'entity (place)'] ['topic']\n",
      "sensible city ['topic', 'entity (place)'] ['topic']\n",
      "sheep ['topic'] ['object-type']\n",
      "story ['topic'] ['object-type']\n",
      "office ['entity (place)'] ['topic']\n",
      "architect ['entity (person)'] ['topic']\n",
      "building ['topic'] ['method/activity']\n",
      "designer ['entity (person)'] ['topic']\n",
      "guy ['entity (person)'] ['topic']\n",
      "product ['object-type'] ['topic']\n",
      "south ['entity (place)'] ['topic']\n",
      "space ['topic', 'entity (place)'] ['topic']\n",
      "wits ['topic', 'object-type'] ['topic']\n",
      "city ['entity (place)'] ['topic']\n",
      "connected ['not categorizable'] ['topic']\n",
      "tedx ['entity (institution/organisation/brand)', 'entity (project)'] ['entity (institution/organisation/brand)']\n",
      "dhsi ['entity (event)'] ['entity (institution/organisation/brand)']\n",
      "abe ['not categorizable'] ['entity (person)']\n",
      "hypercities ['topic', 'object-type', 'entity (place)'] ['topic']\n",
      "dead sea scrolls ['object-type'] ['topic']\n",
      "learned ['not categorizable'] ['topic']\n",
      "million ['not categorizable'] ['topic']\n",
      "christian ['entity (person)'] ['topic']\n",
      "codex ['topic'] ['object-type']\n",
      "modern ['time period'] ['topic']\n",
      "multispectral ['topic'] ['method/activity']\n",
      "netz ['topic'] ['entity (person)']\n",
      "palimpsest ['topic', 'object-type'] ['entity (product)']\n",
      "reviel ['not categorizable'] ['entity (person)']\n",
      "darwin, charles, 1809-1882 ['entity (person)', 'multiple tags', 'time period'] ['entity (person)']\n",
      "evolution (biology) ['discipline'] ['topic']\n",
      "humanities digital libraries ['object-type'] ['topic']\n",
      "science & the humanities ['discipline', 'multiple tags'] ['multiple tags']\n",
      "interfaces (informatique) ['topic', 'object-type'] ['topic']\n",
      "médias ['topic', 'object-type'] ['topic']\n",
      "science / philosophy & social aspects ['discipline', 'multiple tags'] ['multiple tags']\n",
      "social science / general ['discipline', 'multiple tags'] ['multiple tags']\n",
      "social science / research ['discipline', 'multiple tags'] ['multiple tags']\n",
      "enseignants de français ['entity (person)'] ['topic']\n",
      "lecture à l’écran ['topic', 'entity (event)'] ['topic']\n",
      "lecture distante ['topic', 'entity (event)'] ['method/activity']\n",
      "philosophy / criticism ['topic', 'discipline', 'multiple tags'] ['multiple tags']\n",
      "humanisme ['discipline'] ['topic']\n",
      "literary criticism / books & reading ['topic', 'method/activity', 'multiple tags'] ['multiple tags']\n",
      "literary criticism / australian & oceanian ['topic', 'multiple tags', 'entity (place)'] ['multiple tags']\n",
      "derrida ,  jacques  ( 1930-2004 ) ['entity (person)', 'time period'] ['entity (person)']\n",
      "édition savante électronique ['topic'] ['object-type']\n",
      "édition électronique ['topic'] ['object-type']\n",
      "usages ['object-type'] ['topic']\n",
      "language arts & disciplines / linguistics / semantics ['topic', 'discipline', 'multiple tags'] ['multiple tags']\n",
      "language arts & disciplines / rhetoric ['topic', 'discipline', 'multiple tags'] ['multiple tags']\n",
      "language arts & disciplines / speech ['topic', 'discipline', 'multiple tags'] ['multiple tags']\n",
      "foreign language study / english as a second language ['topic', 'discipline', 'multiple tags'] ['multiple tags']\n",
      "language arts & disciplines / library & information science / archives & special libraries ['topic', 'discipline', 'multiple tags'] ['multiple tags']\n",
      "language arts & disciplines / general ['topic', 'discipline', 'multiple tags'] ['multiple tags']\n",
      "language arts & disciplines / literacy ['topic', 'discipline', 'multiple tags'] ['multiple tags']\n",
      "computers / programming / general ['topic', 'method/activity', 'multiple tags'] ['multiple tags']\n",
      "literary criticism / reference ['topic', 'multiple tags'] ['multiple tags']\n",
      "bestiaire ['topic', 'object-type'] ['object-type']\n",
      "colette ['entity (person)'] ['not categorizable']\n",
      "frantext ['topic'] ['resource/tool']\n",
      "statistique ['discipline'] ['method/activity', 'discipline']\n",
      "computers / information technology ['topic', 'discipline', 'multiple tags'] ['multiple tags']\n",
      "computers / system administration / storage & retrieval ['topic', 'method/activity', 'discipline'] ['multiple tags']\n",
      "computers / optical data processing ['topic', 'method/activity', 'multiple tags'] ['multiple tags']\n",
      "computers / computer vision & pattern recognition ['topic', 'method/activity', 'multiple tags'] ['multiple tags']\n",
      "computers / data processing ['topic', 'method/activity', 'multiple tags'] ['multiple tags']\n",
      "computers / intelligence (ai) & semantics ['topic', 'multiple tags'] ['multiple tags']\n",
      "social media ['topic'] ['object-type']\n",
      "giraudoux, jean (1882-1944) language ['entity (person)', 'multiple tags', 'time period'] ['multiple tags']\n",
      "giraudoux, jean (1882-1944) langue ['entity (person)', 'multiple tags', 'time period'] ['multiple tags']\n",
      "corpus linguistique ['topic', 'object-type'] ['object-type']\n",
      "linguistique informatique ['discipline'] ['topic']\n",
      "littérature française 19e siècle thèmes, motifs ['topic', 'multiple tags', 'time period'] ['multiple tags']\n",
      "récits de voyages français 19e siècle histoire et critique ['object-type', 'multiple tags', 'time period'] ['multiple tags']\n",
      "voyages dans la littérature ['topic', 'object-type'] ['topic']\n",
      "corpus (recherche) ['topic', 'object-type'] ['object-type']\n",
      "littérature et informatique ['discipline', 'multiple tags'] ['multiple tags']\n",
      "statistique lexicale informatique ['discipline'] ['method/activity']\n",
      "electronic text ['topic'] ['object-type']\n",
      "encoding schemes ['object-type'] ['topic']\n",
      "markup language ['topic', 'format/standard'] ['topic']\n",
      "sgml ['format/standard'] ['method/activity']\n",
      "text processing (computer science) ['method/activity', 'discipline', 'multiple tags'] ['topic', 'method/activity']\n",
      "categorization ['topic'] ['method/activity']\n",
      "latin text ['topic'] ['object-type']\n",
      "maximum entropy model ['topic'] ['method/activity']\n",
      "mobile device ['topic'] ['object-type']\n",
      "short messaging service ['topic'] ['object-type']\n",
      "exist knowledge base ['topic'] ['topic', 'object-type']\n",
      "query expansion ['method/activity'] ['topic', 'method/activity']\n",
      "delaunay triangulation ['topic'] ['method/activity']\n",
      "dense region ['topic', 'entity (place)'] ['topic']\n",
      "text material ['topic'] ['object-type']\n",
      "deception detection ['method/activity'] ['topic']\n",
      "true teller ['not categorizable'] ['topic']\n",
      "computers / databases / data mining ['object-type', 'method/activity', 'multiple tags'] ['multiple tags']\n",
      "computers / databases / general ['object-type', 'multiple tags'] ['multiple tags']\n",
      "computers / desktop applications / design & graphics ['object-type', 'multiple tags'] ['multiple tags']\n",
      "computers / interactive & multimedia ['topic', 'multiple tags'] ['multiple tags']\n",
      "computers / networking / hardware ['topic', 'method/activity', 'multiple tags'] ['multiple tags']\n",
      "string similarity ['topic'] ['method/activity']\n",
      "historical research ['method/activity'] ['topic']\n",
      "historical source ['topic'] ['object-type']\n",
      "police report ['topic', 'object-type'] ['object-type']\n",
      "computational linguistic ['discipline'] ['not categorizable']\n",
      "product review ['topic', 'object-type'] ['object-type']\n",
      "data visualization tools ['object-type', 'resource/tool'] ['topic']\n",
      "patent information ['topic'] ['object-type']\n",
      "review ['topic'] ['object-type', 'method/activity']\n",
      "word association ['topic'] ['method/activity']\n",
      "clustering algorithms ['topic'] ['method/activity']\n",
      "cosine similarity ['topic'] ['method/activity']\n",
      "electronic mail ['topic'] ['object-type']\n",
      "frequent terms ['object-type'] ['topic']\n",
      "guttenbergs william shakespeare stories dataset ['object-type', 'entity (person)', 'multiple tags'] ['resource/tool']\n",
      "hierarchical agglomerative clustering algorithm ['topic'] ['method/activity']\n",
      "k-means clustering algorithm ['topic'] ['method/activity']\n",
      "linux ['entity (institution/organisation/brand)'] ['entity (institution/organisation/brand)', 'resource/tool']\n",
      "statistical analysis tool ['resource/tool'] ['topic']\n",
      "computers / expert systems ['object-type', 'multiple tags'] ['multiple tags']\n",
      "mathematics / discrete mathematics ['discipline', 'multiple tags'] ['multiple tags']\n",
      "mathematics / general ['discipline', 'multiple tags'] ['multiple tags']\n",
      "science / physics / general ['discipline', 'multiple tags'] ['multiple tags']\n",
      "co-occurrences ['topic', 'object-type'] ['topic']\n",
      "collocation ['method/activity'] ['topic']\n",
      "cooccurrences ['topic', 'object-type'] ['topic']\n",
      "corrélats ['topic', 'object-type'] ['topic']\n",
      "digital text ['topic', 'object-type'] ['object-type']\n",
      "j.5 computer applications: arts and humanities ['discipline', 'multiple tags'] ['multiple tags']\n",
      "computers / general ['object-type', 'multiple tags'] ['multiple tags']\n",
      "language arts & disciplines / authorship ['discipline'] ['multiple tags']\n",
      "austen, jane - technique ['entity (person)', 'multiple tags'] ['multiple tags']\n",
      "criticism - data processing ['method/activity', 'multiple tags'] ['multiple tags']\n",
      "criticism/ data processing ['method/activity', 'multiple tags'] ['multiple tags']\n",
      "fiction - technique ['topic'] ['multiple tags']\n",
      "love stories, english ['object-type', 'language', 'multiple tags'] ['object-type']\n",
      "love stories, english - history and criticism ['object-type', 'language', 'multiple tags'] ['multiple tags']\n",
      "love stories, english/ history and criticism ['object-type', 'language', 'multiple tags'] ['multiple tags']\n",
      "libraries and librarians ['entity (person)', 'multiple tags', 'entity (place)'] ['multiple tags']\n",
      "statistics ['discipline'] ['method/activity', 'discipline']\n",
      "computer science - computation and language ['method/activity', 'discipline', 'multiple tags'] ['multiple tags']\n",
      "computer science - artificial intelligence ['topic', 'discipline', 'multiple tags'] ['multiple tags']\n",
      "mathematics / probability & statistics / general ['topic', 'discipline', 'multiple tags'] ['multiple tags']\n",
      "business & economics / statistics ['discipline', 'multiple tags'] ['multiple tags']\n",
      "hyperbase ['not categorizable'] ['resource/tool']\n",
      "lemmes ['object-type'] ['topic']\n",
      "mots ['object-type'] ['topic']\n",
      "linguistique de corpus ['discipline'] ['topic', 'discipline']\n",
      "linguistique systémique fonctionnelle ['discipline'] ['topic', 'discipline']\n",
      "logiciel txm ['method/activity'] ['resource/tool']\n",
      "traduction ['method/activity'] ['object-type', 'method/activity']\n",
      "estadísticas lexicales ['object-type'] ['topic', 'method/activity']\n",
      "lexical studies ['discipline'] ['topic', 'method/activity', 'discipline']\n",
      "statistiques lexicales ['object-type'] ['topic', 'method/activity']\n",
      "drama / shakespeare ['topic', 'entity (person)', 'multiple tags'] ['multiple tags']\n",
      "literary criticism / shakespeare ['topic', 'entity (person)', 'multiple tags'] ['multiple tags']\n",
      "parody ['topic'] ['object-type']\n",
      "literary criticism / european / german ['topic', 'language', 'multiple tags'] ['multiple tags']\n",
      "business & economics / commerce ['discipline'] ['multiple tags']\n",
      "electrical engineering ['method/activity'] ['topic']\n",
      "electronics ['topic', 'discipline'] ['object-type']\n",
      "social edition ['topic'] ['object-type']\n",
      "social media. ['topic'] ['object-type']\n",
      "neue medien ['topic'] ['object-type']\n",
      "digitale medien ['topic'] ['object-type']\n",
      "höfische dichtung ['topic'] ['object-type']\n",
      "höfische literatur ['topic'] ['object-type']\n",
      "hyperdokument ['topic', 'object-type'] ['object-type']\n",
      "hypertextdokument ['topic', 'object-type'] ['object-type']\n",
      "ritterdichtung ['topic'] ['object-type']\n",
      "web mapping, internet, map-based online system, mapserver ['topic', 'method/activity', 'multiple tags'] ['multiple tags']\n",
      "web-mapping, internet, kartenserver ['topic', 'method/activity', 'multiple tags'] ['multiple tags']\n",
      "duitse letterkunde ['topic'] ['discipline']\n",
      "cuestiones textuales ['object-type'] ['topic']\n",
      "sanskrit literature ['topic', 'language'] ['object-type']\n",
      "item ['object-type'] ['topic']\n",
      "linguistique ['discipline', 'not categorizable'] ['topic']\n",
      "numérique ['not categorizable'] ['topic']\n",
      "computer graphics ['topic'] ['topic', 'discipline']\n",
      "document preparation and text processing ['method/activity', 'multiple tags'] ['multiple tags']\n",
      "image processing and computer vision ['topic', 'method/activity', 'multiple tags'] ['multiple tags']\n",
      "information storage and retrieval ['method/activity', 'multiple tags'] ['topic', 'multiple tags']\n",
      "information systems applications (incl.internet) ['topic', 'object-type'] ['topic']\n",
      "multimedia information systems ['topic', 'object-type'] ['topic']\n",
      "computer science - digital libraries ['object-type', 'discipline', 'multiple tags'] ['multiple tags']\n",
      "pragmatiek ['topic'] ['topic', 'discipline']\n",
      "kunst ['discipline'] ['object-type', 'discipline']\n",
      "p5 ['not categorizable'] ['format/standard']\n",
      "publishing tools ['object-type', 'resource/tool'] ['object-type']\n",
      "digital scholarly editions ['topic', 'object-type'] ['object-type']\n",
      "stand-off markup ['method/activity'] ['topic']\n",
      "création (esthétique) ['method/activity'] ['topic']\n",
      "critique textuelle ['topic'] ['topic', 'method/activity']\n",
      "littérature française commentaire de texte ['topic', 'language'] ['multiple tags']\n",
      "documentaire informatie ['topic'] ['not categorizable']\n",
      "letterkunde: auteurs ['topic', 'multiple tags'] ['multiple tags']\n",
      "édition numérique ['topic'] ['object-type']\n",
      "études francophones ['discipline'] ['topic']\n",
      "processus de création ['topic'] ['topic', 'method/activity']\n",
      "data processing computer science ['method/activity', 'discipline', 'multiple tags'] ['multiple tags']\n",
      "geography and history ['discipline', 'multiple tags'] ['multiple tags']\n",
      "library and information sciences ['discipline', 'multiple tags'] ['discipline']\n",
      "technology (applied sciences) ['topic', 'multiple tags'] ['discipline']\n",
      "criticism, textual congresses ['topic', 'multiple tags'] ['multiple tags']\n",
      "critica del testo ['topic', 'method/activity'] ['entity (product)']\n",
      "filologia classica ['topic'] ['discipline']\n",
      "saggi ['object-type'] ['not categorizable']\n",
      "textual criticism n ['topic'] ['topic', 'method/activity']\n",
      "criticism, textual. y ['topic'] ['topic', 'method/activity']\n",
      "italian language criticism, textual. ['topic', 'language'] ['topic', 'method/activity']\n",
      "latin language criticism, textual. ['topic', 'language'] ['topic', 'method/activity']\n",
      "criticism, textual handbooks, manuals, etc. y ['topic', 'object-type', 'multiple tags'] ['multiple tags']\n",
      "literary transmission ['method/activity'] ['topic']\n",
      "literary transmission n ['method/activity'] ['topic']\n",
      "manuscript transmission ['method/activity'] ['topic']\n",
      "manuscript transmission n ['method/activity'] ['topic']\n",
      "textual transmission ['method/activity'] ['topic']\n",
      "textual transmission n ['method/activity'] ['topic']\n",
      "transmission of texts y ['method/activity'] ['topic']\n",
      "italian literature criticism, textual ['topic', 'language'] ['multiple tags']\n"
     ]
    }
   ],
   "source": [
    "for x in df.index:\n",
    "    if df.loc[x, \"Mismatches\"] > 0:\n",
    "        print(df.loc[x, \"Tag\"], [x for x in df.loc[x, \"Categories_x\"]], [x for x in df.loc[x, \"Categories_y\"]])"
   ]
  },
  {
   "cell_type": "markdown",
   "metadata": {},
   "source": [
    "### Taking a closer look at individual categories (only matches considered)"
   ]
  },
  {
   "cell_type": "code",
   "execution_count": 15,
   "metadata": {},
   "outputs": [],
   "source": [
    "def show_matching_entities(category):\n",
    "    print(\"Kategorie:\", category)\n",
    "    print()\n",
    "    entities = []\n",
    "    for x in df.index:\n",
    "        if category in df.loc[x, \"Categories_x\"] and category in df.loc[x, \"Categories_y\"]:\n",
    "            entities.append(df.loc[x, \"Tag\"])\n",
    "    for x in sorted(entities):\n",
    "        print(x)"
   ]
  },
  {
   "cell_type": "code",
   "execution_count": 21,
   "metadata": {},
   "outputs": [
    {
     "name": "stdout",
     "output_type": "stream",
     "text": [
      "Kategorie: discipline\n",
      "\n",
      "550 geowissenschaften\n",
      "african american history\n",
      "african history\n",
      "alte geschichte\n",
      "american history\n",
      "amerikaanse letterkunde\n",
      "ancient history\n",
      "anthropologie\n",
      "anthropology\n",
      "applied humanities\n",
      "archaeology\n",
      "archeology\n",
      "architectural history\n",
      "architecture\n",
      "architektur\n",
      "architektur,\n",
      "archival studies\n",
      "archäologie\n",
      "art history\n",
      "art science\n",
      "art studies\n",
      "arts\n",
      "astronomy\n",
      "austrian music studies\n",
      "bauforschung\n",
      "bioarchaeology\n",
      "biological sciences\n",
      "biology\n",
      "book history\n",
      "bulgarian history\n",
      "business\n",
      "canadian history\n",
      "ceramic studies\n",
      "chemistry\n",
      "codicology\n",
      "communication sciences\n",
      "communication studies\n",
      "computational linguistics\n",
      "computational social science\n",
      "computer science\n",
      "computer sciences\n",
      "computerlinguistik\n",
      "contemporary history\n",
      "corpus linguistics\n",
      "cscw\n",
      "culinary history\n",
      "cultural history\n",
      "cultural studies\n",
      "culture studies\n",
      "data science\n",
      "dh\n",
      "dialectology\n",
      "didactics\n",
      "didaktik\n",
      "digital diplomatics\n",
      "digital forensic science\n",
      "digital history\n",
      "digital hmanities\n",
      "digital humanism\n",
      "digital humanities\n",
      "digital lexicography\n",
      "digital museology\n",
      "digital musicology\n",
      "digitalhumanities\n",
      "diplomacy\n",
      "diplomatics\n",
      "diplomatik\n",
      "diversity studies\n",
      "early modern history\n",
      "early modern studies\n",
      "earth sciences\n",
      "east asian history\n",
      "economics\n",
      "editionswissenschafte\n",
      "editionswissenschaften\n",
      "educational sciences\n",
      "egyptology\n",
      "elexicography\n",
      "engelse letterkunde\n",
      "environmental humanities\n",
      "epidemiology\n",
      "epigraphy\n",
      "ethics\n",
      "ethnic studies\n",
      "ethnography\n",
      "ethnology\n",
      "european history\n",
      "feminism\n",
      "film history\n",
      "filología\n",
      "forensic sciences\n",
      "franse letterkunde\n",
      "game studies\n",
      "geisteswissenschaften\n",
      "gender medicine\n",
      "gender studies\n",
      "geodh\n",
      "geography\n",
      "geowissenschaften\n",
      "german studies\n",
      "geschichte\n",
      "geschichtswissenschaft\n",
      "global history\n",
      "heritage science\n",
      "historical auxiliary sciences\n",
      "historical geography\n",
      "historical linguistics\n",
      "historiography\n",
      "history\n",
      "history of musicology\n",
      "history of scholarship\n",
      "history of science\n",
      "history of technology\n",
      "history studies\n",
      "human geography\n",
      "human subjects research\n",
      "humanidades digitales\n",
      "humanities\n",
      "humanités numériques\n",
      "indian history\n",
      "ipr\n",
      "islamic history\n",
      "italian philology. y\n",
      "jewish history\n",
      "jewish studies\n",
      "klassische philologie\n",
      "knowledge science\n",
      "kunst\n",
      "kunst \n",
      "kunstgeschichte\n",
      "labor history\n",
      "language studies\n",
      "law\n",
      "legal history\n",
      "lesbian and gay history\n",
      "letterkunde\n",
      "lexical studies\n",
      "lexicométrie\n",
      "lgbt history\n",
      "library and information sciences\n",
      "library science\n",
      "linguistics\n",
      "linguistik\n",
      "linguistique de corpus\n",
      "linguistique systémique fonctionnelle\n",
      "lingustics\n",
      "literary studies\n",
      "literaturwissenschaften\n",
      "math\n",
      "mathematik\n",
      "maths\n",
      "media studies\n",
      "medicine\n",
      "medieval archaeology\n",
      "medieval history\n",
      "medieval studies\n",
      "medizin\n",
      "mediävistik\n",
      "meteorology\n",
      "migration studies\n",
      "mittelalterforschung\n",
      "museum studies\n",
      "music history\n",
      "music philology\n",
      "musicology\n",
      "musikologie\n",
      "musikwissenschaft\n",
      "muslim history\n",
      "natural sciences\n",
      "network science\n",
      "numismatics\n",
      "onomastics\n",
      "oriental studies\n",
      "palaeography\n",
      "paleography\n",
      "pedagogie\n",
      "pedagogy\n",
      "personography\n",
      "philosophie\n",
      "philosophy\n",
      "phonetics\n",
      "physics\n",
      "political science\n",
      "political sciences\n",
      "post medieval archaeology\n",
      "pragmatics\n",
      "prosopography\n",
      "psychology\n",
      "relational archaeology\n",
      "robotics\n",
      "romance philology\n",
      "romance philology y\n",
      "sciences humaines\n",
      "social & economic geography\n",
      "social and economoc history\n",
      "social science\n",
      "social sciences\n",
      "social scienes\n",
      "sociolinguistics\n",
      "sociology\n",
      "sound studies\n",
      "sozialgeschichte\n",
      "sozialwissenschaften\n",
      "spatial humanities\n",
      "sprachwissenschaften\n",
      "statistics\n",
      "statistique\n",
      "statistique lexicale\n",
      "stemmatology\n",
      "study of hebrew\n",
      "textométrie\n",
      "the arts\n",
      "theatre studies\n",
      "theology\n",
      "urban studies\n",
      "urbanism\n",
      "urbanistik\n",
      "wirtschaftsgeschichte\n",
      "womens history\n"
     ]
    }
   ],
   "source": [
    "show_matching_entities(\"discipline\")"
   ]
  },
  {
   "cell_type": "markdown",
   "metadata": {},
   "source": [
    "### Comparing different categories in terms of (mis)matches"
   ]
  },
  {
   "cell_type": "code",
   "execution_count": 17,
   "metadata": {},
   "outputs": [],
   "source": [
    "def count_match(category):\n",
    "    count = 0\n",
    "    for x in df.index:\n",
    "        if category in df.loc[x, \"Categories_x\"] and category in df.loc[x, \"Categories_y\"]:\n",
    "            count = count + 1\n",
    "    return count\n",
    "\n",
    "def count_mismatch(category):\n",
    "    count = 0\n",
    "    for x in df.index:\n",
    "        if category in df.loc[x, \"Categories_x\"] and category not in df.loc[x, \"Categories_y\"]:\n",
    "            count = count + 1\n",
    "        elif category not in df.loc[x, \"Categories_x\"] and category in df.loc[x, \"Categories_y\"]:\n",
    "            count = count + 1\n",
    "    return count\n",
    "\n",
    "def calculate_agreement(category):\n",
    "    matches = count_match(category)\n",
    "    mismatches = count_mismatch(category)\n",
    "    rate = matches*100/(matches+mismatches)\n",
    "    return rate\n",
    "\n",
    "def print_agreement(category):\n",
    "    rate = calculate_agreement(category)\n",
    "    print(round(rate, 2), \"%\")"
   ]
  },
  {
   "cell_type": "code",
   "execution_count": 18,
   "metadata": {},
   "outputs": [
    {
     "name": "stdout",
     "output_type": "stream",
     "text": [
      "discipline\n",
      "57.18 %\n",
      "\n",
      "entity (event)\n",
      "27.59 %\n",
      "\n",
      "entity (institution/organisation/brand)\n",
      "41.07 %\n",
      "\n",
      "entity (person)\n",
      "52.1 %\n",
      "\n",
      "entity (place)\n",
      "62.58 %\n",
      "\n",
      "entity (product)\n",
      "36.36 %\n",
      "\n",
      "entity (project)\n",
      "13.33 %\n",
      "\n",
      "format/standard\n",
      "43.48 %\n",
      "\n",
      "language\n",
      "76.56 %\n",
      "\n",
      "method/activity\n",
      "68.6 %\n",
      "\n",
      "multiple tags\n",
      "75.13 %\n",
      "\n",
      "not categorizable\n",
      "27.65 %\n",
      "\n",
      "object-type\n",
      "47.06 %\n",
      "\n",
      "resource/tool\n",
      "36.62 %\n",
      "\n",
      "time period\n",
      "39.66 %\n",
      "\n",
      "topic\n",
      "44.17 %\n",
      "\n"
     ]
    }
   ],
   "source": [
    "categories = [\"discipline\", \"entity (event)\", \"entity (institution/organisation/brand)\", \"entity (person)\", \n",
    "              \"entity (place)\", \"entity (product)\", \"entity (project)\", \"format/standard\", \"language\", \"method/activity\", \n",
    "              \"multiple tags\", \"not categorizable\", \"object-type\", \"resource/tool\", \"time period\", \"topic\"]\n",
    "\n",
    "for category in categories:\n",
    "    print(category)\n",
    "    print_agreement(category)\n",
    "    print()"
   ]
  },
  {
   "cell_type": "code",
   "execution_count": 19,
   "metadata": {},
   "outputs": [
    {
     "data": {
      "application/vnd.plotly.v1+json": {
       "config": {
        "plotlyServerURL": "https://plot.ly"
       },
       "data": [
        {
         "name": "Agreement Rates",
         "type": "bar",
         "x": [
          "discipline",
          "entity (event)",
          "entity (institution/organisation/brand)",
          "entity (person)",
          "entity (place)",
          "entity (product)",
          "entity (project)",
          "format/standard",
          "language",
          "method/activity",
          "multiple tags",
          "not categorizable",
          "object-type",
          "resource/tool",
          "time period",
          "topic"
         ],
         "y": [
          57.180156657963444,
          27.586206896551722,
          41.07142857142857,
          52.09580838323353,
          62.576687116564415,
          36.36363636363637,
          13.333333333333334,
          43.47826086956522,
          76.5625,
          68.60282574568289,
          75.13227513227513,
          27.649769585253456,
          47.05882352941177,
          36.61971830985915,
          39.6551724137931,
          44.16932907348243
         ]
        }
       ],
       "layout": {
        "template": {
         "data": {
          "bar": [
           {
            "error_x": {
             "color": "#2a3f5f"
            },
            "error_y": {
             "color": "#2a3f5f"
            },
            "marker": {
             "line": {
              "color": "#E5ECF6",
              "width": 0.5
             },
             "pattern": {
              "fillmode": "overlay",
              "size": 10,
              "solidity": 0.2
             }
            },
            "type": "bar"
           }
          ],
          "barpolar": [
           {
            "marker": {
             "line": {
              "color": "#E5ECF6",
              "width": 0.5
             },
             "pattern": {
              "fillmode": "overlay",
              "size": 10,
              "solidity": 0.2
             }
            },
            "type": "barpolar"
           }
          ],
          "carpet": [
           {
            "aaxis": {
             "endlinecolor": "#2a3f5f",
             "gridcolor": "white",
             "linecolor": "white",
             "minorgridcolor": "white",
             "startlinecolor": "#2a3f5f"
            },
            "baxis": {
             "endlinecolor": "#2a3f5f",
             "gridcolor": "white",
             "linecolor": "white",
             "minorgridcolor": "white",
             "startlinecolor": "#2a3f5f"
            },
            "type": "carpet"
           }
          ],
          "choropleth": [
           {
            "colorbar": {
             "outlinewidth": 0,
             "ticks": ""
            },
            "type": "choropleth"
           }
          ],
          "contour": [
           {
            "colorbar": {
             "outlinewidth": 0,
             "ticks": ""
            },
            "colorscale": [
             [
              0,
              "#0d0887"
             ],
             [
              0.1111111111111111,
              "#46039f"
             ],
             [
              0.2222222222222222,
              "#7201a8"
             ],
             [
              0.3333333333333333,
              "#9c179e"
             ],
             [
              0.4444444444444444,
              "#bd3786"
             ],
             [
              0.5555555555555556,
              "#d8576b"
             ],
             [
              0.6666666666666666,
              "#ed7953"
             ],
             [
              0.7777777777777778,
              "#fb9f3a"
             ],
             [
              0.8888888888888888,
              "#fdca26"
             ],
             [
              1,
              "#f0f921"
             ]
            ],
            "type": "contour"
           }
          ],
          "contourcarpet": [
           {
            "colorbar": {
             "outlinewidth": 0,
             "ticks": ""
            },
            "type": "contourcarpet"
           }
          ],
          "heatmap": [
           {
            "colorbar": {
             "outlinewidth": 0,
             "ticks": ""
            },
            "colorscale": [
             [
              0,
              "#0d0887"
             ],
             [
              0.1111111111111111,
              "#46039f"
             ],
             [
              0.2222222222222222,
              "#7201a8"
             ],
             [
              0.3333333333333333,
              "#9c179e"
             ],
             [
              0.4444444444444444,
              "#bd3786"
             ],
             [
              0.5555555555555556,
              "#d8576b"
             ],
             [
              0.6666666666666666,
              "#ed7953"
             ],
             [
              0.7777777777777778,
              "#fb9f3a"
             ],
             [
              0.8888888888888888,
              "#fdca26"
             ],
             [
              1,
              "#f0f921"
             ]
            ],
            "type": "heatmap"
           }
          ],
          "heatmapgl": [
           {
            "colorbar": {
             "outlinewidth": 0,
             "ticks": ""
            },
            "colorscale": [
             [
              0,
              "#0d0887"
             ],
             [
              0.1111111111111111,
              "#46039f"
             ],
             [
              0.2222222222222222,
              "#7201a8"
             ],
             [
              0.3333333333333333,
              "#9c179e"
             ],
             [
              0.4444444444444444,
              "#bd3786"
             ],
             [
              0.5555555555555556,
              "#d8576b"
             ],
             [
              0.6666666666666666,
              "#ed7953"
             ],
             [
              0.7777777777777778,
              "#fb9f3a"
             ],
             [
              0.8888888888888888,
              "#fdca26"
             ],
             [
              1,
              "#f0f921"
             ]
            ],
            "type": "heatmapgl"
           }
          ],
          "histogram": [
           {
            "marker": {
             "pattern": {
              "fillmode": "overlay",
              "size": 10,
              "solidity": 0.2
             }
            },
            "type": "histogram"
           }
          ],
          "histogram2d": [
           {
            "colorbar": {
             "outlinewidth": 0,
             "ticks": ""
            },
            "colorscale": [
             [
              0,
              "#0d0887"
             ],
             [
              0.1111111111111111,
              "#46039f"
             ],
             [
              0.2222222222222222,
              "#7201a8"
             ],
             [
              0.3333333333333333,
              "#9c179e"
             ],
             [
              0.4444444444444444,
              "#bd3786"
             ],
             [
              0.5555555555555556,
              "#d8576b"
             ],
             [
              0.6666666666666666,
              "#ed7953"
             ],
             [
              0.7777777777777778,
              "#fb9f3a"
             ],
             [
              0.8888888888888888,
              "#fdca26"
             ],
             [
              1,
              "#f0f921"
             ]
            ],
            "type": "histogram2d"
           }
          ],
          "histogram2dcontour": [
           {
            "colorbar": {
             "outlinewidth": 0,
             "ticks": ""
            },
            "colorscale": [
             [
              0,
              "#0d0887"
             ],
             [
              0.1111111111111111,
              "#46039f"
             ],
             [
              0.2222222222222222,
              "#7201a8"
             ],
             [
              0.3333333333333333,
              "#9c179e"
             ],
             [
              0.4444444444444444,
              "#bd3786"
             ],
             [
              0.5555555555555556,
              "#d8576b"
             ],
             [
              0.6666666666666666,
              "#ed7953"
             ],
             [
              0.7777777777777778,
              "#fb9f3a"
             ],
             [
              0.8888888888888888,
              "#fdca26"
             ],
             [
              1,
              "#f0f921"
             ]
            ],
            "type": "histogram2dcontour"
           }
          ],
          "mesh3d": [
           {
            "colorbar": {
             "outlinewidth": 0,
             "ticks": ""
            },
            "type": "mesh3d"
           }
          ],
          "parcoords": [
           {
            "line": {
             "colorbar": {
              "outlinewidth": 0,
              "ticks": ""
             }
            },
            "type": "parcoords"
           }
          ],
          "pie": [
           {
            "automargin": true,
            "type": "pie"
           }
          ],
          "scatter": [
           {
            "marker": {
             "colorbar": {
              "outlinewidth": 0,
              "ticks": ""
             }
            },
            "type": "scatter"
           }
          ],
          "scatter3d": [
           {
            "line": {
             "colorbar": {
              "outlinewidth": 0,
              "ticks": ""
             }
            },
            "marker": {
             "colorbar": {
              "outlinewidth": 0,
              "ticks": ""
             }
            },
            "type": "scatter3d"
           }
          ],
          "scattercarpet": [
           {
            "marker": {
             "colorbar": {
              "outlinewidth": 0,
              "ticks": ""
             }
            },
            "type": "scattercarpet"
           }
          ],
          "scattergeo": [
           {
            "marker": {
             "colorbar": {
              "outlinewidth": 0,
              "ticks": ""
             }
            },
            "type": "scattergeo"
           }
          ],
          "scattergl": [
           {
            "marker": {
             "colorbar": {
              "outlinewidth": 0,
              "ticks": ""
             }
            },
            "type": "scattergl"
           }
          ],
          "scattermapbox": [
           {
            "marker": {
             "colorbar": {
              "outlinewidth": 0,
              "ticks": ""
             }
            },
            "type": "scattermapbox"
           }
          ],
          "scatterpolar": [
           {
            "marker": {
             "colorbar": {
              "outlinewidth": 0,
              "ticks": ""
             }
            },
            "type": "scatterpolar"
           }
          ],
          "scatterpolargl": [
           {
            "marker": {
             "colorbar": {
              "outlinewidth": 0,
              "ticks": ""
             }
            },
            "type": "scatterpolargl"
           }
          ],
          "scatterternary": [
           {
            "marker": {
             "colorbar": {
              "outlinewidth": 0,
              "ticks": ""
             }
            },
            "type": "scatterternary"
           }
          ],
          "surface": [
           {
            "colorbar": {
             "outlinewidth": 0,
             "ticks": ""
            },
            "colorscale": [
             [
              0,
              "#0d0887"
             ],
             [
              0.1111111111111111,
              "#46039f"
             ],
             [
              0.2222222222222222,
              "#7201a8"
             ],
             [
              0.3333333333333333,
              "#9c179e"
             ],
             [
              0.4444444444444444,
              "#bd3786"
             ],
             [
              0.5555555555555556,
              "#d8576b"
             ],
             [
              0.6666666666666666,
              "#ed7953"
             ],
             [
              0.7777777777777778,
              "#fb9f3a"
             ],
             [
              0.8888888888888888,
              "#fdca26"
             ],
             [
              1,
              "#f0f921"
             ]
            ],
            "type": "surface"
           }
          ],
          "table": [
           {
            "cells": {
             "fill": {
              "color": "#EBF0F8"
             },
             "line": {
              "color": "white"
             }
            },
            "header": {
             "fill": {
              "color": "#C8D4E3"
             },
             "line": {
              "color": "white"
             }
            },
            "type": "table"
           }
          ]
         },
         "layout": {
          "annotationdefaults": {
           "arrowcolor": "#2a3f5f",
           "arrowhead": 0,
           "arrowwidth": 1
          },
          "autotypenumbers": "strict",
          "coloraxis": {
           "colorbar": {
            "outlinewidth": 0,
            "ticks": ""
           }
          },
          "colorscale": {
           "diverging": [
            [
             0,
             "#8e0152"
            ],
            [
             0.1,
             "#c51b7d"
            ],
            [
             0.2,
             "#de77ae"
            ],
            [
             0.3,
             "#f1b6da"
            ],
            [
             0.4,
             "#fde0ef"
            ],
            [
             0.5,
             "#f7f7f7"
            ],
            [
             0.6,
             "#e6f5d0"
            ],
            [
             0.7,
             "#b8e186"
            ],
            [
             0.8,
             "#7fbc41"
            ],
            [
             0.9,
             "#4d9221"
            ],
            [
             1,
             "#276419"
            ]
           ],
           "sequential": [
            [
             0,
             "#0d0887"
            ],
            [
             0.1111111111111111,
             "#46039f"
            ],
            [
             0.2222222222222222,
             "#7201a8"
            ],
            [
             0.3333333333333333,
             "#9c179e"
            ],
            [
             0.4444444444444444,
             "#bd3786"
            ],
            [
             0.5555555555555556,
             "#d8576b"
            ],
            [
             0.6666666666666666,
             "#ed7953"
            ],
            [
             0.7777777777777778,
             "#fb9f3a"
            ],
            [
             0.8888888888888888,
             "#fdca26"
            ],
            [
             1,
             "#f0f921"
            ]
           ],
           "sequentialminus": [
            [
             0,
             "#0d0887"
            ],
            [
             0.1111111111111111,
             "#46039f"
            ],
            [
             0.2222222222222222,
             "#7201a8"
            ],
            [
             0.3333333333333333,
             "#9c179e"
            ],
            [
             0.4444444444444444,
             "#bd3786"
            ],
            [
             0.5555555555555556,
             "#d8576b"
            ],
            [
             0.6666666666666666,
             "#ed7953"
            ],
            [
             0.7777777777777778,
             "#fb9f3a"
            ],
            [
             0.8888888888888888,
             "#fdca26"
            ],
            [
             1,
             "#f0f921"
            ]
           ]
          },
          "colorway": [
           "#636efa",
           "#EF553B",
           "#00cc96",
           "#ab63fa",
           "#FFA15A",
           "#19d3f3",
           "#FF6692",
           "#B6E880",
           "#FF97FF",
           "#FECB52"
          ],
          "font": {
           "color": "#2a3f5f"
          },
          "geo": {
           "bgcolor": "white",
           "lakecolor": "white",
           "landcolor": "#E5ECF6",
           "showlakes": true,
           "showland": true,
           "subunitcolor": "white"
          },
          "hoverlabel": {
           "align": "left"
          },
          "hovermode": "closest",
          "mapbox": {
           "style": "light"
          },
          "paper_bgcolor": "white",
          "plot_bgcolor": "#E5ECF6",
          "polar": {
           "angularaxis": {
            "gridcolor": "white",
            "linecolor": "white",
            "ticks": ""
           },
           "bgcolor": "#E5ECF6",
           "radialaxis": {
            "gridcolor": "white",
            "linecolor": "white",
            "ticks": ""
           }
          },
          "scene": {
           "xaxis": {
            "backgroundcolor": "#E5ECF6",
            "gridcolor": "white",
            "gridwidth": 2,
            "linecolor": "white",
            "showbackground": true,
            "ticks": "",
            "zerolinecolor": "white"
           },
           "yaxis": {
            "backgroundcolor": "#E5ECF6",
            "gridcolor": "white",
            "gridwidth": 2,
            "linecolor": "white",
            "showbackground": true,
            "ticks": "",
            "zerolinecolor": "white"
           },
           "zaxis": {
            "backgroundcolor": "#E5ECF6",
            "gridcolor": "white",
            "gridwidth": 2,
            "linecolor": "white",
            "showbackground": true,
            "ticks": "",
            "zerolinecolor": "white"
           }
          },
          "shapedefaults": {
           "line": {
            "color": "#2a3f5f"
           }
          },
          "ternary": {
           "aaxis": {
            "gridcolor": "white",
            "linecolor": "white",
            "ticks": ""
           },
           "baxis": {
            "gridcolor": "white",
            "linecolor": "white",
            "ticks": ""
           },
           "bgcolor": "#E5ECF6",
           "caxis": {
            "gridcolor": "white",
            "linecolor": "white",
            "ticks": ""
           }
          },
          "title": {
           "x": 0.05
          },
          "xaxis": {
           "automargin": true,
           "gridcolor": "white",
           "linecolor": "white",
           "ticks": "",
           "title": {
            "standoff": 15
           },
           "zerolinecolor": "white",
           "zerolinewidth": 2
          },
          "yaxis": {
           "automargin": true,
           "gridcolor": "white",
           "linecolor": "white",
           "ticks": "",
           "title": {
            "standoff": 15
           },
           "zerolinecolor": "white",
           "zerolinewidth": 2
          }
         }
        },
        "title": {
         "text": "Agreement Rates by Category"
        },
        "xaxis": {
         "tickangle": -45,
         "title": {
          "text": "Category"
         }
        },
        "yaxis": {
         "range": [
          0,
          100
         ],
         "title": {
          "text": "Agreement Rate (%)"
         }
        }
       }
      }
     },
     "metadata": {},
     "output_type": "display_data"
    }
   ],
   "source": [
    "agreement_rates = []\n",
    "\n",
    "for category in categories:\n",
    "    agreement_rates.append(calculate_agreement(category))\n",
    "\n",
    "# Plotting the agreement rates using Plotly\n",
    "fig = go.Figure(data=[\n",
    "    go.Bar(name='Agreement Rates', x=categories, y=agreement_rates)\n",
    "])\n",
    "\n",
    "fig.update_layout(\n",
    "    title='Agreement Rates by Category',\n",
    "    xaxis_title='Category',\n",
    "    yaxis_title='Agreement Rate (%)',\n",
    "    xaxis_tickangle=-45,\n",
    "    yaxis=dict(range=[0, 100]) #0-100 % on y-axis\n",
    ")\n",
    "\n",
    "fig.show()"
   ]
  },
  {
   "cell_type": "markdown",
   "metadata": {},
   "source": [
    "### Exporting the merged dataframe"
   ]
  },
  {
   "cell_type": "code",
   "execution_count": 20,
   "metadata": {},
   "outputs": [],
   "source": [
    "#df.to_excel('Keyword_Categorisation_merged_18.08.2023.xlsx', index=False, encoding=\"utf-8\")"
   ]
  }
 ],
 "metadata": {
  "kernelspec": {
   "display_name": "Python 3",
   "language": "python",
   "name": "python3"
  },
  "language_info": {
   "codemirror_mode": {
    "name": "ipython",
    "version": 3
   },
   "file_extension": ".py",
   "mimetype": "text/x-python",
   "name": "python",
   "nbconvert_exporter": "python",
   "pygments_lexer": "ipython3",
   "version": "3.9.10"
  },
  "orig_nbformat": 4
 },
 "nbformat": 4,
 "nbformat_minor": 2
}
