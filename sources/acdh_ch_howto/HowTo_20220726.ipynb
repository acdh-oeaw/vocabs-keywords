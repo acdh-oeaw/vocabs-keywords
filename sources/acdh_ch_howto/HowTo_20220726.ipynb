{
 "cells": [
  {
   "cell_type": "markdown",
   "id": "b7da013c",
   "metadata": {},
   "source": [
    "# Crawl von ACDH-CH-HowTo"
   ]
  },
  {
   "cell_type": "markdown",
   "id": "9fbb5316",
   "metadata": {},
   "source": [
    "- Website: https://howto.acdh.oeaw.ac.at/de/resources/posts/page/1 (Auflistung aller Tutorials)\n",
    "- Ziel: Extraktion von Tags + Anzahl + Titel von Beiträgen, die mit einem Topic getaggt sind"
   ]
  },
  {
   "cell_type": "code",
   "execution_count": 5,
   "id": "13b48f46",
   "metadata": {},
   "outputs": [],
   "source": [
    "import requests\n",
    "from bs4 import BeautifulSoup\n",
    "import csv\n",
    "import json\n",
    "from urllib.parse import urljoin\n",
    "from collections import Counter"
   ]
  },
  {
   "cell_type": "code",
   "execution_count": 2,
   "id": "7f63f23a",
   "metadata": {},
   "outputs": [],
   "source": [
    "url = \"https://howto.acdh.oeaw.ac.at/de/resources/posts/page/1\"\n",
    "r = requests.get(url)\n",
    "doc = BeautifulSoup(r.text, \"html.parser\")"
   ]
  },
  {
   "cell_type": "code",
   "execution_count": 12,
   "id": "d398f03d",
   "metadata": {},
   "outputs": [
    {
     "name": "stdout",
     "output_type": "stream",
     "text": [
      "{0: {'titel': 'Langzeitarchivierung', 'link': '/de/resource/posts/langzeitarchivierung'}, 1: {'titel': 'Einführung in Metadaten und Dokumentation', 'link': '/de/resource/posts/einfuehrung-metadaten'}, 2: {'titel': 'Praktische Übung: Grundlagen des Datenmanagements', 'link': '/de/resource/posts/datenmanagement-%C3%BCbung'}, 3: {'titel': 'Grundlagen des Datenmanagements', 'link': '/de/resource/posts/grundlagen-datenmanagement'}, 4: {'titel': 'Introduction to Dictionary Users', 'link': '/de/resource/posts/introduction-to-dictionary-users'}, 5: {'titel': 'A Short Introduction to Figma', 'link': '/de/resource/posts/introduction-to-figma'}, 6: {'titel': 'Creating Lexical Resources with the <TEI>Enricher', 'link': '/de/resource/posts/a-very-concise-guide-to-creating-lexical-resources-with-tei-enricher'}, 7: {'titel': 'Prosopographic Modelling - Introduction', 'link': '/de/resource/posts/prosopographic-modelling-introduction'}, 8: {'titel': 'Prosopographic Modelling - Individuals', 'link': '/de/resource/posts/prosopographic-modelling-individuals'}, 9: {'titel': 'Prosopographic Modelling - Ontologies', 'link': '/de/resource/posts/prosopographic-modelling-ontologies'}, 10: {'titel': 'Prosopographic Modelling - Vocabularies', 'link': '/de/resource/posts/prosopographic-modelling-vocabularies'}}\n"
     ]
    }
   ],
   "source": [
    "#Titel und Links pro Post von Überblicksseite crawlen\n",
    "\n",
    "ergebnis = {}\n",
    "counter = 0\n",
    "\n",
    "for article in doc.find_all(\"article\"):\n",
    "    for h3 in article.select(\"h3 a\"):\n",
    "        titel = h3.text\n",
    "        link = h3.attrs[\"href\"]\n",
    "        ergebnis[counter] = {\"titel\": titel, \"link\": link}\n",
    "        counter = counter + 1\n",
    "\n",
    "print(ergebnis)"
   ]
  },
  {
   "cell_type": "code",
   "execution_count": 15,
   "id": "08a2f4dc",
   "metadata": {},
   "outputs": [
    {
     "name": "stdout",
     "output_type": "stream",
     "text": [
      "https://howto.acdh.oeaw.ac.at/de/resource/posts/langzeitarchivierung\n",
      "https://howto.acdh.oeaw.ac.at/de/resource/posts/einfuehrung-metadaten\n",
      "https://howto.acdh.oeaw.ac.at/de/resource/posts/datenmanagement-%C3%BCbung\n",
      "https://howto.acdh.oeaw.ac.at/de/resource/posts/grundlagen-datenmanagement\n",
      "https://howto.acdh.oeaw.ac.at/de/resource/posts/introduction-to-dictionary-users\n",
      "https://howto.acdh.oeaw.ac.at/de/resource/posts/introduction-to-figma\n",
      "https://howto.acdh.oeaw.ac.at/de/resource/posts/a-very-concise-guide-to-creating-lexical-resources-with-tei-enricher\n",
      "https://howto.acdh.oeaw.ac.at/de/resource/posts/prosopographic-modelling-introduction\n",
      "https://howto.acdh.oeaw.ac.at/de/resource/posts/prosopographic-modelling-individuals\n",
      "https://howto.acdh.oeaw.ac.at/de/resource/posts/prosopographic-modelling-ontologies\n",
      "https://howto.acdh.oeaw.ac.at/de/resource/posts/prosopographic-modelling-vocabularies\n"
     ]
    }
   ],
   "source": [
    "#von relativen zu funktionalen Links\n",
    "\n",
    "for key in ergebnis.keys():\n",
    "    link_neu = urljoin(\"https://howto.acdh.oeaw.ac.at/de/resources/posts/page/1\", ergebnis[key][\"link\"])\n",
    "    ergebnis[key][\"link\"] = link_neu\n",
    "    print(link_neu)"
   ]
  },
  {
   "cell_type": "code",
   "execution_count": 20,
   "id": "2fb8f128",
   "metadata": {},
   "outputs": [
    {
     "name": "stdout",
     "output_type": "stream",
     "text": [
      "{'titel': 'Langzeitarchivierung', 'link': 'https://howto.acdh.oeaw.ac.at/de/resource/posts/langzeitarchivierung', 'tags': ['Datenmanagement']}\n",
      "{'titel': 'Einführung in Metadaten und Dokumentation', 'link': 'https://howto.acdh.oeaw.ac.at/de/resource/posts/einfuehrung-metadaten', 'tags': ['Datenmanagement']}\n",
      "{'titel': 'Praktische Übung: Grundlagen des Datenmanagements', 'link': 'https://howto.acdh.oeaw.ac.at/de/resource/posts/datenmanagement-%C3%BCbung', 'tags': ['Datenmanagement']}\n",
      "{'titel': 'Grundlagen des Datenmanagements', 'link': 'https://howto.acdh.oeaw.ac.at/de/resource/posts/grundlagen-datenmanagement', 'tags': ['Datenmanagement']}\n",
      "{'titel': 'Introduction to Dictionary Users', 'link': 'https://howto.acdh.oeaw.ac.at/de/resource/posts/introduction-to-dictionary-users', 'tags': ['Lexicography', ' Linguistics']}\n",
      "{'titel': 'A Short Introduction to Figma', 'link': 'https://howto.acdh.oeaw.ac.at/de/resource/posts/introduction-to-figma', 'tags': ['UI design']}\n",
      "{'titel': 'Creating Lexical Resources with the <TEI>Enricher', 'link': 'https://howto.acdh.oeaw.ac.at/de/resource/posts/a-very-concise-guide-to-creating-lexical-resources-with-tei-enricher', 'tags': ['TEI']}\n",
      "{'titel': 'Prosopographic Modelling - Introduction', 'link': 'https://howto.acdh.oeaw.ac.at/de/resource/posts/prosopographic-modelling-introduction', 'tags': ['Prosopographic data', ' Semantic web']}\n",
      "{'titel': 'Prosopographic Modelling - Individuals', 'link': 'https://howto.acdh.oeaw.ac.at/de/resource/posts/prosopographic-modelling-individuals', 'tags': ['Prosopographic data', ' Semantic web']}\n",
      "{'titel': 'Prosopographic Modelling - Ontologies', 'link': 'https://howto.acdh.oeaw.ac.at/de/resource/posts/prosopographic-modelling-ontologies', 'tags': ['Prosopographic data', ' Semantic web']}\n",
      "{'titel': 'Prosopographic Modelling - Vocabularies', 'link': 'https://howto.acdh.oeaw.ac.at/de/resource/posts/prosopographic-modelling-vocabularies', 'tags': ['Prosopographic data', ' Semantic web']}\n"
     ]
    }
   ],
   "source": [
    "#Tags aus einzelnen Tutorialseiten crawlen\n",
    "\n",
    "for key in ergebnis.keys():\n",
    "    url = ergebnis[key][\"link\"]\n",
    "    r = requests.get(url)\n",
    "    doc = BeautifulSoup(r.text, \"html.parser\")\n",
    "    for dd in doc.select_one(\"dd\"):\n",
    "        tags = dd.text.strip().split(\",\")\n",
    "    ergebnis[key][\"tags\"] = tags.strip()\n",
    "\n",
    "for key in ergebnis.keys():\n",
    "    print(ergebnis[key]) \n",
    "    "
   ]
  },
  {
   "cell_type": "code",
   "execution_count": 27,
   "id": "84a3c05f",
   "metadata": {},
   "outputs": [
    {
     "name": "stdout",
     "output_type": "stream",
     "text": [
      "Counter({'Datenmanagement': 4, 'Prosopographic data': 4, ' Semantic web': 4, 'Lexicography': 1, ' Linguistics': 1, 'UI design': 1, 'TEI': 1})\n"
     ]
    }
   ],
   "source": [
    "#Tags zusammensammeln und -zählen\n",
    "\n",
    "tags = []\n",
    "\n",
    "for key in ergebnis.keys():\n",
    "    for tag in ergebnis[key][\"tags\"]:\n",
    "        tags.append(tag)\n",
    "\n",
    "tagCounter = Counter(tags)\n",
    "\n",
    "print(tagCounter)"
   ]
  },
  {
   "cell_type": "code",
   "execution_count": 28,
   "id": "81e2cac1",
   "metadata": {},
   "outputs": [],
   "source": [
    "#externe Speicherung der beiden Dictionaries (Post- vs. Taglevel)\n",
    "\n",
    "with open(\"HowTo_Posts.json\", \"w\", encoding = \"utf-8\") as datei:\n",
    "    json.dump(ergebnis, datei, ensure_ascii = False)\n",
    "\n",
    "with open(\"HowTo_Tags.json\", \"w\", encoding = \"utf-8\") as datei:\n",
    "    json.dump(tagCounter, datei, ensure_ascii = False)"
   ]
  },
  {
   "cell_type": "code",
   "execution_count": 30,
   "id": "e58a3e41",
   "metadata": {},
   "outputs": [],
   "source": [
    "#Speicherung als .csv-Dateien (erneut: Post- vs. Taglevel)\n",
    "\n",
    "with open(\"HowTo_Posts.csv\", \"w\", newline = \"\", encoding = \"utf-8\") as datei:\n",
    "    writer = csv.writer(datei, delimiter=';', quotechar='\"', quoting=csv.QUOTE_MINIMAL)\n",
    "    writer.writerow([\"Titel\", \"Link\", \"Tags\"])\n",
    "    for key in ergebnis.keys():\n",
    "        tags_formatiert = \", \".join(ergebnis[key][\"tags\"])\n",
    "        writer.writerow(\n",
    "            [ergebnis[key][\"titel\"], \n",
    "             ergebnis[key][\"link\"],\n",
    "             tags_formatiert])\n",
    "\n",
    "with open(\"HowTo_Tags.csv\", \"w\", newline = \"\", encoding = \"utf-8\") as datei:\n",
    "    writer = csv.writer(datei, delimiter=';', quotechar='\"', quoting=csv.QUOTE_MINIMAL)\n",
    "    writer.writerow([\"Tag\", \"Anzahl\"])\n",
    "    for key in tagCounter.keys():\n",
    "        writer.writerow(\n",
    "            [key, \n",
    "             tagCounter[key]])"
   ]
  },
  {
   "cell_type": "markdown",
   "id": "bf63799d",
   "metadata": {},
   "source": [
    "### Weitere Tags im CMS (oben nicht mitaufgenommen)\n",
    "\n",
    "- CMS für HowTo: von ACDH-CH-Github-Mitgliedern einsehbar/bearbeitbar - https://github.com/acdh-oeaw/howto \n",
    "- dort **10 zusätzliche Tags** auffindbar, die im Frontend noch nicht aufscheinen\n",
    "- 3 Tags bereits unter \"Content\", aber (noch) für keinen Beitrag in Verwendung:\n",
    "    - \"Corpus\"\n",
    "    - \"Documentation HowTo Platform\"\n",
    "    - \"XML\"\n",
    "- 7 Tags als \"Ready\" im \"Editorial Workflow\", d.h. diese könnten bald publiziert werden (laut Susanne Zhanial jedoch noch unklar, ob dies passiert, da langfristig ohnehin Orientierung an DARIAH-Campus angestrebt):\n",
    "    - \"Ontology\"\n",
    "    - \"Linked Open Data\"\n",
    "    - \"Controlled vocabulary\"\n",
    "    - \"SKOS\"\n",
    "    - \"Open acess\"\n",
    "    - \"SPARQL\"\n",
    "    - \"RDF\""
   ]
  },
  {
   "cell_type": "code",
   "execution_count": 3,
   "id": "af5cecc7",
   "metadata": {},
   "outputs": [
    {
     "name": "stdout",
     "output_type": "stream",
     "text": [
      "{'Datenmanagement': {'description': 'Datenmanagement', 'count': '4'}, 'Prosopographic data': {'description': 'Prosopographic data', 'count': '4'}, 'Semantic web': {'description': 'Semantic web', 'count': '4'}, 'Lexicography': {'description': 'The theory and practice of compiling dictionaries.', 'count': '1'}, 'Linguistics': {'description': 'Linguistics', 'count': '1'}, 'UI design': {'description': 'UI (user interface) design', 'count': '1'}, 'TEI': {'description': 'TEI', 'count': '1'}, 'Ontology': {'description': 'An ontology represents entities, data and ideas through the definition of categories, their properties, their interdependencies and relations, that show how the concepts, data and entities are related to a particular subject area, i.e. discourse. An ontology limits the complexity of a subject area and groups data into information and knowledge. When a controlled vocabulary is used to talk about the information and knowledge that are represented in an ontology, communication issues between experts are minimised.', 'count': '0'}, 'Linked Open Data': {'description': '\"Linked Open Data, LOD for short, is a term coined by Tim Berners-Lee in 2006. He said that \"\"Linked Open Data (LOD) is Linked Data which is released under an open license, which does not impede its reuse for free.\"\" Linked Data is structured data that is interlinked with other data. You can apply semantic queries to this data. Standard web technologies like HTTP, RDF and URIs are used to share information that can be read by computers, and the internet becomes a global database. Examples for LOD are DBpedia, Wikidata and Geonames.\"', 'count': '0'}, 'Controlled vocabulary': {'description': 'A controlled vocabulary is used to organise knowledge and make this knowledge available for retrieval. The scheme designers define the specific terminology that must be used to organise and index this knowledge. The biggest advantage of a controlled vocabulary is that it defines a clear terminology which is consistently used, therefore knowledge is more easily searchable and findable. Famous examples are the Dublin Core and the Library of Congress Subject Headings.', 'count': '0'}, 'SKOS': {'description': 'SKOS, Simple Knowledge Organization System, is a W3C recommendation designed for representation of thesauri, classification schemes, taxonomies, subject-heading systems, or any other type of structured controlled vocabulary. SKOS is part of the Semantic Web family of standards built upon RDF and RDFS, and its main objective is to enable easy publication and use of such vocabularies as linked data.', 'count': '0'}, 'Open access': {'description': 'Open Access', 'count': '0'}, 'RDF': {'description': 'RDF, the Resource Description Framework, is based on the idea that statements about resources are expressed as so-called triples, subject-predicate-object, a form of knowledge representation. The subject denotes the resource, and the predicate denotes traits or aspects of the resource, and expresses a relationship between the subject and the object. RDF is an abstract model, but it has several specialised file formats. The encoding for triples can vary, depending on the format.', 'count': '0'}, 'SPARQL': {'description': 'SPARQL, SPARQL Protocol And RDF Query Language, can be used to query, retrieve and manipulate information that is stored in RDF format. SPARQL is a key technology of the semantic web and has implementations for various programming languages. SPARQL write queries against data that follows the RDF specifications, therefore the database is a set of subject-predicate-object triples.', 'count': '0'}, 'Corpus': {'description': 'Corpus, corpora', 'count': '0'}, 'Documentation HowTo Platform': {'description': 'The documentation pages provide an overview on how to design, structure, write and add learning resources to the platform with the help of the Content Management System.', 'count': '0'}, 'XML': {'description': 'XML', 'count': '0'}}\n"
     ]
    }
   ],
   "source": [
    "#Excel-Tabelle (s. gesendetes Dokument) um Tags und Descriptions aus CMS ergänzt - hier diese Daten zur Weiterverarbeitung importiert\n",
    "#erneutes Durchführen der Zelle NICHT notwendig\n",
    "\n",
    "ht = {}\n",
    "counter = 0\n",
    "\n",
    "with open(\"HowTo_ergänzt.csv\", encoding = \"utf-8\") as datei:\n",
    "    for row in datei:\n",
    "        if counter == 0:\n",
    "            counter = counter + 1\n",
    "            continue\n",
    "        else:\n",
    "            zs = row.split(\";\")\n",
    "            tag = zs[0].strip()\n",
    "            description = zs[1].strip()\n",
    "            count = zs[2].strip()\n",
    "            ht[tag] = {\"description\": description, \"count\": count}\n",
    "\n",
    "print(ht)"
   ]
  },
  {
   "cell_type": "code",
   "execution_count": 6,
   "id": "08325e88",
   "metadata": {},
   "outputs": [],
   "source": [
    "#Speicherung als Dictionary\n",
    "#erneutes Durchführen der Zelle NICHT notwendig\n",
    "\n",
    "with open(\"HowTo_ergänzt.json\", \"w\", encoding = \"utf-8\") as datei:\n",
    "    json.dump(ht, datei, ensure_ascii = False)"
   ]
  },
  {
   "cell_type": "markdown",
   "id": "c10b6895",
   "metadata": {},
   "source": [
    "### Zusammenfassung zu Tags im ACDH-CH HowTo (Stand 20.07.2022)\n",
    "\n",
    "- **Anzahl:** 17 verschiedene Konzepte (7 davon bereits verwendet, 10 angelegt/als Entwurf)\n",
    "- **Sprache:** primär Englisch, nur ein Tag eindeutig Deutsch, einzelne wie \"SPARQL\" oder \"TEI\" keiner Sprache zuordenbar, keine Übersetzungen vorhanden\n",
    "- **Clustering/Hierachie:** nein\n",
    "- **URIs:** nein\n",
    "- **Alternativnamen:** nein\n",
    "- **Descriptions**: teilweise bereits vorhanden(s. oben, im Excel oder im CMS unter Content > Tags)\n",
    "- **Offenheit/Geschlossenheit**: offene Liste (in Absprache mit dem Training-Team ist es grundsätzlich erlaubt, neue Tags hinzuzufügen)\n",
    "- **Schwerpunkt**: Inhalt relativ heterogen, kein klarer Schwerpunkt erkennbar --> Konzepte stammen aus den verschiedensten Bereichen:\n",
    "    - z.B. Aktivitäten: \"Datenmanagement\"\n",
    "    - z.B. Felder/Disziplinen: \"Linguistics\", \"Lexicography\"\n",
    "    - z.B. (Markup-/Programmier-)Sprachen/Formate/Standards: \"XML\", \"TEI\", \"SKOS\"\n",
    "    - z.B. Arten von wissenschaftlichem Output: \"Controlled Vocabulary\", \"Corpus\"\n",
    "    - teilweise auch Einordung schwierig, da sehr spezifisch - z.B. \"Documentation HowTo Platform\"\n"
   ]
  },
  {
   "cell_type": "markdown",
   "id": "276a3227",
   "metadata": {},
   "source": []
  }
 ],
 "metadata": {
  "kernelspec": {
   "display_name": "Python 3.9.10 64-bit",
   "language": "python",
   "name": "python3"
  },
  "language_info": {
   "codemirror_mode": {
    "name": "ipython",
    "version": 3
   },
   "file_extension": ".py",
   "mimetype": "text/x-python",
   "name": "python",
   "nbconvert_exporter": "python",
   "pygments_lexer": "ipython3",
   "version": "3.9.10"
  },
  "vscode": {
   "interpreter": {
    "hash": "472e6bacea13396c951b7e0261ffb3356d3421111b0878bad017ca28094a9cfa"
   }
  }
 },
 "nbformat": 4,
 "nbformat_minor": 5
}
